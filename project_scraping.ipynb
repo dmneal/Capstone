{
 "cells": [
  {
   "cell_type": "code",
   "execution_count": 5,
   "metadata": {
    "collapsed": true
   },
   "outputs": [],
   "source": [
    "import requests\n",
    "from bs4 import BeautifulSoup\n",
    "import pandas as pd\n",
    "import numpy as np\n"
   ]
  },
  {
   "cell_type": "markdown",
   "metadata": {},
   "source": [
    "##Format Desired for Database"
   ]
  },
  {
   "cell_type": "code",
   "execution_count": 7,
   "metadata": {
    "collapsed": false
   },
   "outputs": [],
   "source": [
    "df_climb = pd.DataFrame({\n",
    "        'climb': ['A Brief History of Clim'],\n",
    "        'wall': ['The Gallery'],\n",
    "        'sub_area': ['Pendergrass-Murray Recreational Preserve (PMRP)'],\n",
    "        'area': ['Red River Gorge'],\n",
    "        'state': ['Kentucky'],\n",
    "        'climb_id': [106125070],\n",
    "        'yds': ['5.10c'],\n",
    "        'yds_consensus': ['5.10b'],\n",
    "        'stars': [3.6],\n",
    "        'star_vots': [211]\n",
    "    })\n",
    "\n",
    "df_stars = pd.DataFrame({\n",
    "        'climb': ['A Brief History of Climb'],\n",
    "        'climb_id': [106125070],\n",
    "        'user': ['Xzavier Thompson'],\n",
    "        'user_id': [107495403],\n",
    "        'stars': [4]     \n",
    "    })\n",
    "\n",
    "df_rating = pd.DataFrame({\n",
    "        'climb': ['A Brief History of Climb'],\n",
    "        'climb_id': [106125070],  \n",
    "        'user': ['Brandon Marks'],\n",
    "        'user_id': [1070559853],\n",
    "        'rating': ['5.10c']\n",
    "    })\n",
    "\n",
    "df_ticks = pd.DataFrame({\n",
    "        'climb': ['A Brief History of Climb'],\n",
    "        'climb_id': [106125070],\n",
    "        'user': ['KevinLarson'],\n",
    "        'user_id': ['110765384'],\n",
    "        'tick':['Jul 18, 2015']\n",
    "    })"
   ]
  },
  {
   "cell_type": "code",
   "execution_count": null,
   "metadata": {
    "collapsed": true
   },
   "outputs": [],
   "source": []
  },
  {
   "cell_type": "code",
   "execution_count": null,
   "metadata": {
    "collapsed": true
   },
   "outputs": [],
   "source": []
  },
  {
   "cell_type": "code",
   "execution_count": null,
   "metadata": {
    "collapsed": true
   },
   "outputs": [],
   "source": []
  },
  {
   "cell_type": "code",
   "execution_count": null,
   "metadata": {
    "collapsed": true
   },
   "outputs": [],
   "source": []
  },
  {
   "cell_type": "code",
   "execution_count": 8,
   "metadata": {
    "collapsed": true
   },
   "outputs": [],
   "source": [
    "base_url = 'http://mountainproject.com'"
   ]
  },
  {
   "cell_type": "code",
   "execution_count": 9,
   "metadata": {
    "collapsed": true
   },
   "outputs": [],
   "source": [
    "rumney = 'v/rumney/105867829'"
   ]
  },
  {
   "cell_type": "code",
   "execution_count": 10,
   "metadata": {
    "collapsed": false
   },
   "outputs": [],
   "source": [
    "rumney_soup = BeautifulSoup(requests.get(base_url+'/'+rumney).content)"
   ]
  },
  {
   "cell_type": "code",
   "execution_count": 11,
   "metadata": {
    "collapsed": false
   },
   "outputs": [],
   "source": [
    "#walls= [a['href'] for a in rumney_soup.select(\\\n",
    "#        '#mpbox1995446815 br ~ a[href^=\"/v/\"]')]"
   ]
  },
  {
   "cell_type": "code",
   "execution_count": 12,
   "metadata": {
    "collapsed": false
   },
   "outputs": [
    {
     "data": {
      "text/plain": [
       "['/v/new-hampshire/105872225',\n",
       " '/v/rumney-bouldering/107024666',\n",
       " '/v/58-crag/105877457',\n",
       " '/v/apocalypse-walls/105908754',\n",
       " '/v/armed-and-dangerous-area-main-cliff-left/105935079',\n",
       " '/v/the-asylum/106120445',\n",
       " '/v/the-bakery/106604466',\n",
       " '/v/below-the-new-wave/105921707',\n",
       " '/v/bonsai/105876699',\n",
       " '/v/boundary-rock/106095770',\n",
       " '/v/buffalo-pit/106289969',\n",
       " '/v/the-crows-nest/105965164',\n",
       " '/v/darth-vader/105879499',\n",
       " '/v/the-g-spot/106441295',\n",
       " '/v/gem-hunter/106807578',\n",
       " '/v/hail-vader/108096644',\n",
       " '/v/haunted-house/107337157',\n",
       " '/v/the-hinterlands/105931460',\n",
       " '/v/hhe-hinterland/107613754',\n",
       " '/v/infinity-wall/107234488',\n",
       " '/v/jimmy-cliff/105876645',\n",
       " '/v/kennel-wall/105939094',\n",
       " '/v/left-of-venus-wall-the-bradley-white-wall/107166714',\n",
       " '/v/main-cliff/105874223',\n",
       " '/v/main-cliff-right/106018085',\n",
       " '/v/the-meadows/105907977',\n",
       " '/v/the-monolith-/107387749',\n",
       " '/v/monsters-from-the-id/105925184',\n",
       " '/v/new-wave/105890866',\n",
       " '/v/the-northwest-passage/108281340',\n",
       " '/v/the-northwest-territories/106119504',\n",
       " '/v/orange-crush/105884545',\n",
       " '/v/the-parking-lot-wall/105898430',\n",
       " '/v/the-prudential/105907474',\n",
       " '/v/pulse-wall/105939103',\n",
       " '/v/starship-enterprise/105944300',\n",
       " '/v/summit-cliff-the-highlands/106548478',\n",
       " '/v/triple-corners-/106724662',\n",
       " '/v/upper-darth-vadar/105926138',\n",
       " '/v/utopia-ledges-true-summit-ledges-/106733366',\n",
       " '/v/venus-wall/105877222',\n",
       " '/v/waimea/105867832',\n",
       " '/v/wonderland/106720266',\n",
       " '/v/yellowknife-buttress/105912590',\n",
       " '/v/new-hampshire/105872225',\n",
       " '/v/rumney-bouldering/107024666',\n",
       " '/v/58-crag/105877457',\n",
       " '/v/apocalypse-walls/105908754',\n",
       " '/v/armed-and-dangerous-area-main-cliff-left/105935079',\n",
       " '/v/the-asylum/106120445',\n",
       " '/v/the-bakery/106604466',\n",
       " '/v/below-the-new-wave/105921707',\n",
       " '/v/bonsai/105876699',\n",
       " '/v/boundary-rock/106095770',\n",
       " '/v/buffalo-pit/106289969',\n",
       " '/v/the-crows-nest/105965164',\n",
       " '/v/darth-vader/105879499',\n",
       " '/v/the-g-spot/106441295',\n",
       " '/v/gem-hunter/106807578',\n",
       " '/v/hail-vader/108096644',\n",
       " '/v/haunted-house/107337157',\n",
       " '/v/the-hinterlands/105931460',\n",
       " '/v/hhe-hinterland/107613754',\n",
       " '/v/infinity-wall/107234488',\n",
       " '/v/jimmy-cliff/105876645',\n",
       " '/v/kennel-wall/105939094',\n",
       " '/v/left-of-venus-wall-the-bradley-white-wall/107166714',\n",
       " '/v/main-cliff/105874223',\n",
       " '/v/main-cliff-right/106018085',\n",
       " '/v/the-meadows/105907977',\n",
       " '/v/the-monolith-/107387749',\n",
       " '/v/monsters-from-the-id/105925184',\n",
       " '/v/new-wave/105890866',\n",
       " '/v/the-northwest-passage/108281340',\n",
       " '/v/the-northwest-territories/106119504',\n",
       " '/v/orange-crush/105884545',\n",
       " '/v/the-parking-lot-wall/105898430',\n",
       " '/v/the-prudential/105907474',\n",
       " '/v/pulse-wall/105939103',\n",
       " '/v/starship-enterprise/105944300',\n",
       " '/v/summit-cliff-the-highlands/106548478',\n",
       " '/v/triple-corners-/106724662',\n",
       " '/v/upper-darth-vadar/105926138',\n",
       " '/v/utopia-ledges-true-summit-ledges-/106733366',\n",
       " '/v/venus-wall/105877222',\n",
       " '/v/waimea/105867832',\n",
       " '/v/wonderland/106720266',\n",
       " '/v/yellowknife-buttress/105912590']"
      ]
     },
     "execution_count": 12,
     "metadata": {},
     "output_type": "execute_result"
    }
   ],
   "source": [
    "walls= [a['href'] for a in rumney_soup.select(\\\n",
    "        '#viewerLeftNavColContent > div:nth-of-type(1)   a[href^=\"/v/\"]')]\n",
    "walls"
   ]
  },
  {
   "cell_type": "code",
   "execution_count": 13,
   "metadata": {
    "collapsed": false
   },
   "outputs": [
    {
     "name": "stdout",
     "output_type": "stream",
     "text": [
      "wall: /v/58-crag/105877457\n"
     ]
    },
    {
     "data": {
      "text/plain": [
       "['/v/rumney/105867829',\n",
       " '/v/the-58-crack-by-the-road/105906994',\n",
       " '/v/arm-and-hammer/105878804',\n",
       " '/v/asbury-park/105922314',\n",
       " '/v/blue-spotted-tail/107473478',\n",
       " '/v/blueballs-at-christmas/105935056',\n",
       " '/v/bolt-and-run/105922323',\n",
       " '/v/central-park/106478452',\n",
       " '/v/chimney-of-doom/105911730',\n",
       " '/v/grannys-route/106334928',\n",
       " '/v/license-to-ill/105925586',\n",
       " '/v/milksnake/106091425',\n",
       " '/v/milktoast/106089724',\n",
       " '/v/moe-pup-sensation/106743156',\n",
       " '/v/only-a-crow/105929478',\n",
       " '/v/pump-up-the-volume/105917452',\n",
       " '/v/raven/105924554',\n",
       " '/v/romancing-the-snake/106091432',\n",
       " '/v/romancing-the-stone/105878174',\n",
       " '/v/sky-pilot/105878810',\n",
       " '/v/snake-skin-slab/105923846',\n",
       " '/v/the-terrace/105878180']"
      ]
     },
     "execution_count": 13,
     "metadata": {},
     "output_type": "execute_result"
    }
   ],
   "source": [
    "wall_soup = {}\n",
    "\n",
    "#climbs = [a['href'] for a in wall_soup[wall].select(\\\n",
    "#        '#viewerLeftNavColContent > div:nth-of-type(1)   a[href^=\"/v/\"]')]\n",
    "\n",
    "for wall in [walls[2]]:\n",
    "    print 'wall:', wall\n",
    "    wall_soup[wall] = BeautifulSoup(requests.get(base_url+wall).content)\n",
    "    climbs = [a['href'] for a in wall_soup[wall].select(\\\n",
    "        '#viewerLeftNavColContent > div:nth-of-type(1)   a[href^=\"/v/\"]')]\n",
    "\n",
    "    #climbs = wall_soup[wall].select('#viewerLeftNavColContent > div:nth-of-type(1)   a[href^=\"/v/\"]')\n",
    "climbs"
   ]
  },
  {
   "cell_type": "code",
   "execution_count": 14,
   "metadata": {
    "collapsed": true
   },
   "outputs": [],
   "source": [
    "climb1 = 'http://mountainproject.com/scripts/ShowObjectStats.php?id=105906994'\n",
    "climb1_soup = BeautifulSoup(requests.get(climb1).content)"
   ]
  },
  {
   "cell_type": "code",
   "execution_count": 15,
   "metadata": {
    "collapsed": false
   },
   "outputs": [],
   "source": [
    "a = climb1_soup.findAll('table',{'cellpadding':'0'})"
   ]
  },
  {
   "cell_type": "code",
   "execution_count": 16,
   "metadata": {
    "collapsed": false,
    "scrolled": false
   },
   "outputs": [
    {
     "name": "stdout",
     "output_type": "stream",
     "text": [
      "<tr>\n",
      " <td>\n",
      "  <a href=\"/u/andrewstcyr//108323817\">\n",
      "   AndrewSt.cYr\n",
      "  </a>\n",
      " </td>\n",
      " <td style=\"padding-right:35px\">\n",
      "  <span id=\"stars_993532006\">\n",
      "  </span>\n",
      "  <script>\n",
      "   $(function(){$('#stars_993532006').html(starsHtml(4, ''));});\n",
      "  </script>\n",
      " </td>\n",
      " <td>\n",
      "  <a href=\"/u/timmijal//106971875\">\n",
      "   Timmijal\n",
      "  </a>\n",
      " </td>\n",
      " <td style=\"padding-right:35px\">\n",
      "  <span id=\"stars_460160895\">\n",
      "  </span>\n",
      "  <script>\n",
      "   $(function(){$('#stars_460160895').html(starsHtml(4, ''));});\n",
      "  </script>\n",
      " </td>\n",
      "</tr>\n",
      "\n"
     ]
    }
   ],
   "source": [
    "print(a[4].findAll('tr')[1].prettify())"
   ]
  },
  {
   "cell_type": "code",
   "execution_count": 17,
   "metadata": {
    "collapsed": false
   },
   "outputs": [
    {
     "name": "stdout",
     "output_type": "stream",
     "text": [
      "Devin Krevetski $(function(){$('#stars_136614841').html(starsHtml(5, ''));});\n",
      "Jay LeSage $(function(){$('#stars_1681056686').html(starsHtml(5, ''));});\n",
      "AndrewSt.cYr $(function(){$('#stars_993532006').html(starsHtml(4, ''));});\n",
      "Timmijal $(function(){$('#stars_460160895').html(starsHtml(4, ''));});\n",
      "Jeffrey.LeCours $(function(){$('#stars_2120973031').html(starsHtml(4, ''));});\n",
      "Brunt Tornton $(function(){$('#stars_1719440340').html(starsHtml(4, ''));});\n",
      "liam $(function(){$('#stars_1491734757').html(starsHtml(4, ''));});\n",
      "Derek Jf $(function(){$('#stars_1863078297').html(starsHtml(4, ''));});\n",
      "Brandon Willsie $(function(){$('#stars_432328446').html(starsHtml(4, ''));});\n",
      "Matt Levine $(function(){$('#stars_1236438532').html(starsHtml(4, ''));});\n",
      "cjdrover $(function(){$('#stars_1164909522').html(starsHtml(4, ''));});\n",
      "caesar.salad $(function(){$('#stars_1467628571').html(starsHtml(4, ''));});\n",
      "JayMorse $(function(){$('#stars_319522820').html(starsHtml(4, ''));});\n",
      "jdejace $(function(){$('#stars_1752643035').html(starsHtml(4, ''));});\n",
      "lukeweiss $(function(){$('#stars_1678773816').html(starsHtml(4, ''));});\n",
      "JIncillo $(function(){$('#stars_73080207').html(starsHtml(4, ''));});\n",
      "omcmahon $(function(){$('#stars_1915501223').html(starsHtml(4, ''));});\n",
      "J Meagher $(function(){$('#stars_232231464').html(starsHtml(4, ''));});\n",
      "Byron Igoe $(function(){$('#stars_200908256').html(starsHtml(4, ''));});\n",
      "Catherine Rioux $(function(){$('#stars_742151623').html(starsHtml(4, ''));});\n",
      "Tim Waystrong $(function(){$('#stars_2135491653').html(starsHtml(4, ''));});\n",
      "John Halupowski $(function(){$('#stars_1554030667').html(starsHtml(4, ''));});\n",
      "Mike Thompson $(function(){$('#stars_2082265492').html(starsHtml(4, ''));});\n",
      "Chris Duca $(function(){$('#stars_750919414').html(starsHtml(4, ''));});\n",
      "James Otey $(function(){$('#stars_1649673513').html(starsHtml(4, ''));});\n",
      "lee hansche $(function(){$('#stars_877265951').html(starsHtml(4, ''));});\n",
      "T. Moon $(function(){$('#stars_278933143').html(starsHtml(4, ''));});\n",
      "matthewWallace $(function(){$('#stars_407752797').html(starsHtml(4, ''));});\n",
      "Jonathan Zoller $(function(){$('#stars_1593950049').html(starsHtml(4, ''));});\n",
      "Steve Marr $(function(){$('#stars_1738147211').html(starsHtml(4, ''));});\n",
      "maineah $(function(){$('#stars_806306120').html(starsHtml(4, ''));});\n",
      "Adam Wilcox $(function(){$('#stars_1730564891').html(starsHtml(4, ''));});\n",
      "Michael Z. $(function(){$('#stars_1271720249').html(starsHtml(3, ''));});\n",
      "jdavis $(function(){$('#stars_1799838126').html(starsHtml(3, ''));});\n",
      "Alec Woolley $(function(){$('#stars_43242138').html(starsHtml(3, ''));});\n",
      "Corey Thompson $(function(){$('#stars_1245209633').html(starsHtml(3, ''));});\n",
      "Eric Heiden $(function(){$('#stars_1371794818').html(starsHtml(3, ''));});\n",
      "Jen Lloyd $(function(){$('#stars_1534976895').html(starsHtml(3, ''));});\n",
      "Tyson Miller $(function(){$('#stars_960804282').html(starsHtml(3, ''));});\n",
      "Don Hamilton $(function(){$('#stars_1804123264').html(starsHtml(3, ''));});\n",
      "Brian Abram $(function(){$('#stars_623931779').html(starsHtml(3, ''));});\n",
      "Eli Buzzell $(function(){$('#stars_2125713805').html(starsHtml(3, ''));});\n",
      "mister-midpines $(function(){$('#stars_1124268187').html(starsHtml(3, ''));});\n",
      "Orphaned $(function(){$('#stars_943454599').html(starsHtml(3, ''));});\n",
      "Ladd Raine $(function(){$('#stars_1730873192').html(starsHtml(3, ''));});\n",
      "Mike Marmar $(function(){$('#stars_655558355').html(starsHtml(3, ''));});\n",
      "twellman $(function(){$('#stars_1016534806').html(starsHtml(3, ''));});\n",
      "Mike C. Robinson $(function(){$('#stars_1498890767').html(starsHtml(3, ''));});\n",
      "Anna C. $(function(){$('#stars_887789819').html(starsHtml(3, ''));});\n",
      "Matt Meuse $(function(){$('#stars_1217443063').html(starsHtml(3, ''));});\n",
      "Lucas Ellis $(function(){$('#stars_93558742').html(starsHtml(3, ''));});\n",
      "Galen Rahmlow $(function(){$('#stars_875797824').html(starsHtml(3, ''));});\n",
      "Sam Owens $(function(){$('#stars_623990082').html(starsHtml(3, ''));});\n",
      "robgood $(function(){$('#stars_28340586').html(starsHtml(3, ''));});\n",
      "Ian Wauchope $(function(){$('#stars_1626717238').html(starsHtml(3, ''));});\n",
      "Joseph Lascurain $(function(){$('#stars_126179947').html(starsHtml(3, ''));});\n",
      "dbyte $(function(){$('#stars_905606537').html(starsHtml(2, ''));});\n",
      "rcongo $(function(){$('#stars_1905650381').html(starsHtml(2, ''));});\n",
      "Benjaminadk $(function(){$('#stars_533932744').html(starsHtml(2, ''));});\n",
      "ri. $(function(){$('#stars_352072939').html(starsHtml(2, ''));});\n",
      "Jon Hollander $(function(){$('#stars_1496313944').html(starsHtml(2, ''));});\n",
      "Michael Buchanan $(function(){$('#stars_1340238864').html(starsHtml(2, ''));});\n",
      "Burke Shayne $(function(){$('#stars_2082637830').html(starsHtml(1, ''));});\n",
      "Sam Enright $(function(){$('#stars_620550546').html(starsHtml(1, ''));});\n"
     ]
    }
   ],
   "source": [
    "table = None\n",
    "for heading in climb1_soup.select('span.dkorange.bold'):\n",
    "    if heading.text == 'Star Quality Votes':\n",
    "        table = heading.find_next_sibling('table')\n",
    "\n",
    "for user_link in table.select('a[href^=\"/u/\"]'):\n",
    "    user_name = user_link.text\n",
    "    script = user_link.parent.next_sibling.select('script')[0]\n",
    "    print user_name, script.text\n",
    "    "
   ]
  },
  {
   "cell_type": "code",
   "execution_count": 18,
   "metadata": {
    "collapsed": false
   },
   "outputs": [
    {
     "name": "stdout",
     "output_type": "stream",
     "text": [
      "Ladd Raine 5.7  \n",
      "Brian Abram 5.7  \n",
      "Jeffrey.LeCours 5.7  \n",
      "ri. 5.7  \n",
      "Mike Marmar 5.7  \n",
      "caesar.salad 5.7  \n",
      "Alec Woolley 5.7  \n",
      "Tyson Miller 5.7  \n",
      "J Meagher 5.7  \n",
      "Eli Buzzell 5.7  \n",
      "Derek Jf 5.7  \n",
      "Brandon Willsie 5.7  \n",
      "Orphaned 5.7  \n",
      "dbyte 5.7  \n",
      "James Otey 5.7  \n",
      "Jonathan Zoller 5.7  \n",
      "Matt Meuse 5.7  PG13 \n",
      "Adam Wilcox 5.7  \n",
      "rcongo 5.7  \n",
      "maineah 5.6  \n",
      "Chris Duca 5.6  \n",
      "Joseph Lascurain 5.6  \n",
      "Michael Buchanan 5.6  \n",
      "Catherine Rioux 5.5  \n",
      "lee hansche 5.7  \n"
     ]
    }
   ],
   "source": [
    "table = None\n",
    "for heading in climb1_soup.select('span.dkorange.bold'):\n",
    "    if heading.text == 'Suggested Ratings':\n",
    "        table = heading.find_next_sibling('table')\n",
    "\n",
    "for user_link in table.select('a[href^=\"/u/\"]'):\n",
    "    user_name = user_link.text\n",
    "    rating = user_link.parent.next_sibling.select('.rateYDS')[0].text\n",
    "    additional = user_link.parent.nextSibling\n",
    "    print user_name, rating, additional.contents[-1]"
   ]
  },
  {
   "cell_type": "code",
   "execution_count": 19,
   "metadata": {
    "collapsed": false
   },
   "outputs": [
    {
     "name": "stdout",
     "output_type": "stream",
     "text": [
      "jdavis Jul 5, 2015 \n",
      "Don Hamilton May 25, 2015 \n",
      "Jay LeSage May 9, 2015 \n",
      "Brian Abram May 1, 2015 \n",
      "Eli Buzzell Apr 8, 2015 \n",
      "caesar.salad Oct 25, 2014 \n",
      "Maureen Petterson Oct 25, 2014 \n",
      "Janine Connell Aug 29, 2014 \n",
      "jim kaminski Aug 26, 2014 \n",
      "Catherine Rioux Aug 16, 2014 \n",
      "Ella Damiano Aug 3, 2014 \n",
      "shpatric Jul 6, 2014 \n",
      "Peter Jackson Jul 6, 2014 \n",
      "Byron Igoe Jul 5, 2014 \n",
      "J Meagher Jun 22, 2014 \n",
      "omcmahon Jun 20, 2014 \n",
      "JIncillo Jun 7, 2014 \n",
      "lukeweiss Jun 6, 2014 \n",
      "Lovey Harwood Jun 3, 2014 \n",
      "jdejace May 6, 2014 \n",
      "Alix Chan Apr 26, 2014 \n",
      "Peter Jackson Apr 13, 2014 \n",
      "shpatric Apr 12, 2014 \n",
      "Jay LeSage Apr 12, 2014 \n",
      "JayMorse Apr 12, 2014 \n",
      "cbadsurf99 Dec 28, 2013 \n",
      "Corey Thompson Nov 9, 2013 \n",
      "Alec Woolley Oct 11, 2013 \n",
      "Mike Marmar Oct 4, 2013 \n",
      "cjacobsen12 Sep 29, 2013 \n",
      "AndrewSt.cYr Sep 26, 2013 \n",
      "aaronstpierre Sep 23, 2013 \n",
      "Kristian Andersen Aug 19, 2013 \n",
      "Will M Jul 7, 2013 \n",
      "Eric Heiden May 18, 2013 \n",
      "Jon Hollander Apr 21, 2013 \n",
      "Matt Levine Apr 21, 2013 \n",
      "coldatom Apr 3, 2013 \n",
      "Joey Croft Feb 7, 2013 \n",
      "SYBold Oct 8, 2012 \n",
      "robgood Aug 26, 2012 \n",
      "kjones Jul 7, 2012 \n",
      "Bill Matsinger Jul 7, 2012 \n",
      "Sam Owens May 2, 2012 \n",
      "Cameron Coppock Apr 29, 2012 \n",
      "Bill Sacks Apr 29, 2012 \n",
      "Joseph Lascurain Apr 28, 2012 \n",
      "Galen Rahmlow Apr 7, 2012 \n",
      "Timmijal Mar 30, 2012 \n",
      "Jeffrey.LeCours Mar 17, 2012 \n",
      "Brunt Tornton Dec 5, 2011 \n",
      "Hannah W Nov 20, 2011 \n",
      "Joseph Adams Nov 13, 2011 \n",
      "Spencer Gilfeather Aug 13, 2011 \n",
      "atlclimbingdoc Aug 8, 2011 \n",
      "Jesse Riley Jun 15, 2011 \n",
      "Michael Buchanan May 9, 2011 \n",
      "Mike C. Robinson Apr 16, 2011 \n",
      "Brandon Willsie Oct 18, 2010 \n",
      "Barrett Stetson Aug 15, 2010 \n",
      "Charlie Manganiello Jul 13, 2010 \n",
      "Tim Waystrong Jun 11, 2010 \n",
      "rcongo May 19, 2010 \n",
      "Jonathan Zoller Nov 11, 2009 \n",
      "Matt Meuse Oct 1, 2009 \n",
      "Jonathan Zoller Sep 26, 2009 \n",
      "Ian Wauchope Aug 10, 2009 \n",
      "Mike Thompson Jun 2, 2009 \n",
      "matthewWallace Nov 28, 2008 \n",
      "Ruth Newhouse Nov 2, 2008 \n",
      "Nate Higgs Oct 13, 2008 \n",
      "alpineclimb Sep 20, 2008 \n",
      "E thatcher Jul 29, 2008 \n",
      "Kitty Jun 9, 2008 \n",
      "Adam Wilcox May 10, 2008 \n",
      "MarkGriffin Oct 15, 2007 \n",
      "KeithRD Sep 20, 2007 \n",
      "Joel Pastuszak Jun 17, 2007 \n",
      "Ladd Raine Apr 11, 2007 \n",
      "Steve Marr Apr 15, 2006 \n",
      "Vanessa Minery Oct 20, 2005 \n",
      "Sprax Lines Nov 10, 2001 \n",
      "dbyte Jan 1, 1995 \n"
     ]
    }
   ],
   "source": [
    "table = None\n",
    "for heading in climb1_soup.select('span.dkorange.bold'):\n",
    "    if heading.text == 'Ticks':\n",
    "        table = heading.find_next_sibling('table')\n",
    "\n",
    "for user_link in table.select('a[href^=\"/u/\"]'):\n",
    "    user_name = user_link.text\n",
    "    date = user_link.parent.next_sibling.text\n",
    "    additional = user_link.parent.nextSibling\n",
    "    print user_name, date"
   ]
  },
  {
   "cell_type": "markdown",
   "metadata": {},
   "source": [
    "##MongoDB"
   ]
  },
  {
   "cell_type": "code",
   "execution_count": 20,
   "metadata": {
    "collapsed": false
   },
   "outputs": [],
   "source": [
    "import pymongo\n",
    "import datetime"
   ]
  },
  {
   "cell_type": "code",
   "execution_count": 2,
   "metadata": {
    "collapsed": false
   },
   "outputs": [],
   "source": [
    "client = pymongo.MongoClient()"
   ]
  },
  {
   "cell_type": "code",
   "execution_count": 3,
   "metadata": {
    "collapsed": true
   },
   "outputs": [],
   "source": [
    "db = client.test_database"
   ]
  },
  {
   "cell_type": "code",
   "execution_count": 4,
   "metadata": {
    "collapsed": false
   },
   "outputs": [
    {
     "data": {
      "text/plain": [
       "[u'posts', u'system.indexes', u'test', u'test_table']"
      ]
     },
     "execution_count": 4,
     "metadata": {},
     "output_type": "execute_result"
    }
   ],
   "source": [
    "db.collection_names()"
   ]
  },
  {
   "cell_type": "code",
   "execution_count": 4,
   "metadata": {
    "collapsed": true
   },
   "outputs": [],
   "source": [
    "post = {'author': \"Mike\",\n",
    "       'text': 'my first blog post!',\n",
    "       'tags': ['mongodb','python', 'pymongo'],\n",
    "       'date': datetime.datetime.utcnow()}"
   ]
  },
  {
   "cell_type": "code",
   "execution_count": 5,
   "metadata": {
    "collapsed": false
   },
   "outputs": [
    {
     "data": {
      "text/plain": [
       "0"
      ]
     },
     "execution_count": 5,
     "metadata": {},
     "output_type": "execute_result"
    }
   ],
   "source": []
  },
  {
   "cell_type": "code",
   "execution_count": 6,
   "metadata": {
    "collapsed": false
   },
   "outputs": [
    {
     "data": {
      "text/plain": [
       "ObjectId('55b86fe719924e133a332163')"
      ]
     },
     "execution_count": 6,
     "metadata": {},
     "output_type": "execute_result"
    }
   ],
   "source": [
    "post_id = posts.insert_one(post).inserted_id\n",
    "post_id"
   ]
  },
  {
   "cell_type": "code",
   "execution_count": 7,
   "metadata": {
    "collapsed": false
   },
   "outputs": [
    {
     "data": {
      "text/plain": [
       "ObjectId('55b86fe919924e133a332164')"
      ]
     },
     "execution_count": 7,
     "metadata": {},
     "output_type": "execute_result"
    }
   ],
   "source": [
    "db.test.insert({'x': 1})"
   ]
  },
  {
   "cell_type": "code",
   "execution_count": 8,
   "metadata": {
    "collapsed": false
   },
   "outputs": [
    {
     "data": {
      "text/plain": [
       "'3.0.3'"
      ]
     },
     "execution_count": 8,
     "metadata": {},
     "output_type": "execute_result"
    }
   ],
   "source": [
    "pymongo.version"
   ]
  },
  {
   "cell_type": "markdown",
   "metadata": {},
   "source": [
    "##JSON"
   ]
  },
  {
   "cell_type": "code",
   "execution_count": 6,
   "metadata": {
    "collapsed": true
   },
   "outputs": [],
   "source": [
    "import json"
   ]
  },
  {
   "cell_type": "code",
   "execution_count": 11,
   "metadata": {
    "collapsed": true
   },
   "outputs": [],
   "source": [
    "post = {'author': \"Mike\",\n",
    "       'text': 'my first blog post!',\n",
    "       'tags': ['mongodb','python', 'pymongo']}"
   ]
  },
  {
   "cell_type": "code",
   "execution_count": 17,
   "metadata": {
    "collapsed": false
   },
   "outputs": [],
   "source": [
    "with open('data.txt','w') as outfile:\n",
    "    json.dump(post, outfile)"
   ]
  },
  {
   "cell_type": "code",
   "execution_count": 19,
   "metadata": {
    "collapsed": false
   },
   "outputs": [
    {
     "name": "stdout",
     "output_type": "stream",
     "text": [
      "{\"text\": \"my first blog post!\", \"tags\": [\"mongodb\", \"python\", \"pymongo\"], \"author\": \"Mike\"}"
     ]
    }
   ],
   "source": [
    "!cat data.txt"
   ]
  },
  {
   "cell_type": "code",
   "execution_count": 21,
   "metadata": {
    "collapsed": true
   },
   "outputs": [],
   "source": [
    "soup = BeautifulSoup(requests.get('http://www.mountainproject.com/v/gemini-crack/105939175').content)"
   ]
  },
  {
   "cell_type": "code",
   "execution_count": 22,
   "metadata": {
    "collapsed": true
   },
   "outputs": [],
   "source": [
    "title = soup.select('[itemprop=\"itemreviewed\"]')[0].text\n"
   ]
  },
  {
   "cell_type": "code",
   "execution_count": 25,
   "metadata": {
    "collapsed": false
   },
   "outputs": [],
   "source": [
    "yds = soup.select('.rateYDS')[0].contents[-1]"
   ]
  },
  {
   "cell_type": "code",
   "execution_count": 39,
   "metadata": {
    "collapsed": false
   },
   "outputs": [],
   "source": [
    "rating = soup.select('#starSummaryText [itemprop=\"rating\"] meta')[0]['content']"
   ]
  },
  {
   "cell_type": "code",
   "execution_count": 44,
   "metadata": {
    "collapsed": false
   },
   "outputs": [],
   "source": [
    "type_text = soup.select('.rspCol table')[2].select('td')[1].text"
   ]
  },
  {
   "cell_type": "code",
   "execution_count": 47,
   "metadata": {
    "collapsed": false
   },
   "outputs": [],
   "source": [
    "location = [a.text for a in soup.select('#navBox [itemtype=\"http://data-vocabulary.org/Breadcrumb\"]')]"
   ]
  },
  {
   "cell_type": "code",
   "execution_count": 50,
   "metadata": {
    "collapsed": false
   },
   "outputs": [
    {
     "data": {
      "text/plain": [
       "<table bgcolor=\"#f2f2f2\" cellpadding=\"0\" cellspacing=\"0\" class=\"comvis\" id=\"cm_beta1\" width=\"100%\"><tr>\n",
       "<td style=\"width:140px; padding:6px;\" valign=\"top\">\n",
       "        By <span class=\"bold\"> <a href=\"/u/saxfiend//105886712\">saxfiend</a></span><br/><small><em><b>Administrator</b></em></small><br/><small>From: Decatur, GA</small><br/><small>Apr 1, 2007</small><br/><span id=\"stars_1156188906\"></span><script>$(function(){$('#stars_1156188906').html(starsHtml(5, 'avg'));});</script><br/>\n",
       "</td>\n",
       "<td style=\"padding:6px;\" valign=\"top\">\n",
       "<!--MPTEXT-->Leading Gemini was the high point of my latest trip to Looking Glass.  The twin cracks section is strenuous, but there's great pro and good stances to place gear when you need them.  Combining pitches makes for a nice long climb and using double ropes makes things easier.<!--MPTEXTEND-->\n",
       "<div></div>\n",
       "</td>\n",
       "</tr></table>"
      ]
     },
     "execution_count": 50,
     "metadata": {},
     "output_type": "execute_result"
    }
   ],
   "source": [
    "soup.select('.comvis')[0]"
   ]
  },
  {
   "cell_type": "code",
   "execution_count": null,
   "metadata": {
    "collapsed": true
   },
   "outputs": [],
   "source": []
  }
 ],
 "metadata": {
  "kernelspec": {
   "display_name": "Python 2",
   "language": "python",
   "name": "python2"
  },
  "language_info": {
   "codemirror_mode": {
    "name": "ipython",
    "version": 2
   },
   "file_extension": ".py",
   "mimetype": "text/x-python",
   "name": "python",
   "nbconvert_exporter": "python",
   "pygments_lexer": "ipython2",
   "version": "2.7.10"
  }
 },
 "nbformat": 4,
 "nbformat_minor": 0
}
