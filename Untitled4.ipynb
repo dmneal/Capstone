{
 "cells": [
  {
   "cell_type": "code",
   "execution_count": 1,
   "metadata": {
    "collapsed": true
   },
   "outputs": [],
   "source": [
    "vocab = ('route crux bolt bolts camalots crack feet gear hands pitch pitches classic beta tricky second sport'.split())"
   ]
  },
  {
   "cell_type": "code",
   "execution_count": 2,
   "metadata": {
    "collapsed": false
   },
   "outputs": [
    {
     "data": {
      "text/plain": [
       "['route',\n",
       " 'crux',\n",
       " 'bolt',\n",
       " 'bolts',\n",
       " 'camalots',\n",
       " 'crack',\n",
       " 'feet',\n",
       " 'gear',\n",
       " 'hands',\n",
       " 'pitch',\n",
       " 'pitches',\n",
       " 'classic',\n",
       " 'beta',\n",
       " 'tricky',\n",
       " 'second',\n",
       " 'sport']"
      ]
     },
     "execution_count": 2,
     "metadata": {},
     "output_type": "execute_result"
    }
   ],
   "source": [
    "vocab"
   ]
  },
  {
   "cell_type": "code",
   "execution_count": null,
   "metadata": {
    "collapsed": true
   },
   "outputs": [],
   "source": []
  }
 ],
 "metadata": {
  "kernelspec": {
   "display_name": "Python 2",
   "language": "python",
   "name": "python2"
  },
  "language_info": {
   "codemirror_mode": {
    "name": "ipython",
    "version": 2
   },
   "file_extension": ".py",
   "mimetype": "text/x-python",
   "name": "python",
   "nbconvert_exporter": "python",
   "pygments_lexer": "ipython2",
   "version": "2.7.10"
  }
 },
 "nbformat": 4,
 "nbformat_minor": 0
}
