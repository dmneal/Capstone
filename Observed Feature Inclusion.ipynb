{
 "cells": [
  {
   "cell_type": "code",
   "execution_count": 89,
   "metadata": {
    "collapsed": true
   },
   "outputs": [],
   "source": [
    "import graphlab as gl\n",
    "import matplotlib.pyplot as plt\n",
    "%matplotlib inline\n",
    "import pandas as pd\n",
    "import numpy as np"
   ]
  },
  {
   "cell_type": "code",
   "execution_count": 117,
   "metadata": {
    "collapsed": false,
    "scrolled": false
   },
   "outputs": [
    {
     "name": "stdout",
     "output_type": "stream",
     "text": [
      "PROGRESS: Finished parsing file /home/devin/Capstone/rebel10.csv\n",
      "PROGRESS: Parsing completed. Parsed 100 lines in 0.010467 secs.\n",
      "------------------------------------------------------\n",
      "Inferred types from first line of file as \n",
      "column_type_hints=[int,int,int]\n",
      "If parsing fails due to incorrect types, you can correct\n",
      "the inferred type list above and pass it to read_csv in\n",
      "the column_type_hints argument\n",
      "------------------------------------------------------\n",
      "PROGRESS: Read 9659 lines. Lines per second: 1.06871e+06\n",
      "PROGRESS: Finished parsing file /home/devin/Capstone/rebel10.csv\n",
      "PROGRESS: Parsing completed. Parsed 9659 lines in 0.009141 secs.\n"
     ]
    }
   ],
   "source": [
    "data_set = 'rebel10'\n",
    "sf_data = gl.SFrame.read_csv(data_set+'.csv')"
   ]
  },
  {
   "cell_type": "code",
   "execution_count": 111,
   "metadata": {
    "collapsed": false,
    "scrolled": true
   },
   "outputs": [
    {
     "data": {
      "text/html": [
       "<div>\n",
       "<table border=\"1\" class=\"dataframe\">\n",
       "  <thead>\n",
       "    <tr style=\"text-align: right;\">\n",
       "      <th></th>\n",
       "      <th>Climb</th>\n",
       "      <th>location</th>\n",
       "      <th>rating</th>\n",
       "      <th>rating_dif</th>\n",
       "      <th>star_votes</th>\n",
       "      <th>stars</th>\n",
       "      <th>sub_location</th>\n",
       "      <th>type</th>\n",
       "    </tr>\n",
       "  </thead>\n",
       "  <tbody>\n",
       "    <tr>\n",
       "      <th>0</th>\n",
       "      <td>105718186</td>\n",
       "      <td>Utah</td>\n",
       "      <td>21.0</td>\n",
       "      <td>1</td>\n",
       "      <td>154</td>\n",
       "      <td>4.9</td>\n",
       "      <td>Zion National Park</td>\n",
       "      <td>Trad</td>\n",
       "    </tr>\n",
       "    <tr>\n",
       "      <th>1</th>\n",
       "      <td>105741011</td>\n",
       "      <td>Idaho</td>\n",
       "      <td>14.5</td>\n",
       "      <td>0</td>\n",
       "      <td>164</td>\n",
       "      <td>3.8</td>\n",
       "      <td>City of Rocks</td>\n",
       "      <td>Trad</td>\n",
       "    </tr>\n",
       "    <tr>\n",
       "      <th>2</th>\n",
       "      <td>105741116</td>\n",
       "      <td>Utah</td>\n",
       "      <td>24.0</td>\n",
       "      <td>0</td>\n",
       "      <td>101</td>\n",
       "      <td>4.1</td>\n",
       "      <td>Maple Canyon</td>\n",
       "      <td>Sport</td>\n",
       "    </tr>\n",
       "    <tr>\n",
       "      <th>3</th>\n",
       "      <td>105959353</td>\n",
       "      <td>New Hampshire</td>\n",
       "      <td>22.0</td>\n",
       "      <td>0</td>\n",
       "      <td>106</td>\n",
       "      <td>3.9</td>\n",
       "      <td>Rumney</td>\n",
       "      <td>Sport</td>\n",
       "    </tr>\n",
       "    <tr>\n",
       "      <th>4</th>\n",
       "      <td>105804868</td>\n",
       "      <td>New York</td>\n",
       "      <td>13.0</td>\n",
       "      <td>0</td>\n",
       "      <td>75</td>\n",
       "      <td>3.6</td>\n",
       "      <td>The Gunks</td>\n",
       "      <td>Trad</td>\n",
       "    </tr>\n",
       "  </tbody>\n",
       "</table>\n",
       "</div>"
      ],
      "text/plain": [
       "       Climb       location  rating  rating_dif  star_votes  stars  \\\n",
       "0  105718186           Utah    21.0           1         154    4.9   \n",
       "1  105741011          Idaho    14.5           0         164    3.8   \n",
       "2  105741116           Utah    24.0           0         101    4.1   \n",
       "3  105959353  New Hampshire    22.0           0         106    3.9   \n",
       "4  105804868       New York    13.0           0          75    3.6   \n",
       "\n",
       "         sub_location   type  \n",
       "0  Zion National Park   Trad  \n",
       "1       City of Rocks   Trad  \n",
       "2        Maple Canyon  Sport  \n",
       "3              Rumney  Sport  \n",
       "4           The Gunks   Trad  "
      ]
     },
     "execution_count": 111,
     "metadata": {},
     "output_type": "execute_result"
    }
   ],
   "source": [
    "df_obs = pd.read_csv(data_set+'_observed_features.csv')\n",
    "df_obs.head()"
   ]
  },
  {
   "cell_type": "code",
   "execution_count": 112,
   "metadata": {
    "collapsed": false
   },
   "outputs": [
    {
     "name": "stdout",
     "output_type": "stream",
     "text": [
      "PROGRESS: Recsys training: model = factorization_recommender\n",
      "PROGRESS: Recsys training: model = factorization_recommender\n",
      "PROGRESS: Recsys training: model = factorization_recommender\n",
      "PROGRESS: Recsys training: model = factorization_recommender\n",
      "PROGRESS: Recsys training: model = factorization_recommender\n",
      "PROGRESS: Recsys training: model = factorization_recommender\n",
      "PROGRESS: Recsys training: model = factorization_recommender\n",
      "PROGRESS: Recsys training: model = factorization_recommender\n",
      "PROGRESS: Recsys training: model = factorization_recommender\n",
      "PROGRESS: Recsys training: model = factorization_recommender\n",
      "PROGRESS: Recsys training: model = factorization_recommender\n",
      "PROGRESS: Recsys training: model = factorization_recommender\n",
      "PROGRESS: Recsys training: model = factorization_recommender\n",
      "PROGRESS: Recsys training: model = factorization_recommender\n",
      "PROGRESS: Recsys training: model = factorization_recommender\n",
      "PROGRESS: Recsys training: model = factorization_recommender\n",
      "PROGRESS: Recsys training: model = factorization_recommender\n",
      "PROGRESS: Recsys training: model = factorization_recommender\n",
      "PROGRESS: Recsys training: model = factorization_recommender\n",
      "PROGRESS: Recsys training: model = factorization_recommender\n",
      "PROGRESS: Recsys training: model = factorization_recommender\n",
      "PROGRESS: Recsys training: model = factorization_recommender\n",
      "PROGRESS: Recsys training: model = factorization_recommender\n",
      "PROGRESS: Recsys training: model = factorization_recommender\n"
     ]
    }
   ],
   "source": [
    "m_ob = []\n",
    "mse_scores_ob = []\n",
    "n=3\n",
    "for i in range(n):\n",
    "    (train_set, test_set) = sf_data.random_split(0.8)\n",
    "    \n",
    "    #No observed item features for comparison\n",
    "    m_ob += [gl.factorization_recommender.create(train_set, 'User', 'Climb', 'rating',\n",
    "                                        verbose = False,\n",
    "                                        max_iterations=500000, num_factors=5, \n",
    "                                        regularization=0.001)]\n",
    "    #Iterate through each observed item feature\n",
    "    for col in df_obs.columns[1:]:\n",
    "        df_ob = pd.concat( (df_obs.Climb, df_obs[col]) , axis=1)\n",
    "        sf_ob = gl.SFrame(df_ob)\n",
    "        m_ob += [gl.factorization_recommender.create(train_set, 'User', 'Climb', 'rating',\n",
    "                                        item_data = sf_ob,\n",
    "                                        verbose = False,\n",
    "                                        max_iterations=500000, num_factors=5, \n",
    "                                        regularization=0.001)]\n"
   ]
  },
  {
   "cell_type": "code",
   "execution_count": 113,
   "metadata": {
    "collapsed": false
   },
   "outputs": [
    {
     "data": {
      "text/plain": [
       "<matplotlib.collections.PathCollection at 0x7fe611e56f50>"
      ]
     },
     "execution_count": 113,
     "metadata": {},
     "output_type": "execute_result"
    },
    {
     "data": {
      "image/png": "[encoded data removed]",
      "text/plain": [
       "<matplotlib.figure.Figure at 0x7fe6121ab4d0>"
      ]
     },
     "metadata": {},
     "output_type": "display_data"
    }
   ],
   "source": [
    "mse_scores_ob = [gl.evaluation.rmse(test_set['rating'], mod.predict(test_set))\n",
    "                  for mod in m_ob]\n",
    "zip(list(df_obs.columns)*n,mse_scores_ob)\n",
    "plt.scatter(range(len(mse_scores_ob)),mse_scores_ob)"
   ]
  },
  {
   "cell_type": "code",
   "execution_count": 115,
   "metadata": {
    "collapsed": false
   },
   "outputs": [
    {
     "data": {
      "text/plain": [
       "Index([u'Climb', u'location', u'rating', u'rating_dif', u'star_votes',\n",
       "       u'stars', u'sub_location', u'type'],\n",
       "      dtype='object')"
      ]
     },
     "execution_count": 115,
     "metadata": {},
     "output_type": "execute_result"
    }
   ],
   "source": [
    "df_obs.columns"
   ]
  },
  {
   "cell_type": "code",
   "execution_count": 116,
   "metadata": {
    "collapsed": false
   },
   "outputs": [
    {
     "data": {
      "text/plain": [
       "<matplotlib.collections.PathCollection at 0x7fe611d5c890>"
      ]
     },
     "execution_count": 116,
     "metadata": {},
     "output_type": "execute_result"
    },
    {
     "data": {
      "image/png": "[encoded data removed]",
      "text/plain": [
       "<matplotlib.figure.Figure at 0x7fe611dc4850>"
      ]
     },
     "metadata": {},
     "output_type": "display_data"
    }
   ],
   "source": [
    "mse_scores_ob = [gl.evaluation.rmse(test_set['rating'], mod.predict(test_set))\n",
    "                  for mod in m_ob]\n",
    "plt.scatter(range(len(df_obs.columns))*n,mse_scores_ob)"
   ]
  },
  {
   "cell_type": "markdown",
   "metadata": {
    "collapsed": true
   },
   "source": [
    "##Add in useful observed features (all)"
   ]
  },
  {
   "cell_type": "code",
   "execution_count": 104,
   "metadata": {
    "collapsed": false
   },
   "outputs": [
    {
     "name": "stdout",
     "output_type": "stream",
     "text": [
      "PROGRESS: Recsys training: model = factorization_recommender\n",
      "PROGRESS: Recsys training: model = factorization_recommender\n",
      "PROGRESS: Recsys training: model = factorization_recommender\n",
      "PROGRESS: Recsys training: model = factorization_recommender\n",
      "PROGRESS: Recsys training: model = factorization_recommender\n",
      "PROGRESS: Recsys training: model = factorization_recommender\n",
      "PROGRESS: Recsys training: model = factorization_recommender\n",
      "PROGRESS: Recsys training: model = factorization_recommender\n",
      "PROGRESS: Recsys training: model = factorization_recommender\n",
      "PROGRESS: Recsys training: model = factorization_recommender\n"
     ]
    }
   ],
   "source": [
    "n_obs = 10\n",
    "\n",
    "sf_obs = gl.SFrame(df_obs)\n",
    "m_obs = []\n",
    "for i in range(n_obs):\n",
    "    (train_set, test_set) = sf_data.random_split(0.8)\n",
    "    m_obs += [gl.factorization_recommender.create(train_set, \n",
    "                                        'User', 'Climb', 'rating',\n",
    "                                        item_data = sf_obs,\n",
    "                                        verbose = False,\n",
    "                                        max_iterations=5000, \n",
    "                                        num_factors=5, \n",
    "                                        regularization=0.001)]"
   ]
  },
  {
   "cell_type": "code",
   "execution_count": 105,
   "metadata": {
    "collapsed": false
   },
   "outputs": [
    {
     "data": {
      "text/plain": [
       "[0.5471100904188786,\n",
       " 0.5397351760990763,\n",
       " 0.5426794803304136,\n",
       " 0.5422160590902523,\n",
       " 0.5388674571487642,\n",
       " 0.5421792878528443,\n",
       " 0.5479082076822741,\n",
       " 0.542505972737443,\n",
       " 0.5407021118607626,\n",
       " 0.6687215060327019]"
      ]
     },
     "execution_count": 105,
     "metadata": {},
     "output_type": "execute_result"
    }
   ],
   "source": [
    "mse_score_obs = [gl.evaluation.rmse(test_set['rating'],\n",
    "                                   m.predict(test_set))\n",
    "                 for m in m_obs]\n",
    "mse_score_obs"
   ]
  },
  {
   "cell_type": "code",
   "execution_count": 108,
   "metadata": {
    "collapsed": false
   },
   "outputs": [
    {
     "data": {
      "text/plain": [
       "<matplotlib.collections.PathCollection at 0x7fe611eda210>"
      ]
     },
     "execution_count": 108,
     "metadata": {},
     "output_type": "execute_result"
    },
    {
     "data": {
      "image/png": "[encoded data removed]",
      "text/plain": [
       "<matplotlib.figure.Figure at 0x7fe612003d10>"
      ]
     },
     "metadata": {},
     "output_type": "display_data"
    }
   ],
   "source": [
    "plt.scatter(range(len(df_obs.columns))*n,mse_scores_ob)\n",
    "plt.scatter([len(df_obs.columns)+1]*n_obs, mse_score_obs)"
   ]
  },
  {
   "cell_type": "code",
   "execution_count": null,
   "metadata": {
    "collapsed": true
   },
   "outputs": [],
   "source": []
  },
  {
   "cell_type": "markdown",
   "metadata": {},
   "source": [
    "##Scratchwork"
   ]
  },
  {
   "cell_type": "code",
   "execution_count": 31,
   "metadata": {
    "collapsed": false
   },
   "outputs": [],
   "source": [
    "df_test = pd.concat((df_obs['Climb'], df_obs['location']),axis=1)"
   ]
  },
  {
   "cell_type": "code",
   "execution_count": 58,
   "metadata": {
    "collapsed": false
   },
   "outputs": [
    {
     "name": "stdout",
     "output_type": "stream",
     "text": [
      "+-----------+---------------+\n",
      "|   Climb   |    location   |\n",
      "+-----------+---------------+\n",
      "| 105718186 |      Utah     |\n",
      "| 105741011 |     Idaho     |\n",
      "| 105741116 |      Utah     |\n",
      "| 105959353 | New Hampshire |\n",
      "+-----------+---------------+\n",
      "[940 rows x 2 columns]\n",
      "\n"
     ]
    }
   ],
   "source": [
    "sf_climb_obs = gl.SFrame(df_test)\n",
    "sf_climb_obs.print_rows(4)"
   ]
  },
  {
   "cell_type": "code",
   "execution_count": 57,
   "metadata": {
    "collapsed": false
   },
   "outputs": [
    {
     "data": {
      "text/html": [
       "<div style=\"max-height:1000px;max-width:1500px;overflow:auto;\"><table frame=\"box\" rules=\"cols\">\n",
       "    <tr>\n",
       "        <th style=\"padding-left: 1em; padding-right: 1em; text-align: center\">dict_feature</th>\n",
       "        <th style=\"padding-left: 1em; padding-right: 1em; text-align: center\">item_id</th>\n",
       "        <th style=\"padding-left: 1em; padding-right: 1em; text-align: center\">name</th>\n",
       "    </tr>\n",
       "    <tr>\n",
       "        <td style=\"padding-left: 1em; padding-right: 1em; text-align: center; vertical-align: top\">{'a': 23}</td>\n",
       "        <td style=\"padding-left: 1em; padding-right: 1em; text-align: center; vertical-align: top\">a</td>\n",
       "        <td style=\"padding-left: 1em; padding-right: 1em; text-align: center; vertical-align: top\">item1</td>\n",
       "    </tr>\n",
       "    <tr>\n",
       "        <td style=\"padding-left: 1em; padding-right: 1em; text-align: center; vertical-align: top\">{'a': 13}</td>\n",
       "        <td style=\"padding-left: 1em; padding-right: 1em; text-align: center; vertical-align: top\">b</td>\n",
       "        <td style=\"padding-left: 1em; padding-right: 1em; text-align: center; vertical-align: top\">item2</td>\n",
       "    </tr>\n",
       "    <tr>\n",
       "        <td style=\"padding-left: 1em; padding-right: 1em; text-align: center; vertical-align: top\">{'b': 1}</td>\n",
       "        <td style=\"padding-left: 1em; padding-right: 1em; text-align: center; vertical-align: top\">c</td>\n",
       "        <td style=\"padding-left: 1em; padding-right: 1em; text-align: center; vertical-align: top\">item3</td>\n",
       "    </tr>\n",
       "    <tr>\n",
       "        <td style=\"padding-left: 1em; padding-right: 1em; text-align: center; vertical-align: top\">{'a': 23, 'b': 32}</td>\n",
       "        <td style=\"padding-left: 1em; padding-right: 1em; text-align: center; vertical-align: top\">d</td>\n",
       "        <td style=\"padding-left: 1em; padding-right: 1em; text-align: center; vertical-align: top\">item4</td>\n",
       "    </tr>\n",
       "</table>\n",
       "[4 rows x 3 columns]<br/>\n",
       "</div>"
      ],
      "text/plain": [
       "Columns:\n",
       "\tdict_feature\tdict\n",
       "\titem_id\tstr\n",
       "\tname\tstr\n",
       "\n",
       "Rows: 4\n",
       "\n",
       "Data:\n",
       "+--------------------+---------+-------+\n",
       "|    dict_feature    | item_id |  name |\n",
       "+--------------------+---------+-------+\n",
       "|     {'a': 23}      |    a    | item1 |\n",
       "|     {'a': 13}      |    b    | item2 |\n",
       "|      {'b': 1}      |    c    | item3 |\n",
       "| {'a': 23, 'b': 32} |    d    | item4 |\n",
       "+--------------------+---------+-------+\n",
       "[4 rows x 3 columns]"
      ]
     },
     "execution_count": 57,
     "metadata": {},
     "output_type": "execute_result"
    }
   ],
   "source": [
    "item_info = gl.SFrame({'item_id': [\"a\", \"b\", \"c\", \"d\"],\n",
    "                              'name': [\"item1\", \"item2\", \"item3\", \"item4\"],\n",
    "                         'dict_feature': [{'a' : 23}, {'a' : 13},\n",
    "                                               {'b' : 1},\n",
    "                                               {'a' : 23, 'b' : 32}]})\n",
    "item_info"
   ]
  },
  {
   "cell_type": "code",
   "execution_count": null,
   "metadata": {
    "collapsed": true
   },
   "outputs": [],
   "source": []
  }
 ],
 "metadata": {
  "kernelspec": {
   "display_name": "Python 2",
   "language": "python",
   "name": "python2"
  },
  "language_info": {
   "codemirror_mode": {
    "name": "ipython",
    "version": 2
   },
   "file_extension": ".py",
   "mimetype": "text/x-python",
   "name": "python",
   "nbconvert_exporter": "python",
   "pygments_lexer": "ipython2",
   "version": "2.7.10"
  }
 },
 "nbformat": 4,
 "nbformat_minor": 0
}
