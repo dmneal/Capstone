{
 "cells": [
  {
   "cell_type": "markdown",
   "metadata": {},
   "source": [
    "#Web scraping"
   ]
  },
  {
   "cell_type": "code",
   "execution_count": 11,
   "metadata": {
    "collapsed": true
   },
   "outputs": [],
   "source": [
    "\n",
    "from IPython.core.display import HTML\n",
    "from bs4 import BeautifulSoup\n",
    "import pandas as pd\n",
    "import requests"
   ]
  },
  {
   "cell_type": "code",
   "execution_count": 12,
   "metadata": {
    "collapsed": true
   },
   "outputs": [],
   "source": [
    "test_link = \"http://mountainproject.com/v/katzenjammer/106281540\""
   ]
  },
  {
   "cell_type": "code",
   "execution_count": 29,
   "metadata": {
    "collapsed": true
   },
   "outputs": [],
   "source": [
    "z = requests.get(test_link)"
   ]
  },
  {
   "cell_type": "code",
   "execution_count": 38,
   "metadata": {
    "collapsed": false
   },
   "outputs": [],
   "source": [
    "soup = BeautifulSoup(z.content, 'html.parser')#, from_encoding='UTF-8')"
   ]
  },
  {
   "cell_type": "code",
   "execution_count": 39,
   "metadata": {
    "collapsed": false
   },
   "outputs": [
    {
     "data": {
      "text/plain": [
       "<span class=\"small\" id=\"starSummaryText\">\n",
       "<span itemprop=\"rating\" itemscope=\"\" itemtype=\"http://data-vocabulary.org/Rating\">\n",
       "<meta content=\"2.0\" itemprop=\"average\"/>\n",
       "<meta content=\"4\" itemprop=\"best\"/>\n",
       "</span>\n",
       "<meta content=\"26\" itemprop=\"votes\"/>\n",
       "<script>document.write(starSummaryText(3.0385, 26, '/scripts/ShowObjectStats.php?id=106281540'));</script>\n",
       "</span>"
      ]
     },
     "execution_count": 39,
     "metadata": {},
     "output_type": "execute_result"
    }
   ],
   "source": [
    "star_tag = soup.find(id=\"starSummaryText\")\n",
    "star_tag"
   ]
  },
  {
   "cell_type": "code",
   "execution_count": 40,
   "metadata": {
    "collapsed": false
   },
   "outputs": [
    {
     "data": {
      "text/plain": [
       "u'span'"
      ]
     },
     "execution_count": 40,
     "metadata": {},
     "output_type": "execute_result"
    }
   ],
   "source": [
    "star_tag.name"
   ]
  },
  {
   "cell_type": "code",
   "execution_count": 41,
   "metadata": {
    "collapsed": false
   },
   "outputs": [
    {
     "data": {
      "text/plain": [
       "{u'class': [u'small'], u'id': u'starSummaryText'}"
      ]
     },
     "execution_count": 41,
     "metadata": {},
     "output_type": "execute_result"
    }
   ],
   "source": [
    "star_tag.attrs"
   ]
  },
  {
   "cell_type": "code",
   "execution_count": 42,
   "metadata": {
    "collapsed": false
   },
   "outputs": [
    {
     "data": {
      "text/plain": [
       "<span class=\"small\" id=\"starSummaryText\">\n",
       "<span itemprop=\"rating\" itemscope=\"\" itemtype=\"http://data-vocabulary.org/Rating\">\n",
       "<meta content=\"2.0\" itemprop=\"average\"/>\n",
       "<meta content=\"4\" itemprop=\"best\"/>\n",
       "</span>\n",
       "<meta content=\"26\" itemprop=\"votes\"/>\n",
       "<script>document.write(starSummaryText(3.0385, 26, '/scripts/ShowObjectStats.php?id=106281540'));</script>\n",
       "</span>"
      ]
     },
     "execution_count": 42,
     "metadata": {},
     "output_type": "execute_result"
    }
   ],
   "source": [
    "star_tag"
   ]
  },
  {
   "cell_type": "code",
   "execution_count": 47,
   "metadata": {
    "collapsed": false
   },
   "outputs": [
    {
     "data": {
      "text/plain": [
       "u\"document.write(starSummaryText(3.0385, 26, '/scripts/ShowObjectStats.php?id=106281540'));\""
      ]
     },
     "execution_count": 47,
     "metadata": {},
     "output_type": "execute_result"
    }
   ],
   "source": [
    "star_tag.find('script')."
   ]
  },
  {
   "cell_type": "code",
   "execution_count": null,
   "metadata": {
    "collapsed": true
   },
   "outputs": [],
   "source": []
  }
 ],
 "metadata": {
  "kernelspec": {
   "display_name": "Python 2",
   "language": "python",
   "name": "python2"
  },
  "language_info": {
   "codemirror_mode": {
    "name": "ipython",
    "version": 2
   },
   "file_extension": ".py",
   "mimetype": "text/x-python",
   "name": "python",
   "nbconvert_exporter": "python",
   "pygments_lexer": "ipython2",
   "version": "2.7.10"
  }
 },
 "nbformat": 4,
 "nbformat_minor": 0
}
