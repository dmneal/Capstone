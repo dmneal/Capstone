{
 "cells": [
  {
   "cell_type": "code",
   "execution_count": 1,
   "metadata": {
    "collapsed": false
   },
   "outputs": [],
   "source": [
    "import graphlab as gl\n",
    "import matplotlib.pyplot as plt\n",
    "%matplotlib inline\n",
    "import pandas as pd\n",
    "import numpy as np\n",
    "import random\n",
    "import pickle\n",
    "from itertools import combinations"
   ]
  },
  {
   "cell_type": "markdown",
   "metadata": {},
   "source": [
    "##Loading in the data"
   ]
  },
  {
   "cell_type": "code",
   "execution_count": 86,
   "metadata": {
    "collapsed": false,
    "scrolled": true
   },
   "outputs": [],
   "source": [
    "model = gl.recommender.ranking_factorization_recommender\n",
    "data_set = 'star5'\n",
    "item_features = ['location', 'rating','type']\n",
    "\n",
    "#Data with 'Climb', 'User', and 'rating'\n",
    "df_data = pd.read_csv(data_set+'.csv')\n",
    "sf_data = gl.SFrame(df_data)\n",
    "\n",
    "with open('df_raw_'+data_set+'.p','r') as f:\n",
    "    df_raw = pickle.load(f)\n",
    "df_obs = df_raw[item_features].reset_index()\n",
    "sf_obs = gl.SFrame(df_obs)\n",
    "\n"
   ]
  },
  {
   "cell_type": "markdown",
   "metadata": {},
   "source": [
    "##Current Working Model"
   ]
  },
  {
   "cell_type": "code",
   "execution_count": 185,
   "metadata": {
    "collapsed": false,
    "scrolled": true
   },
   "outputs": [
    {
     "name": "stdout",
     "output_type": "stream",
     "text": [
      "PROGRESS: Recsys training: model = ranking_factorization_recommender\n",
      "MSE: 0.607899021578\n"
     ]
    }
   ],
   "source": [
    "reg_w = 5e-5\n",
    "num_fac_w = 15\n",
    "df_ob_w = pd.concat( (df_obs.Climb, df_obs[['rating', 'location', 'type']]) , axis=1)\n",
    "sf_ob_w = gl.SFrame(df_ob_w)\n",
    "            \n",
    "m_working = model.create(sf_data, 'User', 'Climb', 'rating', \n",
    "            item_data = sf_ob_w,\n",
    "            verbose = False,\n",
    "            regularization = 1e-4,\n",
    "            num_factors = 4)\n",
    "print 'MSE:', m_plain.evaluate_rmse(test_set, 'rating')['rmse_overall']"
   ]
  },
  {
   "cell_type": "code",
   "execution_count": 188,
   "metadata": {
    "collapsed": false
   },
   "outputs": [
    {
     "name": "stdout",
     "output_type": "stream",
     "text": [
      "+-----------+-----------+---------------+------+\n",
      "|    User   |   Climb   |     score     | rank |\n",
      "+-----------+-----------+---------------+------+\n",
      "| 107953067 | 105862915 | 4.83046371556 |  1   |\n",
      "| 107953067 | 105924807 | 4.73811882663 |  2   |\n",
      "| 107953067 | 105912416 | 4.62310303654 |  3   |\n",
      "| 107953067 | 105732392 | 4.62162629016 |  4   |\n",
      "| 107953067 | 105725101 | 4.62042598916 |  5   |\n",
      "| 107953067 | 105874465 | 4.56603377243 |  6   |\n",
      "| 107953067 | 105870727 | 4.54757006956 |  7   |\n",
      "| 107953067 | 105732254 | 4.52155988501 |  8   |\n",
      "| 107953067 | 105725122 | 4.48357468775 |  9   |\n",
      "| 107953067 | 105721816 | 4.47507575889 |  10  |\n",
      "| 107953067 | 105863822 | 4.46872290768 |  11  |\n",
      "| 107953067 | 105862944 | 4.45333473768 |  12  |\n",
      "| 107953067 | 105920684 | 4.44729621884 |  13  |\n",
      "| 107953067 | 105721792 |  4.4211954095 |  14  |\n",
      "| 107953067 | 105732386 | 4.41902032774 |  15  |\n",
      "| 107953067 | 105840692 | 4.40886931558 |  16  |\n",
      "| 107953067 | 105732410 | 4.40368195051 |  17  |\n",
      "| 107953067 | 105945535 | 4.38562814102 |  18  |\n",
      "| 107953067 | 105862896 | 4.35194730634 |  19  |\n",
      "| 107953067 | 105954972 | 4.34201737796 |  20  |\n",
      "+-----------+-----------+---------------+------+\n",
      "[20 rows x 4 columns]\n",
      "\n"
     ]
    }
   ],
   "source": [
    "m_working.recommend(users=[107953067],k=20).print_rows(num_rows=30)"
   ]
  },
  {
   "cell_type": "markdown",
   "metadata": {},
   "source": [
    "##Plain recommender"
   ]
  },
  {
   "cell_type": "code",
   "execution_count": 90,
   "metadata": {
    "collapsed": false,
    "scrolled": true
   },
   "outputs": [
    {
     "name": "stdout",
     "output_type": "stream",
     "text": [
      "PROGRESS: Recsys training: model = ranking_factorization_recommender\n",
      "PROGRESS: Preparing data set.\n",
      "PROGRESS:     Data has 258162 observations with 7560 users and 13675 items.\n",
      "PROGRESS:     Data prepared in: 0.099936s\n",
      "PROGRESS: Training ranking_factorization_recommender for recommendations.\n",
      "PROGRESS: +--------------------------------+--------------------------------------------------+----------+\n",
      "PROGRESS: | Parameter                      | Description                                      | Value    |\n",
      "PROGRESS: +--------------------------------+--------------------------------------------------+----------+\n",
      "PROGRESS: | num_factors                    | Factor Dimension                                 | 32       |\n",
      "PROGRESS: | regularization                 | L2 Regularization on Factors                     | 1e-09    |\n",
      "PROGRESS: | solver                         | Solver used for training                         | adagrad  |\n",
      "PROGRESS: | linear_regularization          | L2 Regularization on Linear Coefficients         | 1e-09    |\n",
      "PROGRESS: | ranking_regularization         | Rank-based Regularization Weight                 | 0.25     |\n",
      "PROGRESS: | side_data_factorization        | Assign Factors for Side Data                     | True     |\n",
      "PROGRESS: | max_iterations                 | Maximum Number of Iterations                     | 25       |\n",
      "PROGRESS: +--------------------------------+--------------------------------------------------+----------+\n",
      "PROGRESS:   Optimizing model using SGD; tuning step size.\n",
      "PROGRESS:   Using 32270 / 258162 points for tuning the step size.\n",
      "PROGRESS: +---------+-------------------+------------------------------------------+\n",
      "PROGRESS: | Attempt | Initial Step Size | Estimated Objective Value                |\n",
      "PROGRESS: +---------+-------------------+------------------------------------------+\n",
      "PROGRESS: | 0       | 10                | Not Viable                               |\n",
      "PROGRESS: | 1       | 2.5               | Not Viable                               |\n",
      "PROGRESS: | 2       | 0.625             | Not Viable                               |\n",
      "PROGRESS: | 3       | 0.15625           | 0.26016                                  |\n",
      "PROGRESS: | 4       | 0.078125          | 0.383451                                 |\n",
      "PROGRESS: | 5       | 0.0390625         | 0.670972                                 |\n",
      "PROGRESS: +---------+-------------------+------------------------------------------+\n",
      "PROGRESS: | Final   | 0.15625           | 0.26016                                  |\n",
      "PROGRESS: +---------+-------------------+------------------------------------------+\n",
      "PROGRESS: Starting Optimization.\n",
      "PROGRESS: +---------+--------------+-------------------+-----------------------+-------------+\n",
      "PROGRESS: | Iter.   | Elapsed Time | Approx. Objective | Approx. Training RMSE | Step Size   |\n",
      "PROGRESS: +---------+--------------+-------------------+-----------------------+-------------+\n",
      "PROGRESS: | Initial | 72us         | 1.67702           | 0.924796              |             |\n",
      "PROGRESS: +---------+--------------+-------------------+-----------------------+-------------+\n",
      "PROGRESS: | 1       | 302.843ms    | 1.27599           | 0.888861              | 0.15625     |\n",
      "PROGRESS: | 2       | 603.83ms     | 0.832566          | 0.66191               | 0.15625     |\n",
      "PROGRESS: | 3       | 905.967ms    | 0.644204          | 0.574602              | 0.15625     |\n",
      "PROGRESS: | 4       | 1.19s        | 0.543435          | 0.52071               | 0.15625     |\n",
      "PROGRESS: | 5       | 1.48s        | 0.479832          | 0.482421              | 0.15625     |\n",
      "PROGRESS: | 6       | 1.76s        | 0.434288          | 0.453869              | 0.15625     |\n",
      "PROGRESS: | 10      | 2.85s        | 0.340416          | 0.38662               | 0.15625     |\n",
      "PROGRESS: | 11      | 3.12s        | 0.325723          | 0.375819              | 0.15625     |\n",
      "PROGRESS: | 15      | 4.36s        | 0.288434          | 0.34512               | 0.15625     |\n",
      "PROGRESS: | 20      | 5.81s        | 0.258432          | 0.32092               | 0.15625     |\n",
      "PROGRESS: | 25      | 7.06s        | 0.239208          | 0.304265              | 0.15625     |\n",
      "PROGRESS: +---------+--------------+-------------------+-----------------------+-------------+\n",
      "PROGRESS: Optimization Complete: Maximum number of passes through the data reached.\n",
      "PROGRESS: Computing final objective value and training RMSE.\n",
      "PROGRESS:        Final objective value: 0.226382\n",
      "PROGRESS:        Final training RMSE: 0.273892\n"
     ]
    }
   ],
   "source": [
    "model_plain = gl.recommender\n",
    "\n",
    "(train_set, test_set) = sf_data.random_split(0.8)\n",
    "m_plain = model_plain.create(train_set, 'User', 'Climb', 'rating', \n",
    "            item_data = sf_obs,\n",
    "            verbose = False)"
   ]
  },
  {
   "cell_type": "code",
   "execution_count": 91,
   "metadata": {
    "collapsed": false
   },
   "outputs": [
    {
     "data": {
      "text/plain": [
       "1.2387839716493434"
      ]
     },
     "execution_count": 91,
     "metadata": {},
     "output_type": "execute_result"
    }
   ],
   "source": [
    "m_plain.evaluate_rmse(test_set, 'rating')['rmse_overall']"
   ]
  },
  {
   "cell_type": "markdown",
   "metadata": {},
   "source": [
    "##Item similarity "
   ]
  },
  {
   "cell_type": "markdown",
   "metadata": {},
   "source": [
    "If one needs to compare the ratings of items, Cosine and Pearson similarity are recommended."
   ]
  },
  {
   "cell_type": "code",
   "execution_count": 189,
   "metadata": {
    "collapsed": true
   },
   "outputs": [],
   "source": [
    "(train_set, test_set) = sf_data.random_split(0.8)"
   ]
  },
  {
   "cell_type": "code",
   "execution_count": 194,
   "metadata": {
    "collapsed": false,
    "scrolled": false
   },
   "outputs": [
    {
     "name": "stdout",
     "output_type": "stream",
     "text": [
      "PROGRESS: Recsys training: model = item_similarity\n",
      "PROGRESS: Warning: Column 'rating' ignored.\n",
      "PROGRESS:     To use this column as the target, set target = \"rating\" and use a method that allows the use of a target.\n",
      "PROGRESS: Preparing data set.\n",
      "PROGRESS:     Data has 322247 observations with 7560 users and 13675 items.\n",
      "PROGRESS:     Data prepared in: 0.149643s\n",
      "PROGRESS: Computing item similarity statistics:\n",
      "PROGRESS: Computing most similar items for 13675 items:\n",
      "PROGRESS: +-----------------+-----------------+\n",
      "PROGRESS: | Number of items | Elapsed Time    |\n",
      "PROGRESS: +-----------------+-----------------+\n",
      "PROGRESS: | 1000            | 0.750075        |\n",
      "PROGRESS: | 2000            | 0.778177        |\n",
      "PROGRESS: | 3000            | 0.805869        |\n",
      "PROGRESS: | 4000            | 0.833419        |\n",
      "PROGRESS: | 5000            | 0.860615        |\n",
      "PROGRESS: | 6000            | 0.887213        |\n",
      "PROGRESS: | 7000            | 0.913434        |\n",
      "PROGRESS: | 8000            | 0.939662        |\n",
      "PROGRESS: | 9000            | 0.966158        |\n",
      "PROGRESS: | 10000           | 0.991863        |\n",
      "PROGRESS: | 11000           | 1.01803         |\n",
      "PROGRESS: | 12000           | 1.04863         |\n",
      "PROGRESS: | 13000           | 1.09382         |\n",
      "PROGRESS: +-----------------+-----------------+\n",
      "PROGRESS: Finished training in 1.25158s\n"
     ]
    }
   ],
   "source": [
    "sim_mod = gl.recommender.item_similarity_recommender.create(sf_data,\n",
    "                                        user_id = 'User',\n",
    "                                        item_id = 'Climb',\n",
    "                                        item_data = sf_obs)"
   ]
  },
  {
   "cell_type": "code",
   "execution_count": 195,
   "metadata": {
    "collapsed": false,
    "scrolled": true
   },
   "outputs": [
    {
     "name": "stdout",
     "output_type": "stream",
     "text": [
      "PROGRESS: Getting similar items completed in 0.186527\n"
     ]
    }
   ],
   "source": [
    "sf_rec = sim_mod.get_similar_items(k=100)[:100]#.print_rows(num_rows=5)"
   ]
  },
  {
   "cell_type": "code",
   "execution_count": 196,
   "metadata": {
    "collapsed": false
   },
   "outputs": [
    {
     "name": "stdout",
     "output_type": "stream",
     "text": [
      "+-----------+-----------+-----------------+------+\n",
      "|    User   |   Climb   |      score      | rank |\n",
      "+-----------+-----------+-----------------+------+\n",
      "| 107953067 | 105801570 | 0.0731707317073 |  1   |\n",
      "| 107953067 | 105811601 | 0.0665869218501 |  2   |\n",
      "| 107953067 | 105934896 | 0.0632716049383 |  3   |\n",
      "| 107953067 | 105732605 | 0.0568839672074 |  4   |\n",
      "| 107953067 | 105806583 |    0.0546875    |  5   |\n",
      "| 107953067 | 105732941 | 0.0542401167401 |  6   |\n",
      "| 107953067 | 105932269 | 0.0540963101939 |  7   |\n",
      "| 107953067 | 105732728 | 0.0536758563074 |  8   |\n",
      "| 107953067 | 105799128 | 0.0525793650794 |  9   |\n",
      "| 107953067 | 105732362 | 0.0524282675333 |  10  |\n",
      "| 107953067 | 105799095 | 0.0522682445759 |  11  |\n",
      "| 107953067 | 105897523 | 0.0518341307815 |  12  |\n",
      "| 107953067 | 105732614 | 0.0516213915332 |  13  |\n",
      "| 107953067 | 105732881 | 0.0512677561136 |  14  |\n",
      "| 107953067 | 105799568 | 0.0496254681648 |  15  |\n",
      "| 107953067 | 105821465 | 0.0492831541219 |  16  |\n",
      "| 107953067 | 105829283 | 0.0492662473795 |  17  |\n",
      "| 107953067 | 105799190 | 0.0491666666667 |  18  |\n",
      "| 107953067 | 105806589 | 0.0489130434783 |  19  |\n",
      "| 107953067 | 105732710 | 0.0481635481635 |  20  |\n",
      "+-----------+-----------+-----------------+------+\n",
      "[20 rows x 4 columns]\n",
      "\n"
     ]
    }
   ],
   "source": [
    "sim_mod.recommend(users=[107953067],k=20).print_rows(num_rows=30)"
   ]
  },
  {
   "cell_type": "code",
   "execution_count": null,
   "metadata": {
    "collapsed": true
   },
   "outputs": [],
   "source": [
    "#find new area\n"
   ]
  },
  {
   "cell_type": "code",
   "execution_count": null,
   "metadata": {
    "collapsed": true
   },
   "outputs": [],
   "source": []
  },
  {
   "cell_type": "code",
   "execution_count": null,
   "metadata": {
    "collapsed": true
   },
   "outputs": [],
   "source": []
  },
  {
   "cell_type": "code",
   "execution_count": null,
   "metadata": {
    "collapsed": true
   },
   "outputs": [],
   "source": []
  },
  {
   "cell_type": "code",
   "execution_count": null,
   "metadata": {
    "collapsed": true
   },
   "outputs": [],
   "source": []
  },
  {
   "cell_type": "code",
   "execution_count": null,
   "metadata": {
    "collapsed": true
   },
   "outputs": [],
   "source": []
  },
  {
   "cell_type": "code",
   "execution_count": null,
   "metadata": {
    "collapsed": true
   },
   "outputs": [],
   "source": []
  },
  {
   "cell_type": "code",
   "execution_count": null,
   "metadata": {
    "collapsed": true
   },
   "outputs": [],
   "source": []
  },
  {
   "cell_type": "markdown",
   "metadata": {
    "collapsed": false
   },
   "source": [
    "##Ranking Factorization Recommender"
   ]
  },
  {
   "cell_type": "code",
   "execution_count": 166,
   "metadata": {
    "collapsed": false,
    "scrolled": true
   },
   "outputs": [],
   "source": [
    "def regularization_search(model, n=5, k=4):\n",
    "    \n",
    "    reg_vals = np.logspace(-3,-5,k)\n",
    "\n",
    "    mse_test_reg = []\n",
    "    mse_train_reg = []\n",
    "    m_reg = []\n",
    "    # train_set = sf_data\n",
    "    # test_set=sf_data\n",
    "    for i in range(n):\n",
    "        (train_set, test_set) = sf_data.random_split(0.8)\n",
    "        m_reg += [model.create(train_set, \n",
    "                               'User', \n",
    "                               'Climb', \n",
    "                               'rating',\n",
    "                               item_data = sf_ob_w,\n",
    "                               num_factors=num_fac_w,\n",
    "                               regularization = r,\n",
    "                               verbose=False)\n",
    "                  for r in reg_vals]\n",
    "        mse_test_reg += [mod.evaluate_rmse(test_set, 'rating')['rmse_overall']\n",
    "                      for mod in m_reg[i*k:]]\n",
    "        mse_train_reg += [mod.evaluate_rmse(train_set, 'rating')['rmse_overall']\n",
    "                      for mod in m_reg[i*k:]]\n",
    "    return m_reg, mse_test_reg, mse_train_reg, reg_vals, n"
   ]
  },
  {
   "cell_type": "code",
   "execution_count": 173,
   "metadata": {
    "collapsed": false
   },
   "outputs": [
    {
     "name": "stdout",
     "output_type": "stream",
     "text": [
      "PROGRESS: Recsys training: model = ranking_factorization_recommender\n",
      "PROGRESS: Recsys training: model = ranking_factorization_recommender\n",
      "PROGRESS: Recsys training: model = ranking_factorization_recommender\n",
      "PROGRESS: Recsys training: model = ranking_factorization_recommender\n",
      "PROGRESS: Recsys training: model = ranking_factorization_recommender\n",
      "PROGRESS: Recsys training: model = ranking_factorization_recommender\n",
      "PROGRESS: Recsys training: model = ranking_factorization_recommender\n",
      "PROGRESS: Recsys training: model = ranking_factorization_recommender\n",
      "PROGRESS: Recsys training: model = ranking_factorization_recommender\n",
      "PROGRESS: Recsys training: model = ranking_factorization_recommender\n",
      "PROGRESS: Recsys training: model = ranking_factorization_recommender\n",
      "PROGRESS: Recsys training: model = ranking_factorization_recommender\n",
      "PROGRESS: Recsys training: model = ranking_factorization_recommender\n",
      "PROGRESS: Recsys training: model = ranking_factorization_recommender\n",
      "PROGRESS: Recsys training: model = ranking_factorization_recommender\n",
      "PROGRESS: Recsys training: model = ranking_factorization_recommender\n",
      "PROGRESS: Recsys training: model = ranking_factorization_recommender\n",
      "PROGRESS: Recsys training: model = ranking_factorization_recommender\n",
      "PROGRESS: Recsys training: model = ranking_factorization_recommender\n",
      "PROGRESS: Recsys training: model = ranking_factorization_recommender\n",
      "PROGRESS: Recsys training: model = ranking_factorization_recommender\n",
      "PROGRESS: Recsys training: model = ranking_factorization_recommender\n"
     ]
    }
   ],
   "source": [
    "models_reg, mse_test_reg, mse_train_reg, reg_vals, n_reg = regularization_search(model, n =3, k=15)"
   ]
  },
  {
   "cell_type": "code",
   "execution_count": 174,
   "metadata": {
    "collapsed": false,
    "scrolled": true
   },
   "outputs": [
    {
     "name": "stdout",
     "output_type": "stream",
     "text": [
      "[  1.00000000e-03   7.19685673e-04   5.17947468e-04   3.72759372e-04\n",
      "   2.68269580e-04   1.93069773e-04   1.38949549e-04   1.00000000e-04\n",
      "   7.19685673e-05   5.17947468e-05   3.72759372e-05   2.68269580e-05\n",
      "   1.93069773e-05   1.38949549e-05   1.00000000e-05]\n"
     ]
    },
    {
     "data": {
      "image/png": "[encoded data removed]",
      "text/plain": [
       "<matplotlib.figure.Figure at 0x7fa5c0338f10>"
      ]
     },
     "metadata": {},
     "output_type": "display_data"
    }
   ],
   "source": [
    "fig, ax = plt.subplots(1)\n",
    "ax.semilogx(list(reg_vals)*n_reg, mse_test_reg, 'o', label='test', alpha=0.6)\n",
    "ax.semilogx(list(reg_vals)*n_reg, mse_train_reg, 'o', label = 'train', alpha=0.6)\n",
    "ax.set_ylabel('MSE')\n",
    "ax.set_xlabel('Regularization Value')\n",
    "ax.legend()\n",
    "print reg_vals"
   ]
  },
  {
   "cell_type": "markdown",
   "metadata": {},
   "source": [
    "###Latent Feature Selection"
   ]
  },
  {
   "cell_type": "code",
   "execution_count": 155,
   "metadata": {
    "collapsed": false
   },
   "outputs": [],
   "source": [
    "def latent_feature_search(model, n=2, k=7, reg=1e-4):\n",
    "    num_factors = range(k)\n",
    "    mse_test = []\n",
    "    mse_train = []\n",
    "    models = []\n",
    "    # train_set = sf_data\n",
    "    # test_set=sf_data\n",
    "    for i in range(n):\n",
    "        (train_set, test_set) = sf_data.random_split(0.8)\n",
    "        models += [model.create(train_set, \n",
    "                              'User', \n",
    "                              'Climb', \n",
    "                              'rating',\n",
    "                              item_data=sf_ob_w,\n",
    "                              num_factors=num,\n",
    "                              verbose=False,\n",
    "                              regularization=reg_w)\n",
    "                  for num in num_factors]\n",
    "        mse_test += [mod.evaluate_rmse(test_set, 'rating')['rmse_overall']\n",
    "                      for mod in models[i*k:]]\n",
    "        mse_train += [mod.evaluate_rmse(train_set, 'rating')['rmse_overall']\n",
    "                      for mod in models[i*k:]]\n",
    "    return models, mse_test, mse_train, k, n"
   ]
  },
  {
   "cell_type": "code",
   "execution_count": 156,
   "metadata": {
    "collapsed": false
   },
   "outputs": [],
   "source": [
    "def comp_mse_plot(mse_test, mse_train, k, n, xlabel='', alpha=.6,\n",
    "                  legend=True):\n",
    "    fig, ax = plt.subplots(1)\n",
    "    ax.plot(range(k)*n, mse_test, 'o', label='test', alpha=alpha)\n",
    "    ax.plot(range(k)*n, mse_train, 'o', label = 'train', alpha=alpha)\n",
    "    if legend:\n",
    "        ax.legend()\n",
    "    ax.set_ylabel('MSE')\n",
    "    ax.set_xlabel(xlabel)\n",
    "    "
   ]
  },
  {
   "cell_type": "code",
   "execution_count": 159,
   "metadata": {
    "collapsed": false,
    "scrolled": true
   },
   "outputs": [
    {
     "name": "stdout",
     "output_type": "stream",
     "text": [
      "PROGRESS: Recsys training: model = ranking_factorization_recommender\n",
      "PROGRESS: Recsys training: model = ranking_factorization_recommender\n",
      "PROGRESS: Recsys training: model = ranking_factorization_recommender\n",
      "PROGRESS: Recsys training: model = ranking_factorization_recommender\n",
      "PROGRESS: Recsys training: model = ranking_factorization_recommender\n",
      "PROGRESS: Recsys training: model = ranking_factorization_recommender\n",
      "PROGRESS: Recsys training: model = ranking_factorization_recommender\n",
      "PROGRESS: Recsys training: model = ranking_factorization_recommender\n",
      "PROGRESS: Recsys training: model = ranking_factorization_recommender\n",
      "PROGRESS: Recsys training: model = ranking_factorization_recommender\n",
      "PROGRESS: Recsys training: model = ranking_factorization_recommender\n",
      "PROGRESS: Recsys training: model = ranking_factorization_recommender\n",
      "PROGRESS: Recsys training: model = ranking_factorization_recommender\n",
      "PROGRESS: Recsys training: model = ranking_factorization_recommender\n",
      "PROGRESS: Recsys training: model = ranking_factorization_recommender\n",
      "PROGRESS: Recsys training: model = ranking_factorization_recommender\n",
      "PROGRESS: Recsys training: model = ranking_factorization_recommender\n",
      "PROGRESS: Recsys training: model = ranking_factorization_recommender\n",
      "PROGRESS: Recsys training: model = ranking_factorization_recommender\n",
      "PROGRESS: Recsys training: model = ranking_factorization_recommender\n",
      "PROGRESS: Recsys training: model = ranking_factorization_recommender\n",
      "PROGRESS: Recsys training: model = ranking_factorization_recommender\n",
      "PROGRESS: Recsys training: model = ranking_factorization_recommender\n",
      "PROGRESS: Recsys training: model = ranking_factorization_recommender\n",
      "PROGRESS: Recsys training: model = ranking_factorization_recommender\n",
      "PROGRESS: Recsys training: model = ranking_factorization_recommender\n",
      "PROGRESS: Recsys training: model = ranking_factorization_recommender\n",
      "PROGRESS: Recsys training: model = ranking_factorization_recommender\n",
      "PROGRESS: Recsys training: model = ranking_factorization_recommender\n",
      "PROGRESS: Recsys training: model = ranking_factorization_recommender\n",
      "PROGRESS: Recsys training: model = ranking_factorization_recommender\n",
      "PROGRESS: Recsys training: model = ranking_factorization_recommender\n",
      "PROGRESS: Recsys training: model = ranking_factorization_recommender\n",
      "PROGRESS: Recsys training: model = ranking_factorization_recommender\n",
      "PROGRESS: Recsys training: model = ranking_factorization_recommender\n",
      "PROGRESS: Recsys training: model = ranking_factorization_recommender\n",
      "PROGRESS: Recsys training: model = ranking_factorization_recommender\n",
      "PROGRESS: Recsys training: model = ranking_factorization_recommender\n",
      "PROGRESS: Recsys training: model = ranking_factorization_recommender\n",
      "PROGRESS: Recsys training: model = ranking_factorization_recommender\n",
      "PROGRESS: Recsys training: model = ranking_factorization_recommender\n"
     ]
    }
   ],
   "source": [
    "models_f, mse_test_f, mse_train_f, k_f, n_f = latent_feature_search(model, n=3, k=20)"
   ]
  },
  {
   "cell_type": "code",
   "execution_count": 160,
   "metadata": {
    "collapsed": false
   },
   "outputs": [
    {
     "data": {
      "image/png": "[encoded data removed]",
      "text/plain": [
       "<matplotlib.figure.Figure at 0x7fa5b3f25c10>"
      ]
     },
     "metadata": {},
     "output_type": "display_data"
    }
   ],
   "source": [
    "comp_mse_plot(mse_test_f, mse_train_f, k_f, n_f, xlabel='Number of Features')"
   ]
  },
  {
   "cell_type": "markdown",
   "metadata": {
    "collapsed": false
   },
   "source": [
    "##Observed Feature Selection"
   ]
  },
  {
   "cell_type": "code",
   "execution_count": 169,
   "metadata": {
    "collapsed": false
   },
   "outputs": [],
   "source": [
    "def obs_feature_search(item_features, model, n=3, \n",
    "                       num_factors=4,\n",
    "                       reg=1e-4):\n",
    "    m_ob = []\n",
    "    mse_test_ob = []\n",
    "    mse_train_ob = []\n",
    "    feature_combos =[]\n",
    "    for i in range(len(item_features)):\n",
    "        feature_combos += list(combinations(item_features, i+1))\n",
    "    k = len(feature_combos)\n",
    "\n",
    "    for i in range(n):\n",
    "        (train_set, test_set) = sf_data.random_split(0.8)\n",
    "\n",
    "        #No observed item features for comparison\n",
    "        m_ob += [model.create(train_set, 'User', 'Climb',\n",
    "                             target='rating',\n",
    "                             verbose = False,\n",
    "                             regularization = reg,\n",
    "                             num_factors = num_factors)]\n",
    "        #Iterate through each observed item feature\n",
    "        for combo in feature_combos:\n",
    "            df_ob = pd.concat( (df_obs.Climb, df_obs[list(combo)]) , axis=1)\n",
    "            sf_ob = gl.SFrame(df_ob)\n",
    "            m_ob += [model.create(train_set, 'User', 'Climb',\n",
    "                                target='rating',\n",
    "                                item_data = sf_ob,\n",
    "                                verbose = False,\n",
    "                                regularization = reg_w,\n",
    "                                num_factors = num_fac_w)]\n",
    "\n",
    "        mse_test_ob += [mod.evaluate_rmse(test_set, 'rating')['rmse_overall']\n",
    "                      for mod in m_ob[i*(k+1):]]\n",
    "        mse_train_ob += [mod.evaluate_rmse(train_set, 'rating')['rmse_overall']\n",
    "                      for mod in m_ob[i*(k+1):]]\n",
    "    \n",
    "    return (m_ob, mse_test_ob, mse_train_ob, n, k+1)"
   ]
  },
  {
   "cell_type": "code",
   "execution_count": 170,
   "metadata": {
    "collapsed": false
   },
   "outputs": [
    {
     "name": "stdout",
     "output_type": "stream",
     "text": [
      "PROGRESS: Recsys training: model = ranking_factorization_recommender\n",
      "PROGRESS: Recsys training: model = ranking_factorization_recommender\n",
      "PROGRESS: Recsys training: model = ranking_factorization_recommender\n",
      "PROGRESS: Recsys training: model = ranking_factorization_recommender\n",
      "PROGRESS: Recsys training: model = ranking_factorization_recommender\n",
      "PROGRESS: Recsys training: model = ranking_factorization_recommender\n",
      "PROGRESS: Recsys training: model = ranking_factorization_recommender\n",
      "PROGRESS: Recsys training: model = ranking_factorization_recommender\n",
      "PROGRESS: Recsys training: model = ranking_factorization_recommender\n",
      "PROGRESS: Recsys training: model = ranking_factorization_recommender\n",
      "PROGRESS: Recsys training: model = ranking_factorization_recommender\n",
      "PROGRESS: Recsys training: model = ranking_factorization_recommender\n",
      "PROGRESS: Recsys training: model = ranking_factorization_recommender\n",
      "PROGRESS: Recsys training: model = ranking_factorization_recommender\n",
      "PROGRESS: Recsys training: model = ranking_factorization_recommender\n",
      "PROGRESS: Recsys training: model = ranking_factorization_recommender\n",
      "PROGRESS: Recsys training: model = ranking_factorization_recommender\n",
      "PROGRESS: Recsys training: model = ranking_factorization_recommender\n",
      "PROGRESS: Recsys training: model = ranking_factorization_recommender\n",
      "PROGRESS: Recsys training: model = ranking_factorization_recommender\n",
      "PROGRESS: Recsys training: model = ranking_factorization_recommender\n",
      "PROGRESS: Recsys training: model = ranking_factorization_recommender\n",
      "PROGRESS: Recsys training: model = ranking_factorization_recommender\n",
      "PROGRESS: Recsys training: model = ranking_factorization_recommender\n"
     ]
    }
   ],
   "source": [
    "models_ob, mse_test_ob, mse_train_ob, n, k = obs_feature_search(item_features,\n",
    "                                                     model=model,\n",
    "                                                     n=3)"
   ]
  },
  {
   "cell_type": "code",
   "execution_count": 171,
   "metadata": {
    "collapsed": false
   },
   "outputs": [
    {
     "data": {
      "text/plain": [
       "[('location',),\n",
       " ('rating',),\n",
       " ('type',),\n",
       " ('location', 'rating'),\n",
       " ('location', 'type'),\n",
       " ('rating', 'type'),\n",
       " ('location', 'rating', 'type')]"
      ]
     },
     "execution_count": 171,
     "metadata": {},
     "output_type": "execute_result"
    }
   ],
   "source": [
    "feature_combos =[]\n",
    "for i in range(len(item_features)):\n",
    "    feature_combos += list(combinations(item_features, i+1))\n",
    "feature_combos"
   ]
  },
  {
   "cell_type": "code",
   "execution_count": 172,
   "metadata": {
    "collapsed": false
   },
   "outputs": [
    {
     "data": {
      "image/png": "[encoded data removed]",
      "text/plain": [
       "<matplotlib.figure.Figure at 0x7fa5b3585210>"
      ]
     },
     "metadata": {},
     "output_type": "display_data"
    }
   ],
   "source": [
    "comp_mse_plot(mse_test_ob, mse_train_ob, k, n, \n",
    "              xlabel='Feature Combo', legend=False)"
   ]
  },
  {
   "cell_type": "code",
   "execution_count": null,
   "metadata": {
    "collapsed": true
   },
   "outputs": [],
   "source": []
  },
  {
   "cell_type": "code",
   "execution_count": null,
   "metadata": {
    "collapsed": true
   },
   "outputs": [],
   "source": []
  },
  {
   "cell_type": "code",
   "execution_count": null,
   "metadata": {
    "collapsed": true
   },
   "outputs": [],
   "source": []
  },
  {
   "cell_type": "markdown",
   "metadata": {},
   "source": [
    "#Scratch Work"
   ]
  },
  {
   "cell_type": "code",
   "execution_count": null,
   "metadata": {
    "collapsed": false
   },
   "outputs": [],
   "source": [
    "feature_combos =[]\n",
    "for i in range(k):\n",
    "    feature_combos += list(combinations(item_features, i+1))\n",
    "print feature_combos\n",
    "\n",
    "for combo in feature_combos:\n",
    "    print df_obs[list(combo)].columns\n"
   ]
  },
  {
   "cell_type": "code",
   "execution_count": null,
   "metadata": {
    "collapsed": false,
    "scrolled": true
   },
   "outputs": [],
   "source": [
    "n=3\n",
    "\n",
    "m_ob = []\n",
    "mse_test_ob = []\n",
    "mse_train_ob = []\n",
    "feature_combos =[]\n",
    "for i in range(k):\n",
    "    feature_combos += list(combinations(item_features, i+1))\n",
    "k = len(feature_combos)\n",
    "\n",
    "for i in range(n):\n",
    "    (train_set, test_set) = sf_data.random_split(0.8)\n",
    "    \n",
    "#     #No observed item features for comparison\n",
    "#     m_ob += [gl.ranking_factorization_recommender.create(train_set, 'User', 'Climb',\n",
    "#                                                          target='rating',\n",
    "#                                                          verbose = False,\n",
    "#                                                          num_factors = 5)]\n",
    "    #Iterate through each observed item feature\n",
    "    for combo in feature_combos:\n",
    "        df_ob = pd.concat( (df_obs.Climb, df_obs[list(combo)]) , axis=1)\n",
    "        sf_ob = gl.SFrame(df_ob)\n",
    "        m_ob += [model.create(train_set, 'User', 'Climb',\n",
    "                                                            target='rating',\n",
    "                                                            item_data = sf_ob,\n",
    "                                                            verbose = False,\n",
    "                                                            num_factors = 5)]\n",
    "    \n",
    "    mse_test_ob += [mod.evaluate_rmse(test_set, 'rating')['rmse_overall']\n",
    "                  for mod in m_ob[i*k:]]\n",
    "    mse_train_ob += [mod.evaluate_rmse(train_set, 'rating')['rmse_overall']\n",
    "                  for mod in m_ob[i*k:]]\n",
    "    "
   ]
  },
  {
   "cell_type": "code",
   "execution_count": 105,
   "metadata": {
    "collapsed": false,
    "scrolled": true
   },
   "outputs": [
    {
     "data": {
      "text/html": [
       "<div style=\"max-height:1000px;max-width:1500px;overflow:auto;\"><table frame=\"box\" rules=\"cols\">\n",
       "    <tr>\n",
       "        <th style=\"padding-left: 1em; padding-right: 1em; text-align: center\">User</th>\n",
       "        <th style=\"padding-left: 1em; padding-right: 1em; text-align: center\">Climb</th>\n",
       "        <th style=\"padding-left: 1em; padding-right: 1em; text-align: center\">score</th>\n",
       "        <th style=\"padding-left: 1em; padding-right: 1em; text-align: center\">rank</th>\n",
       "    </tr>\n",
       "    <tr>\n",
       "        <td style=\"padding-left: 1em; padding-right: 1em; text-align: center; vertical-align: top\">11228</td>\n",
       "        <td style=\"padding-left: 1em; padding-right: 1em; text-align: center; vertical-align: top\">105725101</td>\n",
       "        <td style=\"padding-left: 1em; padding-right: 1em; text-align: center; vertical-align: top\">4.74451330536</td>\n",
       "        <td style=\"padding-left: 1em; padding-right: 1em; text-align: center; vertical-align: top\">1</td>\n",
       "    </tr>\n",
       "    <tr>\n",
       "        <td style=\"padding-left: 1em; padding-right: 1em; text-align: center; vertical-align: top\">108202763</td>\n",
       "        <td style=\"padding-left: 1em; padding-right: 1em; text-align: center; vertical-align: top\">105884815</td>\n",
       "        <td style=\"padding-left: 1em; padding-right: 1em; text-align: center; vertical-align: top\">5.02393003329</td>\n",
       "        <td style=\"padding-left: 1em; padding-right: 1em; text-align: center; vertical-align: top\">1</td>\n",
       "    </tr>\n",
       "    <tr>\n",
       "        <td style=\"padding-left: 1em; padding-right: 1em; text-align: center; vertical-align: top\">105821238</td>\n",
       "        <td style=\"padding-left: 1em; padding-right: 1em; text-align: center; vertical-align: top\">105756796</td>\n",
       "        <td style=\"padding-left: 1em; padding-right: 1em; text-align: center; vertical-align: top\">4.05516048364</td>\n",
       "        <td style=\"padding-left: 1em; padding-right: 1em; text-align: center; vertical-align: top\">1</td>\n",
       "    </tr>\n",
       "    <tr>\n",
       "        <td style=\"padding-left: 1em; padding-right: 1em; text-align: center; vertical-align: top\">11802</td>\n",
       "        <td style=\"padding-left: 1em; padding-right: 1em; text-align: center; vertical-align: top\">105756796</td>\n",
       "        <td style=\"padding-left: 1em; padding-right: 1em; text-align: center; vertical-align: top\">4.48097324959</td>\n",
       "        <td style=\"padding-left: 1em; padding-right: 1em; text-align: center; vertical-align: top\">1</td>\n",
       "    </tr>\n",
       "    <tr>\n",
       "        <td style=\"padding-left: 1em; padding-right: 1em; text-align: center; vertical-align: top\">106031999</td>\n",
       "        <td style=\"padding-left: 1em; padding-right: 1em; text-align: center; vertical-align: top\">106132213</td>\n",
       "        <td style=\"padding-left: 1em; padding-right: 1em; text-align: center; vertical-align: top\">4.69882563818</td>\n",
       "        <td style=\"padding-left: 1em; padding-right: 1em; text-align: center; vertical-align: top\">1</td>\n",
       "    </tr>\n",
       "    <tr>\n",
       "        <td style=\"padding-left: 1em; padding-right: 1em; text-align: center; vertical-align: top\">106058154</td>\n",
       "        <td style=\"padding-left: 1em; padding-right: 1em; text-align: center; vertical-align: top\">105741581</td>\n",
       "        <td style=\"padding-left: 1em; padding-right: 1em; text-align: center; vertical-align: top\">4.96220018168</td>\n",
       "        <td style=\"padding-left: 1em; padding-right: 1em; text-align: center; vertical-align: top\">1</td>\n",
       "    </tr>\n",
       "    <tr>\n",
       "        <td style=\"padding-left: 1em; padding-right: 1em; text-align: center; vertical-align: top\">106852393</td>\n",
       "        <td style=\"padding-left: 1em; padding-right: 1em; text-align: center; vertical-align: top\">105755821</td>\n",
       "        <td style=\"padding-left: 1em; padding-right: 1em; text-align: center; vertical-align: top\">4.84219462325</td>\n",
       "        <td style=\"padding-left: 1em; padding-right: 1em; text-align: center; vertical-align: top\">1</td>\n",
       "    </tr>\n",
       "    <tr>\n",
       "        <td style=\"padding-left: 1em; padding-right: 1em; text-align: center; vertical-align: top\">106830645</td>\n",
       "        <td style=\"padding-left: 1em; padding-right: 1em; text-align: center; vertical-align: top\">105741602</td>\n",
       "        <td style=\"padding-left: 1em; padding-right: 1em; text-align: center; vertical-align: top\">4.68126313401</td>\n",
       "        <td style=\"padding-left: 1em; padding-right: 1em; text-align: center; vertical-align: top\">1</td>\n",
       "    </tr>\n",
       "    <tr>\n",
       "        <td style=\"padding-left: 1em; padding-right: 1em; text-align: center; vertical-align: top\">13489</td>\n",
       "        <td style=\"padding-left: 1em; padding-right: 1em; text-align: center; vertical-align: top\">105732392</td>\n",
       "        <td style=\"padding-left: 1em; padding-right: 1em; text-align: center; vertical-align: top\">5.06272192887</td>\n",
       "        <td style=\"padding-left: 1em; padding-right: 1em; text-align: center; vertical-align: top\">1</td>\n",
       "    </tr>\n",
       "    <tr>\n",
       "        <td style=\"padding-left: 1em; padding-right: 1em; text-align: center; vertical-align: top\">108355917</td>\n",
       "        <td style=\"padding-left: 1em; padding-right: 1em; text-align: center; vertical-align: top\">105848762</td>\n",
       "        <td style=\"padding-left: 1em; padding-right: 1em; text-align: center; vertical-align: top\">4.78498498262</td>\n",
       "        <td style=\"padding-left: 1em; padding-right: 1em; text-align: center; vertical-align: top\">1</td>\n",
       "    </tr>\n",
       "</table>\n",
       "[699 rows x 4 columns]<br/>Note: Only the head of the SFrame is printed.<br/>You can use print_rows(num_rows=m, num_columns=n) to print more rows and columns.\n",
       "</div>"
      ],
      "text/plain": [
       "Columns:\n",
       "\tUser\tint\n",
       "\tClimb\tint\n",
       "\tscore\tfloat\n",
       "\trank\tint\n",
       "\n",
       "Rows: 699\n",
       "\n",
       "Data:\n",
       "+-----------+-----------+---------------+------+\n",
       "|    User   |   Climb   |     score     | rank |\n",
       "+-----------+-----------+---------------+------+\n",
       "|   11228   | 105725101 | 4.74451330536 |  1   |\n",
       "| 108202763 | 105884815 | 5.02393003329 |  1   |\n",
       "| 105821238 | 105756796 | 4.05516048364 |  1   |\n",
       "|   11802   | 105756796 | 4.48097324959 |  1   |\n",
       "| 106031999 | 106132213 | 4.69882563818 |  1   |\n",
       "| 106058154 | 105741581 | 4.96220018168 |  1   |\n",
       "| 106852393 | 105755821 | 4.84219462325 |  1   |\n",
       "| 106830645 | 105741602 | 4.68126313401 |  1   |\n",
       "|   13489   | 105732392 | 5.06272192887 |  1   |\n",
       "| 108355917 | 105848762 | 4.78498498262 |  1   |\n",
       "+-----------+-----------+---------------+------+\n",
       "[699 rows x 4 columns]\n",
       "Note: Only the head of the SFrame is printed.\n",
       "You can use print_rows(num_rows=m, num_columns=n) to print more rows and columns."
      ]
     },
     "execution_count": 105,
     "metadata": {},
     "output_type": "execute_result"
    }
   ],
   "source": [
    "mod.recommend(k=1)"
   ]
  },
  {
   "cell_type": "code",
   "execution_count": 114,
   "metadata": {
    "collapsed": false,
    "scrolled": true
   },
   "outputs": [
    {
     "name": "stdout",
     "output_type": "stream",
     "text": [
      "PROGRESS: Recsys training: model = factorization_recommender\n",
      "PROGRESS: Preparing data set.\n",
      "PROGRESS:     Data has 49132 observations with 699 users and 940 items.\n",
      "PROGRESS:     Data prepared in: 0.0289s\n",
      "PROGRESS: Training factorization_recommender for recommendations.\n",
      "PROGRESS: +--------------------------------+--------------------------------------------------+----------+\n",
      "PROGRESS: | Parameter                      | Description                                      | Value    |\n",
      "PROGRESS: +--------------------------------+--------------------------------------------------+----------+\n",
      "PROGRESS: | num_factors                    | Factor Dimension                                 | 3        |\n",
      "PROGRESS: | regularization                 | L2 Regularization on Factors                     | 1e-08    |\n",
      "PROGRESS: | solver                         | Solver used for training                         | adagrad  |\n",
      "PROGRESS: | linear_regularization          | L2 Regularization on Linear Coefficients         | 1e-10    |\n",
      "PROGRESS: | side_data_factorization        | Assign Factors for Side Data                     | True     |\n",
      "PROGRESS: | max_iterations                 | Maximum Number of Iterations                     | 50       |\n",
      "PROGRESS: +--------------------------------+--------------------------------------------------+----------+\n",
      "PROGRESS:   Optimizing model using SGD; tuning step size.\n",
      "PROGRESS:   Using 10000 / 49132 points for tuning the step size.\n",
      "PROGRESS: +---------+-------------------+------------------------------------------+\n",
      "PROGRESS: | Attempt | Initial Step Size | Estimated Objective Value                |\n",
      "PROGRESS: +---------+-------------------+------------------------------------------+\n",
      "PROGRESS: | 0       | 12.5              | Not Viable                               |\n",
      "PROGRESS: | 1       | 3.125             | Not Viable                               |\n",
      "PROGRESS: | 2       | 0.78125           | 0.232619                                 |\n",
      "PROGRESS: | 3       | 0.390625          | 0.196328                                 |\n",
      "PROGRESS: | 4       | 0.195312          | 0.175047                                 |\n",
      "PROGRESS: | 5       | 0.0976562         | 0.214057                                 |\n",
      "PROGRESS: | 6       | 0.0488281         | 0.270745                                 |\n",
      "PROGRESS: | 7       | 0.0244141         | 0.271085                                 |\n",
      "PROGRESS: +---------+-------------------+------------------------------------------+\n",
      "PROGRESS: | Final   | 0.195312          | 0.175047                                 |\n",
      "PROGRESS: +---------+-------------------+------------------------------------------+\n",
      "PROGRESS: Starting Optimization.\n",
      "PROGRESS: +---------+--------------+-------------------+-----------------------+-------------+\n",
      "PROGRESS: | Iter.   | Elapsed Time | Approx. Objective | Approx. Training RMSE | Step Size   |\n",
      "PROGRESS: +---------+--------------+-------------------+-----------------------+-------------+\n",
      "PROGRESS: | Initial | 59us         | 0.761325          | 0.872539              |             |\n",
      "PROGRESS: +---------+--------------+-------------------+-----------------------+-------------+\n",
      "PROGRESS: | 1       | 15.448ms     | 0.403944          | 0.635563              | 0.195312    |\n",
      "PROGRESS: | 2       | 30.059ms     | 0.319487          | 0.565229              | 0.195312    |\n",
      "PROGRESS: | 3       | 45.363ms     | 0.302925          | 0.550384              | 0.195312    |\n",
      "PROGRESS: | 4       | 67.665ms     | 0.292425          | 0.54076               | 0.195312    |\n",
      "PROGRESS: | 5       | 109.887ms    | 0.284852          | 0.533712              | 0.195312    |\n",
      "PROGRESS: | 6       | 126.539ms    | 0.279234          | 0.528422              | 0.195312    |\n",
      "PROGRESS: | 11      | 203.112ms    | 0.266909          | 0.516628              | 0.195312    |\n",
      "PROGRESS: | 50      | 854.685ms    | 0.247006          | 0.49699               | 0.195312    |\n",
      "PROGRESS: +---------+--------------+-------------------+-----------------------+-------------+\n",
      "PROGRESS: Optimization Complete: Maximum number of passes through the data reached.\n",
      "PROGRESS: Computing final objective value and training RMSE.\n",
      "PROGRESS:        Final objective value: 0.241133\n",
      "PROGRESS:        Final training RMSE: 0.491046\n"
     ]
    }
   ],
   "source": [
    "mod = gl.recommender.factorization_recommender.create(sf_data,\n",
    "                                        user_id = 'User',\n",
    "                                        item_id = 'Climb',\n",
    "                                        target = 'rating',\n",
    "                                        item_data = sf_item,\n",
    "                                        num_factors=3\n",
    "                    )"
   ]
  },
  {
   "cell_type": "code",
   "execution_count": 115,
   "metadata": {
    "collapsed": false
   },
   "outputs": [
    {
     "data": {
      "text/html": [
       "<div style=\"max-height:1000px;max-width:1500px;overflow:auto;\"><table frame=\"box\" rules=\"cols\">\n",
       "    <tr>\n",
       "        <th style=\"padding-left: 1em; padding-right: 1em; text-align: center\">User</th>\n",
       "        <th style=\"padding-left: 1em; padding-right: 1em; text-align: center\">Climb</th>\n",
       "        <th style=\"padding-left: 1em; padding-right: 1em; text-align: center\">score</th>\n",
       "        <th style=\"padding-left: 1em; padding-right: 1em; text-align: center\">rank</th>\n",
       "    </tr>\n",
       "    <tr>\n",
       "        <td style=\"padding-left: 1em; padding-right: 1em; text-align: center; vertical-align: top\">11228</td>\n",
       "        <td style=\"padding-left: 1em; padding-right: 1em; text-align: center; vertical-align: top\">105874604</td>\n",
       "        <td style=\"padding-left: 1em; padding-right: 1em; text-align: center; vertical-align: top\">5.27031098313</td>\n",
       "        <td style=\"padding-left: 1em; padding-right: 1em; text-align: center; vertical-align: top\">1</td>\n",
       "    </tr>\n",
       "    <tr>\n",
       "        <td style=\"padding-left: 1em; padding-right: 1em; text-align: center; vertical-align: top\">108202763</td>\n",
       "        <td style=\"padding-left: 1em; padding-right: 1em; text-align: center; vertical-align: top\">105991865</td>\n",
       "        <td style=\"padding-left: 1em; padding-right: 1em; text-align: center; vertical-align: top\">5.3881917181</td>\n",
       "        <td style=\"padding-left: 1em; padding-right: 1em; text-align: center; vertical-align: top\">1</td>\n",
       "    </tr>\n",
       "    <tr>\n",
       "        <td style=\"padding-left: 1em; padding-right: 1em; text-align: center; vertical-align: top\">105821238</td>\n",
       "        <td style=\"padding-left: 1em; padding-right: 1em; text-align: center; vertical-align: top\">105933562</td>\n",
       "        <td style=\"padding-left: 1em; padding-right: 1em; text-align: center; vertical-align: top\">5.63555584278</td>\n",
       "        <td style=\"padding-left: 1em; padding-right: 1em; text-align: center; vertical-align: top\">1</td>\n",
       "    </tr>\n",
       "    <tr>\n",
       "        <td style=\"padding-left: 1em; padding-right: 1em; text-align: center; vertical-align: top\">11802</td>\n",
       "        <td style=\"padding-left: 1em; padding-right: 1em; text-align: center; vertical-align: top\">105863822</td>\n",
       "        <td style=\"padding-left: 1em; padding-right: 1em; text-align: center; vertical-align: top\">5.07267045351</td>\n",
       "        <td style=\"padding-left: 1em; padding-right: 1em; text-align: center; vertical-align: top\">1</td>\n",
       "    </tr>\n",
       "    <tr>\n",
       "        <td style=\"padding-left: 1em; padding-right: 1em; text-align: center; vertical-align: top\">106031999</td>\n",
       "        <td style=\"padding-left: 1em; padding-right: 1em; text-align: center; vertical-align: top\">105991865</td>\n",
       "        <td style=\"padding-left: 1em; padding-right: 1em; text-align: center; vertical-align: top\">5.33368701437</td>\n",
       "        <td style=\"padding-left: 1em; padding-right: 1em; text-align: center; vertical-align: top\">1</td>\n",
       "    </tr>\n",
       "    <tr>\n",
       "        <td style=\"padding-left: 1em; padding-right: 1em; text-align: center; vertical-align: top\">106058154</td>\n",
       "        <td style=\"padding-left: 1em; padding-right: 1em; text-align: center; vertical-align: top\">105741584</td>\n",
       "        <td style=\"padding-left: 1em; padding-right: 1em; text-align: center; vertical-align: top\">5.49658098193</td>\n",
       "        <td style=\"padding-left: 1em; padding-right: 1em; text-align: center; vertical-align: top\">1</td>\n",
       "    </tr>\n",
       "    <tr>\n",
       "        <td style=\"padding-left: 1em; padding-right: 1em; text-align: center; vertical-align: top\">106852393</td>\n",
       "        <td style=\"padding-left: 1em; padding-right: 1em; text-align: center; vertical-align: top\">105839153</td>\n",
       "        <td style=\"padding-left: 1em; padding-right: 1em; text-align: center; vertical-align: top\">5.91258815451</td>\n",
       "        <td style=\"padding-left: 1em; padding-right: 1em; text-align: center; vertical-align: top\">1</td>\n",
       "    </tr>\n",
       "    <tr>\n",
       "        <td style=\"padding-left: 1em; padding-right: 1em; text-align: center; vertical-align: top\">106830645</td>\n",
       "        <td style=\"padding-left: 1em; padding-right: 1em; text-align: center; vertical-align: top\">105867836</td>\n",
       "        <td style=\"padding-left: 1em; padding-right: 1em; text-align: center; vertical-align: top\">5.21955042426</td>\n",
       "        <td style=\"padding-left: 1em; padding-right: 1em; text-align: center; vertical-align: top\">1</td>\n",
       "    </tr>\n",
       "    <tr>\n",
       "        <td style=\"padding-left: 1em; padding-right: 1em; text-align: center; vertical-align: top\">13489</td>\n",
       "        <td style=\"padding-left: 1em; padding-right: 1em; text-align: center; vertical-align: top\">106225449</td>\n",
       "        <td style=\"padding-left: 1em; padding-right: 1em; text-align: center; vertical-align: top\">5.83584468216</td>\n",
       "        <td style=\"padding-left: 1em; padding-right: 1em; text-align: center; vertical-align: top\">1</td>\n",
       "    </tr>\n",
       "    <tr>\n",
       "        <td style=\"padding-left: 1em; padding-right: 1em; text-align: center; vertical-align: top\">108355917</td>\n",
       "        <td style=\"padding-left: 1em; padding-right: 1em; text-align: center; vertical-align: top\">105931493</td>\n",
       "        <td style=\"padding-left: 1em; padding-right: 1em; text-align: center; vertical-align: top\">5.8018954607</td>\n",
       "        <td style=\"padding-left: 1em; padding-right: 1em; text-align: center; vertical-align: top\">1</td>\n",
       "    </tr>\n",
       "</table>\n",
       "[699 rows x 4 columns]<br/>Note: Only the head of the SFrame is printed.<br/>You can use print_rows(num_rows=m, num_columns=n) to print more rows and columns.\n",
       "</div>"
      ],
      "text/plain": [
       "Columns:\n",
       "\tUser\tint\n",
       "\tClimb\tint\n",
       "\tscore\tfloat\n",
       "\trank\tint\n",
       "\n",
       "Rows: 699\n",
       "\n",
       "Data:\n",
       "+-----------+-----------+---------------+------+\n",
       "|    User   |   Climb   |     score     | rank |\n",
       "+-----------+-----------+---------------+------+\n",
       "|   11228   | 105874604 | 5.27031098313 |  1   |\n",
       "| 108202763 | 105991865 |  5.3881917181 |  1   |\n",
       "| 105821238 | 105933562 | 5.63555584278 |  1   |\n",
       "|   11802   | 105863822 | 5.07267045351 |  1   |\n",
       "| 106031999 | 105991865 | 5.33368701437 |  1   |\n",
       "| 106058154 | 105741584 | 5.49658098193 |  1   |\n",
       "| 106852393 | 105839153 | 5.91258815451 |  1   |\n",
       "| 106830645 | 105867836 | 5.21955042426 |  1   |\n",
       "|   13489   | 106225449 | 5.83584468216 |  1   |\n",
       "| 108355917 | 105931493 |  5.8018954607 |  1   |\n",
       "+-----------+-----------+---------------+------+\n",
       "[699 rows x 4 columns]\n",
       "Note: Only the head of the SFrame is printed.\n",
       "You can use print_rows(num_rows=m, num_columns=n) to print more rows and columns."
      ]
     },
     "execution_count": 115,
     "metadata": {},
     "output_type": "execute_result"
    }
   ],
   "source": [
    "mod.recommend(k=1)"
   ]
  },
  {
   "cell_type": "code",
   "execution_count": 111,
   "metadata": {
    "collapsed": false
   },
   "outputs": [
    {
     "ename": "RuntimeError",
     "evalue": "Runtime Exception. Column name rating does not exist.",
     "output_type": "error",
     "traceback": [
      "\u001b[1;31m---------------------------------------------------------------------------\u001b[0m",
      "\u001b[1;31mRuntimeError\u001b[0m                              Traceback (most recent call last)",
      "\u001b[1;32m<ipython-input-111-aea9427700db>\u001b[0m in \u001b[0;36m<module>\u001b[1;34m()\u001b[0m\n\u001b[1;32m----> 1\u001b[1;33m \u001b[0mmod\u001b[0m\u001b[1;33m.\u001b[0m\u001b[0mevaluate_rmse\u001b[0m\u001b[1;33m(\u001b[0m\u001b[0mtest_set\u001b[0m\u001b[1;33m,\u001b[0m \u001b[0mtest_set\u001b[0m\u001b[1;33m[\u001b[0m\u001b[1;34m'rating'\u001b[0m\u001b[1;33m]\u001b[0m\u001b[1;33m)\u001b[0m\u001b[1;33m\u001b[0m\u001b[0m\n\u001b[0m",
      "\u001b[1;32m/home/devin/anaconda/envs/dato-env/lib/python2.7/site-packages/graphlab/data_structures/sframe.pyc\u001b[0m in \u001b[0;36m__getitem__\u001b[1;34m(self, key)\u001b[0m\n\u001b[0;32m   3315\u001b[0m             \u001b[1;32mreturn\u001b[0m \u001b[0mself\u001b[0m\u001b[1;33m.\u001b[0m\u001b[0mselect_columns\u001b[0m\u001b[1;33m(\u001b[0m\u001b[0mkey\u001b[0m\u001b[1;33m)\u001b[0m\u001b[1;33m\u001b[0m\u001b[0m\n\u001b[0;32m   3316\u001b[0m         \u001b[1;32melif\u001b[0m \u001b[0mtype\u001b[0m\u001b[1;33m(\u001b[0m\u001b[0mkey\u001b[0m\u001b[1;33m)\u001b[0m \u001b[1;32mis\u001b[0m \u001b[0mstr\u001b[0m\u001b[1;33m:\u001b[0m\u001b[1;33m\u001b[0m\u001b[0m\n\u001b[1;32m-> 3317\u001b[1;33m             \u001b[1;32mreturn\u001b[0m \u001b[0mself\u001b[0m\u001b[1;33m.\u001b[0m\u001b[0mselect_column\u001b[0m\u001b[1;33m(\u001b[0m\u001b[0mkey\u001b[0m\u001b[1;33m)\u001b[0m\u001b[1;33m\u001b[0m\u001b[0m\n\u001b[0m\u001b[0;32m   3318\u001b[0m         \u001b[1;32melif\u001b[0m \u001b[0misinstance\u001b[0m\u001b[1;33m(\u001b[0m\u001b[0mkey\u001b[0m\u001b[1;33m,\u001b[0m \u001b[0mnumbers\u001b[0m\u001b[1;33m.\u001b[0m\u001b[0mIntegral\u001b[0m\u001b[1;33m)\u001b[0m\u001b[1;33m:\u001b[0m\u001b[1;33m\u001b[0m\u001b[0m\n\u001b[0;32m   3319\u001b[0m             \u001b[1;32mif\u001b[0m \u001b[0mkey\u001b[0m \u001b[1;33m<\u001b[0m \u001b[1;36m0\u001b[0m\u001b[1;33m:\u001b[0m\u001b[1;33m\u001b[0m\u001b[0m\n",
      "\u001b[1;32m/home/devin/anaconda/envs/dato-env/lib/python2.7/site-packages/graphlab/data_structures/sframe.pyc\u001b[0m in \u001b[0;36mselect_column\u001b[1;34m(self, key)\u001b[0m\n\u001b[0;32m   2956\u001b[0m             \u001b[1;32mraise\u001b[0m \u001b[0mTypeError\u001b[0m\u001b[1;33m(\u001b[0m\u001b[1;34m\"Invalid key type: must be str\"\u001b[0m\u001b[1;33m)\u001b[0m\u001b[1;33m\u001b[0m\u001b[0m\n\u001b[0;32m   2957\u001b[0m         \u001b[1;32mwith\u001b[0m \u001b[0mcython_context\u001b[0m\u001b[1;33m(\u001b[0m\u001b[1;33m)\u001b[0m\u001b[1;33m:\u001b[0m\u001b[1;33m\u001b[0m\u001b[0m\n\u001b[1;32m-> 2958\u001b[1;33m             \u001b[1;32mreturn\u001b[0m \u001b[0mSArray\u001b[0m\u001b[1;33m(\u001b[0m\u001b[0mdata\u001b[0m\u001b[1;33m=\u001b[0m\u001b[1;33m[\u001b[0m\u001b[1;33m]\u001b[0m\u001b[1;33m,\u001b[0m \u001b[0m_proxy\u001b[0m\u001b[1;33m=\u001b[0m\u001b[0mself\u001b[0m\u001b[1;33m.\u001b[0m\u001b[0m__proxy__\u001b[0m\u001b[1;33m.\u001b[0m\u001b[0mselect_column\u001b[0m\u001b[1;33m(\u001b[0m\u001b[0mkey\u001b[0m\u001b[1;33m)\u001b[0m\u001b[1;33m)\u001b[0m\u001b[1;33m\u001b[0m\u001b[0m\n\u001b[0m\u001b[0;32m   2959\u001b[0m \u001b[1;33m\u001b[0m\u001b[0m\n\u001b[0;32m   2960\u001b[0m     \u001b[1;32mdef\u001b[0m \u001b[0mselect_columns\u001b[0m\u001b[1;33m(\u001b[0m\u001b[0mself\u001b[0m\u001b[1;33m,\u001b[0m \u001b[0mkeylist\u001b[0m\u001b[1;33m)\u001b[0m\u001b[1;33m:\u001b[0m\u001b[1;33m\u001b[0m\u001b[0m\n",
      "\u001b[1;32m/home/devin/anaconda/envs/dato-env/lib/python2.7/site-packages/graphlab/cython/context.pyc\u001b[0m in \u001b[0;36m__exit__\u001b[1;34m(self, exc_type, exc_value, traceback)\u001b[0m\n\u001b[0;32m     47\u001b[0m             \u001b[1;32mif\u001b[0m \u001b[1;32mnot\u001b[0m \u001b[0mself\u001b[0m\u001b[1;33m.\u001b[0m\u001b[0mshow_cython_trace\u001b[0m\u001b[1;33m:\u001b[0m\u001b[1;33m\u001b[0m\u001b[0m\n\u001b[0;32m     48\u001b[0m                 \u001b[1;31m# To hide cython trace, we re-raise from here\u001b[0m\u001b[1;33m\u001b[0m\u001b[1;33m\u001b[0m\u001b[0m\n\u001b[1;32m---> 49\u001b[1;33m                 \u001b[1;32mraise\u001b[0m \u001b[0mexc_type\u001b[0m\u001b[1;33m(\u001b[0m\u001b[0mexc_value\u001b[0m\u001b[1;33m)\u001b[0m\u001b[1;33m\u001b[0m\u001b[0m\n\u001b[0m\u001b[0;32m     50\u001b[0m             \u001b[1;32melse\u001b[0m\u001b[1;33m:\u001b[0m\u001b[1;33m\u001b[0m\u001b[0m\n\u001b[0;32m     51\u001b[0m                 \u001b[1;31m# To show the full trace, we do nothing and let exception propagate\u001b[0m\u001b[1;33m\u001b[0m\u001b[1;33m\u001b[0m\u001b[0m\n",
      "\u001b[1;31mRuntimeError\u001b[0m: Runtime Exception. Column name rating does not exist."
     ]
    }
   ],
   "source": [
    "mod.evaluate_rmse(test_set, test_set['rating'])"
   ]
  },
  {
   "cell_type": "code",
   "execution_count": 113,
   "metadata": {
    "collapsed": false
   },
   "outputs": [
    {
     "data": {
      "text/html": [
       "<div style=\"max-height:1000px;max-width:1500px;overflow:auto;\"><table frame=\"box\" rules=\"cols\">\n",
       "    <tr>\n",
       "        <th style=\"padding-left: 1em; padding-right: 1em; text-align: center\">Climb</th>\n",
       "        <th style=\"padding-left: 1em; padding-right: 1em; text-align: center\">User</th>\n",
       "        <th style=\"padding-left: 1em; padding-right: 1em; text-align: center\">rating</th>\n",
       "    </tr>\n",
       "    <tr>\n",
       "        <td style=\"padding-left: 1em; padding-right: 1em; text-align: center; vertical-align: top\">105840361</td>\n",
       "        <td style=\"padding-left: 1em; padding-right: 1em; text-align: center; vertical-align: top\">11228</td>\n",
       "        <td style=\"padding-left: 1em; padding-right: 1em; text-align: center; vertical-align: top\">4</td>\n",
       "    </tr>\n",
       "    <tr>\n",
       "        <td style=\"padding-left: 1em; padding-right: 1em; text-align: center; vertical-align: top\">105840692</td>\n",
       "        <td style=\"padding-left: 1em; padding-right: 1em; text-align: center; vertical-align: top\">11228</td>\n",
       "        <td style=\"padding-left: 1em; padding-right: 1em; text-align: center; vertical-align: top\">5</td>\n",
       "    </tr>\n",
       "    <tr>\n",
       "        <td style=\"padding-left: 1em; padding-right: 1em; text-align: center; vertical-align: top\">105862944</td>\n",
       "        <td style=\"padding-left: 1em; padding-right: 1em; text-align: center; vertical-align: top\">11228</td>\n",
       "        <td style=\"padding-left: 1em; padding-right: 1em; text-align: center; vertical-align: top\">5</td>\n",
       "    </tr>\n",
       "    <tr>\n",
       "        <td style=\"padding-left: 1em; padding-right: 1em; text-align: center; vertical-align: top\">105898680</td>\n",
       "        <td style=\"padding-left: 1em; padding-right: 1em; text-align: center; vertical-align: top\">11228</td>\n",
       "        <td style=\"padding-left: 1em; padding-right: 1em; text-align: center; vertical-align: top\">3</td>\n",
       "    </tr>\n",
       "    <tr>\n",
       "        <td style=\"padding-left: 1em; padding-right: 1em; text-align: center; vertical-align: top\">105923367</td>\n",
       "        <td style=\"padding-left: 1em; padding-right: 1em; text-align: center; vertical-align: top\">11228</td>\n",
       "        <td style=\"padding-left: 1em; padding-right: 1em; text-align: center; vertical-align: top\">5</td>\n",
       "    </tr>\n",
       "    <tr>\n",
       "        <td style=\"padding-left: 1em; padding-right: 1em; text-align: center; vertical-align: top\">105973663</td>\n",
       "        <td style=\"padding-left: 1em; padding-right: 1em; text-align: center; vertical-align: top\">11228</td>\n",
       "        <td style=\"padding-left: 1em; padding-right: 1em; text-align: center; vertical-align: top\">4</td>\n",
       "    </tr>\n",
       "    <tr>\n",
       "        <td style=\"padding-left: 1em; padding-right: 1em; text-align: center; vertical-align: top\">105860641</td>\n",
       "        <td style=\"padding-left: 1em; padding-right: 1em; text-align: center; vertical-align: top\">11228</td>\n",
       "        <td style=\"padding-left: 1em; padding-right: 1em; text-align: center; vertical-align: top\">5</td>\n",
       "    </tr>\n",
       "    <tr>\n",
       "        <td style=\"padding-left: 1em; padding-right: 1em; text-align: center; vertical-align: top\">105722170</td>\n",
       "        <td style=\"padding-left: 1em; padding-right: 1em; text-align: center; vertical-align: top\">11228</td>\n",
       "        <td style=\"padding-left: 1em; padding-right: 1em; text-align: center; vertical-align: top\">4</td>\n",
       "    </tr>\n",
       "    <tr>\n",
       "        <td style=\"padding-left: 1em; padding-right: 1em; text-align: center; vertical-align: top\">105723454</td>\n",
       "        <td style=\"padding-left: 1em; padding-right: 1em; text-align: center; vertical-align: top\">11228</td>\n",
       "        <td style=\"padding-left: 1em; padding-right: 1em; text-align: center; vertical-align: top\">3</td>\n",
       "    </tr>\n",
       "    <tr>\n",
       "        <td style=\"padding-left: 1em; padding-right: 1em; text-align: center; vertical-align: top\">105722182</td>\n",
       "        <td style=\"padding-left: 1em; padding-right: 1em; text-align: center; vertical-align: top\">11228</td>\n",
       "        <td style=\"padding-left: 1em; padding-right: 1em; text-align: center; vertical-align: top\">4</td>\n",
       "    </tr>\n",
       "</table>\n",
       "[49132 rows x 3 columns]<br/>Note: Only the head of the SFrame is printed.<br/>You can use print_rows(num_rows=m, num_columns=n) to print more rows and columns.\n",
       "</div>"
      ],
      "text/plain": [
       "Columns:\n",
       "\tClimb\tint\n",
       "\tUser\tint\n",
       "\trating\tint\n",
       "\n",
       "Rows: 49132\n",
       "\n",
       "Data:\n",
       "+-----------+-------+--------+\n",
       "|   Climb   |  User | rating |\n",
       "+-----------+-------+--------+\n",
       "| 105840361 | 11228 |   4    |\n",
       "| 105840692 | 11228 |   5    |\n",
       "| 105862944 | 11228 |   5    |\n",
       "| 105898680 | 11228 |   3    |\n",
       "| 105923367 | 11228 |   5    |\n",
       "| 105973663 | 11228 |   4    |\n",
       "| 105860641 | 11228 |   5    |\n",
       "| 105722170 | 11228 |   4    |\n",
       "| 105723454 | 11228 |   3    |\n",
       "| 105722182 | 11228 |   4    |\n",
       "+-----------+-------+--------+\n",
       "[49132 rows x 3 columns]\n",
       "Note: Only the head of the SFrame is printed.\n",
       "You can use print_rows(num_rows=m, num_columns=n) to print more rows and columns."
      ]
     },
     "execution_count": 113,
     "metadata": {},
     "output_type": "execute_result"
    }
   ],
   "source": [
    "sf_data"
   ]
  },
  {
   "cell_type": "code",
   "execution_count": null,
   "metadata": {
    "collapsed": true
   },
   "outputs": [],
   "source": []
  }
 ],
 "metadata": {
  "kernelspec": {
   "display_name": "Python 2",
   "language": "python",
   "name": "python2"
  },
  "language_info": {
   "codemirror_mode": {
    "name": "ipython",
    "version": 2
   },
   "file_extension": ".py",
   "mimetype": "text/x-python",
   "name": "python",
   "nbconvert_exporter": "python",
   "pygments_lexer": "ipython2",
   "version": "2.7.10"
  }
 },
 "nbformat": 4,
 "nbformat_minor": 0
}
