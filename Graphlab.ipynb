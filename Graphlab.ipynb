{
 "cells": [
  {
   "cell_type": "code",
   "execution_count": 51,
   "metadata": {
    "collapsed": false
   },
   "outputs": [],
   "source": [
    "import graphlab as gl\n",
    "import matplotlib.pyplot as plt\n",
    "%matplotlib inline\n",
    "import pandas as pd\n",
    "import numpy as np\n",
    "import random"
   ]
  },
  {
   "cell_type": "markdown",
   "metadata": {},
   "source": [
    "##Loading in the data"
   ]
  },
  {
   "cell_type": "code",
   "execution_count": 131,
   "metadata": {
    "collapsed": false,
    "scrolled": true
   },
   "outputs": [
    {
     "data": {
      "text/html": [
       "<div style=\"max-height:1000px;max-width:1500px;overflow:auto;\"><table frame=\"box\" rules=\"cols\">\n",
       "    <tr>\n",
       "        <th style=\"padding-left: 1em; padding-right: 1em; text-align: center\">Climb</th>\n",
       "        <th style=\"padding-left: 1em; padding-right: 1em; text-align: center\">User</th>\n",
       "        <th style=\"padding-left: 1em; padding-right: 1em; text-align: center\">rating</th>\n",
       "    </tr>\n",
       "    <tr>\n",
       "        <td style=\"padding-left: 1em; padding-right: 1em; text-align: center; vertical-align: top\">105989461</td>\n",
       "        <td style=\"padding-left: 1em; padding-right: 1em; text-align: center; vertical-align: top\">107860315</td>\n",
       "        <td style=\"padding-left: 1em; padding-right: 1em; text-align: center; vertical-align: top\">5</td>\n",
       "    </tr>\n",
       "    <tr>\n",
       "        <td style=\"padding-left: 1em; padding-right: 1em; text-align: center; vertical-align: top\">105857287</td>\n",
       "        <td style=\"padding-left: 1em; padding-right: 1em; text-align: center; vertical-align: top\">107860315</td>\n",
       "        <td style=\"padding-left: 1em; padding-right: 1em; text-align: center; vertical-align: top\">4</td>\n",
       "    </tr>\n",
       "    <tr>\n",
       "        <td style=\"padding-left: 1em; padding-right: 1em; text-align: center; vertical-align: top\">105983489</td>\n",
       "        <td style=\"padding-left: 1em; padding-right: 1em; text-align: center; vertical-align: top\">107860315</td>\n",
       "        <td style=\"padding-left: 1em; padding-right: 1em; text-align: center; vertical-align: top\">5</td>\n",
       "    </tr>\n",
       "    <tr>\n",
       "        <td style=\"padding-left: 1em; padding-right: 1em; text-align: center; vertical-align: top\">105762201</td>\n",
       "        <td style=\"padding-left: 1em; padding-right: 1em; text-align: center; vertical-align: top\">107860315</td>\n",
       "        <td style=\"padding-left: 1em; padding-right: 1em; text-align: center; vertical-align: top\">4</td>\n",
       "    </tr>\n",
       "    <tr>\n",
       "        <td style=\"padding-left: 1em; padding-right: 1em; text-align: center; vertical-align: top\">105753838</td>\n",
       "        <td style=\"padding-left: 1em; padding-right: 1em; text-align: center; vertical-align: top\">107860315</td>\n",
       "        <td style=\"padding-left: 1em; padding-right: 1em; text-align: center; vertical-align: top\">4</td>\n",
       "    </tr>\n",
       "    <tr>\n",
       "        <td style=\"padding-left: 1em; padding-right: 1em; text-align: center; vertical-align: top\">105753754</td>\n",
       "        <td style=\"padding-left: 1em; padding-right: 1em; text-align: center; vertical-align: top\">107860315</td>\n",
       "        <td style=\"padding-left: 1em; padding-right: 1em; text-align: center; vertical-align: top\">4</td>\n",
       "    </tr>\n",
       "    <tr>\n",
       "        <td style=\"padding-left: 1em; padding-right: 1em; text-align: center; vertical-align: top\">105753760</td>\n",
       "        <td style=\"padding-left: 1em; padding-right: 1em; text-align: center; vertical-align: top\">107860315</td>\n",
       "        <td style=\"padding-left: 1em; padding-right: 1em; text-align: center; vertical-align: top\">4</td>\n",
       "    </tr>\n",
       "    <tr>\n",
       "        <td style=\"padding-left: 1em; padding-right: 1em; text-align: center; vertical-align: top\">105753391</td>\n",
       "        <td style=\"padding-left: 1em; padding-right: 1em; text-align: center; vertical-align: top\">107860315</td>\n",
       "        <td style=\"padding-left: 1em; padding-right: 1em; text-align: center; vertical-align: top\">4</td>\n",
       "    </tr>\n",
       "    <tr>\n",
       "        <td style=\"padding-left: 1em; padding-right: 1em; text-align: center; vertical-align: top\">105753397</td>\n",
       "        <td style=\"padding-left: 1em; padding-right: 1em; text-align: center; vertical-align: top\">107860315</td>\n",
       "        <td style=\"padding-left: 1em; padding-right: 1em; text-align: center; vertical-align: top\">5</td>\n",
       "    </tr>\n",
       "    <tr>\n",
       "        <td style=\"padding-left: 1em; padding-right: 1em; text-align: center; vertical-align: top\">105753394</td>\n",
       "        <td style=\"padding-left: 1em; padding-right: 1em; text-align: center; vertical-align: top\">107860315</td>\n",
       "        <td style=\"padding-left: 1em; padding-right: 1em; text-align: center; vertical-align: top\">3</td>\n",
       "    </tr>\n",
       "</table>\n",
       "[9659 rows x 3 columns]<br/>Note: Only the head of the SFrame is printed.<br/>You can use print_rows(num_rows=m, num_columns=n) to print more rows and columns.\n",
       "</div>"
      ],
      "text/plain": [
       "Columns:\n",
       "\tClimb\tint\n",
       "\tUser\tint\n",
       "\trating\tint\n",
       "\n",
       "Rows: 9659\n",
       "\n",
       "Data:\n",
       "+-----------+-----------+--------+\n",
       "|   Climb   |    User   | rating |\n",
       "+-----------+-----------+--------+\n",
       "| 105989461 | 107860315 |   5    |\n",
       "| 105857287 | 107860315 |   4    |\n",
       "| 105983489 | 107860315 |   5    |\n",
       "| 105762201 | 107860315 |   4    |\n",
       "| 105753838 | 107860315 |   4    |\n",
       "| 105753754 | 107860315 |   4    |\n",
       "| 105753760 | 107860315 |   4    |\n",
       "| 105753391 | 107860315 |   4    |\n",
       "| 105753397 | 107860315 |   5    |\n",
       "| 105753394 | 107860315 |   3    |\n",
       "+-----------+-----------+--------+\n",
       "[9659 rows x 3 columns]\n",
       "Note: Only the head of the SFrame is printed.\n",
       "You can use print_rows(num_rows=m, num_columns=n) to print more rows and columns."
      ]
     },
     "execution_count": 131,
     "metadata": {},
     "output_type": "execute_result"
    }
   ],
   "source": [
    "data_set = 'rebel10'\n",
    "df_data = pd.read_csv(data_set+'.csv')\n",
    "sf_data = gl.SFrame(df_data)\n",
    "sf_data"
   ]
  },
  {
   "cell_type": "markdown",
   "metadata": {},
   "source": [
    "##Regularization value: Making a first run."
   ]
  },
  {
   "cell_type": "code",
   "execution_count": 132,
   "metadata": {
    "collapsed": false
   },
   "outputs": [
    {
     "name": "stderr",
     "output_type": "stream",
     "text": [
      "[ERROR] Toolkit error: Cancelled by user.\n"
     ]
    },
    {
     "name": "stdout",
     "output_type": "stream",
     "text": [
      "[  1.00000000e-01   1.00000000e-02   1.00000000e-03   1.00000000e-04\n",
      "   1.00000000e-05]\n",
      "PROGRESS: Recsys training: model = factorization_recommender\n"
     ]
    },
    {
     "ename": "ToolkitError",
     "evalue": "Cancelled by user.",
     "output_type": "error",
     "traceback": [
      "\u001b[1;31m---------------------------------------------------------------------------\u001b[0m",
      "\u001b[1;31mToolkitError\u001b[0m                              Traceback (most recent call last)",
      "\u001b[1;32m<ipython-input-132-e0abe62c2105>\u001b[0m in \u001b[0;36m<module>\u001b[1;34m()\u001b[0m\n\u001b[0;32m      9\u001b[0m                                                   \u001b[0mregularization\u001b[0m\u001b[1;33m=\u001b[0m\u001b[0mr\u001b[0m\u001b[1;33m,\u001b[0m\u001b[1;33m\u001b[0m\u001b[0m\n\u001b[0;32m     10\u001b[0m                                                   verbose=False)\n\u001b[1;32m---> 11\u001b[1;33m               for r in regularization_vals]\n\u001b[0m\u001b[0;32m     12\u001b[0m     mse_scores += [gl.evaluation.rmse(test_set['rating'], mod.predict(test_set))\n\u001b[0;32m     13\u001b[0m                   for mod in models]\n",
      "\u001b[1;32m/home/devin/anaconda/envs/dato-env/lib/python2.7/site-packages/graphlab/toolkits/recommender/factorization_recommender.pyc\u001b[0m in \u001b[0;36mcreate\u001b[1;34m(observation_data, user_id, item_id, target, user_data, item_data, num_factors, regularization, linear_regularization, side_data_factorization, nmf, binary_target, max_iterations, sgd_step_size, random_seed, solver, verbose, **kwargs)\u001b[0m\n\u001b[0;32m    230\u001b[0m         \u001b[0mopts\u001b[0m\u001b[1;33m.\u001b[0m\u001b[0mupdate\u001b[0m\u001b[1;33m(\u001b[0m\u001b[0mkwargs\u001b[0m\u001b[1;33m)\u001b[0m\u001b[1;33m\u001b[0m\u001b[0m\n\u001b[0;32m    231\u001b[0m \u001b[1;33m\u001b[0m\u001b[0m\n\u001b[1;32m--> 232\u001b[1;33m     \u001b[0mresponse\u001b[0m \u001b[1;33m=\u001b[0m \u001b[0m_graphlab\u001b[0m\u001b[1;33m.\u001b[0m\u001b[0mtoolkits\u001b[0m\u001b[1;33m.\u001b[0m\u001b[0m_main\u001b[0m\u001b[1;33m.\u001b[0m\u001b[0mrun\u001b[0m\u001b[1;33m(\u001b[0m\u001b[1;34m'recsys_train'\u001b[0m\u001b[1;33m,\u001b[0m \u001b[0mopts\u001b[0m\u001b[1;33m,\u001b[0m \u001b[0mverbose\u001b[0m\u001b[1;33m)\u001b[0m\u001b[1;33m\u001b[0m\u001b[0m\n\u001b[0m\u001b[0;32m    233\u001b[0m \u001b[1;33m\u001b[0m\u001b[0m\n\u001b[0;32m    234\u001b[0m     \u001b[1;32mreturn\u001b[0m \u001b[0mFactorizationRecommender\u001b[0m\u001b[1;33m(\u001b[0m\u001b[0mresponse\u001b[0m\u001b[1;33m[\u001b[0m\u001b[1;34m'model'\u001b[0m\u001b[1;33m]\u001b[0m\u001b[1;33m)\u001b[0m\u001b[1;33m\u001b[0m\u001b[0m\n",
      "\u001b[1;32m/home/devin/anaconda/envs/dato-env/lib/python2.7/site-packages/graphlab/toolkits/_main.pyc\u001b[0m in \u001b[0;36mrun\u001b[1;34m(toolkit_name, options, verbose, show_progress)\u001b[0m\n\u001b[0;32m     88\u001b[0m         \u001b[1;32mreturn\u001b[0m \u001b[0mparams\u001b[0m\u001b[1;33m\u001b[0m\u001b[0m\n\u001b[0;32m     89\u001b[0m     \u001b[1;32melse\u001b[0m\u001b[1;33m:\u001b[0m\u001b[1;33m\u001b[0m\u001b[0m\n\u001b[1;32m---> 90\u001b[1;33m         \u001b[1;32mraise\u001b[0m \u001b[0mToolkitError\u001b[0m\u001b[1;33m(\u001b[0m\u001b[0mstr\u001b[0m\u001b[1;33m(\u001b[0m\u001b[0mmessage\u001b[0m\u001b[1;33m)\u001b[0m\u001b[1;33m)\u001b[0m\u001b[1;33m\u001b[0m\u001b[0m\n\u001b[0m",
      "\u001b[1;31mToolkitError\u001b[0m: Cancelled by user."
     ]
    }
   ],
   "source": [
    "n=2\n",
    "regularization_vals = np.logspace(-1,-5,5)\n",
    "print regularization_vals\n",
    "mse_scores = []\n",
    "for i in range(n):\n",
    "    (train_set, test_set) = sf_data.random_split(0.8)\n",
    "    models = [gl.factorization_recommender.create(train_set, 'User', 'Climb', 'rating',\n",
    "                                                  max_iterations=500000, num_factors=5,\n",
    "                                                  regularization=r,\n",
    "                                                  verbose=False)\n",
    "              for r in regularization_vals]\n",
    "    mse_scores += [gl.evaluation.rmse(test_set['rating'], mod.predict(test_set))\n",
    "                  for mod in models]\n"
   ]
  },
  {
   "cell_type": "code",
   "execution_count": 28,
   "metadata": {
    "collapsed": false
   },
   "outputs": [
    {
     "data": {
      "text/plain": [
       "[<matplotlib.lines.Line2D at 0x7fe1ac6b1890>]"
      ]
     },
     "execution_count": 28,
     "metadata": {},
     "output_type": "execute_result"
    },
    {
     "data": {
      "image/png": "[encoded data removed]",
      "text/plain": [
       "<matplotlib.figure.Figure at 0x7fe19fc950d0>"
      ]
     },
     "metadata": {},
     "output_type": "display_data"
    }
   ],
   "source": [
    "fig, ax = plt.subplots(1, figsize=(10, 6))\n",
    "ax.semilogx(list(regularization_vals)*n,mse_scores)"
   ]
  },
  {
   "cell_type": "markdown",
   "metadata": {},
   "source": [
    "##Latent Feature Selection"
   ]
  },
  {
   "cell_type": "code",
   "execution_count": 133,
   "metadata": {
    "collapsed": false,
    "scrolled": true
   },
   "outputs": [
    {
     "name": "stdout",
     "output_type": "stream",
     "text": [
      "PROGRESS: Recsys training: model = factorization_recommender\n",
      "PROGRESS: Preparing data set.\n",
      "PROGRESS:     Data has 7707 observations with 259 users and 299 items.\n",
      "PROGRESS:     Data prepared in: 0.00543s\n",
      "PROGRESS: Training factorization_recommender for recommendations.\n",
      "PROGRESS: +--------------------------------+--------------------------------------------------+----------+\n",
      "PROGRESS: | Parameter                      | Description                                      | Value    |\n",
      "PROGRESS: +--------------------------------+--------------------------------------------------+----------+\n",
      "PROGRESS: | num_factors                    | Factor Dimension                                 | 0        |\n",
      "PROGRESS: | regularization                 | L2 Regularization on Factors                     | 0.001    |\n",
      "PROGRESS: | solver                         | Solver used for training                         | sgd      |\n",
      "PROGRESS: | linear_regularization          | L2 Regularization on Linear Coefficients         | 1e-10    |\n",
      "PROGRESS: | max_iterations                 | Maximum Number of Iterations                     | 5000     |\n",
      "PROGRESS: +--------------------------------+--------------------------------------------------+----------+\n",
      "PROGRESS:   Optimizing model using SGD; tuning step size.\n",
      "PROGRESS:   Using 7707 / 7707 points for tuning the step size.\n",
      "PROGRESS: +---------+-------------------+------------------------------------------+\n",
      "PROGRESS: | Attempt | Initial Step Size | Estimated Objective Value                |\n",
      "PROGRESS: +---------+-------------------+------------------------------------------+\n",
      "PROGRESS: | 0       | 9.51494           | 0.360887                                 |\n",
      "PROGRESS: | 1       | 4.75747           | 0.360927                                 |\n",
      "PROGRESS: | 2       | 2.37873           | 0.361495                                 |\n",
      "PROGRESS: | 3       | 1.18937           | 0.361115                                 |\n",
      "PROGRESS: +---------+-------------------+------------------------------------------+\n",
      "PROGRESS: | Final   | 9.51494           | 0.360887                                 |\n",
      "PROGRESS: +---------+-------------------+------------------------------------------+\n",
      "PROGRESS: Starting Optimization.\n",
      "PROGRESS: +---------+--------------+-------------------+-----------------------+-------------+\n",
      "PROGRESS: | Iter.   | Elapsed Time | Approx. Objective | Approx. Training RMSE | Step Size   |\n",
      "PROGRESS: +---------+--------------+-------------------+-----------------------+-------------+\n",
      "PROGRESS: | Initial | 40us         | 0.783033          | 0.884891              |             |\n",
      "PROGRESS: +---------+--------------+-------------------+-----------------------+-------------+\n",
      "PROGRESS: | 1       | 5.71ms       | DIVERGED          | DIVERGED              | 9.51494     |\n",
      "PROGRESS: | RESET   | 6.145ms      | 0.782992          | 0.884868              |             |\n",
      "PROGRESS: | 1       | 11.81ms      | DIVERGED          | DIVERGED              | 4.75747     |\n",
      "PROGRESS: | RESET   | 12.247ms     | 0.783019          | 0.884883              |             |\n",
      "PROGRESS: | 1       | 17.887ms     | DIVERGED          | DIVERGED              | 2.37873     |\n",
      "PROGRESS: | RESET   | 18.42ms      | 0.783001          | 0.884873              |             |\n",
      "PROGRESS: | 1       | 24.045ms     | DIVERGED          | DIVERGED              | 1.18937     |\n",
      "PROGRESS: | RESET   | 24.492ms     | 0.782983          | 0.884863              |             |\n",
      "PROGRESS: | 1       | 29.655ms     | 1.41274           | 1.18859               | 0.594684    |\n",
      "PROGRESS: | 2       | 34.968ms     | 0.590344          | 0.768338              | 0.106513    |\n",
      "PROGRESS: | 3       | 40.238ms     | 0.431807          | 0.65712               | 0.0584947   |\n",
      "PROGRESS: | 4       | 45.499ms     | 0.405014          | 0.636407              | 0.0398078   |\n",
      "PROGRESS: | 5       | 50.749ms     | 0.392274          | 0.626318              | 0.0304621   |\n",
      "PROGRESS: | 6       | 56.079ms     | 0.38599           | 0.621281              | 0.0246702   |\n",
      "PROGRESS: | 11      | 81.712ms     | 0.370971          | 0.609074              | 0.0126471   |\n",
      "PROGRESS: | 51      | 298.721ms    | 0.358031          | 0.598357              | 0.00258165  |\n",
      "PROGRESS: | 101     | 557.203ms    | 0.356264          | 0.596878              | 0.00129416  |\n",
      "PROGRESS: +---------+--------------+-------------------+-----------------------+-------------+\n",
      "PROGRESS: Optimization Complete: Convergence on objective within bounds.\n",
      "PROGRESS: Computing final objective value and training RMSE.\n",
      "PROGRESS:        Final objective value: 0.354447\n",
      "PROGRESS:        Final training RMSE: 0.595354\n",
      "PROGRESS: Recsys training: model = factorization_recommender\n",
      "PROGRESS: Preparing data set.\n",
      "PROGRESS:     Data has 7707 observations with 259 users and 299 items.\n",
      "PROGRESS:     Data prepared in: 0.004993s\n",
      "PROGRESS: Training factorization_recommender for recommendations.\n",
      "PROGRESS: +--------------------------------+--------------------------------------------------+----------+\n",
      "PROGRESS: | Parameter                      | Description                                      | Value    |\n",
      "PROGRESS: +--------------------------------+--------------------------------------------------+----------+\n",
      "PROGRESS: | num_factors                    | Factor Dimension                                 | 1        |\n",
      "PROGRESS: | regularization                 | L2 Regularization on Factors                     | 0.001    |\n",
      "PROGRESS: | solver                         | Solver used for training                         | sgd      |\n",
      "PROGRESS: | linear_regularization          | L2 Regularization on Linear Coefficients         | 1e-10    |\n",
      "PROGRESS: | max_iterations                 | Maximum Number of Iterations                     | 5000     |\n",
      "PROGRESS: +--------------------------------+--------------------------------------------------+----------+\n",
      "PROGRESS:   Optimizing model using SGD; tuning step size.\n",
      "PROGRESS:   Using 7707 / 7707 points for tuning the step size.\n",
      "PROGRESS: +---------+-------------------+------------------------------------------+\n",
      "PROGRESS: | Attempt | Initial Step Size | Estimated Objective Value                |\n",
      "PROGRESS: +---------+-------------------+------------------------------------------+\n",
      "PROGRESS: | 0       | 9.51494           | Not Viable                               |\n",
      "PROGRESS: | 1       | 2.37873           | 0.376912                                 |\n",
      "PROGRESS: | 2       | 1.18937           | 0.377393                                 |\n",
      "PROGRESS: | 3       | 0.594684          | 0.378951                                 |\n",
      "PROGRESS: | 4       | 0.297342          | 0.375942                                 |\n",
      "PROGRESS: | 5       | 0.148671          | 0.365941                                 |\n",
      "PROGRESS: | 6       | 0.0743354         | 0.357264                                 |\n",
      "PROGRESS: | 7       | 0.0371677         | 0.356129                                 |\n",
      "PROGRESS: | 8       | 0.0185839         | 0.364735                                 |\n",
      "PROGRESS: | 9       | 0.00929193        | 0.398948                                 |\n",
      "PROGRESS: | 10      | 0.00464597        | 0.470399                                 |\n",
      "PROGRESS: +---------+-------------------+------------------------------------------+\n",
      "PROGRESS: | Final   | 0.0371677         | 0.356129                                 |\n",
      "PROGRESS: +---------+-------------------+------------------------------------------+\n",
      "PROGRESS: Starting Optimization.\n",
      "PROGRESS: +---------+--------------+-------------------+-----------------------+-------------+\n",
      "PROGRESS: | Iter.   | Elapsed Time | Approx. Objective | Approx. Training RMSE | Step Size   |\n",
      "PROGRESS: +---------+--------------+-------------------+-----------------------+-------------+\n",
      "PROGRESS: | Initial | 36us         | 0.783033          | 0.884891              |             |\n",
      "PROGRESS: +---------+--------------+-------------------+-----------------------+-------------+\n",
      "PROGRESS: | 1       | 1.052ms      | 0.517083          | 0.719084              | 0.0371677   |\n",
      "PROGRESS: | 2       | 6.314ms      | 0.397468          | 0.63045               | 0.0221001   |\n",
      "PROGRESS: | 3       | 11.455ms     | 0.380575          | 0.616908              | 0.0163052   |\n",
      "PROGRESS: | 4       | 16.697ms     | 0.374321          | 0.611818              | 0.0131408   |\n",
      "PROGRESS: | 5       | 17.579ms     | 0.370766          | 0.608906              | 0.0111157   |\n",
      "PROGRESS: | 6       | 22.844ms     | 0.368483          | 0.607028              | 0.00969511  |\n",
      "PROGRESS: | 11      | 48.886ms     | 0.363103          | 0.60258               | 0.00615349  |\n",
      "PROGRESS: | 51      | 249.486ms    | 0.357197          | 0.59766               | 0.00194755  |\n",
      "PROGRESS: | 101     | 527.832ms    | 0.356092          | 0.596734              | 0.00116661  |\n",
      "PROGRESS: +---------+--------------+-------------------+-----------------------+-------------+\n",
      "PROGRESS: Optimization Complete: Convergence on objective within bounds.\n",
      "PROGRESS: Computing final objective value and training RMSE.\n",
      "PROGRESS:        Final objective value: 0.354448\n",
      "PROGRESS:        Final training RMSE: 0.595355\n",
      "PROGRESS: Recsys training: model = factorization_recommender\n",
      "PROGRESS: Preparing data set.\n",
      "PROGRESS:     Data has 7707 observations with 259 users and 299 items.\n",
      "PROGRESS:     Data prepared in: 0.005043s\n",
      "PROGRESS: Training factorization_recommender for recommendations.\n",
      "PROGRESS: +--------------------------------+--------------------------------------------------+----------+\n",
      "PROGRESS: | Parameter                      | Description                                      | Value    |\n",
      "PROGRESS: +--------------------------------+--------------------------------------------------+----------+\n",
      "PROGRESS: | num_factors                    | Factor Dimension                                 | 2        |\n",
      "PROGRESS: | regularization                 | L2 Regularization on Factors                     | 0.001    |\n",
      "PROGRESS: | solver                         | Solver used for training                         | sgd      |\n",
      "PROGRESS: | linear_regularization          | L2 Regularization on Linear Coefficients         | 1e-10    |\n",
      "PROGRESS: | max_iterations                 | Maximum Number of Iterations                     | 5000     |\n",
      "PROGRESS: +--------------------------------+--------------------------------------------------+----------+\n",
      "PROGRESS:   Optimizing model using SGD; tuning step size.\n",
      "PROGRESS:   Using 7707 / 7707 points for tuning the step size.\n",
      "PROGRESS: +---------+-------------------+------------------------------------------+\n",
      "PROGRESS: | Attempt | Initial Step Size | Estimated Objective Value                |\n",
      "PROGRESS: +---------+-------------------+------------------------------------------+\n",
      "PROGRESS: | 0       | 9.51494           | Not Viable                               |\n",
      "PROGRESS: | 1       | 2.37873           | 0.391655                                 |\n",
      "PROGRESS: | 2       | 1.18937           | 0.398462                                 |\n",
      "PROGRESS: | 3       | 0.594684          | 0.393826                                 |\n",
      "PROGRESS: | 4       | 0.297342          | 0.390508                                 |\n",
      "PROGRESS: | 5       | 0.148671          | 0.360392                                 |\n",
      "PROGRESS: | 6       | 0.0743354         | 0.357671                                 |\n",
      "PROGRESS: | 7       | 0.0371677         | 0.356211                                 |\n",
      "PROGRESS: | 8       | 0.0185839         | 0.364675                                 |\n",
      "PROGRESS: | 9       | 0.00929193        | 0.398989                                 |\n",
      "PROGRESS: | 10      | 0.00464597        | 0.470558                                 |\n",
      "PROGRESS: +---------+-------------------+------------------------------------------+\n",
      "PROGRESS: | Final   | 0.0371677         | 0.356211                                 |\n",
      "PROGRESS: +---------+-------------------+------------------------------------------+\n",
      "PROGRESS: Starting Optimization.\n",
      "PROGRESS: +---------+--------------+-------------------+-----------------------+-------------+\n",
      "PROGRESS: | Iter.   | Elapsed Time | Approx. Objective | Approx. Training RMSE | Step Size   |\n",
      "PROGRESS: +---------+--------------+-------------------+-----------------------+-------------+\n",
      "PROGRESS: | Initial | 34us         | 0.783033          | 0.884891              |             |\n",
      "PROGRESS: +---------+--------------+-------------------+-----------------------+-------------+\n",
      "PROGRESS: | 1       | 5.216ms      | 0.519059          | 0.720457              | 0.0371677   |\n",
      "PROGRESS: | 2       | 22.585ms     | 0.397714          | 0.630646              | 0.0221001   |\n",
      "PROGRESS: | 3       | 27.879ms     | 0.38066           | 0.616977              | 0.0163052   |\n",
      "PROGRESS: | 4       | 33.159ms     | 0.374284          | 0.611788              | 0.0131408   |\n",
      "PROGRESS: | 5       | 38.429ms     | 0.37074           | 0.608884              | 0.0111157   |\n",
      "PROGRESS: | 6       | 43.686ms     | 0.368542          | 0.607076              | 0.00969511  |\n",
      "PROGRESS: | 11      | 85.911ms     | 0.36313           | 0.602603              | 0.00615349  |\n",
      "PROGRESS: | 51      | 285.338ms    | 0.357194          | 0.597657              | 0.00194755  |\n",
      "PROGRESS: | 101     | 534.598ms    | 0.356091          | 0.596734              | 0.00116661  |\n",
      "PROGRESS: +---------+--------------+-------------------+-----------------------+-------------+\n",
      "PROGRESS: Optimization Complete: Convergence on objective within bounds.\n",
      "PROGRESS: Computing final objective value and training RMSE.\n",
      "PROGRESS:        Final objective value: 0.354448\n",
      "PROGRESS:        Final training RMSE: 0.595355\n",
      "PROGRESS: Recsys training: model = factorization_recommender\n",
      "PROGRESS: Preparing data set.\n",
      "PROGRESS:     Data has 7707 observations with 259 users and 299 items.\n",
      "PROGRESS:     Data prepared in: 0.00506s\n",
      "PROGRESS: Training factorization_recommender for recommendations.\n",
      "PROGRESS: +--------------------------------+--------------------------------------------------+----------+\n",
      "PROGRESS: | Parameter                      | Description                                      | Value    |\n",
      "PROGRESS: +--------------------------------+--------------------------------------------------+----------+\n",
      "PROGRESS: | num_factors                    | Factor Dimension                                 | 3        |\n",
      "PROGRESS: | regularization                 | L2 Regularization on Factors                     | 0.001    |\n",
      "PROGRESS: | solver                         | Solver used for training                         | sgd      |\n",
      "PROGRESS: | linear_regularization          | L2 Regularization on Linear Coefficients         | 1e-10    |\n",
      "PROGRESS: | max_iterations                 | Maximum Number of Iterations                     | 5000     |\n",
      "PROGRESS: +--------------------------------+--------------------------------------------------+----------+\n",
      "PROGRESS:   Optimizing model using SGD; tuning step size.\n",
      "PROGRESS:   Using 7707 / 7707 points for tuning the step size.\n",
      "PROGRESS: +---------+-------------------+------------------------------------------+\n",
      "PROGRESS: | Attempt | Initial Step Size | Estimated Objective Value                |\n",
      "PROGRESS: +---------+-------------------+------------------------------------------+\n",
      "PROGRESS: | 0       | 9.51494           | Not Viable                               |\n",
      "PROGRESS: | 1       | 2.37873           | 0.402884                                 |\n",
      "PROGRESS: | 2       | 1.18937           | Not Viable                               |\n",
      "PROGRESS: | 3       | 0.297342          | 0.409624                                 |\n",
      "PROGRESS: | 4       | 0.148671          | 0.360717                                 |\n",
      "PROGRESS: | 5       | 0.0743354         | 0.357744                                 |\n",
      "PROGRESS: | 6       | 0.0371677         | 0.356187                                 |\n",
      "PROGRESS: | 7       | 0.0185839         | 0.364764                                 |\n",
      "PROGRESS: | 8       | 0.00929193        | 0.399109                                 |\n",
      "PROGRESS: | 9       | 0.00464597        | 0.470512                                 |\n",
      "PROGRESS: +---------+-------------------+------------------------------------------+\n",
      "PROGRESS: | Final   | 0.0371677         | 0.356187                                 |\n",
      "PROGRESS: +---------+-------------------+------------------------------------------+\n",
      "PROGRESS: Starting Optimization.\n",
      "PROGRESS: +---------+--------------+-------------------+-----------------------+-------------+\n",
      "PROGRESS: | Iter.   | Elapsed Time | Approx. Objective | Approx. Training RMSE | Step Size   |\n",
      "PROGRESS: +---------+--------------+-------------------+-----------------------+-------------+\n",
      "PROGRESS: | Initial | 40us         | 0.783033          | 0.884891              |             |\n",
      "PROGRESS: +---------+--------------+-------------------+-----------------------+-------------+\n",
      "PROGRESS: | 1       | 6.947ms      | 0.520518          | 0.721469              | 0.0371677   |\n",
      "PROGRESS: | 2       | 12.239ms     | 0.397978          | 0.630855              | 0.0221001   |\n",
      "PROGRESS: | 3       | 16.938ms     | 0.381084          | 0.61732               | 0.0163052   |\n",
      "PROGRESS: | 4       | 22.099ms     | 0.374649          | 0.612086              | 0.0131408   |\n",
      "PROGRESS: | 5       | 26.165ms     | 0.37095           | 0.609056              | 0.0111157   |\n",
      "PROGRESS: | 6       | 26.974ms     | 0.368613          | 0.607135              | 0.00969511  |\n",
      "PROGRESS: | 11      | 53.065ms     | 0.363163          | 0.60263               | 0.00615349  |\n",
      "PROGRESS: | 51      | 272.4ms      | 0.357197          | 0.597659              | 0.00194755  |\n",
      "PROGRESS: | 101     | 518.457ms    | 0.356093          | 0.596735              | 0.00116661  |\n",
      "PROGRESS: +---------+--------------+-------------------+-----------------------+-------------+\n",
      "PROGRESS: Optimization Complete: Convergence on objective within bounds.\n",
      "PROGRESS: Computing final objective value and training RMSE.\n",
      "PROGRESS:        Final objective value: 0.354448\n",
      "PROGRESS:        Final training RMSE: 0.595355\n",
      "PROGRESS: Recsys training: model = factorization_recommender\n",
      "PROGRESS: Preparing data set.\n",
      "PROGRESS:     Data has 7707 observations with 259 users and 299 items.\n",
      "PROGRESS:     Data prepared in: 0.004956s\n",
      "PROGRESS: Training factorization_recommender for recommendations.\n",
      "PROGRESS: +--------------------------------+--------------------------------------------------+----------+\n",
      "PROGRESS: | Parameter                      | Description                                      | Value    |\n",
      "PROGRESS: +--------------------------------+--------------------------------------------------+----------+\n",
      "PROGRESS: | num_factors                    | Factor Dimension                                 | 4        |\n",
      "PROGRESS: | regularization                 | L2 Regularization on Factors                     | 0.001    |\n",
      "PROGRESS: | solver                         | Solver used for training                         | sgd      |\n",
      "PROGRESS: | linear_regularization          | L2 Regularization on Linear Coefficients         | 1e-10    |\n",
      "PROGRESS: | max_iterations                 | Maximum Number of Iterations                     | 5000     |\n",
      "PROGRESS: +--------------------------------+--------------------------------------------------+----------+\n",
      "PROGRESS:   Optimizing model using SGD; tuning step size.\n",
      "PROGRESS:   Using 7707 / 7707 points for tuning the step size.\n",
      "PROGRESS: +---------+-------------------+------------------------------------------+\n",
      "PROGRESS: | Attempt | Initial Step Size | Estimated Objective Value                |\n",
      "PROGRESS: +---------+-------------------+------------------------------------------+\n",
      "PROGRESS: | 0       | 9.51494           | Not Viable                               |\n",
      "PROGRESS: | 1       | 2.37873           | Not Viable                               |\n",
      "PROGRESS: | 2       | 0.594684          | Not Viable                               |\n",
      "PROGRESS: | 3       | 0.148671          | 0.365608                                 |\n",
      "PROGRESS: | 4       | 0.0743354         | 0.357016                                 |\n",
      "PROGRESS: | 5       | 0.0371677         | 0.35635                                  |\n",
      "PROGRESS: | 6       | 0.0185839         | 0.364606                                 |\n",
      "PROGRESS: | 7       | 0.00929193        | 0.399071                                 |\n",
      "PROGRESS: | 8       | 0.00464597        | 0.470513                                 |\n",
      "PROGRESS: +---------+-------------------+------------------------------------------+\n",
      "PROGRESS: | Final   | 0.0371677         | 0.35635                                  |\n",
      "PROGRESS: +---------+-------------------+------------------------------------------+\n",
      "PROGRESS: Starting Optimization.\n",
      "PROGRESS: +---------+--------------+-------------------+-----------------------+-------------+\n",
      "PROGRESS: | Iter.   | Elapsed Time | Approx. Objective | Approx. Training RMSE | Step Size   |\n",
      "PROGRESS: +---------+--------------+-------------------+-----------------------+-------------+\n",
      "PROGRESS: | Initial | 33us         | 0.783033          | 0.884891              |             |\n",
      "PROGRESS: +---------+--------------+-------------------+-----------------------+-------------+\n",
      "PROGRESS: | 1       | 5.162ms      | 0.519823          | 0.720987              | 0.0371677   |\n",
      "PROGRESS: | 2       | 10.464ms     | 0.397967          | 0.630846              | 0.0221001   |\n",
      "PROGRESS: | 3       | 15.738ms     | 0.381196          | 0.617411              | 0.0163052   |\n",
      "PROGRESS: | 4       | 20.984ms     | 0.374664          | 0.612098              | 0.0131408   |\n",
      "PROGRESS: | 5       | 22.15ms      | 0.370986          | 0.609086              | 0.0111157   |\n",
      "PROGRESS: | 6       | 22.853ms     | 0.36857           | 0.6071                | 0.00969511  |\n",
      "PROGRESS: | 11      | 51.284ms     | 0.363188          | 0.60265               | 0.00615349  |\n",
      "PROGRESS: | 51      | 260.351ms    | 0.357188          | 0.597652              | 0.00194755  |\n",
      "PROGRESS: | 101     | 511.566ms    | 0.356093          | 0.596735              | 0.00116661  |\n",
      "PROGRESS: +---------+--------------+-------------------+-----------------------+-------------+\n",
      "PROGRESS: Optimization Complete: Convergence on objective within bounds.\n",
      "PROGRESS: Computing final objective value and training RMSE.\n",
      "PROGRESS:        Final objective value: 0.354448\n",
      "PROGRESS:        Final training RMSE: 0.595355\n"
     ]
    }
   ],
   "source": [
    "n=1\n",
    "num_factors = range(5)\n",
    "mse_scores = []\n",
    "for i in range(n):\n",
    "    (train_set, test_set) = sf_data.random_split(0.8)\n",
    "    models = [gl.factorization_recommender.create(train_set, 'User', 'Climb', 'rating',\n",
    "                                                  max_iterations=5000, \n",
    "                                                  num_factors=num,\n",
    "                                                  regularization=1e-3,\n",
    "                                                  verbose=True)\n",
    "              for num in num_factors]\n",
    "    mse_scores += [gl.evaluation.rmse(test_set['rating'], mod.predict(test_set))\n",
    "                  for mod in models]"
   ]
  },
  {
   "cell_type": "code",
   "execution_count": 134,
   "metadata": {
    "collapsed": false
   },
   "outputs": [
    {
     "data": {
      "text/plain": [
       "[<matplotlib.lines.Line2D at 0x7fe1ac3b0a10>]"
      ]
     },
     "execution_count": 134,
     "metadata": {},
     "output_type": "execute_result"
    },
    {
     "data": {
      "image/png": "[encoded data removed]",
      "text/plain": [
       "<matplotlib.figure.Figure at 0x7fe1ad085690>"
      ]
     },
     "metadata": {},
     "output_type": "display_data"
    }
   ],
   "source": [
    "a = models[4]['coefficients']\n",
    "plt.plot(a['Climb']['factors'][0])\n",
    "plt.plot(a['Climb']['factors'][50])\n",
    "plt.plot(a['Climb']['factors'][100])\n",
    "plt.plot(a['Climb']['factors'][150])\n",
    "plt.plot(a['Climb']['factors'][200])\n"
   ]
  },
  {
   "cell_type": "code",
   "execution_count": 135,
   "metadata": {
    "collapsed": false
   },
   "outputs": [
    {
     "data": {
      "text/plain": [
       "<matplotlib.collections.PathCollection at 0x7fe1ac6aa0d0>"
      ]
     },
     "execution_count": 135,
     "metadata": {},
     "output_type": "execute_result"
    },
    {
     "data": {
      "image/png": "[encoded data removed]",
      "text/plain": [
       "<matplotlib.figure.Figure at 0x7fe1acba8950>"
      ]
     },
     "metadata": {},
     "output_type": "display_data"
    }
   ],
   "source": [
    "fig, ax = plt.subplots(1, figsize=(10, 6))\n",
    "ax.scatter(list(num_factors),mse_scores[:len(num_factors)])"
   ]
  },
  {
   "cell_type": "code",
   "execution_count": 136,
   "metadata": {
    "collapsed": false,
    "scrolled": true
   },
   "outputs": [
    {
     "name": "stdout",
     "output_type": "stream",
     "text": [
      "PROGRESS: Getting similar users completed in 0.000479\n"
     ]
    },
    {
     "data": {
      "text/html": [
       "<div style=\"max-height:1000px;max-width:1500px;overflow:auto;\"><table frame=\"box\" rules=\"cols\">\n",
       "    <tr>\n",
       "        <th style=\"padding-left: 1em; padding-right: 1em; text-align: center\">User</th>\n",
       "        <th style=\"padding-left: 1em; padding-right: 1em; text-align: center\">similar</th>\n",
       "        <th style=\"padding-left: 1em; padding-right: 1em; text-align: center\">distance</th>\n",
       "        <th style=\"padding-left: 1em; padding-right: 1em; text-align: center\">rank</th>\n",
       "    </tr>\n",
       "    <tr>\n",
       "        <td style=\"padding-left: 1em; padding-right: 1em; text-align: center; vertical-align: top\">108076266</td>\n",
       "        <td style=\"padding-left: 1em; padding-right: 1em; text-align: center; vertical-align: top\">105987922</td>\n",
       "        <td style=\"padding-left: 1em; padding-right: 1em; text-align: center; vertical-align: top\">1.97190207243</td>\n",
       "        <td style=\"padding-left: 1em; padding-right: 1em; text-align: center; vertical-align: top\">1</td>\n",
       "    </tr>\n",
       "    <tr>\n",
       "        <td style=\"padding-left: 1em; padding-right: 1em; text-align: center; vertical-align: top\">108076266</td>\n",
       "        <td style=\"padding-left: 1em; padding-right: 1em; text-align: center; vertical-align: top\">106526731</td>\n",
       "        <td style=\"padding-left: 1em; padding-right: 1em; text-align: center; vertical-align: top\">1.95769768953</td>\n",
       "        <td style=\"padding-left: 1em; padding-right: 1em; text-align: center; vertical-align: top\">2</td>\n",
       "    </tr>\n",
       "    <tr>\n",
       "        <td style=\"padding-left: 1em; padding-right: 1em; text-align: center; vertical-align: top\">108076266</td>\n",
       "        <td style=\"padding-left: 1em; padding-right: 1em; text-align: center; vertical-align: top\">106134237</td>\n",
       "        <td style=\"padding-left: 1em; padding-right: 1em; text-align: center; vertical-align: top\">1.92297840118</td>\n",
       "        <td style=\"padding-left: 1em; padding-right: 1em; text-align: center; vertical-align: top\">3</td>\n",
       "    </tr>\n",
       "    <tr>\n",
       "        <td style=\"padding-left: 1em; padding-right: 1em; text-align: center; vertical-align: top\">108076266</td>\n",
       "        <td style=\"padding-left: 1em; padding-right: 1em; text-align: center; vertical-align: top\">105819862</td>\n",
       "        <td style=\"padding-left: 1em; padding-right: 1em; text-align: center; vertical-align: top\">1.8971144557</td>\n",
       "        <td style=\"padding-left: 1em; padding-right: 1em; text-align: center; vertical-align: top\">4</td>\n",
       "    </tr>\n",
       "    <tr>\n",
       "        <td style=\"padding-left: 1em; padding-right: 1em; text-align: center; vertical-align: top\">108076266</td>\n",
       "        <td style=\"padding-left: 1em; padding-right: 1em; text-align: center; vertical-align: top\">10232</td>\n",
       "        <td style=\"padding-left: 1em; padding-right: 1em; text-align: center; vertical-align: top\">1.88430702686</td>\n",
       "        <td style=\"padding-left: 1em; padding-right: 1em; text-align: center; vertical-align: top\">5</td>\n",
       "    </tr>\n",
       "    <tr>\n",
       "        <td style=\"padding-left: 1em; padding-right: 1em; text-align: center; vertical-align: top\">108076266</td>\n",
       "        <td style=\"padding-left: 1em; padding-right: 1em; text-align: center; vertical-align: top\">10850</td>\n",
       "        <td style=\"padding-left: 1em; padding-right: 1em; text-align: center; vertical-align: top\">1.84253692627</td>\n",
       "        <td style=\"padding-left: 1em; padding-right: 1em; text-align: center; vertical-align: top\">6</td>\n",
       "    </tr>\n",
       "    <tr>\n",
       "        <td style=\"padding-left: 1em; padding-right: 1em; text-align: center; vertical-align: top\">108076266</td>\n",
       "        <td style=\"padding-left: 1em; padding-right: 1em; text-align: center; vertical-align: top\">106126874</td>\n",
       "        <td style=\"padding-left: 1em; padding-right: 1em; text-align: center; vertical-align: top\">1.83018690348</td>\n",
       "        <td style=\"padding-left: 1em; padding-right: 1em; text-align: center; vertical-align: top\">7</td>\n",
       "    </tr>\n",
       "    <tr>\n",
       "        <td style=\"padding-left: 1em; padding-right: 1em; text-align: center; vertical-align: top\">108076266</td>\n",
       "        <td style=\"padding-left: 1em; padding-right: 1em; text-align: center; vertical-align: top\">106055829</td>\n",
       "        <td style=\"padding-left: 1em; padding-right: 1em; text-align: center; vertical-align: top\">1.79778003693</td>\n",
       "        <td style=\"padding-left: 1em; padding-right: 1em; text-align: center; vertical-align: top\">8</td>\n",
       "    </tr>\n",
       "    <tr>\n",
       "        <td style=\"padding-left: 1em; padding-right: 1em; text-align: center; vertical-align: top\">108076266</td>\n",
       "        <td style=\"padding-left: 1em; padding-right: 1em; text-align: center; vertical-align: top\">105935039</td>\n",
       "        <td style=\"padding-left: 1em; padding-right: 1em; text-align: center; vertical-align: top\">1.79170119762</td>\n",
       "        <td style=\"padding-left: 1em; padding-right: 1em; text-align: center; vertical-align: top\">9</td>\n",
       "    </tr>\n",
       "    <tr>\n",
       "        <td style=\"padding-left: 1em; padding-right: 1em; text-align: center; vertical-align: top\">108076266</td>\n",
       "        <td style=\"padding-left: 1em; padding-right: 1em; text-align: center; vertical-align: top\">105835284</td>\n",
       "        <td style=\"padding-left: 1em; padding-right: 1em; text-align: center; vertical-align: top\">1.78426349163</td>\n",
       "        <td style=\"padding-left: 1em; padding-right: 1em; text-align: center; vertical-align: top\">10</td>\n",
       "    </tr>\n",
       "</table>\n",
       "[19 rows x 4 columns]<br/>Note: Only the head of the SFrame is printed.<br/>You can use print_rows(num_rows=m, num_columns=n) to print more rows and columns.\n",
       "</div>"
      ],
      "text/plain": [
       "Columns:\n",
       "\tUser\tint\n",
       "\tsimilar\tint\n",
       "\tdistance\tfloat\n",
       "\trank\tint\n",
       "\n",
       "Rows: 19\n",
       "\n",
       "Data:\n",
       "+-----------+-----------+---------------+------+\n",
       "|    User   |  similar  |    distance   | rank |\n",
       "+-----------+-----------+---------------+------+\n",
       "| 108076266 | 105987922 | 1.97190207243 |  1   |\n",
       "| 108076266 | 106526731 | 1.95769768953 |  2   |\n",
       "| 108076266 | 106134237 | 1.92297840118 |  3   |\n",
       "| 108076266 | 105819862 |  1.8971144557 |  4   |\n",
       "| 108076266 |   10232   | 1.88430702686 |  5   |\n",
       "| 108076266 |   10850   | 1.84253692627 |  6   |\n",
       "| 108076266 | 106126874 | 1.83018690348 |  7   |\n",
       "| 108076266 | 106055829 | 1.79778003693 |  8   |\n",
       "| 108076266 | 105935039 | 1.79170119762 |  9   |\n",
       "| 108076266 | 105835284 | 1.78426349163 |  10  |\n",
       "+-----------+-----------+---------------+------+\n",
       "[19 rows x 4 columns]\n",
       "Note: Only the head of the SFrame is printed.\n",
       "You can use print_rows(num_rows=m, num_columns=n) to print more rows and columns."
      ]
     },
     "execution_count": 136,
     "metadata": {},
     "output_type": "execute_result"
    }
   ],
   "source": [
    "user = [random.choice(df_data.User.unique())]\n",
    "models[4].get_similar_users(user, k=19)"
   ]
  },
  {
   "cell_type": "code",
   "execution_count": 137,
   "metadata": {
    "collapsed": false
   },
   "outputs": [
    {
     "name": "stdout",
     "output_type": "stream",
     "text": [
      "PROGRESS: Getting similar items completed in 0.000471\n"
     ]
    },
    {
     "data": {
      "text/html": [
       "<div style=\"max-height:1000px;max-width:1500px;overflow:auto;\"><table frame=\"box\" rules=\"cols\">\n",
       "    <tr>\n",
       "        <th style=\"padding-left: 1em; padding-right: 1em; text-align: center\">Climb</th>\n",
       "        <th style=\"padding-left: 1em; padding-right: 1em; text-align: center\">similar</th>\n",
       "        <th style=\"padding-left: 1em; padding-right: 1em; text-align: center\">distance</th>\n",
       "        <th style=\"padding-left: 1em; padding-right: 1em; text-align: center\">rank</th>\n",
       "    </tr>\n",
       "    <tr>\n",
       "        <td style=\"padding-left: 1em; padding-right: 1em; text-align: center; vertical-align: top\">105752269</td>\n",
       "        <td style=\"padding-left: 1em; padding-right: 1em; text-align: center; vertical-align: top\">105741476</td>\n",
       "        <td style=\"padding-left: 1em; padding-right: 1em; text-align: center; vertical-align: top\">1.98302972317</td>\n",
       "        <td style=\"padding-left: 1em; padding-right: 1em; text-align: center; vertical-align: top\">1</td>\n",
       "    </tr>\n",
       "    <tr>\n",
       "        <td style=\"padding-left: 1em; padding-right: 1em; text-align: center; vertical-align: top\">105752269</td>\n",
       "        <td style=\"padding-left: 1em; padding-right: 1em; text-align: center; vertical-align: top\">105722671</td>\n",
       "        <td style=\"padding-left: 1em; padding-right: 1em; text-align: center; vertical-align: top\">1.9693146944</td>\n",
       "        <td style=\"padding-left: 1em; padding-right: 1em; text-align: center; vertical-align: top\">2</td>\n",
       "    </tr>\n",
       "    <tr>\n",
       "        <td style=\"padding-left: 1em; padding-right: 1em; text-align: center; vertical-align: top\">105752269</td>\n",
       "        <td style=\"padding-left: 1em; padding-right: 1em; text-align: center; vertical-align: top\">105748310</td>\n",
       "        <td style=\"padding-left: 1em; padding-right: 1em; text-align: center; vertical-align: top\">1.96782982349</td>\n",
       "        <td style=\"padding-left: 1em; padding-right: 1em; text-align: center; vertical-align: top\">3</td>\n",
       "    </tr>\n",
       "    <tr>\n",
       "        <td style=\"padding-left: 1em; padding-right: 1em; text-align: center; vertical-align: top\">105752269</td>\n",
       "        <td style=\"padding-left: 1em; padding-right: 1em; text-align: center; vertical-align: top\">105740444</td>\n",
       "        <td style=\"padding-left: 1em; padding-right: 1em; text-align: center; vertical-align: top\">1.96394860744</td>\n",
       "        <td style=\"padding-left: 1em; padding-right: 1em; text-align: center; vertical-align: top\">4</td>\n",
       "    </tr>\n",
       "    <tr>\n",
       "        <td style=\"padding-left: 1em; padding-right: 1em; text-align: center; vertical-align: top\">105752269</td>\n",
       "        <td style=\"padding-left: 1em; padding-right: 1em; text-align: center; vertical-align: top\">106121675</td>\n",
       "        <td style=\"padding-left: 1em; padding-right: 1em; text-align: center; vertical-align: top\">1.96306294203</td>\n",
       "        <td style=\"padding-left: 1em; padding-right: 1em; text-align: center; vertical-align: top\">5</td>\n",
       "    </tr>\n",
       "    <tr>\n",
       "        <td style=\"padding-left: 1em; padding-right: 1em; text-align: center; vertical-align: top\">105752269</td>\n",
       "        <td style=\"padding-left: 1em; padding-right: 1em; text-align: center; vertical-align: top\">106113458</td>\n",
       "        <td style=\"padding-left: 1em; padding-right: 1em; text-align: center; vertical-align: top\">1.9604061842</td>\n",
       "        <td style=\"padding-left: 1em; padding-right: 1em; text-align: center; vertical-align: top\">6</td>\n",
       "    </tr>\n",
       "    <tr>\n",
       "        <td style=\"padding-left: 1em; padding-right: 1em; text-align: center; vertical-align: top\">105752269</td>\n",
       "        <td style=\"padding-left: 1em; padding-right: 1em; text-align: center; vertical-align: top\">106370830</td>\n",
       "        <td style=\"padding-left: 1em; padding-right: 1em; text-align: center; vertical-align: top\">1.94018816948</td>\n",
       "        <td style=\"padding-left: 1em; padding-right: 1em; text-align: center; vertical-align: top\">7</td>\n",
       "    </tr>\n",
       "    <tr>\n",
       "        <td style=\"padding-left: 1em; padding-right: 1em; text-align: center; vertical-align: top\">105752269</td>\n",
       "        <td style=\"padding-left: 1em; padding-right: 1em; text-align: center; vertical-align: top\">105732362</td>\n",
       "        <td style=\"padding-left: 1em; padding-right: 1em; text-align: center; vertical-align: top\">1.93997603655</td>\n",
       "        <td style=\"padding-left: 1em; padding-right: 1em; text-align: center; vertical-align: top\">8</td>\n",
       "    </tr>\n",
       "    <tr>\n",
       "        <td style=\"padding-left: 1em; padding-right: 1em; text-align: center; vertical-align: top\">105752269</td>\n",
       "        <td style=\"padding-left: 1em; padding-right: 1em; text-align: center; vertical-align: top\">106050176</td>\n",
       "        <td style=\"padding-left: 1em; padding-right: 1em; text-align: center; vertical-align: top\">1.93959927559</td>\n",
       "        <td style=\"padding-left: 1em; padding-right: 1em; text-align: center; vertical-align: top\">9</td>\n",
       "    </tr>\n",
       "    <tr>\n",
       "        <td style=\"padding-left: 1em; padding-right: 1em; text-align: center; vertical-align: top\">105752269</td>\n",
       "        <td style=\"padding-left: 1em; padding-right: 1em; text-align: center; vertical-align: top\">105857287</td>\n",
       "        <td style=\"padding-left: 1em; padding-right: 1em; text-align: center; vertical-align: top\">1.93819093704</td>\n",
       "        <td style=\"padding-left: 1em; padding-right: 1em; text-align: center; vertical-align: top\">10</td>\n",
       "    </tr>\n",
       "</table>\n",
       "[19 rows x 4 columns]<br/>Note: Only the head of the SFrame is printed.<br/>You can use print_rows(num_rows=m, num_columns=n) to print more rows and columns.\n",
       "</div>"
      ],
      "text/plain": [
       "Columns:\n",
       "\tClimb\tint\n",
       "\tsimilar\tint\n",
       "\tdistance\tfloat\n",
       "\trank\tint\n",
       "\n",
       "Rows: 19\n",
       "\n",
       "Data:\n",
       "+-----------+-----------+---------------+------+\n",
       "|   Climb   |  similar  |    distance   | rank |\n",
       "+-----------+-----------+---------------+------+\n",
       "| 105752269 | 105741476 | 1.98302972317 |  1   |\n",
       "| 105752269 | 105722671 |  1.9693146944 |  2   |\n",
       "| 105752269 | 105748310 | 1.96782982349 |  3   |\n",
       "| 105752269 | 105740444 | 1.96394860744 |  4   |\n",
       "| 105752269 | 106121675 | 1.96306294203 |  5   |\n",
       "| 105752269 | 106113458 |  1.9604061842 |  6   |\n",
       "| 105752269 | 106370830 | 1.94018816948 |  7   |\n",
       "| 105752269 | 105732362 | 1.93997603655 |  8   |\n",
       "| 105752269 | 106050176 | 1.93959927559 |  9   |\n",
       "| 105752269 | 105857287 | 1.93819093704 |  10  |\n",
       "+-----------+-----------+---------------+------+\n",
       "[19 rows x 4 columns]\n",
       "Note: Only the head of the SFrame is printed.\n",
       "You can use print_rows(num_rows=m, num_columns=n) to print more rows and columns."
      ]
     },
     "execution_count": 137,
     "metadata": {},
     "output_type": "execute_result"
    }
   ],
   "source": [
    "item = [random.choice(df_data.Climb.unique())]\n",
    "models[4].get_similar_items(item, k=19)"
   ]
  },
  {
   "cell_type": "code",
   "execution_count": null,
   "metadata": {
    "collapsed": false
   },
   "outputs": [],
   "source": []
  },
  {
   "cell_type": "markdown",
   "metadata": {},
   "source": [
    "##Test each observed item feature"
   ]
  },
  {
   "cell_type": "code",
   "execution_count": null,
   "metadata": {
    "collapsed": true
   },
   "outputs": [],
   "source": [
    "#Currently in Observed Features notebook"
   ]
  },
  {
   "cell_type": "markdown",
   "metadata": {},
   "source": [
    "##Popularity Recommender"
   ]
  },
  {
   "cell_type": "code",
   "execution_count": 138,
   "metadata": {
    "collapsed": false
   },
   "outputs": [
    {
     "data": {
      "text/html": [
       "<div style=\"max-height:1000px;max-width:1500px;overflow:auto;\"><table frame=\"box\" rules=\"cols\">\n",
       "    <tr>\n",
       "        <th style=\"padding-left: 1em; padding-right: 1em; text-align: center\">Climb</th>\n",
       "        <th style=\"padding-left: 1em; padding-right: 1em; text-align: center\">User</th>\n",
       "        <th style=\"padding-left: 1em; padding-right: 1em; text-align: center\">rating</th>\n",
       "    </tr>\n",
       "    <tr>\n",
       "        <td style=\"padding-left: 1em; padding-right: 1em; text-align: center; vertical-align: top\">105989461</td>\n",
       "        <td style=\"padding-left: 1em; padding-right: 1em; text-align: center; vertical-align: top\">107860315</td>\n",
       "        <td style=\"padding-left: 1em; padding-right: 1em; text-align: center; vertical-align: top\">5</td>\n",
       "    </tr>\n",
       "    <tr>\n",
       "        <td style=\"padding-left: 1em; padding-right: 1em; text-align: center; vertical-align: top\">105857287</td>\n",
       "        <td style=\"padding-left: 1em; padding-right: 1em; text-align: center; vertical-align: top\">107860315</td>\n",
       "        <td style=\"padding-left: 1em; padding-right: 1em; text-align: center; vertical-align: top\">4</td>\n",
       "    </tr>\n",
       "    <tr>\n",
       "        <td style=\"padding-left: 1em; padding-right: 1em; text-align: center; vertical-align: top\">105983489</td>\n",
       "        <td style=\"padding-left: 1em; padding-right: 1em; text-align: center; vertical-align: top\">107860315</td>\n",
       "        <td style=\"padding-left: 1em; padding-right: 1em; text-align: center; vertical-align: top\">5</td>\n",
       "    </tr>\n",
       "    <tr>\n",
       "        <td style=\"padding-left: 1em; padding-right: 1em; text-align: center; vertical-align: top\">105762201</td>\n",
       "        <td style=\"padding-left: 1em; padding-right: 1em; text-align: center; vertical-align: top\">107860315</td>\n",
       "        <td style=\"padding-left: 1em; padding-right: 1em; text-align: center; vertical-align: top\">4</td>\n",
       "    </tr>\n",
       "    <tr>\n",
       "        <td style=\"padding-left: 1em; padding-right: 1em; text-align: center; vertical-align: top\">105753838</td>\n",
       "        <td style=\"padding-left: 1em; padding-right: 1em; text-align: center; vertical-align: top\">107860315</td>\n",
       "        <td style=\"padding-left: 1em; padding-right: 1em; text-align: center; vertical-align: top\">4</td>\n",
       "    </tr>\n",
       "    <tr>\n",
       "        <td style=\"padding-left: 1em; padding-right: 1em; text-align: center; vertical-align: top\">105753754</td>\n",
       "        <td style=\"padding-left: 1em; padding-right: 1em; text-align: center; vertical-align: top\">107860315</td>\n",
       "        <td style=\"padding-left: 1em; padding-right: 1em; text-align: center; vertical-align: top\">4</td>\n",
       "    </tr>\n",
       "    <tr>\n",
       "        <td style=\"padding-left: 1em; padding-right: 1em; text-align: center; vertical-align: top\">105753760</td>\n",
       "        <td style=\"padding-left: 1em; padding-right: 1em; text-align: center; vertical-align: top\">107860315</td>\n",
       "        <td style=\"padding-left: 1em; padding-right: 1em; text-align: center; vertical-align: top\">4</td>\n",
       "    </tr>\n",
       "    <tr>\n",
       "        <td style=\"padding-left: 1em; padding-right: 1em; text-align: center; vertical-align: top\">105753391</td>\n",
       "        <td style=\"padding-left: 1em; padding-right: 1em; text-align: center; vertical-align: top\">107860315</td>\n",
       "        <td style=\"padding-left: 1em; padding-right: 1em; text-align: center; vertical-align: top\">4</td>\n",
       "    </tr>\n",
       "    <tr>\n",
       "        <td style=\"padding-left: 1em; padding-right: 1em; text-align: center; vertical-align: top\">105753397</td>\n",
       "        <td style=\"padding-left: 1em; padding-right: 1em; text-align: center; vertical-align: top\">107860315</td>\n",
       "        <td style=\"padding-left: 1em; padding-right: 1em; text-align: center; vertical-align: top\">5</td>\n",
       "    </tr>\n",
       "    <tr>\n",
       "        <td style=\"padding-left: 1em; padding-right: 1em; text-align: center; vertical-align: top\">105753394</td>\n",
       "        <td style=\"padding-left: 1em; padding-right: 1em; text-align: center; vertical-align: top\">107860315</td>\n",
       "        <td style=\"padding-left: 1em; padding-right: 1em; text-align: center; vertical-align: top\">3</td>\n",
       "    </tr>\n",
       "</table>\n",
       "[9659 rows x 3 columns]<br/>Note: Only the head of the SFrame is printed.<br/>You can use print_rows(num_rows=m, num_columns=n) to print more rows and columns.\n",
       "</div>"
      ],
      "text/plain": [
       "Columns:\n",
       "\tClimb\tint\n",
       "\tUser\tint\n",
       "\trating\tint\n",
       "\n",
       "Rows: 9659\n",
       "\n",
       "Data:\n",
       "+-----------+-----------+--------+\n",
       "|   Climb   |    User   | rating |\n",
       "+-----------+-----------+--------+\n",
       "| 105989461 | 107860315 |   5    |\n",
       "| 105857287 | 107860315 |   4    |\n",
       "| 105983489 | 107860315 |   5    |\n",
       "| 105762201 | 107860315 |   4    |\n",
       "| 105753838 | 107860315 |   4    |\n",
       "| 105753754 | 107860315 |   4    |\n",
       "| 105753760 | 107860315 |   4    |\n",
       "| 105753391 | 107860315 |   4    |\n",
       "| 105753397 | 107860315 |   5    |\n",
       "| 105753394 | 107860315 |   3    |\n",
       "+-----------+-----------+--------+\n",
       "[9659 rows x 3 columns]\n",
       "Note: Only the head of the SFrame is printed.\n",
       "You can use print_rows(num_rows=m, num_columns=n) to print more rows and columns."
      ]
     },
     "execution_count": 138,
     "metadata": {},
     "output_type": "execute_result"
    }
   ],
   "source": [
    "data_set_pop = 'star5'\n",
    "df_data_pop = pd.read_csv(data_set+'.csv')\n",
    "sf_data_pop = gl.SFrame(df_data)\n",
    "sf_data_pop"
   ]
  },
  {
   "cell_type": "code",
   "execution_count": 139,
   "metadata": {
    "collapsed": false
   },
   "outputs": [
    {
     "data": {
      "text/html": [
       "<div>\n",
       "<table border=\"1\" class=\"dataframe\">\n",
       "  <thead>\n",
       "    <tr style=\"text-align: right;\">\n",
       "      <th></th>\n",
       "      <th>Climb</th>\n",
       "      <th>location</th>\n",
       "      <th>rating</th>\n",
       "      <th>rating_dif</th>\n",
       "      <th>star_votes</th>\n",
       "      <th>stars</th>\n",
       "      <th>sub_location</th>\n",
       "      <th>type</th>\n",
       "    </tr>\n",
       "  </thead>\n",
       "  <tbody>\n",
       "    <tr>\n",
       "      <th>0</th>\n",
       "      <td>105741011</td>\n",
       "      <td>Idaho</td>\n",
       "      <td>14.5</td>\n",
       "      <td>0</td>\n",
       "      <td>164</td>\n",
       "      <td>3.8</td>\n",
       "      <td>City of Rocks</td>\n",
       "      <td>Trad</td>\n",
       "    </tr>\n",
       "    <tr>\n",
       "      <th>1</th>\n",
       "      <td>105822918</td>\n",
       "      <td>Utah</td>\n",
       "      <td>14.5</td>\n",
       "      <td>0</td>\n",
       "      <td>102</td>\n",
       "      <td>4.1</td>\n",
       "      <td>Wasatch Range</td>\n",
       "      <td>Trad</td>\n",
       "    </tr>\n",
       "    <tr>\n",
       "      <th>2</th>\n",
       "      <td>105721840</td>\n",
       "      <td>California</td>\n",
       "      <td>17.5</td>\n",
       "      <td>0</td>\n",
       "      <td>80</td>\n",
       "      <td>3.8</td>\n",
       "      <td>Joshua Tree National Park</td>\n",
       "      <td>Trad</td>\n",
       "    </tr>\n",
       "    <tr>\n",
       "      <th>3</th>\n",
       "      <td>105858078</td>\n",
       "      <td>International</td>\n",
       "      <td>21.0</td>\n",
       "      <td>0</td>\n",
       "      <td>57</td>\n",
       "      <td>4.2</td>\n",
       "      <td>North America</td>\n",
       "      <td>Sport</td>\n",
       "    </tr>\n",
       "    <tr>\n",
       "      <th>4</th>\n",
       "      <td>105732260</td>\n",
       "      <td>Nevada</td>\n",
       "      <td>17.5</td>\n",
       "      <td>0</td>\n",
       "      <td>154</td>\n",
       "      <td>4.1</td>\n",
       "      <td>Red Rock</td>\n",
       "      <td>Trad</td>\n",
       "    </tr>\n",
       "  </tbody>\n",
       "</table>\n",
       "</div>"
      ],
      "text/plain": [
       "       Climb       location  rating  rating_dif  star_votes  stars  \\\n",
       "0  105741011          Idaho    14.5           0         164    3.8   \n",
       "1  105822918           Utah    14.5           0         102    4.1   \n",
       "2  105721840     California    17.5           0          80    3.8   \n",
       "3  105858078  International    21.0           0          57    4.2   \n",
       "4  105732260         Nevada    17.5           0         154    4.1   \n",
       "\n",
       "                sub_location   type  \n",
       "0              City of Rocks   Trad  \n",
       "1              Wasatch Range   Trad  \n",
       "2  Joshua Tree National Park   Trad  \n",
       "3              North America  Sport  \n",
       "4                   Red Rock   Trad  "
      ]
     },
     "execution_count": 139,
     "metadata": {},
     "output_type": "execute_result"
    }
   ],
   "source": [
    "df_obs = pd.read_csv(data_set+'_observed_features.csv')\n",
    "df_obs.head()"
   ]
  },
  {
   "cell_type": "code",
   "execution_count": 140,
   "metadata": {
    "collapsed": false
   },
   "outputs": [
    {
     "name": "stdout",
     "output_type": "stream",
     "text": [
      "PROGRESS: Recsys training: model = popularity\n",
      "PROGRESS: Preparing data set.\n",
      "PROGRESS:     Data has 9659 observations with 259 users and 299 items.\n",
      "PROGRESS:     Data prepared in: 0.010941s\n",
      "PROGRESS: 9659 observations to process; with 299 unique items.\n"
     ]
    }
   ],
   "source": [
    "m_pop = gl.recommender.popularity_recommender.create(sf_data,\n",
    "                                             user_id='User', \n",
    "                                             item_id='Climb', \n",
    "                                             target='rating')"
   ]
  },
  {
   "cell_type": "code",
   "execution_count": 141,
   "metadata": {
    "collapsed": false
   },
   "outputs": [
    {
     "name": "stdout",
     "output_type": "stream",
     "text": [
      "PROGRESS: Getting similar users completed in 0.000495\n"
     ]
    },
    {
     "data": {
      "text/html": [
       "<div style=\"max-height:1000px;max-width:1500px;overflow:auto;\"><table frame=\"box\" rules=\"cols\">\n",
       "    <tr>\n",
       "        <th style=\"padding-left: 1em; padding-right: 1em; text-align: center\">User</th>\n",
       "        <th style=\"padding-left: 1em; padding-right: 1em; text-align: center\">similar</th>\n",
       "        <th style=\"padding-left: 1em; padding-right: 1em; text-align: center\">distance</th>\n",
       "        <th style=\"padding-left: 1em; padding-right: 1em; text-align: center\">rank</th>\n",
       "    </tr>\n",
       "    <tr>\n",
       "        <td style=\"padding-left: 1em; padding-right: 1em; text-align: center; vertical-align: top\">106020445</td>\n",
       "        <td style=\"padding-left: 1em; padding-right: 1em; text-align: center; vertical-align: top\">10232</td>\n",
       "        <td style=\"padding-left: 1em; padding-right: 1em; text-align: center; vertical-align: top\">20736.0</td>\n",
       "        <td style=\"padding-left: 1em; padding-right: 1em; text-align: center; vertical-align: top\">1</td>\n",
       "    </tr>\n",
       "    <tr>\n",
       "        <td style=\"padding-left: 1em; padding-right: 1em; text-align: center; vertical-align: top\">106020445</td>\n",
       "        <td style=\"padding-left: 1em; padding-right: 1em; text-align: center; vertical-align: top\">10185</td>\n",
       "        <td style=\"padding-left: 1em; padding-right: 1em; text-align: center; vertical-align: top\">13924.0</td>\n",
       "        <td style=\"padding-left: 1em; padding-right: 1em; text-align: center; vertical-align: top\">2</td>\n",
       "    </tr>\n",
       "    <tr>\n",
       "        <td style=\"padding-left: 1em; padding-right: 1em; text-align: center; vertical-align: top\">106020445</td>\n",
       "        <td style=\"padding-left: 1em; padding-right: 1em; text-align: center; vertical-align: top\">105936209</td>\n",
       "        <td style=\"padding-left: 1em; padding-right: 1em; text-align: center; vertical-align: top\">12321.0</td>\n",
       "        <td style=\"padding-left: 1em; padding-right: 1em; text-align: center; vertical-align: top\">3</td>\n",
       "    </tr>\n",
       "    <tr>\n",
       "        <td style=\"padding-left: 1em; padding-right: 1em; text-align: center; vertical-align: top\">106020445</td>\n",
       "        <td style=\"padding-left: 1em; padding-right: 1em; text-align: center; vertical-align: top\">14537</td>\n",
       "        <td style=\"padding-left: 1em; padding-right: 1em; text-align: center; vertical-align: top\">9216.0</td>\n",
       "        <td style=\"padding-left: 1em; padding-right: 1em; text-align: center; vertical-align: top\">4</td>\n",
       "    </tr>\n",
       "    <tr>\n",
       "        <td style=\"padding-left: 1em; padding-right: 1em; text-align: center; vertical-align: top\">106020445</td>\n",
       "        <td style=\"padding-left: 1em; padding-right: 1em; text-align: center; vertical-align: top\">10168</td>\n",
       "        <td style=\"padding-left: 1em; padding-right: 1em; text-align: center; vertical-align: top\">7921.0</td>\n",
       "        <td style=\"padding-left: 1em; padding-right: 1em; text-align: center; vertical-align: top\">5</td>\n",
       "    </tr>\n",
       "    <tr>\n",
       "        <td style=\"padding-left: 1em; padding-right: 1em; text-align: center; vertical-align: top\">106020445</td>\n",
       "        <td style=\"padding-left: 1em; padding-right: 1em; text-align: center; vertical-align: top\">14213</td>\n",
       "        <td style=\"padding-left: 1em; padding-right: 1em; text-align: center; vertical-align: top\">7396.0</td>\n",
       "        <td style=\"padding-left: 1em; padding-right: 1em; text-align: center; vertical-align: top\">6</td>\n",
       "    </tr>\n",
       "    <tr>\n",
       "        <td style=\"padding-left: 1em; padding-right: 1em; text-align: center; vertical-align: top\">106020445</td>\n",
       "        <td style=\"padding-left: 1em; padding-right: 1em; text-align: center; vertical-align: top\">106192059</td>\n",
       "        <td style=\"padding-left: 1em; padding-right: 1em; text-align: center; vertical-align: top\">5476.0</td>\n",
       "        <td style=\"padding-left: 1em; padding-right: 1em; text-align: center; vertical-align: top\">7</td>\n",
       "    </tr>\n",
       "    <tr>\n",
       "        <td style=\"padding-left: 1em; padding-right: 1em; text-align: center; vertical-align: top\">106020445</td>\n",
       "        <td style=\"padding-left: 1em; padding-right: 1em; text-align: center; vertical-align: top\">14015</td>\n",
       "        <td style=\"padding-left: 1em; padding-right: 1em; text-align: center; vertical-align: top\">5184.0</td>\n",
       "        <td style=\"padding-left: 1em; padding-right: 1em; text-align: center; vertical-align: top\">8</td>\n",
       "    </tr>\n",
       "    <tr>\n",
       "        <td style=\"padding-left: 1em; padding-right: 1em; text-align: center; vertical-align: top\">106020445</td>\n",
       "        <td style=\"padding-left: 1em; padding-right: 1em; text-align: center; vertical-align: top\">10481</td>\n",
       "        <td style=\"padding-left: 1em; padding-right: 1em; text-align: center; vertical-align: top\">5041.0</td>\n",
       "        <td style=\"padding-left: 1em; padding-right: 1em; text-align: center; vertical-align: top\">9</td>\n",
       "    </tr>\n",
       "    <tr>\n",
       "        <td style=\"padding-left: 1em; padding-right: 1em; text-align: center; vertical-align: top\">106020445</td>\n",
       "        <td style=\"padding-left: 1em; padding-right: 1em; text-align: center; vertical-align: top\">106554608</td>\n",
       "        <td style=\"padding-left: 1em; padding-right: 1em; text-align: center; vertical-align: top\">4489.0</td>\n",
       "        <td style=\"padding-left: 1em; padding-right: 1em; text-align: center; vertical-align: top\">10</td>\n",
       "    </tr>\n",
       "</table>\n",
       "[19 rows x 4 columns]<br/>Note: Only the head of the SFrame is printed.<br/>You can use print_rows(num_rows=m, num_columns=n) to print more rows and columns.\n",
       "</div>"
      ],
      "text/plain": [
       "Columns:\n",
       "\tUser\tint\n",
       "\tsimilar\tint\n",
       "\tdistance\tfloat\n",
       "\trank\tint\n",
       "\n",
       "Rows: 19\n",
       "\n",
       "Data:\n",
       "+-----------+-----------+----------+------+\n",
       "|    User   |  similar  | distance | rank |\n",
       "+-----------+-----------+----------+------+\n",
       "| 106020445 |   10232   | 20736.0  |  1   |\n",
       "| 106020445 |   10185   | 13924.0  |  2   |\n",
       "| 106020445 | 105936209 | 12321.0  |  3   |\n",
       "| 106020445 |   14537   |  9216.0  |  4   |\n",
       "| 106020445 |   10168   |  7921.0  |  5   |\n",
       "| 106020445 |   14213   |  7396.0  |  6   |\n",
       "| 106020445 | 106192059 |  5476.0  |  7   |\n",
       "| 106020445 |   14015   |  5184.0  |  8   |\n",
       "| 106020445 |   10481   |  5041.0  |  9   |\n",
       "| 106020445 | 106554608 |  4489.0  |  10  |\n",
       "+-----------+-----------+----------+------+\n",
       "[19 rows x 4 columns]\n",
       "Note: Only the head of the SFrame is printed.\n",
       "You can use print_rows(num_rows=m, num_columns=n) to print more rows and columns."
      ]
     },
     "execution_count": 141,
     "metadata": {},
     "output_type": "execute_result"
    }
   ],
   "source": [
    "user = [random.choice(df_data.User.unique())]\n",
    "m_pop.get_similar_users(user, k=19)"
   ]
  },
  {
   "cell_type": "code",
   "execution_count": null,
   "metadata": {
    "collapsed": false
   },
   "outputs": [],
   "source": []
  },
  {
   "cell_type": "code",
   "execution_count": null,
   "metadata": {
    "collapsed": true
   },
   "outputs": [],
   "source": []
  },
  {
   "cell_type": "code",
   "execution_count": null,
   "metadata": {
    "collapsed": true
   },
   "outputs": [],
   "source": []
  },
  {
   "cell_type": "code",
   "execution_count": null,
   "metadata": {
    "collapsed": true
   },
   "outputs": [],
   "source": []
  },
  {
   "cell_type": "code",
   "execution_count": null,
   "metadata": {
    "collapsed": true
   },
   "outputs": [],
   "source": []
  },
  {
   "cell_type": "markdown",
   "metadata": {},
   "source": [
    "#Scratch Work"
   ]
  },
  {
   "cell_type": "code",
   "execution_count": 12,
   "metadata": {
    "collapsed": false,
    "scrolled": true
   },
   "outputs": [
    {
     "name": "stdout",
     "output_type": "stream",
     "text": [
      "PROGRESS: Recsys training: model = factorization_recommender\n",
      "PROGRESS: Preparing data set.\n",
      "PROGRESS:     Data has 39235 observations with 699 users and 940 items.\n",
      "PROGRESS:     Data prepared in: 0.036641s\n",
      "PROGRESS: Training factorization_recommender for recommendations.\n",
      "PROGRESS: +--------------------------------+--------------------------------------------------+----------+\n",
      "PROGRESS: | Parameter                      | Description                                      | Value    |\n",
      "PROGRESS: +--------------------------------+--------------------------------------------------+----------+\n",
      "PROGRESS: | num_factors                    | Factor Dimension                                 | 5        |\n",
      "PROGRESS: | regularization                 | L2 Regularization on Factors                     | 0.1      |\n",
      "PROGRESS: | solver                         | Solver used for training                         | sgd      |\n",
      "PROGRESS: | linear_regularization          | L2 Regularization on Linear Coefficients         | 1e-10    |\n",
      "PROGRESS: | max_iterations                 | Maximum Number of Iterations                     | 500000   |\n",
      "PROGRESS: +--------------------------------+--------------------------------------------------+----------+\n",
      "PROGRESS:   Optimizing model using SGD; tuning step size.\n",
      "PROGRESS:   Using 10000 / 39235 points for tuning the step size.\n",
      "PROGRESS: +---------+-------------------+------------------------------------------+\n",
      "PROGRESS: | Attempt | Initial Step Size | Estimated Objective Value                |\n",
      "PROGRESS: +---------+-------------------+------------------------------------------+\n",
      "PROGRESS: | 0       | 0.0187622         | Not Viable                               |\n",
      "PROGRESS: | 1       | 0.00469056        | 0.622818                                 |\n",
      "PROGRESS: | 2       | 0.00234528        | 0.677048                                 |\n",
      "PROGRESS: | 3       | 0.00117264        | 0.708779                                 |\n",
      "PROGRESS: | 4       | 0.000586319       | 0.726854                                 |\n",
      "PROGRESS: +---------+-------------------+------------------------------------------+\n",
      "PROGRESS: | Final   | 0.00469056        | 0.622818                                 |\n",
      "PROGRESS: +---------+-------------------+------------------------------------------+\n",
      "PROGRESS: Starting Optimization.\n",
      "PROGRESS: +---------+--------------+-------------------+-----------------------+-------------+\n",
      "PROGRESS: | Iter.   | Elapsed Time | Approx. Objective | Approx. Training RMSE | Step Size   |\n",
      "PROGRESS: +---------+--------------+-------------------+-----------------------+-------------+\n",
      "PROGRESS: | Initial | 65us         | 0.759             | 0.871204              |             |\n",
      "PROGRESS: +---------+--------------+-------------------+-----------------------+-------------+\n",
      "PROGRESS: | 1       | 9.922ms      | DIVERGED          | DIVERGED              | 0.00469056  |\n",
      "PROGRESS: | RESET   | 11.727ms     | 0.758941          | 0.87117               |             |\n",
      "PROGRESS: | 1       | 20.679ms     | DIVERGED          | DIVERGED              | 0.00234528  |\n",
      "PROGRESS: | RESET   | 22.563ms     | 0.758966          | 0.871185              |             |\n",
      "PROGRESS: | 1       | 39.073ms     | 0.705017          | 0.839653              | 0.00117264  |\n",
      "PROGRESS: | 2       | 47.502ms     | 0.643575          | 0.802231              | 0.000209368 |\n",
      "PROGRESS: | 3       | 59.168ms     | 0.631543          | 0.794697              | 0.000114945 |\n",
      "PROGRESS: | 4       | 67.228ms     | 0.624665          | 0.790357              | 7.92187e-05 |\n",
      "PROGRESS: | 5       | 76.823ms     | 0.619852          | 0.787307              | 6.04347e-05 |\n",
      "PROGRESS: | 6       | 83.501ms     | 0.616159          | 0.784958              | 4.88513e-05 |\n",
      "PROGRESS: | 11      | 124.932ms    | 0.604935          | 0.777776              | 2.49453e-05 |\n",
      "PROGRESS: | 51      | 419.771ms    | 0.580511          | 0.761913              | 5.07543e-06 |\n",
      "PROGRESS: | 101     | 795.609ms    | 0.570728          | 0.755465              | 2.54322e-06 |\n",
      "PROGRESS: | 248     | 1.89s        | 0.55861           | 0.747402              | 1.03097e-06 |\n",
      "PROGRESS: | 498     | 3.81s        | 0.549715          | 0.741428              | 5.12602e-07 |\n",
      "PROGRESS: | 501     | 3.83s        | 0.54964           | 0.741377              | 5.09527e-07 |\n",
      "PROGRESS: | 748     | 5.67s        | 0.544713          | 0.738047              | 3.41098e-07 |\n",
      "PROGRESS: | 998     | 7.45s        | 0.541247          | 0.735695              | 2.55586e-07 |\n",
      "PROGRESS: | 1001    | 7.48s        | 0.541212          | 0.735671              | 2.54819e-07 |\n",
      "PROGRESS: | 1248    | 9.24s        | 0.538605          | 0.733897              | 2.04354e-07 |\n",
      "PROGRESS: | 1498    | 11.04s       | 0.536475          | 0.732444              | 1.70232e-07 |\n",
      "PROGRESS: | 1748    | 12.84s       | 0.534693          | 0.731227              | 1.45875e-07 |\n",
      "PROGRESS: | 1998    | 14.65s       | 0.533165          | 0.730181              | 1.27615e-07 |\n",
      "PROGRESS: | 2248    | 16.44s       | 0.531827          | 0.729265              | 1.13418e-07 |\n",
      "PROGRESS: | 2498    | 18.28s       | 0.530639          | 0.728449              | 1.02063e-07 |\n",
      "PROGRESS: | 2748    | 20.06s       | 0.52957           | 0.727716              | 9.27755e-08 |\n",
      "PROGRESS: | 2998    | 21.85s       | 0.528602          | 0.72705               | 8.5037e-08  |\n",
      "PROGRESS: | 3248    | 23.73s       | 0.527716          | 0.72644               | 7.84901e-08 |\n",
      "PROGRESS: +---------+--------------+-------------------+-----------------------+-------------+\n",
      "PROGRESS: Optimization Complete: Convergence on objective within bounds.\n",
      "PROGRESS: Computing final objective value and training RMSE.\n",
      "PROGRESS:        Final objective value: 0.527495\n",
      "PROGRESS:        Final training RMSE: 0.726289\n",
      "PROGRESS: Recsys training: model = factorization_recommender\n",
      "PROGRESS: Preparing data set.\n",
      "PROGRESS:     Data has 39235 observations with 699 users and 940 items.\n",
      "PROGRESS:     Data prepared in: 0.018767s\n",
      "PROGRESS: Training factorization_recommender for recommendations.\n",
      "PROGRESS: +--------------------------------+--------------------------------------------------+----------+\n",
      "PROGRESS: | Parameter                      | Description                                      | Value    |\n",
      "PROGRESS: +--------------------------------+--------------------------------------------------+----------+\n",
      "PROGRESS: | num_factors                    | Factor Dimension                                 | 5        |\n",
      "PROGRESS: | regularization                 | L2 Regularization on Factors                     | 0.01     |\n",
      "PROGRESS: | solver                         | Solver used for training                         | sgd      |\n",
      "PROGRESS: | linear_regularization          | L2 Regularization on Linear Coefficients         | 1e-10    |\n",
      "PROGRESS: | max_iterations                 | Maximum Number of Iterations                     | 500000   |\n",
      "PROGRESS: +--------------------------------+--------------------------------------------------+----------+\n",
      "PROGRESS:   Optimizing model using SGD; tuning step size.\n",
      "PROGRESS:   Using 10000 / 39235 points for tuning the step size.\n",
      "PROGRESS: +---------+-------------------+------------------------------------------+\n",
      "PROGRESS: | Attempt | Initial Step Size | Estimated Objective Value                |\n",
      "PROGRESS: +---------+-------------------+------------------------------------------+\n",
      "PROGRESS: | 0       | 0.187622          | Not Viable                               |\n",
      "PROGRESS: | 1       | 0.0469056         | Not Viable                               |\n",
      "PROGRESS: | 2       | 0.0117264         | 0.470978                                 |\n",
      "PROGRESS: | 3       | 0.00586319        | 0.548148                                 |\n",
      "PROGRESS: | 4       | 0.0029316         | 0.60949                                  |\n",
      "PROGRESS: | 5       | 0.0014658         | 0.6604                                   |\n",
      "PROGRESS: +---------+-------------------+------------------------------------------+\n",
      "PROGRESS: | Final   | 0.0117264         | 0.470978                                 |\n",
      "PROGRESS: +---------+-------------------+------------------------------------------+\n",
      "PROGRESS: Starting Optimization.\n",
      "PROGRESS: +---------+--------------+-------------------+-----------------------+-------------+\n",
      "PROGRESS: | Iter.   | Elapsed Time | Approx. Objective | Approx. Training RMSE | Step Size   |\n",
      "PROGRESS: +---------+--------------+-------------------+-----------------------+-------------+\n",
      "PROGRESS: | Initial | 88us         | 0.758989          | 0.8712                |             |\n",
      "PROGRESS: +---------+--------------+-------------------+-----------------------+-------------+\n",
      "PROGRESS: | 1       | 14.783ms     | DIVERGED          | DIVERGED              | 0.0117264   |\n",
      "PROGRESS: | RESET   | 16.729ms     | 0.75898           | 0.871194              |             |\n",
      "PROGRESS: | 1       | 25.523ms     | 0.57447           | 0.757938              | 0.00586319  |\n",
      "PROGRESS: | 2       | 32.365ms     | 0.426119          | 0.652778              | 0.0017765   |\n",
      "PROGRESS: | 3       | 40.195ms     | 0.39976           | 0.632266              | 0.00104684  |\n",
      "PROGRESS: | 4       | 48.01ms      | 0.386578          | 0.621754              | 0.000742057 |\n",
      "PROGRESS: | 5       | 55.781ms     | 0.378188          | 0.61497               | 0.000574727 |\n",
      "PROGRESS: | 6       | 62.256ms     | 0.372207          | 0.610088              | 0.000468976 |\n",
      "PROGRESS: | 11      | 98.794ms     | 0.356294          | 0.596903              | 0.000244257 |\n",
      "PROGRESS: | 51      | 454.992ms    | 0.331325          | 0.575608              | 5.05355e-05 |\n",
      "PROGRESS: | 101     | 822.406ms    | 0.324138          | 0.569331              | 2.53771e-05 |\n",
      "PROGRESS: | 249     | 2.16s        | 0.316851          | 0.562895              | 1.02592e-05 |\n",
      "PROGRESS: | 499     | 4.08s        | 0.312489          | 0.559007              | 5.1135e-06  |\n",
      "PROGRESS: | 501     | 4.09s        | 0.312466          | 0.558987              | 5.09306e-06 |\n",
      "PROGRESS: | 749     | 5.88s        | 0.31033           | 0.557072              | 3.40543e-06 |\n",
      "PROGRESS: | 999     | 7.65s        | 0.308946          | 0.555829              | 2.55274e-06 |\n",
      "PROGRESS: | 1001    | 7.67s        | 0.308936          | 0.55582               | 2.54764e-06 |\n",
      "PROGRESS: | 1249    | 9.48s        | 0.307948          | 0.55493               | 2.04155e-06 |\n",
      "PROGRESS: +---------+--------------+-------------------+-----------------------+-------------+\n",
      "PROGRESS: Optimization Complete: Convergence on objective within bounds.\n",
      "PROGRESS: Computing final objective value and training RMSE.\n",
      "PROGRESS:        Final objective value: 0.307805\n",
      "PROGRESS:        Final training RMSE: 0.554801\n",
      "PROGRESS: Recsys training: model = factorization_recommender\n",
      "PROGRESS: Preparing data set.\n",
      "PROGRESS:     Data has 39235 observations with 699 users and 940 items.\n",
      "PROGRESS:     Data prepared in: 0.018997s\n",
      "PROGRESS: Training factorization_recommender for recommendations.\n",
      "PROGRESS: +--------------------------------+--------------------------------------------------+----------+\n",
      "PROGRESS: | Parameter                      | Description                                      | Value    |\n",
      "PROGRESS: +--------------------------------+--------------------------------------------------+----------+\n",
      "PROGRESS: | num_factors                    | Factor Dimension                                 | 5        |\n",
      "PROGRESS: | regularization                 | L2 Regularization on Factors                     | 0.001    |\n",
      "PROGRESS: | solver                         | Solver used for training                         | sgd      |\n",
      "PROGRESS: | linear_regularization          | L2 Regularization on Linear Coefficients         | 1e-10    |\n",
      "PROGRESS: | max_iterations                 | Maximum Number of Iterations                     | 500000   |\n",
      "PROGRESS: +--------------------------------+--------------------------------------------------+----------+\n",
      "PROGRESS:   Optimizing model using SGD; tuning step size.\n",
      "PROGRESS:   Using 10000 / 39235 points for tuning the step size.\n",
      "PROGRESS: +---------+-------------------+------------------------------------------+\n",
      "PROGRESS: | Attempt | Initial Step Size | Estimated Objective Value                |\n",
      "PROGRESS: +---------+-------------------+------------------------------------------+\n",
      "PROGRESS: | 0       | 1.87622           | No Decrease (0.835212 >= 0.760918)       |\n",
      "PROGRESS: | 1       | 0.469056          | Not Viable                               |\n",
      "PROGRESS: | 2       | 0.117264          | 0.268489                                 |\n",
      "PROGRESS: | 3       | 0.0586319         | 0.276584                                 |\n",
      "PROGRESS: | 4       | 0.029316          | 0.299953                                 |\n",
      "PROGRESS: | 5       | 0.014658          | 0.344263                                 |\n",
      "PROGRESS: +---------+-------------------+------------------------------------------+\n",
      "PROGRESS: | Final   | 0.117264          | 0.268489                                 |\n",
      "PROGRESS: +---------+-------------------+------------------------------------------+\n",
      "PROGRESS: Starting Optimization.\n",
      "PROGRESS: +---------+--------------+-------------------+-----------------------+-------------+\n",
      "PROGRESS: | Iter.   | Elapsed Time | Approx. Objective | Approx. Training RMSE | Step Size   |\n",
      "PROGRESS: +---------+--------------+-------------------+-----------------------+-------------+\n",
      "PROGRESS: | Initial | 70us         | 0.758971          | 0.871189              |             |\n",
      "PROGRESS: +---------+--------------+-------------------+-----------------------+-------------+\n",
      "PROGRESS: | 1       | 8.573ms      | DIVERGED          | DIVERGED              | 0.117264    |\n",
      "PROGRESS: | RESET   | 10.216ms     | 0.758969          | 0.871188              |             |\n",
      "PROGRESS: | 1       | 15.752ms     | 0.435075          | 0.626127              | 0.0586319   |\n",
      "PROGRESS: | 2       | 24.216ms     | 0.327891          | 0.561968              | 0.017765    |\n",
      "PROGRESS: | 3       | 32.6ms       | 0.307343          | 0.548866              | 0.0104684   |\n",
      "PROGRESS: | 4       | 40.281ms     | 0.301374          | 0.545455              | 0.00742057  |\n",
      "PROGRESS: | 5       | 46.439ms     | 0.298377          | 0.543739              | 0.00574727  |\n",
      "PROGRESS: | 6       | 54.149ms     | 0.296595          | 0.542699              | 0.00468976  |\n",
      "PROGRESS: | 11      | 90.205ms     | 0.292955          | 0.540469              | 0.00244257  |\n",
      "PROGRESS: | 51      | 380.918ms    | 0.290085          | 0.538502              | 0.000505355 |\n",
      "PROGRESS: | 101     | 755.992ms    | 0.289736          | 0.538234              | 0.000253771 |\n",
      "PROGRESS: +---------+--------------+-------------------+-----------------------+-------------+\n",
      "PROGRESS: Optimization Complete: Convergence on objective within bounds.\n",
      "PROGRESS: Computing final objective value and training RMSE.\n",
      "PROGRESS:        Final objective value: 0.289442\n",
      "PROGRESS:        Final training RMSE: 0.537962\n",
      "PROGRESS: Recsys training: model = factorization_recommender\n",
      "PROGRESS: Preparing data set.\n",
      "PROGRESS:     Data has 39235 observations with 699 users and 940 items.\n",
      "PROGRESS:     Data prepared in: 0.018376s\n",
      "PROGRESS: Training factorization_recommender for recommendations.\n",
      "PROGRESS: +--------------------------------+--------------------------------------------------+----------+\n",
      "PROGRESS: | Parameter                      | Description                                      | Value    |\n",
      "PROGRESS: +--------------------------------+--------------------------------------------------+----------+\n",
      "PROGRESS: | num_factors                    | Factor Dimension                                 | 5        |\n",
      "PROGRESS: | regularization                 | L2 Regularization on Factors                     | 0.0001   |\n",
      "PROGRESS: | solver                         | Solver used for training                         | sgd      |\n",
      "PROGRESS: | linear_regularization          | L2 Regularization on Linear Coefficients         | 1e-10    |\n",
      "PROGRESS: | max_iterations                 | Maximum Number of Iterations                     | 500000   |\n",
      "PROGRESS: +--------------------------------+--------------------------------------------------+----------+\n",
      "PROGRESS:   Optimizing model using SGD; tuning step size.\n",
      "PROGRESS:   Using 10000 / 39235 points for tuning the step size.\n",
      "PROGRESS: +---------+-------------------+------------------------------------------+\n",
      "PROGRESS: | Attempt | Initial Step Size | Estimated Objective Value                |\n",
      "PROGRESS: +---------+-------------------+------------------------------------------+\n",
      "PROGRESS: | 0       | 18.7622           | 0.268804                                 |\n",
      "PROGRESS: | 1       | 9.38111           | Not Viable                               |\n",
      "PROGRESS: | 2       | 2.34528           | Not Viable                               |\n",
      "PROGRESS: | 3       | 0.586319          | Not Viable                               |\n",
      "PROGRESS: +---------+-------------------+------------------------------------------+\n",
      "PROGRESS: | Final   | 18.7622           | 0.268804                                 |\n",
      "PROGRESS: +---------+-------------------+------------------------------------------+\n",
      "PROGRESS: Starting Optimization.\n",
      "PROGRESS: +---------+--------------+-------------------+-----------------------+-------------+\n",
      "PROGRESS: | Iter.   | Elapsed Time | Approx. Objective | Approx. Training RMSE | Step Size   |\n",
      "PROGRESS: +---------+--------------+-------------------+-----------------------+-------------+\n",
      "PROGRESS: | Initial | 75us         | 0.75898           | 0.871195              |             |\n",
      "PROGRESS: +---------+--------------+-------------------+-----------------------+-------------+\n",
      "PROGRESS: | 1       | 5.797ms      | DIVERGED          | DIVERGED              | 18.7622     |\n",
      "PROGRESS: | RESET   | 7.663ms      | 0.758948          | 0.871176              |             |\n",
      "PROGRESS: | 1       | 16.588ms     | DIVERGED          | DIVERGED              | 9.38111     |\n",
      "PROGRESS: | RESET   | 18.197ms     | 0.75896           | 0.871183              |             |\n",
      "PROGRESS: | 1       | 27.357ms     | DIVERGED          | DIVERGED              | 4.69056     |\n",
      "PROGRESS: | RESET   | 29.041ms     | 0.758956          | 0.871181              |             |\n",
      "PROGRESS: | 1       | 38.181ms     | DIVERGED          | DIVERGED              | 2.34528     |\n",
      "PROGRESS: | RESET   | 39.852ms     | 0.758948          | 0.871176              |             |\n",
      "PROGRESS: | 1       | 48.973ms     | DIVERGED          | DIVERGED              | 1.17264     |\n",
      "PROGRESS: | RESET   | 50.607ms     | 0.758967          | 0.871187              |             |\n",
      "PROGRESS: | 1       | 59.199ms     | DIVERGED          | DIVERGED              | 0.586319    |\n",
      "PROGRESS: | RESET   | 60.82ms      | 0.758951          | 0.871178              |             |\n",
      "PROGRESS: | 1       | 73.089ms     | DIVERGED          | DIVERGED              | 0.29316     |\n",
      "PROGRESS: | RESET   | 74.719ms     | 0.758985          | 0.871198              |             |\n",
      "PROGRESS: | 1       | 80.343ms     | 0.449659          | 0.670557              | 0.14658     |\n",
      "PROGRESS: | 2       | 87.958ms     | 0.369102          | 0.607516              | 0.0871569   |\n",
      "PROGRESS: | 3       | 95.531ms     | 0.344748          | 0.587066              | 0.0643033   |\n",
      "PROGRESS: | 4       | 104.296ms    | 0.334788          | 0.578301              | 0.0518238   |\n",
      "PROGRESS: | 5       | 111.482ms    | 0.328505          | 0.572225              | 0.0438376   |\n",
      "PROGRESS: | 6       | 118.417ms    | 0.322341          | 0.565419              | 0.0378219   |\n",
      "PROGRESS: | 11      | 155.843ms    | 0.30072           | 0.529698              | 0.0217121   |\n",
      "PROGRESS: | 51      | 452.088ms    | 0.277597          | 0.452269              | 0.00485854  |\n",
      "PROGRESS: +---------+--------------+-------------------+-----------------------+-------------+\n",
      "PROGRESS: Optimization Complete: Convergence on objective within bounds.\n",
      "PROGRESS: Computing final objective value and training RMSE.\n",
      "PROGRESS:        Final objective value: 0.272991\n",
      "PROGRESS:        Final training RMSE: 0.444127\n"
     ]
    }
   ],
   "source": [
    "regularization_vals = [1e-1,1e-2,1e-3,1e-4]\n",
    "models = [gl.factorization_recommender.create(train_set, 'User', 'Climb', 'rating',\n",
    "                                              max_iterations=5000, num_factors=5, regularization=r)\n",
    "          for r in regularization_vals]"
   ]
  },
  {
   "cell_type": "code",
   "execution_count": 13,
   "metadata": {
    "collapsed": false
   },
   "outputs": [
    {
     "data": {
      "text/plain": [
       "[0.7439914377751721,\n",
       " 0.5868564871392089,\n",
       " 0.5719898849095584,\n",
       " 0.6095957168183448]"
      ]
     },
     "execution_count": 13,
     "metadata": {},
     "output_type": "execute_result"
    }
   ],
   "source": []
  },
  {
   "cell_type": "code",
   "execution_count": null,
   "metadata": {
    "collapsed": true
   },
   "outputs": [],
   "source": []
  },
  {
   "cell_type": "code",
   "execution_count": 66,
   "metadata": {
    "collapsed": false,
    "scrolled": false
   },
   "outputs": [
    {
     "name": "stdout",
     "output_type": "stream",
     "text": [
      "PROGRESS: Recsys training: model = factorization_recommender\n",
      "PROGRESS: Preparing data set.\n",
      "PROGRESS:     Data has 39404 observations with 699 users and 1880 items.\n",
      "PROGRESS:     Data prepared in: 0.052285s\n",
      "PROGRESS: Training factorization_recommender for recommendations.\n",
      "PROGRESS: +--------------------------------+--------------------------------------------------+----------+\n",
      "PROGRESS: | Parameter                      | Description                                      | Value    |\n",
      "PROGRESS: +--------------------------------+--------------------------------------------------+----------+\n",
      "PROGRESS: | num_factors                    | Factor Dimension                                 | 5        |\n",
      "PROGRESS: | regularization                 | L2 Regularization on Factors                     | 1e-07    |\n",
      "PROGRESS: | solver                         | Solver used for training                         | adagrad  |\n",
      "PROGRESS: | linear_regularization          | L2 Regularization on Linear Coefficients         | 1e-10    |\n",
      "PROGRESS: | side_data_factorization        | Assign Factors for Side Data                     | True     |\n",
      "PROGRESS: | max_iterations                 | Maximum Number of Iterations                     | 500000   |\n",
      "PROGRESS: +--------------------------------+--------------------------------------------------+----------+\n",
      "PROGRESS:   Optimizing model using SGD; tuning step size.\n",
      "PROGRESS:   Using 10000 / 39404 points for tuning the step size.\n",
      "PROGRESS: +---------+-------------------+------------------------------------------+\n",
      "PROGRESS: | Attempt | Initial Step Size | Estimated Objective Value                |\n",
      "PROGRESS: +---------+-------------------+------------------------------------------+\n",
      "PROGRESS: | 0       | 5.55556           | Not Viable                               |\n",
      "PROGRESS: | 1       | 1.38889           | 0.122323                                 |\n",
      "PROGRESS: | 2       | 0.694444          | 0.0823973                                |\n",
      "PROGRESS: | 3       | 0.347222          | 0.0606212                                |\n",
      "PROGRESS: | 4       | 0.173611          | 0.0725645                                |\n",
      "PROGRESS: | 5       | 0.0868056         | 0.128949                                 |\n",
      "PROGRESS: +---------+-------------------+------------------------------------------+\n",
      "PROGRESS: | Final   | 0.347222          | 0.0606212                                |\n",
      "PROGRESS: +---------+-------------------+------------------------------------------+\n",
      "PROGRESS: Starting Optimization.\n",
      "PROGRESS: +---------+--------------+-------------------+-----------------------+-------------+\n",
      "PROGRESS: | Iter.   | Elapsed Time | Approx. Objective | Approx. Training RMSE | Step Size   |\n",
      "PROGRESS: +---------+--------------+-------------------+-----------------------+-------------+\n",
      "PROGRESS: | Initial | 130us        | 0.759443          | 0.87146               |             |\n",
      "PROGRESS: +---------+--------------+-------------------+-----------------------+-------------+\n",
      "PROGRESS: | 1       | 13.35ms      | 0.448901          | 0.669945              | 0.347222    |\n",
      "PROGRESS: | 2       | 25.961ms     | 0.297372          | 0.54524               | 0.347222    |\n",
      "PROGRESS: | 3       | 39.473ms     | 0.267724          | 0.517323              | 0.347222    |\n",
      "PROGRESS: | 4       | 61.346ms     | 0.253086          | 0.502966              | 0.347222    |\n",
      "PROGRESS: | 5       | 90.725ms     | 0.242568          | 0.492393              | 0.347222    |\n",
      "PROGRESS: | 6       | 101.699ms    | 0.23572           | 0.485384              | 0.347222    |\n",
      "PROGRESS: | 11      | 141.385ms    | 0.217499          | 0.466217              | 0.347222    |\n",
      "PROGRESS: | 51      | 461.477ms    | 0.191465          | 0.437361              | 0.347222    |\n",
      "PROGRESS: | 100     | 859.655ms    | 0.184509          | 0.429313              | 0.347222    |\n",
      "PROGRESS: | 101     | 868.166ms    | 0.184416          | 0.429205              | 0.347222    |\n",
      "PROGRESS: | 200     | 1.66s        | 0.178907          | 0.422713              | 0.347222    |\n",
      "PROGRESS: | 300     | 2.48s        | 0.176303          | 0.419607              | 0.347222    |\n",
      "PROGRESS: | 400     | 3.33s        | 0.174747          | 0.417738              | 0.347222    |\n",
      "PROGRESS: +---------+--------------+-------------------+-----------------------+-------------+\n",
      "PROGRESS: Optimization Complete: Convergence on objective within bounds.\n",
      "PROGRESS: Computing final objective value and training RMSE.\n",
      "PROGRESS:        Final objective value: 0.166825\n",
      "PROGRESS:        Final training RMSE: 0.408145\n"
     ]
    }
   ],
   "source": [
    "m = gl.factorization_recommender.create(train_set, 'User', 'Climb', 'rating',\n",
    "                                    item_data = sf_climb_observed,\n",
    "                                    max_iterations=5000, num_factors=5, \n",
    "                                    regularization=0.0000001)"
   ]
  },
  {
   "cell_type": "code",
   "execution_count": 6,
   "metadata": {
    "collapsed": false,
    "scrolled": true
   },
   "outputs": [
    {
     "name": "stderr",
     "output_type": "stream",
     "text": [
      "[INFO] This trial license of GraphLab Create is assigned to dmneal@gmail.com and will expire on August 05, 2015. Please contact trial@dato.com for licensing options or to request a free non-commercial license for personal or academic use.\n",
      "\n",
      "[INFO] Start server at: ipc:///tmp/graphlab_server-7946 - Server binary: /home/devin/anaconda/envs/dato-env/lib/python2.7/site-packages/graphlab/unity_server - Server log: /tmp/graphlab_server_1438729541.log\n",
      "[INFO] GraphLab Server Version: 1.5.2\n"
     ]
    },
    {
     "name": "stdout",
     "output_type": "stream",
     "text": [
      "PROGRESS: Downloading https://s3.amazonaws.com/dato-datasets/movie_ratings/sample.small to /var/tmp/graphlab-devin/7946/000000.small\n",
      "PROGRESS: Finished parsing file https://s3.amazonaws.com/dato-datasets/movie_ratings/sample.small\n",
      "PROGRESS: Parsing completed. Parsed 100 lines in 0.845794 secs.\n",
      "PROGRESS: Read 1549015 lines. Lines per second: 2.1482e+06\n",
      "PROGRESS: Finished parsing file https://s3.amazonaws.com/dato-datasets/movie_ratings/sample.small\n",
      "PROGRESS: Parsing completed. Parsed 4000000 lines in 1.14536 secs.\n"
     ]
    }
   ],
   "source": [
    "data_url = 'https://s3.amazonaws.com/dato-datasets/movie_ratings/sample.small'\n",
    "sf = gl.SFrame.read_csv(data_url,delimiter='\\t',column_type_hints={'rating':int})"
   ]
  },
  {
   "cell_type": "code",
   "execution_count": 3,
   "metadata": {
    "collapsed": false
   },
   "outputs": [
    {
     "name": "stderr",
     "output_type": "stream",
     "text": [
      "[INFO] This non-commercial license of GraphLab Create is assigned to dmneal@gmail.comand will expire on August 05, 2016. For commercial licensing options, visit https://dato.com/buy/.\n",
      "\n",
      "[INFO] Start server at: ipc:///tmp/graphlab_server-8127 - Server binary: /home/devin/anaconda/envs/dato-env/lib/python2.7/site-packages/graphlab/unity_server - Server log: /tmp/graphlab_server_1438820887.log\n",
      "[INFO] GraphLab Server Version: 1.5.2\n"
     ]
    },
    {
     "data": {
      "text/html": [
       "<div style=\"max-height:1000px;max-width:1500px;overflow:auto;\"><table frame=\"box\" rules=\"cols\">\n",
       "    <tr>\n",
       "        <th style=\"padding-left: 1em; padding-right: 1em; text-align: center\">X1</th>\n",
       "    </tr>\n",
       "    <tr>\n",
       "        <td style=\"padding-left: 1em; padding-right: 1em; text-align: center; vertical-align: top\">1</td>\n",
       "    </tr>\n",
       "    <tr>\n",
       "        <td style=\"padding-left: 1em; padding-right: 1em; text-align: center; vertical-align: top\">2</td>\n",
       "    </tr>\n",
       "    <tr>\n",
       "        <td style=\"padding-left: 1em; padding-right: 1em; text-align: center; vertical-align: top\">3</td>\n",
       "    </tr>\n",
       "</table>\n",
       "[3 rows x 1 columns]<br/>\n",
       "</div>"
      ],
      "text/plain": [
       "Columns:\n",
       "\tX1\tint\n",
       "\n",
       "Rows: 3\n",
       "\n",
       "Data:\n",
       "+----+\n",
       "| X1 |\n",
       "+----+\n",
       "| 1  |\n",
       "| 2  |\n",
       "| 3  |\n",
       "+----+\n",
       "[3 rows x 1 columns]"
      ]
     },
     "execution_count": 3,
     "metadata": {},
     "output_type": "execute_result"
    }
   ],
   "source": [
    "gl.SFrame([1,2,3])"
   ]
  }
 ],
 "metadata": {
  "kernelspec": {
   "display_name": "Python 2",
   "language": "python",
   "name": "python2"
  },
  "language_info": {
   "codemirror_mode": {
    "name": "ipython",
    "version": 2
   },
   "file_extension": ".py",
   "mimetype": "text/x-python",
   "name": "python",
   "nbconvert_exporter": "python",
   "pygments_lexer": "ipython2",
   "version": "2.7.10"
  }
 },
 "nbformat": 4,
 "nbformat_minor": 0
}
