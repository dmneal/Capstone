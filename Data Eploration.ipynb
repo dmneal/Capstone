{
 "cells": [
  {
   "cell_type": "code",
   "execution_count": 43,
   "metadata": {
    "collapsed": false
   },
   "outputs": [],
   "source": [
    "import requests\n",
    "from bs4 import BeautifulSoup\n",
    "import pandas as pd\n",
    "import numpy as np\n",
    "import time\n",
    "import psycopg2\n",
    "import pickle"
   ]
  },
  {
   "cell_type": "code",
   "execution_count": 90,
   "metadata": {
    "collapsed": false
   },
   "outputs": [],
   "source": [
    "ubuntu=True\n",
    "\n",
    "con = None\n",
    "\n",
    "if ubuntu:\n",
    "    con = psycopg2.connect(database='mountainproject', password='kepler31', user='devin', port=5432, host='/var/run/postgresql/')\n",
    "else:\n",
    "    con = psycopg2.connect(database='mountainproject', user='User')\n",
    "cur = con.cursor()\n",
    "con.autocommit = True"
   ]
  },
  {
   "cell_type": "code",
   "execution_count": 49,
   "metadata": {
    "collapsed": false
   },
   "outputs": [],
   "source": [
    "\n",
    "def get_user_id_gte(table='stars', n=5):\n",
    "    #user_ids from users greater than or equal to n reviews\n",
    "    user_id_gte= '''\n",
    "        SELECT user_id\n",
    "        FROM {}\n",
    "        GROUP BY user_id\n",
    "        HAVING COUNT(user_id) >= %s;\n",
    "        '''.format(table)\n",
    "    cur.execute(user_id_gte, (n,) )\n",
    "    tup_list = cur.fetchall()\n",
    "    #return tup_list\n",
    "    return [tup[0] for tup in tup_list]\n",
    "#user_id_list = get_user_id_gte('stars', 5), len(user_id_list)\n"
   ]
  },
  {
   "cell_type": "code",
   "execution_count": 50,
   "metadata": {
    "collapsed": false
   },
   "outputs": [],
   "source": [
    "def get_climb_id_from_user_id_gte(id_tuple, n, table='stars'):\n",
    "    climb_ids = '''\n",
    "        SELECT climb_id\n",
    "        FROM {}\n",
    "        WHERE user_id IN %s\n",
    "        GROUP BY climb_id\n",
    "        HAVING COUNT(climb_id) >= %s;\n",
    "    '''.format(table)\n",
    "    cur.execute(climb_ids, (id_tuple, n) )\n",
    "    return [tup[0] for tup in cur.fetchall()]\n",
    "#climb_id_list = get_climb_id_from_user_id_gte(tuple(user_id_list), 5), len(climb_id_list)\n"
   ]
  },
  {
   "cell_type": "code",
   "execution_count": 51,
   "metadata": {
    "collapsed": false
   },
   "outputs": [],
   "source": [
    "def get_user_id_from_climb_id_gte(id_tuple, n, table='stars'):\n",
    "    #Get user ids with at least n reviews in the climb id tuple\n",
    "    user_ids_sql = '''\n",
    "        SELECT user_id\n",
    "        FROM {}\n",
    "        WHERE climb_id IN %s\n",
    "        GROUP BY user_id\n",
    "        HAVING COUNT(user_id) >= %s;\n",
    "    '''.format(table)\n",
    "    cur.execute(user_ids_sql, (id_tuple, n) )\n",
    "    return [tup[0] for tup in cur.fetchall()]\n",
    "#user_id_list2 = get_user_id_from_climb_id_gte(tuple(climb_id_list), 5), len(user_id_list2)\n"
   ]
  },
  {
   "cell_type": "code",
   "execution_count": 94,
   "metadata": {
    "collapsed": false
   },
   "outputs": [],
   "source": [
    "def find_climb_user_ids(table='stars', n=5):\n",
    "    climb_id_old = [0]\n",
    "    climb_id_new = [-2]\n",
    "    user_id_old = [0]\n",
    "    user_id_new = [-2] \n",
    "    user_id_new = get_user_id_gte(table=table, n=n)\n",
    "    while (set(user_id_old) != set(user_id_new)) and \\\n",
    "            (set(climb_id_old) != set(climb_id_new)):\n",
    "        print \"climb list:\", len(climb_id_new)\n",
    "        print \"user list:\", len(user_id_new)\n",
    "        climb_id_old = climb_id_new\n",
    "        climb_id_new = get_climb_id_from_user_id_gte(tuple(user_id_new), \n",
    "                                                     n,\n",
    "                                                     table=table)\n",
    "        user_id_old = user_id_new\n",
    "        user_id_new = get_user_id_from_climb_id_gte(tuple(climb_id_new),\n",
    "                                                    n,\n",
    "                                                    table=table)\n",
    "        \n",
    "    return user_id_new, climb_id_new\n",
    "\n",
    "#(user_id_list, climb_id_list) = find_climb_user_ids(table='stars', n=5)"
   ]
  },
  {
   "cell_type": "code",
   "execution_count": 95,
   "metadata": {
    "collapsed": true
   },
   "outputs": [],
   "source": [
    "def pickle_id_list(id_list, name):\n",
    "    # Save id list for future use\n",
    "    with open('id_list_'+name+'.p','w') as f:\n",
    "        pickle.dump(id_list, f)"
   ]
  },
  {
   "cell_type": "code",
   "execution_count": 97,
   "metadata": {
    "collapsed": false
   },
   "outputs": [
    {
     "name": "stdout",
     "output_type": "stream",
     "text": [
      "climb list: 1\n",
      "user list: 7592\n",
      "climb list: 13694\n",
      "user list: 7565\n",
      "climb list: 13678\n",
      "user list: 7562\n",
      "climb list: 13676\n",
      "user list: 7561\n"
     ]
    }
   ],
   "source": [
    "(user_id_list, climb_id_list) = find_climb_user_ids(n=5)"
   ]
  },
  {
   "cell_type": "code",
   "execution_count": 98,
   "metadata": {
    "collapsed": false
   },
   "outputs": [],
   "source": [
    "pickle_id_list(climb_id_list, 'climb_star5')\n",
    "pickle_id_list(user_id_list, 'user_star5')"
   ]
  },
  {
   "cell_type": "code",
   "execution_count": 55,
   "metadata": {
    "collapsed": false
   },
   "outputs": [
    {
     "name": "stdout",
     "output_type": "stream",
     "text": [
      "climb list: 1\n",
      "user list: 2558\n",
      "climb list: 2508\n",
      "user list: 1555\n",
      "climb list: 2042\n",
      "user list: 1415\n",
      "climb list: 1931\n",
      "user list: 1367\n",
      "climb list: 1897\n",
      "user list: 1352\n",
      "climb list: 1884\n",
      "user list: 1350\n",
      "climb list: 1879\n",
      "user list: 1344\n",
      "climb list: 1871\n",
      "user list: 1337\n",
      "climb list: 1864\n",
      "user list: 1331\n",
      "climb list: 1860\n",
      "user list: 1329\n",
      "climb list: 1857\n",
      "user list: 1327\n",
      "climb list: 1854\n",
      "user list: 1326\n"
     ]
    }
   ],
   "source": [
    "(user_id_list_sub, climb_id_list_sub) = find_climb_user_ids(n=30)"
   ]
  },
  {
   "cell_type": "code",
   "execution_count": 56,
   "metadata": {
    "collapsed": true
   },
   "outputs": [],
   "source": [
    "pickle_id_list(climb_id_list_sub, 'climb_star30')\n",
    "pickle_id_list(user_id_list_sub, 'user_star30')"
   ]
  },
  {
   "cell_type": "code",
   "execution_count": 57,
   "metadata": {
    "collapsed": false
   },
   "outputs": [
    {
     "name": "stdout",
     "output_type": "stream",
     "text": [
      "climb list: 1\n",
      "user list: 2255\n",
      "climb list: 1940\n",
      "user list: 1190\n",
      "climb list: 1423\n",
      "user list: 948\n",
      "climb list: 1201\n",
      "user list: 839\n",
      "climb list: 1082\n",
      "user list: 773\n",
      "climb list: 1016\n",
      "user list: 740\n",
      "climb list: 983\n",
      "user list: 724\n",
      "climb list: 973\n",
      "user list: 718\n",
      "climb list: 964\n",
      "user list: 716\n",
      "climb list: 959\n",
      "user list: 712\n",
      "climb list: 951\n",
      "user list: 706\n",
      "climb list: 944\n",
      "user list: 702\n",
      "climb list: 942\n",
      "user list: 701\n",
      "climb list: 940\n",
      "user list: 700\n"
     ]
    }
   ],
   "source": [
    "(user_id_list_sub, climb_id_list_sub) = find_climb_user_ids(n=3)"
   ]
  },
  {
   "cell_type": "code",
   "execution_count": 58,
   "metadata": {
    "collapsed": true
   },
   "outputs": [],
   "source": [
    "pickle_id_list(climb_id_list_sub, 'climb_star35')\n",
    "pickle_id_list(user_id_list_sub, 'user_star35')"
   ]
  },
  {
   "cell_type": "markdown",
   "metadata": {},
   "source": [
    "###Generate Sparse Matrix for Analysis"
   ]
  },
  {
   "cell_type": "code",
   "execution_count": 92,
   "metadata": {
    "collapsed": true
   },
   "outputs": [],
   "source": [
    "from scipy import sparse as sp"
   ]
  },
  {
   "cell_type": "code",
   "execution_count": 130,
   "metadata": {
    "collapsed": false
   },
   "outputs": [
    {
     "data": {
      "text/plain": [
       "940"
      ]
     },
     "execution_count": 130,
     "metadata": {},
     "output_type": "execute_result"
    }
   ],
   "source": [
    "with open('id_list_'+'climb_star35'+'.p','r') as f:\n",
    "        climb_ids = pickle.load(f)\n",
    "len(climb_ids)"
   ]
  },
  {
   "cell_type": "code",
   "execution_count": 131,
   "metadata": {
    "collapsed": false
   },
   "outputs": [
    {
     "data": {
      "text/plain": [
       "700"
      ]
     },
     "execution_count": 131,
     "metadata": {},
     "output_type": "execute_result"
    }
   ],
   "source": [
    "with open('id_list_'+'user_star35'+'.p','r') as f:\n",
    "        user_ids = pickle.load(f)\n",
    "len(user_ids)"
   ]
  },
  {
   "cell_type": "code",
   "execution_count": 133,
   "metadata": {
    "collapsed": false
   },
   "outputs": [],
   "source": [
    "user_set = set(user_ids)\n",
    "climb_set = set(climb_ids)\n",
    "climb_tuple = tuple(climb_ids)\n",
    "\n",
    "climb_dict = {}\n",
    "for i, el in enumerate(climb_tuple):\n",
    "    climb_dict[el]=i\n",
    "\n",
    "data = []\n",
    "row = []\n",
    "col = []\n",
    "table = 'stars'\n",
    "for i, user in enumerate(user_ids):\n",
    "    #print user\n",
    "    q = '''\n",
    "    SELECT user_stars, climb_id\n",
    "    FROM {}\n",
    "    WHERE user_id = %s\n",
    "    AND climb_id IN %s\n",
    "    '''.format(table)\n",
    "    cur.execute(q, (user, climb_tuple) )\n",
    "    for el in cur.fetchall():\n",
    "        data += [el[0]]\n",
    "        row += [i]\n",
    "        col += [climb_dict[el[1]]]\n",
    "    \n",
    "sp_mat_input = (data,(row,col))"
   ]
  },
  {
   "cell_type": "code",
   "execution_count": 137,
   "metadata": {
    "collapsed": false
   },
   "outputs": [],
   "source": [
    "sp_mat = sp.coo_matrix(sp_mat_input, shape=(len(user_ids), len(climb_ids)) )"
   ]
  },
  {
   "cell_type": "code",
   "execution_count": 147,
   "metadata": {
    "collapsed": false
   },
   "outputs": [
    {
     "data": {
      "text/plain": [
       "matrix([[ 4, 14,  0, ...,  0,  4,  4],\n",
       "        [ 0,  0,  0, ...,  0,  0,  0],\n",
       "        [ 0,  0,  4, ...,  0,  0,  0],\n",
       "        ..., \n",
       "        [ 0,  0,  0, ...,  0,  4,  0],\n",
       "        [ 0,  0,  0, ...,  0,  0,  0],\n",
       "        [ 0,  0,  0, ...,  0,  0,  0]])"
      ]
     },
     "execution_count": 147,
     "metadata": {},
     "output_type": "execute_result"
    }
   ],
   "source": [
    "sp_mat.todense()"
   ]
  },
  {
   "cell_type": "code",
   "execution_count": 139,
   "metadata": {
    "collapsed": false
   },
   "outputs": [
    {
     "data": {
      "text/plain": [
       "(700, 940)"
      ]
     },
     "execution_count": 139,
     "metadata": {},
     "output_type": "execute_result"
    }
   ],
   "source": [
    "sp_mat.shape"
   ]
  },
  {
   "cell_type": "code",
   "execution_count": null,
   "metadata": {
    "collapsed": false
   },
   "outputs": [],
   "source": []
  },
  {
   "cell_type": "code",
   "execution_count": null,
   "metadata": {
    "collapsed": true
   },
   "outputs": [],
   "source": []
  },
  {
   "cell_type": "code",
   "execution_count": null,
   "metadata": {
    "collapsed": true
   },
   "outputs": [],
   "source": []
  },
  {
   "cell_type": "code",
   "execution_count": null,
   "metadata": {
    "collapsed": true
   },
   "outputs": [],
   "source": []
  },
  {
   "cell_type": "markdown",
   "metadata": {},
   "source": [
    "##Matrix Factorization\n"
   ]
  },
  {
   "cell_type": "code",
   "execution_count": 59,
   "metadata": {
    "collapsed": true
   },
   "outputs": [],
   "source": [
    "import numpy as np"
   ]
  },
  {
   "cell_type": "code",
   "execution_count": 164,
   "metadata": {
    "collapsed": false
   },
   "outputs": [],
   "source": [
    "def matrix_factorization(R, K=10, steps=5000, alpha=0.0002, beta=0.02):\n",
    "    (N, M) = R.shape\n",
    "    P = numpy.random.rand(N,K)\n",
    "    Q = numpy.random.rand(K,M)\n",
    "    \n",
    "    for step in xrange(steps):\n",
    "        \n",
    "        for i in xrange(len(R)):\n",
    "            for j in xrange(len(R[i])):\n",
    "                if R[i,j]>0:\n",
    "                    eij = R[i,j] - np.dot(P[i,:], Q[:,j])\n",
    "                    for k in xrange(K):\n",
    "                        P[i,k]=P[i,k]+alpha*(2*eij*Q[k,j]-beta*P[i,k])\n",
    "                        Q[k,j]=Q[k,j]+alpha*(2*eij*P[i,k]-beta*Q[k,j])\n",
    "        eR = np.dot(P,Q)\n",
    "        e = 0\n",
    "        for i in xrange(len(R)):\n",
    "            for j in xrange(len(R[i])):\n",
    "                if R[i,j] > 0:\n",
    "                    e=e+pow(R[i,j]-np.dot(P[i,:],Q[:,j]),2)\n",
    "                    for k in xrange(K):\n",
    "                        e=e+(beta/2)*(pow(P[i,k],2)+pow(Q[k,j],2))\n",
    "        if e < 0.001:\n",
    "            print 'Reached error limit!'\n",
    "            break\n",
    "    return P, Q, e, step"
   ]
  },
  {
   "cell_type": "code",
   "execution_count": 165,
   "metadata": {
    "collapsed": false
   },
   "outputs": [],
   "source": [
    "nP, nQ, e, step = matrix_factorization(sp_mat.todense())"
   ]
  },
  {
   "cell_type": "code",
   "execution_count": 167,
   "metadata": {
    "collapsed": false
   },
   "outputs": [
    {
     "data": {
      "text/plain": [
       "matrix([[ 3.9786487 ,  2.56249577,  2.87634477, ...,  3.69377692,\n",
       "          3.23536606,  3.70677102],\n",
       "        [ 3.78018428,  2.23287471,  2.92174106, ...,  3.5860439 ,\n",
       "          3.02049637,  3.59875925],\n",
       "        [ 3.81807988,  1.92410918,  3.07606929, ...,  3.97837356,\n",
       "          3.07199948,  3.22984265],\n",
       "        ..., \n",
       "        [ 1.93442366,  1.51404496,  1.6105712 , ...,  1.81243925,\n",
       "          1.39894927,  1.93906013],\n",
       "        [ 2.72120321,  1.34653037,  2.19516233, ...,  2.73108579,\n",
       "          2.23686393,  2.31813373],\n",
       "        [ 2.90799315,  1.76882109,  2.29668235, ...,  3.21152098,\n",
       "          2.41090825,  2.96361308]])"
      ]
     },
     "execution_count": 167,
     "metadata": {},
     "output_type": "execute_result"
    }
   ],
   "source": [
    "np.matrix(nP.dot(nQ))"
   ]
  },
  {
   "cell_type": "code",
   "execution_count": 183,
   "metadata": {
    "collapsed": false
   },
   "outputs": [
    {
     "data": {
      "text/plain": [
       "[(3, 2.7135475401236446),\n",
       " (3, 2.7310628236855634),\n",
       " (5, 3.2553954158140308),\n",
       " (4, 4.5024557409919872),\n",
       " (5, 2.329267487804946),\n",
       " (4, 3.0313691280133006),\n",
       " (5, 2.6291215876037399),\n",
       " (4, 2.9264749749316623),\n",
       " (5, 3.9530120006874485),\n",
       " (4, 4.0702475394136242),\n",
       " (3, 2.7458028034164541),\n",
       " (4, 3.5008146659528938),\n",
       " (4, 4.0541304660567485),\n",
       " (5, 4.4021270474133303),\n",
       " (4, 4.0323042429233178),\n",
       " (4, 3.8975951745740876),\n",
       " (5, 2.5644592053046886),\n",
       " (5, 2.5644592053046886),\n",
       " (4, 3.0895802438145132),\n",
       " (3, 3.4461228841617277),\n",
       " (3, 2.3978967646225211),\n",
       " (4, 3.1987507955837442),\n",
       " (5, 3.4869346780808286),\n",
       " (5, 3.4869346780808286),\n",
       " (5, 1.864026681701219),\n",
       " (4, 2.5737061899478517),\n",
       " (5, 2.9986782854961822),\n",
       " (5, 2.2877980148488648),\n",
       " (4, 2.2877980148488648),\n",
       " (4, 3.2174395108301903),\n",
       " (4, 3.3939772743071424),\n",
       " (5, 3.1519331638017141),\n",
       " (4, 3.2080319729146658),\n",
       " (3, 3.1368457175201483),\n",
       " (4, 3.0409255735976979),\n",
       " (5, 3.2592750050883641),\n",
       " (5, 2.6093074269144338),\n",
       " (4, 4.4281610574834751),\n",
       " (5, 3.8115999415330184),\n",
       " (5, 3.3279096662801271),\n",
       " (4, 2.951642333295009),\n",
       " (4, 2.951642333295009),\n",
       " (4, 2.951642333295009),\n",
       " (4, 3.3605870006268015),\n",
       " (3, 3.3605870006268015),\n",
       " (4, 2.0210834492486853),\n",
       " (3, 2.0210834492486853),\n",
       " (3, 2.0210834492486853),\n",
       " (4, 3.1685255472127869),\n",
       " (4, 4.0540306230512009)]"
      ]
     },
     "execution_count": 183,
     "metadata": {},
     "output_type": "execute_result"
    }
   ],
   "source": [
    "pred = nP.dot(nQ)\n",
    "y = []\n",
    "yp = []\n",
    "\n",
    "for i in range(len(sp_mat_input[0])):    \n",
    "    y += [sp_mat_input[0][i]]\n",
    "    yp += [ pred[sp_mat_input[1][0][i], sp_mat_input[1][1][i]] ]\n",
    "zip(y,yp)"
   ]
  },
  {
   "cell_type": "code",
   "execution_count": 155,
   "metadata": {
    "collapsed": false
   },
   "outputs": [
    {
     "data": {
      "text/plain": [
       "matrix([[ 4, 14,  0, ...,  0,  4,  4],\n",
       "        [ 0,  0,  0, ...,  0,  0,  0],\n",
       "        [ 0,  0,  4, ...,  0,  0,  0],\n",
       "        ..., \n",
       "        [ 0,  0,  0, ...,  0,  4,  0],\n",
       "        [ 0,  0,  0, ...,  0,  0,  0],\n",
       "        [ 0,  0,  0, ...,  0,  0,  0]])"
      ]
     },
     "execution_count": 155,
     "metadata": {},
     "output_type": "execute_result"
    }
   ],
   "source": [
    "sp_mat.todense()"
   ]
  },
  {
   "cell_type": "code",
   "execution_count": 162,
   "metadata": {
    "collapsed": false
   },
   "outputs": [
    {
     "data": {
      "text/plain": [
       "array([[ 4.97676989,  2.98260013,  1.79322614,  1.00093821],\n",
       "       [ 3.9804148 ,  2.40212123,  1.67640141,  0.99972872],\n",
       "       [ 1.00018205,  0.99844221,  6.16752862,  4.97718552],\n",
       "       [ 0.99881679,  0.91475177,  4.96098069,  3.98500234],\n",
       "       [ 1.1418801 ,  0.99873269,  4.98695104,  3.99273906]])"
      ]
     },
     "execution_count": 162,
     "metadata": {},
     "output_type": "execute_result"
    }
   ],
   "source": [
    "R = np.array([\n",
    "         [5,3,0,1],\n",
    "         [4,0,0,1],\n",
    "         [1,1,0,5],\n",
    "         [1,0,0,4],\n",
    "         [0,1,5,4],\n",
    "        ])\n",
    "P_test, Q_test, e_test, step_test = matrix_factorization(R)\n",
    "P_test.dot(Q_test)"
   ]
  },
  {
   "cell_type": "code",
   "execution_count": 169,
   "metadata": {
    "collapsed": false
   },
   "outputs": [
    {
     "data": {
      "text/plain": [
       "1.1032742392919674"
      ]
     },
     "execution_count": 169,
     "metadata": {},
     "output_type": "execute_result"
    }
   ],
   "source": [
    "e_test"
   ]
  },
  {
   "cell_type": "code",
   "execution_count": 188,
   "metadata": {
    "collapsed": true
   },
   "outputs": [],
   "source": [
    "from sklearn.decomposition import NMF, ProjectedGradientNMF"
   ]
  },
  {
   "cell_type": "code",
   "execution_count": 227,
   "metadata": {
    "collapsed": false
   },
   "outputs": [],
   "source": [
    "nmfp = ProjectedGradientNMF(n_components=2).fit(R)\n",
    "nmf = NMF(n_components=4, beta = 0.2, max_iter=5000, tol=1e-6,\n",
    "         sparseness='data', eta = 1).fit(R)"
   ]
  },
  {
   "cell_type": "code",
   "execution_count": 228,
   "metadata": {
    "collapsed": false
   },
   "outputs": [
    {
     "data": {
      "text/plain": [
       "array([[ 0.        ,  0.        ,  0.        ,  0.        ],\n",
       "       [ 1.56130229,  0.61437869,  0.        ,  0.33381382],\n",
       "       [ 0.        ,  0.25347325,  1.26736627,  1.01389301],\n",
       "       [ 0.35451863,  0.19508733,  0.        ,  1.61081744]])"
      ]
     },
     "execution_count": 228,
     "metadata": {},
     "output_type": "execute_result"
    }
   ],
   "source": [
    "nmf.components_"
   ]
  },
  {
   "cell_type": "code",
   "execution_count": 229,
   "metadata": {
    "collapsed": false
   },
   "outputs": [
    {
     "data": {
      "text/plain": [
       "array([[ 0.        ,  0.33813856,  1.47678869,  2.71434058],\n",
       "       [ 2.0925745 ,  0.79355437,  0.        ,  0.57922163]])"
      ]
     },
     "execution_count": 229,
     "metadata": {},
     "output_type": "execute_result"
    }
   ],
   "source": [
    "nmfp.components_"
   ]
  },
  {
   "cell_type": "code",
   "execution_count": 230,
   "metadata": {
    "collapsed": false
   },
   "outputs": [
    {
     "data": {
      "text/plain": [
       "array([[  0.00000000e+00,   3.40561769e+00,   3.38433418e-02,\n",
       "          0.00000000e+00],\n",
       "       [  0.00000000e+00,   2.19188267e+00,   0.00000000e+00,\n",
       "          1.35706734e-01],\n",
       "       [  0.00000000e+00,   3.31989462e-02,   4.95678873e-02,\n",
       "          3.07419144e+00],\n",
       "       [  0.00000000e+00,   0.00000000e+00,   0.00000000e+00,\n",
       "          2.46432812e+00],\n",
       "       [  0.00000000e+00,   5.10309270e-16,   3.94518943e+00,\n",
       "          0.00000000e+00]])"
      ]
     },
     "execution_count": 230,
     "metadata": {},
     "output_type": "execute_result"
    }
   ],
   "source": [
    "nmf.transform(R)"
   ]
  },
  {
   "cell_type": "code",
   "execution_count": 231,
   "metadata": {
    "collapsed": false
   },
   "outputs": [
    {
     "data": {
      "text/plain": [
       "array([[  5.31719871e+00,   2.10091732e+00,   4.28919098e-02,\n",
       "          1.17115578e+00],\n",
       "       [  3.47030201e+00,   1.37312067e+00,   0.00000000e+00,\n",
       "          9.50279505e-01],\n",
       "       [  1.14169173e+00,   6.32696662e-01,   6.28206683e-02,\n",
       "          5.01330000e+00],\n",
       "       [  8.73650229e-01,   4.80759196e-01,   0.00000000e+00,\n",
       "          3.96958272e+00],\n",
       "       [  7.96747034e-16,   1.00000000e+00,   5.00000000e+00,\n",
       "          4.00000000e+00]])"
      ]
     },
     "execution_count": 231,
     "metadata": {},
     "output_type": "execute_result"
    }
   ],
   "source": [
    "nmf.transform(R).dot(nmf.components_)"
   ]
  },
  {
   "cell_type": "code",
   "execution_count": 232,
   "metadata": {
    "collapsed": false
   },
   "outputs": [
    {
     "data": {
      "text/plain": [
       "array([[5, 3, 0, 1],\n",
       "       [4, 0, 0, 1],\n",
       "       [1, 1, 0, 5],\n",
       "       [1, 0, 0, 4],\n",
       "       [0, 1, 5, 4]])"
      ]
     },
     "execution_count": 232,
     "metadata": {},
     "output_type": "execute_result"
    }
   ],
   "source": [
    "R"
   ]
  },
  {
   "cell_type": "code",
   "execution_count": 226,
   "metadata": {
    "collapsed": false
   },
   "outputs": [
    {
     "data": {
      "text/plain": [
       "array([[ 5.25591767,  1.99316987,  0.        ,  1.4548305 ],\n",
       "       [ 3.50434247,  1.32893061,  0.        ,  0.96999699],\n",
       "       [ 1.31280991,  0.94419678,  1.94938256,  3.94635297],\n",
       "       [ 0.98118585,  0.72182695,  1.52744717,  3.0790418 ],\n",
       "       [ 0.        ,  0.65016039,  2.83951498,  5.21903424]])"
      ]
     },
     "execution_count": 226,
     "metadata": {},
     "output_type": "execute_result"
    }
   ],
   "source": [
    "nmfp.transform(R).dot(nmfp.components_)"
   ]
  },
  {
   "cell_type": "code",
   "execution_count": null,
   "metadata": {
    "collapsed": true
   },
   "outputs": [],
   "source": []
  },
  {
   "cell_type": "code",
   "execution_count": null,
   "metadata": {
    "collapsed": true
   },
   "outputs": [],
   "source": []
  }
 ],
 "metadata": {
  "kernelspec": {
   "display_name": "Python 2",
   "language": "python",
   "name": "python2"
  },
  "language_info": {
   "codemirror_mode": {
    "name": "ipython",
    "version": 2
   },
   "file_extension": ".py",
   "mimetype": "text/x-python",
   "name": "python",
   "nbconvert_exporter": "python",
   "pygments_lexer": "ipython2",
   "version": "2.7.10"
  }
 },
 "nbformat": 4,
 "nbformat_minor": 0
}
