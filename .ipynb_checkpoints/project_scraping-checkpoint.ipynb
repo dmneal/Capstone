{
 "cells": [
  {
   "cell_type": "code",
   "execution_count": 1,
   "metadata": {
    "collapsed": true
   },
   "outputs": [],
   "source": [
    "import requests\n",
    "from bs4 import BeautifulSoup\n",
    "import pandas as pd\n",
    "import numpy as np\n",
    "import time\n",
    "import html5lib\n",
    "import psycopg2\n",
    "import pickle"
   ]
  },
  {
   "cell_type": "code",
   "execution_count": 2,
   "metadata": {
    "collapsed": false
   },
   "outputs": [
    {
     "name": "stdout",
     "output_type": "stream",
     "text": [
      "Done\n"
     ]
    }
   ],
   "source": [
    "print 'Done'"
   ]
  },
  {
   "cell_type": "markdown",
   "metadata": {},
   "source": [
    "##Format Desired for Database"
   ]
  },
  {
   "cell_type": "markdown",
   "metadata": {},
   "source": [
    "## Functions to get database information"
   ]
  },
  {
   "cell_type": "markdown",
   "metadata": {},
   "source": [
    "###Generate test soup objects to run with functions"
   ]
  },
  {
   "cell_type": "code",
   "execution_count": 3,
   "metadata": {
    "collapsed": false
   },
   "outputs": [],
   "source": [
    "test_climb = '/v/northeast-arete/105732404'\n",
    "\n",
    "base_url = 'http://mountainproject.com'\n",
    "\n",
    "#Climb obeserved features test soup\n",
    "test_soup = BeautifulSoup(requests.get(base_url+test_climb).content)\n",
    "\n",
    "#Climb user enetered features test soup\n",
    "climb_id_str = test_climb.split('/')[-1]\n",
    "user_url = base_url+'/scripts/ShowObjectStats.php?id='+climb_id_str\n",
    "user_content = requests.get(user_url).content\n",
    "test_soup_user = BeautifulSoup(user_content)"
   ]
  },
  {
   "cell_type": "code",
   "execution_count": 4,
   "metadata": {
    "collapsed": false
   },
   "outputs": [
    {
     "name": "stdout",
     "output_type": "stream",
     "text": [
      "Northeast Arete\n",
      "Northeast Arete\n",
      "Nevada,Red Rock,Icebox Canyon,Bridge Mountain\n",
      "Trad, 5 pitches, 800'\n",
      "yds: 5.6\n",
      "yds_consensus: 5.5\n",
      "stars: 2.8\n",
      "stars_votes: 16\n"
     ]
    }
   ],
   "source": [
    "def get_climb_data(soup):\n",
    "    #Get obsereved features from the main page of a climb\n",
    "\n",
    "    climb_name = soup.select('[itemprop=\"itemreviewed\"]')[0].text\n",
    "    yds = soup.findAll('div',{'id':'rspCol800'})[0].select('.rateYDS')[0].text.split()[-1]\n",
    "    yds_consensus = soup.findAll('div',{'id':'rspCol800'})[0].select('.rateYDS')[1].text.split()[-1]\n",
    "\n",
    "    stars = float(soup.select('#starSummaryText [itemprop=\"rating\"] meta')[0]['content'])\n",
    "    star_votes = soup.findAll('span',{'id': 'starSummaryText'} )[0] \\\n",
    "                    .findAll('meta',{'itemprop':'votes'})[0]['content']\n",
    "    climb_type = soup.select('.rspCol table')[2].select('td')[1].text\n",
    "    location = ','.join([a.text for a in soup.select('#navBox [itemtype=\"http://data-vocabulary.org/Breadcrumb\"]')])\n",
    "    return climb_name, location, climb_type, yds, yds_consensus, stars, star_votes\n",
    "\n",
    "(climb_name, location, climb_type, yds,\n",
    " yds_consensus, stars, star_votes) = get_climb_data(test_soup)\n",
    "print climb_name\n",
    "print climb_name\n",
    "print location\n",
    "print climb_type\n",
    "print 'yds:',yds\n",
    "print 'yds_consensus:', yds_consensus\n",
    "print \"stars:\", stars\n",
    "print \"stars_votes:\",star_votes"
   ]
  },
  {
   "cell_type": "code",
   "execution_count": 5,
   "metadata": {
    "collapsed": false,
    "scrolled": true
   },
   "outputs": [
    {
     "name": "stdout",
     "output_type": "stream",
     "text": [
      "['10644', '10146', '11453', '10445', '106310836', '105919888', '10445', '106893421', '105951192', '105919888', '106314757', '10445', '106314757', '106095990']\n"
     ]
    },
    {
     "data": {
      "text/plain": [
       "[\"George:  You truly are an adventuresome soul. Not many people would endeavor to put in the effort to explore the further reaches of Red Rock Canyons. Subsequently, not many others would discover the secret treasures like arches and hidden forests. There is so much to discover out there once you get away from the scenic loop road. My hat's off to you. I have not yet, but have long wanted to do a route on Bridge Mountain as it is such a strikingly beautiful swath of stone. Thanks for posting so many good routes and concise information. Philop.s. Your digi-pic of Wilson is awesome you should think about posting it.\",\n",
       " 'Thanks for the comments, Philo!  Regarding this route, you probably do not want to take a skeletal rack if you use approaches 1 or 2, as they both involve climbing of at least 5.8.  The shortest route up the Refrigerator Buttress is \"Burlesque (5.9)\",  for which you need some big cams, I believe.  Bummer to have to haul all those heavy cams over the summit.',\n",
       " 'This is a full day event packed with an interesting and beautiful hike. The climb proper is easy and fun-icing on the cake. A light rack is preffered considering the long hike, but some may want a few #3 cams to \"sew-up\" the chimney pitches. A storm had brought snow down to 5,000 feet and some snow remained in the chimneys after 5 days of 70+ temperatures. <br/>Rocky Gap Road is SERIOUS off roading-do not underestimate the difficulty. It took an 1.5 hours to get to the summit of Rocky Gap Road in a stock Chevy Trailblazer, which barely made it. You will want something with even more clearance. <br/>All said and done, this is a great adventure worth doing.',\n",
       " \"I really enjoyed this route....it's kind of like the snake dike of Red rock. Except the hike is more fun. Some of the best views and fun hiking(is there such a thing?). <br/>The climbing itself is very good at the 5.6 level...lot's of fun. The approach really wasn't to bad...pretty cool exploring! I approached from the Rocky Gap road. <br/> <br/>Have fun! <br/> <br/>josh\",\n",
       " 'I can usually get to the trailhead at Red Rock Summit from Willow Springs in about 45 minutes or less in my 2004 Toyota Tacoma 4x4. There are some big rocks in the wash you have to negoitiate around. Having a narrow wheel base makes this easier. I have never had a problem, but apparently many vehicles have gotten stuck, and needed to be towed out...Parking before the big wash-out will cut a couple of miles of the approach from Willow Springs, but is probably not advisable if you do not have a 4x4 with a high wheel base........I am dying to do this route, and hope to lure someone into it sometime soon.',\n",
       " 'So much fun. Brought wires, single set cams .4-3, and large hexes. Never placed a wire, 2 pieces per pitch felt fine. The only 5.6, if there was any, was in the first ten feet. Approach notes are most needed- <br/> <br/>From the car on Rocky Gap, head up to the limestone ridge, hang a right at the sign for Bridge/North Peak, and follow the ridge for a few minutes til the well-worn trail dumps you down towards the red-pink sandstone. From here, some \"REAL GENIUS\" has painted black arrows and parallel lines, which, until they get removed (hint hint), supplement the cairns to help you find your way to the base of the 3rd class crack that leads up to the arch. Walk under the arch, head over to the Hidden Forest (obvious), then head down from the left side of the Forest, following a drainage system (pretty) down until an obvious stopping point (steep) with a ledge system that\\'s home to a beat up tree that\\'s lying down on the right. Walk this ledge a few feet to the starting point of the route (cairn).  <br/> <br/>The route is easily protected, follows a continuous crack system for its entire length, and needs no topo or route description. A chopped 60 would work fine, the last \"4th class\" pitch is 3 5.2 moves to walking. Four real pitches, easy to simul and/or pick ledges based on what gear you have left. Mostly finger and hand cracks, hexes worked great. Do this route!! [and take a wire brush up to help erase the spray paint arrows-shameful horseshit, needs to go]',\n",
       " \"I'm pretty sure those arrows were painted there by the BLM as trail markers. This is a BLM built trail. <br/>You might want to make sure before erasing them. <br/> <br/>josh\",\n",
       " 'even more reason to erase them..',\n",
       " \"Hiked in from Pine Creek with Nick H. following cairns up the slope 30 minutes past Dark Shadows. The approach passes below the false south face of Bridge Mt before passing through a notch where you can see the route. Beautiful day, but a bit of ice and snow added some spice.  <br/> <br/>Have to agree that the crux is off the ground. Did it in 2+ long pitches, 70m exactly to the small pine, another 70m to a comfortable ledge (there's a better ledge 10m lower) and then continued up to the top. We were in the shade but sheltered from the wind; nice with temps in the 40's at best. <br/> <br/>The ramp back to the base was pretty icy, so we took a chance and walked down past the forest, through the arch and down the saddle. I won't describe the descent since it involved some sketchy down climbing, exposed ramps, a short rappel and a ton of backtracking. It's doable if you take your time, but not much fun. Got back into Pine Creek at dusk, but had a big moon, so didn't need our headlamps. <br/> <br/>All in all a great day in the canyons and a fun little route!\",\n",
       " 'Maybe they could just pave the approach, or put in a via ferrata all the way up Rocky Gap Road....',\n",
       " \"Not steep enough.  Tourists wouldn't go for it.  Plus, that would take away the only possibility for manly driving in the vegas area.  Pretty sure arrows not fed work.  the trail and sign from Rocky Gap are not technically official, yet.  I'm sure some wire-brush work or a little discrete use of a proper solvent would be sufficient to restore this little bit of wilderness character.\",\n",
       " 'Interesting Scott.  <br/>The sign at the trailhead is exactly the same type of sign the BLM uses at all of their other trailheads and they list it on their website as a reccomended hike. There are also BlM like signs marking a fork in the trail a mile or so in. Wouldn\\'t surprise me to much though, it\\'s not like the BLM has ever really been on top of things. You\\'d know better then most of us though! (sidenote; Dude! we still need to get out. You are right up the road these days.) <br/> <br/>In regards to the spray painted arrows.  <br/>This type of trail \"building\" is utilised throughout both our National park(and BLM and forest service)and trail systems worldwide.Ever walk off the top of the Chief in Squamish? Primarily it\\'s used for trails that go over terrain where other methods of trail marking(like digging, water barring, rock walls etc.) aren\\'t feasible.  <br/>I\\'d personally rather see some painted arrows then chains, concrete and handrails, Angels landing trail anyone?  <br/>I\\'ve found the arrows that are painted on this trail to be just enough to keep me on the trail. Which is better than having me and hundreds of other visitors trapising around creating social trails in an area that has alot less impact than other parts of RRNCA.  <br/> <br/>They really aren\\'t that big of a deal. <br/> <br/>josh ',\n",
       " 'Yeah, personally they never bothered me.  There are a few notable exceptions of trails that are officially promoted/signed, but not officially \"designated\" as of yet - fire ecology trail being the first one that comes to mind.  Straight shooter tr. was in a state park in-holding when it was constructed.  Since then it\\'s been incorporated into the NCA, but the People in Charge of Such Things didn\\'t seem to notice there was a trail there.  So as a social trail, it\\'s not designated and can\\'t receive official volunteer maintenance work, which it could use in places...  Ah well, letters have been written and it\\'s in the Man\\'s Inbox.  (Yeah, we should get out sometime)',\n",
       " 'Six hundred feet of perfect finger to hand crack in a low-angle stemming corner; what\\'s not to like?  After an awkward move or two right off the starting ledge, it\\'s pretty much cruiser alpine-low-fifth the whole way.  We took a minimal rack and a single 60m X 8.5mm rope (tying in with bowlines-on-coils to eliminate harnesses), and climbed in approach shoes, all of which seemed pretty appropriate for the level of difficulty. <br/> <br/>We approached via the north fork of Pine Creek Canyon, following the hiking directions to Bridge Point on <a href=\"http://Summitpost.com\" rel=\"nofollow\" target=\"_blank\">summitpost.com</a>.  That worked fine until we got over the Bridge Mountain-Bridge Point saddle.  Frustratingly, we could clearly see the traverse ledge out to the climb, but it took us forever to get to it -- there\\'s a confusing mess of cairns, some leading too high and some leading too low.  We elected not to return that way, instead taking the hiking trail back to Rocky Gap Road, which was probably more of an adventure than the climb itself.  ']"
      ]
     },
     "execution_count": 5,
     "metadata": {},
     "output_type": "execute_result"
    }
   ],
   "source": [
    "def get_comments(soup):\n",
    "    comment_boxes = soup.select('.comvis')\n",
    "    text = []\n",
    "    user_ids = []\n",
    "    for box in comment_boxes:\n",
    "        text += [str(box).split('<!--MPTEXT-->')[1].split('<!--MPTEXTEND-->')[0]]\n",
    "        user_ids += [box.find('a')['href'].split('//')[-1]]\n",
    "    return text, user_ids\n",
    "text, user_ids = get_comments(test_soup)\n",
    "print user_ids\n",
    "text"
   ]
  },
  {
   "cell_type": "code",
   "execution_count": 6,
   "metadata": {
    "collapsed": false,
    "scrolled": false
   },
   "outputs": [
    {
     "name": "stdout",
     "output_type": "stream",
     "text": [
      "[u'Royal', u'Peter Lewis', u'Howard Snell', u'George Bell', u'Alan Butler', u'Jim R', u'Steven Tata', u'Zeb Rafaker', u'Orphaned', u'J. Thompson', u'cassondra', u'sqwirll', u'Crotch Robbins', u'Brent Butler', u'John Hegyes', u'Crotch Robbins']\n",
      "['106794218', '106586290', '106775085', '10146', '106688497', '105951192', '107548227', '106119950', '105990845', '10445', '106310836', '105805486', '11331', '106738886', '11591', '11331']\n",
      "[u'5', u'5', u'5', u'4', u'4', u'4', u'4', u'4', u'4', u'4', u'3', u'3', u'3', u'3', u'3', u'3']\n"
     ]
    }
   ],
   "source": [
    "def get_stars(soup):\n",
    "    #get individual star ratings by user\n",
    "    table = None\n",
    "    for heading in soup.select('span.dkorange.bold'):\n",
    "        if heading.text == 'Star Quality Votes':\n",
    "            table = heading.find_next_sibling('table')\n",
    "    \n",
    "    user_names = []\n",
    "    user_id = []\n",
    "    stars = []\n",
    "    \n",
    "    for i,user_link in enumerate(table.select('a[href^=\"/u/\"]')):\n",
    "        #print i\n",
    "        user_names += [user_link.text]\n",
    "        script = user_link.parent.next_sibling.select('script')[0]\n",
    "        #print [script.text.split('starsHtml(')[1][0] ]\n",
    "        stars += [script.text.split('starsHtml(')[1][0] ]\n",
    "        user_id += [user_link['href'].split('//')[-1]]\n",
    "    return user_names, user_id, stars\n",
    "user_names, user_ids, stars = get_stars(test_soup_user)\n",
    "print user_names\n",
    "print user_ids\n",
    "print stars"
   ]
  },
  {
   "cell_type": "code",
   "execution_count": 7,
   "metadata": {
    "collapsed": false
   },
   "outputs": [
    {
     "name": "stdout",
     "output_type": "stream",
     "text": [
      "[u'John Hegyes', u'Zeb Rafaker', u'Peter Lewis', u'Royal', u'sqwirll', u'Orphaned', u'George Bell']\n",
      "['11591', '106119950', '106586290', '106794218', '105805486', '105990845', '10146']\n",
      "[u'5.6', u'5.5', u'5.5', u'5.5', u'5.4', u'Easy 5th', u'5.6']\n",
      "[u' ', u' ', u' ', u' ', u' ', u' ', u' ']\n"
     ]
    }
   ],
   "source": [
    "def get_ratings(soup):\n",
    "    #Returns the individuals ratings by user for a climb.\n",
    "    for heading in soup.select('span.dkorange.bold'):\n",
    "        #print heading\n",
    "        if heading.text == 'Suggested Ratings':\n",
    "            table = heading.find_next_sibling('table')\n",
    "    user_names = []\n",
    "    user_ids = []\n",
    "    ratings = []\n",
    "    additionals = []\n",
    "    \n",
    "    for user_link in table.select('a[href^=\"/u/\"]'):\n",
    "        user_names += [user_link.text]\n",
    "        ratings += [user_link.parent.next_sibling.select('.rateYDS')[0].text]\n",
    "        additionals += [user_link.parent.nextSibling.contents[-1]]\n",
    "        user_ids += [user_link['href'].split('//')[-1]]\n",
    "    return user_names, user_ids, ratings, additionals\n",
    "user_names, user_ids, ratings, additionals = get_ratings(test_soup_user)\n",
    "print user_names\n",
    "print user_ids\n",
    "print ratings\n",
    "print additionals"
   ]
  },
  {
   "cell_type": "code",
   "execution_count": 8,
   "metadata": {
    "collapsed": false
   },
   "outputs": [
    {
     "name": "stdout",
     "output_type": "stream",
     "text": [
      "[u'Steven Tata', u'David Carrier', u'Alan Butler', u'Brent Butler', u'Royal', u'Howard.', u'Nick Hamill', u'Mark Beauchamp', u'Sue B', u'cassondra', u'Peter Lewis', u'ephrat', u'Crotch Robbins', u'cassondra', u'Howard Snell', u'Darren in Vegas', u'sqwirll', u'Josh Hensley', u'J. Thompson', u'John Hegyes', u'wayniak']\n",
      "['107548227', '109340087', '106688497', '106738886', '106794218', '106886459', '106993267', '106344483', '106710164', '106310836', '106586290', '107545625', '11331', '106310836', '106775085', '105796642', '105805486', '106417489', '10445', '11591', '11453']\n",
      "[u'Apr 17, 2015', u'Nov 20, 2014', u'Oct 18, 2014', u'Oct 18, 2014', u'Oct 9, 2014', u'Apr 28, 2014', u'Oct 15, 2012', u'Sep 2, 2012', u'Sep 2, 2012', u'Jul 25, 2012', u'May 14, 2012', u'Mar 30, 2012', u'Jan 15, 2012', u'Nov 17, 2011', u'Oct 9, 2011', u'Sep 11, 2011', u'Nov 8, 2010', u'May 7, 2009', u'Mar 17, 2009', u'Aug 9, 2006', u'Apr 9, 2006']\n"
     ]
    }
   ],
   "source": [
    "def get_ticks(soup):\n",
    "    #Returns user tick dates.  \n",
    "    table = None\n",
    "    for heading in soup.select('span.dkorange.bold'):\n",
    "        if heading.text == 'Ticks':\n",
    "            table = heading.find_next_sibling('table')\n",
    "    user_names = []\n",
    "    user_ids = []\n",
    "    tick_dates = []\n",
    "    \n",
    "    for user_link in table.select('a[href^=\"/u/\"]'):\n",
    "        user_names += [user_link.text]\n",
    "        user_ids += [user_link['href'].split('//')[-1]]\n",
    "        tick_dates += [user_link.parent.next_sibling.text.strip()]\n",
    "        \n",
    "    return user_names, user_ids, tick_dates\n",
    "user_names, user_ids, tick_dates= get_ticks(test_soup_user)\n",
    "\n",
    "print user_names\n",
    "print user_ids\n",
    "print tick_dates"
   ]
  },
  {
   "cell_type": "code",
   "execution_count": 9,
   "metadata": {
    "collapsed": false
   },
   "outputs": [],
   "source": [
    "def get_climbs_mpsearch(url, page_num=1, show_len=False, name=False):\n",
    "    if name:\n",
    "        try:\n",
    "            climb_list = pickle.load(open('climb_list_'+name+'.p','rb'))\n",
    "            print 'climb_list_'+name+' loaded'\n",
    "            if show_len:\n",
    "                print \"Number of climbs:\\n\", len(climb_list)\n",
    "            return climb_list\n",
    "        except:\n",
    "            pass\n",
    "    climb_list = []\n",
    "    for i in range(page_num):\n",
    "        soup = BeautifulSoup(requests.get(url+\"&page=\"+str(i+1)).content)\n",
    "        climb_table = soup.findAll('table', {'class':'objectList'})[1]\n",
    "        climb_list += [row.findNext('a')['href'] for row in climb_table.findAll('tr')[1:]]\n",
    "    if show_len:\n",
    "        print \"Number of climbs:\\n\", len(climb_list)\n",
    "    if name:\n",
    "        with open('climb_list_'+name+'.p','w') as f:\n",
    "            pickle.dump(climb_list, f)\n",
    "    return climb_list\n"
   ]
  },
  {
   "cell_type": "code",
   "execution_count": null,
   "metadata": {
    "collapsed": true
   },
   "outputs": [],
   "source": []
  },
  {
   "cell_type": "code",
   "execution_count": 10,
   "metadata": {
    "collapsed": false
   },
   "outputs": [
    {
     "name": "stdout",
     "output_type": "stream",
     "text": [
      "climb_list_big_cotten loaded\n",
      "Number of climbs:\n",
      "362\n"
     ]
    }
   ],
   "source": [
    "big_cotten_url = 'http://www.mountainproject.com/scripts/Search.php?searchType=routeFinder&minVotes=5&selectedIds=%27105739280%27&type=rock&diffMinrock=1000&diffMinboulder=20000&diffMinaid=70000&diffMinice=30000&diffMinmixed=50000&diffMaxrock=12300&diffMaxboulder=21400&diffMaxaid=75260&diffMaxice=38500&diffMaxmixed=60000&is_trad_climb=1&is_sport_climb=1&is_top_rope=1&stars=0&pitches=0&sort1=area&sort2=rating'\n",
    "big_cotten_climb_list = get_climbs_mpsearch(big_cotten_url, 8, True, 'big_cotten')"
   ]
  },
  {
   "cell_type": "code",
   "execution_count": 10,
   "metadata": {
    "collapsed": false
   },
   "outputs": [
    {
     "name": "stdout",
     "output_type": "stream",
     "text": [
      "climb_list_american_fork loaded\n",
      "Number of climbs:\n",
      "246\n",
      "climb_list_zion loaded\n",
      "Number of climbs:\n",
      "81\n",
      "Number of climbs:\n",
      "265\n",
      "Number of climbs:\n",
      "877\n",
      "Number of climbs:\n",
      "440\n",
      "Number of climbs:\n",
      "314\n",
      "Number of climbs:\n",
      "588\n"
     ]
    }
   ],
   "source": [
    "climb_list = []\n",
    "\n",
    "american_fork_url = 'http://www.mountainproject.com/scripts/Search.php?searchType=routeFinder&minVotes=5&selectedIds=%27105739274%27&type=rock&diffMinrock=1000&diffMinboulder=20000&diffMinaid=70000&diffMinice=30000&diffMinmixed=50000&diffMaxrock=12300&diffMaxboulder=21400&diffMaxaid=75260&diffMaxice=38500&diffMaxmixed=60000&is_trad_climb=1&is_sport_climb=1&is_top_rope=1&stars=0&pitches=0&sort1=area&sort2=rating'\n",
    "american_fork_n = 5\n",
    "american_fork_climb_list = get_climbs_mpsearch(american_fork_url, 5, True, 'american_fork')\n",
    "\n",
    "zion_url = 'http://www.mountainproject.com/scripts/Search.php?searchType=routeFinder&minVotes=5&selectedIds=%27105716799%27&type=rock&diffMinrock=1000&diffMinboulder=20000&diffMinaid=70000&diffMinice=30000&diffMinmixed=50000&diffMaxrock=12300&diffMaxboulder=21400&diffMaxaid=75260&diffMaxice=38500&diffMaxmixed=60000&is_trad_climb=1&is_sport_climb=1&is_top_rope=1&stars=0&pitches=0&sort1=area&sort2=rating'\n",
    "zion_n = 2\n",
    "zion_climb_list = get_climbs_mpsearch(zion_url, 2, True, 'zion')\n",
    "\n",
    "rifle_url = 'http://www.mountainproject.com/scripts/Search.php?searchType=routeFinder&minVotes=5&selectedIds=%27105802424%27&type=rock&diffMinrock=1000&diffMinboulder=20000&diffMinaid=70000&diffMinice=30000&diffMinmixed=50000&diffMaxrock=12300&diffMaxboulder=21400&diffMaxaid=75260&diffMaxice=38500&diffMaxmixed=60000&is_trad_climb=1&is_sport_climb=1&is_top_rope=1&stars=0&pitches=0&sort1=area&sort2=rating'\n",
    "rifle_n = 6\n",
    "rifle_climb_list = get_climbs_mpsearch(rifle_url, 6, True, 'rifle')\n",
    "\n",
    "boulder_can_url = 'http://www.mountainproject.com/scripts/Search.php?searchType=routeFinder&minVotes=5&selectedIds=%27105744222%27&type=rock&diffMinrock=1000&diffMinboulder=20000&diffMinaid=70000&diffMinice=30000&diffMinmixed=50000&diffMaxrock=12300&diffMaxboulder=21400&diffMaxaid=75260&diffMaxice=38500&diffMaxmixed=60000&is_trad_climb=1&is_sport_climb=1&is_top_rope=1&stars=0&pitches=0&sort1=area&sort2=rating'\n",
    "boulder_can_n = 18\n",
    "boulder_can_climb_list = get_climbs_mpsearch(boulder_can_url, 18, True, 'boulder')\n",
    "\n",
    "elderado_url = 'http://www.mountainproject.com/scripts/Search.php?searchType=routeFinder&minVotes=5&selectedIds=%27105744246%27&type=rock&diffMinrock=1000&diffMinboulder=20000&diffMinaid=70000&diffMinice=30000&diffMinmixed=50000&diffMaxrock=12300&diffMaxboulder=21400&diffMaxaid=75260&diffMaxice=38500&diffMaxmixed=60000&is_trad_climb=1&is_sport_climb=1&is_top_rope=1&stars=0&pitches=0&sort1=area&sort2=rating'\n",
    "elderado_n = 9\n",
    "elderado_climb_list = get_climbs_mpsearch(elderado_url, 9, True, 'elderado')\n",
    "\n",
    "flatiron_url = 'http://www.mountainproject.com/scripts/Search.php?searchType=routeFinder&minVotes=5&selectedIds=%27105797700%27&type=rock&diffMinrock=1000&diffMinboulder=20000&diffMinaid=70000&diffMinice=30000&diffMinmixed=50000&diffMaxrock=12300&diffMaxboulder=21400&diffMaxaid=75260&diffMaxice=38500&diffMaxmixed=60000&is_trad_climb=1&is_sport_climb=1&is_top_rope=1&stars=0&pitches=0&sort1=area&sort2=rating'\n",
    "flatiron_n = 7\n",
    "flatiron_climb_list = get_climbs_mpsearch(flatiron_url, 7, True, 'flatiron')\n",
    "\n",
    "shelf_url = 'http://www.mountainproject.com/scripts/Search.php?searchType=routeFinder&minVotes=5&selectedIds=%27105800427%27&type=rock&diffMinrock=1000&diffMinboulder=20000&diffMinaid=70000&diffMinice=30000&diffMinmixed=50000&diffMaxrock=12300&diffMaxboulder=21400&diffMaxaid=75260&diffMaxice=38500&diffMaxmixed=60000&is_trad_climb=1&is_sport_climb=1&is_top_rope=1&stars=0&pitches=0&sort1=area&sort2=rating'\n",
    "shelf_n = 12\n",
    "shelf_climb_list = get_climbs_mpsearch(shelf_url, 12, True, 'shelf')"
   ]
  },
  {
   "cell_type": "code",
   "execution_count": 11,
   "metadata": {
    "collapsed": false
   },
   "outputs": [
    {
     "name": "stdout",
     "output_type": "stream",
     "text": [
      "climb_list_canada loaded\n",
      "Number of climbs:\n",
      "493\n",
      "climb_list_mexico loaded\n",
      "Number of climbs:\n",
      "200\n",
      "climb_list_europe loaded\n",
      "Number of climbs:\n",
      "153\n",
      "climb_list_wy_trad loaded\n",
      "Number of climbs:\n",
      "410\n",
      "climb_list_wy_sport loaded\n",
      "Number of climbs:\n",
      "651\n",
      "climb_list_sd loaded\n",
      "Number of climbs:\n",
      "566\n",
      "climb_list_id loaded\n",
      "Number of climbs:\n",
      "583\n",
      "climb_list_mt loaded\n",
      "Number of climbs:\n",
      "195\n",
      "climb_list_me loaded\n",
      "Number of climbs:\n",
      "112\n"
     ]
    }
   ],
   "source": [
    "canada_url = 'http://www.mountainproject.com/scripts/Search.php?searchType=routeFinder&minVotes=5&selectedIds=%27105881369%27&type=rock&diffMinrock=1000&diffMinboulder=20000&diffMinaid=70000&diffMinice=30000&diffMinmixed=50000&diffMaxrock=12300&diffMaxboulder=21400&diffMaxaid=75260&diffMaxice=38500&diffMaxmixed=60000&is_trad_climb=1&is_sport_climb=1&is_top_rope=1&stars=0&pitches=0&sort1=area&sort2=rating'\n",
    "canada_n = 10\n",
    "canada_climb_list = get_climbs_mpsearch(canada_url, 10, True, 'canada')\n",
    "\n",
    "mexico_url = 'http://www.mountainproject.com/scripts/Search.php?searchType=routeFinder&minVotes=5&selectedIds=%27105910759%27&type=rock&diffMinrock=1000&diffMinboulder=20000&diffMinaid=70000&diffMinice=30000&diffMinmixed=50000&diffMaxrock=12300&diffMaxboulder=21400&diffMaxaid=75260&diffMaxice=38500&diffMaxmixed=60000&is_trad_climb=1&is_sport_climb=1&is_top_rope=1&stars=0&pitches=0&sort1=area&sort2=rating'\n",
    "mexico_n =4\n",
    "mexico_climb_list = get_climbs_mpsearch(mexico_url, 4, True, 'mexico')\n",
    "\n",
    "europe_url = 'http://www.mountainproject.com/scripts/Search.php?searchType=routeFinder&minVotes=5&selectedIds=%27106660030%27&type=rock&diffMinrock=1000&diffMinboulder=20000&diffMinaid=70000&diffMinice=30000&diffMinmixed=50000&diffMaxrock=12300&diffMaxboulder=21400&diffMaxaid=75260&diffMaxice=38500&diffMaxmixed=60000&is_trad_climb=1&is_sport_climb=1&is_top_rope=1&stars=0&pitches=0&sort1=area&sort2=rating'\n",
    "europe_n = 4\n",
    "europe_climb_list = get_climbs_mpsearch(europe_url, 4, True, 'europe')\n",
    "\n",
    "wy_trad_url = 'http://www.mountainproject.com/scripts/Search.php?searchType=routeFinder&minVotes=5&selectedIds=%27105708960%27&type=rock&diffMinrock=1000&diffMinboulder=20000&diffMinaid=70000&diffMinice=30000&diffMinmixed=50000&diffMaxrock=12300&diffMaxboulder=21400&diffMaxaid=75260&diffMaxice=38500&diffMaxmixed=60000&is_trad_climb=1&stars=0&pitches=0&sort1=area&sort2=rating'\n",
    "wy_trad_n = 9\n",
    "wy_trad_climb_list = get_climbs_mpsearch(wy_trad_url, 9, True, 'wy_trad')\n",
    "\n",
    "wy_sport_url = 'http://www.mountainproject.com/scripts/Search.php?searchType=routeFinder&minVotes=5&selectedIds=%27105708960%27&type=rock&diffMinrock=1000&diffMinboulder=20000&diffMinaid=70000&diffMinice=30000&diffMinmixed=50000&diffMaxrock=12300&diffMaxboulder=21400&diffMaxaid=75260&diffMaxice=38500&diffMaxmixed=60000&is_sport_climb=1&is_top_rope=1&stars=0&pitches=0&sort1=area&sort2=rating'\n",
    "wy_sport_n = 14\n",
    "wy_sport_climb_list = get_climbs_mpsearch(wy_sport_url, 14, True, 'wy_sport')\n",
    "\n",
    "sd_url = 'http://www.mountainproject.com/scripts/Search.php?searchType=routeFinder&minVotes=5&selectedIds=%27105708963%27&type=rock&diffMinrock=1000&diffMinboulder=20000&diffMinaid=70000&diffMinice=30000&diffMinmixed=50000&diffMaxrock=12300&diffMaxboulder=21400&diffMaxaid=75260&diffMaxice=38500&diffMaxmixed=60000&is_trad_climb=1&is_sport_climb=1&is_top_rope=1&stars=0&pitches=0&sort1=area&sort2=rating'\n",
    "sd_n = 12\n",
    "sd_climb_list = get_climbs_mpsearch(sd_url, 12, True, 'sd')\n",
    "\n",
    "id_url = 'http://www.mountainproject.com/scripts/Search.php?searchType=routeFinder&minVotes=5&selectedIds=%27105708958%27&type=rock&diffMinrock=1000&diffMinboulder=20000&diffMinaid=70000&diffMinice=30000&diffMinmixed=50000&diffMaxrock=12300&diffMaxboulder=21400&diffMaxaid=75260&diffMaxice=38500&diffMaxmixed=60000&is_trad_climb=1&is_sport_climb=1&is_top_rope=1&stars=0&pitches=0&sort1=area&sort2=rating'\n",
    "id_n = 12\n",
    "id_climb_list = get_climbs_mpsearch(id_url, 12, True, 'id')\n",
    "\n",
    "mt_url = 'http://www.mountainproject.com/scripts/Search.php?searchType=routeFinder&minVotes=5&selectedIds=%27105907492%27&type=rock&diffMinrock=1000&diffMinboulder=20000&diffMinaid=70000&diffMinice=30000&diffMinmixed=50000&diffMaxrock=12300&diffMaxboulder=21400&diffMaxaid=75260&diffMaxice=38500&diffMaxmixed=60000&is_trad_climb=1&is_sport_climb=1&is_top_rope=1&stars=0&pitches=0&sort1=area&sort2=rating'\n",
    "mt_n = 4\n",
    "mt_climb_list = get_climbs_mpsearch(mt_url, 4, True, 'mt')\n",
    "\n",
    "me_url = 'http://www.mountainproject.com/scripts/Search.php?searchType=routeFinder&minVotes=5&selectedIds=%27105948977%27&type=rock&diffMinrock=1000&diffMinboulder=20000&diffMinaid=70000&diffMinice=30000&diffMinmixed=50000&diffMaxrock=12300&diffMaxboulder=21400&diffMaxaid=75260&diffMaxice=38500&diffMaxmixed=60000&is_trad_climb=1&is_sport_climb=1&is_top_rope=1&stars=0&pitches=0&sort1=area&sort2=rating'\n",
    "me_n = 3\n",
    "me_climb_list = get_climbs_mpsearch(me_url, 3, True, 'me')\n",
    "\n",
    "climb_list = wy_sport_climb_list+sd_climb_list+id_climb_list+mt_climb_list+me_climb_list\n"
   ]
  },
  {
   "cell_type": "code",
   "execution_count": 12,
   "metadata": {
    "collapsed": true
   },
   "outputs": [],
   "source": [
    "con = None\n",
    "con = psycopg2.connect(database='mountainproject', user='User')\n",
    "cur = con.cursor()\n",
    "con.autocommit = True"
   ]
  },
  {
   "cell_type": "code",
   "execution_count": 16,
   "metadata": {
    "collapsed": false,
    "scrolled": false
   },
   "outputs": [
    {
     "name": "stdout",
     "output_type": "stream",
     "text": [
      "0 Trying climb: /v/guide-route/107332141\n",
      "Writing comments\n",
      "Writing user star data\n",
      "Writing user ratings data\n",
      "Writing user tick data\n",
      "Climb Added!\n",
      "1 Trying climb: /v/the-dagger/106520721\n",
      "Writing comments\n",
      "Writing user star data\n",
      "Writing user ratings data\n",
      "Writing user tick data\n",
      "Climb Added!\n",
      "2 Trying climb: /v/standard-route/105941845\n",
      "Writing comments\n",
      "Writing user star data\n",
      "Writing user ratings data\n",
      "Writing user tick data\n",
      "Climb Added!\n",
      "3 Trying climb: /v/thing-in-between/105947741\n",
      "Writing comments\n",
      "Writing user star data\n",
      "Writing user ratings data\n",
      "Writing user tick data\n",
      "Climb Added!\n",
      "4 Trying climb: /v/generation-x/107636757\n",
      "Writing comments\n",
      "Writing user star data\n",
      "Writing user ratings data\n",
      "Writing user tick data\n",
      "Climb Added!\n",
      "5 Trying climb: /v/first-best/105941861\n",
      "Writing comments\n",
      "Writing user star data\n",
      "Writing user ratings data\n",
      "Writing user tick data\n",
      "Climb Added!\n",
      "6 Trying climb: /v/tigger/106870492\n",
      "Writing comments\n",
      "Writing user star data\n",
      "Writing user ratings data\n",
      "Writing user tick data\n",
      "Climb Added!\n",
      "7 Trying climb: /v/spare-tire/106963299\n",
      "Writing comments\n",
      "Writing user star data\n",
      "Writing user ratings data\n",
      "Writing user tick data\n",
      "Climb Added!\n",
      "8 Trying climb: /v/orange-crack/105947722\n",
      "Writing comments\n",
      "Writing user star data\n",
      "Writing user ratings data\n",
      "Writing user tick data\n",
      "Climb Added!\n",
      "9 Trying climb: /v/soft-in-the-middle/106433348\n",
      "Writing comments\n",
      "Writing user star data\n",
      "Writing user ratings data\n",
      "Writing user tick data\n",
      "Climb Added!\n",
      "10 Trying climb: /v/bowling-for-buicks/106963269\n",
      "Writing comments\n",
      "Writing user star data\n",
      "Writing user ratings data\n",
      "Writing user tick data\n",
      "Climb Added!\n",
      "11 Trying climb: /v/india-ink/107238940\n",
      "Writing comments\n",
      "Writing user star data\n",
      "Writing user ratings data\n",
      "Writing user tick data\n",
      "Climb Added!\n",
      "12 Trying climb: /v/sparerib/105961561\n",
      "Writing comments\n",
      "Writing user star data\n",
      "Writing user ratings data\n",
      "Writing user tick data\n",
      "Climb Added!\n",
      "13 Trying climb: /v/zig-zag/105961577\n",
      "Writing comments\n",
      "Writing user star data\n",
      "Writing user ratings data\n",
      "Writing user tick data\n",
      "Climb Added!\n",
      "14 Trying climb: /v/pineapple-thunderpussy/105961779\n",
      "Writing comments\n",
      "Writing user star data\n",
      "Writing user ratings data\n",
      "Writing user tick data\n",
      "Climb Added!\n",
      "15 Trying climb: /v/savor-the-flavor/106071543\n",
      "Writing comments\n",
      "Writing user star data\n",
      "Writing user ratings data\n",
      "Writing user tick data\n",
      "Climb Added!\n",
      "16 Trying climb: /v/the-waltz/107653331\n",
      "Writing comments\n",
      "Writing user star data\n",
      "Writing user ratings data\n",
      "Writing user tick data\n",
      "Climb Added!\n",
      "17 Trying climb: /v/too-hot-to-tango/109346860\n",
      "Writing comments\n",
      "Writing user star data\n",
      "Writing user ratings data\n",
      "Writing user tick data\n",
      "Climb Added!\n",
      "18 Trying climb: /v/paso-doble/106026087\n",
      "Writing comments\n",
      "Writing user star data\n",
      "Writing user ratings data\n",
      "Writing user tick data\n",
      "Climb Added!\n",
      "19 Trying climb: /v/watchtower-standard-route/108100067\n",
      "Writing comments\n",
      "Writing user star data\n",
      "Writing user ratings data\n",
      "Writing user tick data\n",
      "Climb Added!\n",
      "20 Trying climb: /v/mothers-day/106870419\n",
      "Writing comments\n",
      "Writing user star data\n",
      "Writing user ratings data\n",
      "Writing user tick data\n",
      "Climb Added!\n",
      "21 Trying climb: /v/diesel-driver/107165169\n",
      "Writing comments\n",
      "Writing user star data\n",
      "Writing user ratings data\n",
      "Writing user tick data\n",
      "Climb Added!\n",
      "22 Trying climb: /v/alto-ray/107569582\n",
      "Writing comments\n",
      "Writing user star data\n",
      "Writing user ratings data\n",
      "Writing user tick data\n",
      "Climb Added!\n",
      "23 Trying climb: /v/black-line/106002018\n",
      "Writing comments\n",
      "Writing user star data\n",
      "Writing user ratings data\n",
      "Writing user tick data\n",
      "Climb Added!\n",
      "24 Trying climb: /v/lacy-panties/107682359\n",
      "Writing comments\n",
      "Writing user star data\n",
      "Writing user ratings data\n",
      "Writing user tick data\n",
      "Climb Added!\n",
      "25 Trying climb: /v/kabooki-direct/108067391\n",
      "Writing comments\n",
      "Writing user star data\n",
      "Writing user ratings data\n",
      "Writing user tick data\n",
      "Climb Added!\n",
      "26 Trying climb: /v/the-fugitive/107179547\n",
      "Writing comments\n",
      "Writing user star data\n",
      "Writing user ratings data\n",
      "Writing user tick data\n",
      "Climb Added!\n",
      "27 Trying climb: /v/ashes-of-stone/107269714\n",
      "Writing comments\n",
      "Writing user star data\n",
      "Writing user ratings data\n",
      "Writing user tick data\n",
      "Climb Added!\n",
      "28 Trying climb: /v/bozeman-beautiful/106538034\n",
      "Writing comments\n",
      "Writing user star data\n",
      "Writing user ratings data\n",
      "Writing user tick data\n",
      "Climb Added!\n",
      "29 Trying climb: /v/dark-horse/107123084\n",
      "Writing comments\n",
      "Writing user star data\n",
      "Writing user ratings data\n",
      "Writing user tick data\n",
      "Climb Added!\n",
      "30 Trying climb: /v/tarantella/107208963\n",
      "Writing comments\n",
      "Writing user star data\n",
      "Writing user ratings data\n",
      "Writing user tick data\n",
      "Climb Added!\n",
      "31 Trying climb: /v/skyline-arete/106396564\n",
      "Writing comments\n",
      "Writing user star data\n",
      "Writing user ratings data\n",
      "Writing user tick data\n",
      "Climb Added!\n",
      "32 Trying climb: /v/the-hunter/106170545\n",
      "Writing comments\n",
      "Writing user star data\n",
      "Writing user ratings data\n",
      "Writing user tick data\n",
      "Climb Added!\n",
      "33 Trying climb: /v/the-hunted/106170551\n",
      "Writing comments\n",
      "Writing user star data\n",
      "Writing user ratings data\n",
      "Writing user tick data\n",
      "Climb Added!\n",
      "34 Trying climb: /v/campground-beatdown/106170615\n",
      "Writing comments\n",
      "Writing user star data\n",
      "Writing user ratings data\n",
      "Writing user tick data\n",
      "Climb Added!\n",
      "35 Trying climb: /v/fat-f-five/106170621\n",
      "Writing comments\n",
      "Writing user star data\n",
      "Writing user ratings data\n",
      "Writing user tick data\n",
      "Climb Added!\n",
      "36 Trying climb: /v/pocket-protector/106170571\n",
      "Writing comments\n",
      "Writing user star data\n",
      "Writing user ratings data\n",
      "Writing user tick data\n",
      "Climb Added!\n",
      "37 Trying climb: /v/jail-bait/106170579\n",
      "Writing comments\n",
      "Writing user star data\n",
      "Writing user ratings data\n",
      "Writing user tick data\n",
      "Climb Added!\n",
      "38 Trying climb: /v/pocket-pool/106170587\n",
      "Writing comments\n",
      "Writing user star data\n",
      "Writing user ratings data\n",
      "Writing user tick data\n",
      "Climb Added!\n",
      "39 Trying climb: /v/the-bad/107773544\n",
      "Writing comments\n",
      "Writing user star data\n",
      "Writing user ratings data\n",
      "Writing user tick data\n",
      "Climb Added!\n",
      "40 Trying climb: /v/dirty-harry/107773572\n",
      "Writing comments\n",
      "Writing user star data\n",
      "Writing user ratings data\n",
      "Writing user tick data\n",
      "Climb Added!\n",
      "41 Trying climb: /v/naked-butt-dancing/107082614\n",
      "Writing comments\n",
      "Writing user star data\n",
      "Writing user ratings data\n",
      "Writing user tick data\n",
      "Climb Added!\n",
      "42 Trying climb: /v/pretty-polly/107742569\n",
      "Writing comments\n",
      "Writing user star data\n",
      "Writing user ratings data\n",
      "Writing user tick data\n",
      "Climb Added!\n",
      "43 Trying climb: /v/the-ugly/107984030\n",
      "Writing comments\n",
      "Writing user star data\n",
      "Writing user ratings data\n",
      "Writing user tick data\n",
      "Climb Added!\n",
      "44 Trying climb: /v/fistful-of-steel/106835484\n",
      "Writing comments\n",
      "Writing user star data\n",
      "Writing user ratings data\n",
      "Writing user tick data\n",
      "Climb Added!\n",
      "45 Trying climb: /v/childs-play-or-senseless-bummer/108306831\n",
      "Writing comments\n",
      "Writing user star data\n",
      "Writing user ratings data\n",
      "Writing user tick data\n",
      "Climb Added!\n",
      "46 Trying climb: /v/king-of-the-forest/107179726\n",
      "Writing comments\n",
      "Writing user star data\n",
      "Writing user ratings data\n",
      "Writing user tick data\n",
      "Climb Added!\n",
      "47 Trying climb: /v/crystal-delight/108295353\n",
      "Writing comments\n",
      "Writing user star data\n",
      "Writing user ratings data\n",
      "Writing user tick data\n",
      "Climb Added!\n",
      "48 Trying climb: /v/fire-escape/108295386\n",
      "Writing comments\n",
      "Writing user star data\n",
      "Writing user ratings data\n",
      "Writing user tick data\n",
      "Climb Added!\n",
      "49 Trying climb: /v/uber-ass/107241861\n",
      "Writing comments\n",
      "Writing user star data\n",
      "Writing user ratings data\n",
      "Writing user tick data\n",
      "Climb Added!\n",
      "50 Trying climb: /v/geriatrix/108960969\n",
      "Writing comments\n",
      "Writing user star data\n",
      "Writing user ratings data\n",
      "Writing user tick data\n",
      "Climb Added!\n",
      "51 Trying climb: /v/its-it/108069896\n",
      "Writing comments\n",
      "Writing user star data\n",
      "Writing user ratings data\n",
      "Writing user tick data\n",
      "Climb Added!\n",
      "52 Trying climb: /v/weapons-of-mass-destruction/108287084\n",
      "Writing comments\n",
      "Writing user star data\n",
      "Writing user ratings data\n",
      "Writing user tick data\n",
      "Climb Added!\n",
      "53 Trying climb: /v/room-with-a-view/106079982\n",
      "Writing comments\n",
      "Writing user star data\n",
      "Writing user ratings data\n",
      "Writing user tick data\n",
      "Climb Added!\n",
      "54 Trying climb: /v/room-with-a-view-2/106079993\n",
      "Writing comments\n",
      "Writing user star data\n",
      "Writing user ratings data\n",
      "Writing user tick data\n",
      "Climb Added!\n",
      "55 Trying climb: /v/cripple-crack/106136209\n",
      "Writing comments\n",
      "Writing user star data\n",
      "Writing user ratings data\n",
      "Writing user tick data\n",
      "Climb Added!\n",
      "56 Trying climb: /v/the-ramp/106213727\n",
      "Writing comments\n",
      "Writing user star data\n",
      "Writing user ratings data\n",
      "Writing user tick data\n",
      "Climb Added!\n",
      "57 Trying climb: /v/56-crack/106370696\n",
      "Writing comments\n",
      "Writing user star data\n",
      "Writing user ratings data\n",
      "Writing user tick data\n",
      "Climb Added!\n",
      "58 Trying climb: /v/pinnacle-standard/106370723\n",
      "Have climb already.\n",
      "59 Trying climb: /v/strawberry-crack/106370711\n",
      "Have climb already.\n",
      "60 Trying climb: /v/wide-crack/106497970\n",
      "Have climb already.\n",
      "61 Trying climb: /v/jerrys-variation/107758206\n",
      "Have climb already.\n",
      "62 Trying climb: /v/the-fiver/106497956\n",
      "Have climb already.\n",
      "63 Trying climb: /v/jerrys-route/107758232\n",
      "Have climb already.\n",
      "64 Trying climb: /v/blind-black-babies/106255818\n",
      "Have climb already.\n",
      "65 Trying climb: /v/rosebush-crack/106288990\n",
      "Have climb already.\n",
      "66 Trying climb: /v/slanting-dihedral/106430666\n",
      "Have climb already.\n",
      "67 Trying climb: /v/wizards-well/106870487\n",
      "Have climb already.\n",
      "68 Trying climb: /v/silent-rock/107758255\n",
      "Have climb already.\n",
      "69 Trying climb: /v/cardiac-bypass/107758297\n",
      "Have climb already.\n",
      "70 Trying climb: /v/theoretically/106252233\n",
      "Have climb already.\n",
      "71 Trying climb: /v/last-of-the-wild-ones-variation/107238707\n",
      "Have climb already.\n",
      "72 Trying climb: /v/tough-trip-through-paradise/107238683\n",
      "Have climb already.\n",
      "73 Trying climb: /v/abes-a-bitch/106300671\n",
      "Have climb already.\n",
      "74 Trying climb: /v/smoosh/107550548\n",
      "Have climb already.\n",
      "75 Trying climb: /v/achmed-the-dead-terrorist/107552857\n",
      "Have climb already.\n",
      "76 Trying climb: /v/evolution-dance/107550564\n",
      "Have climb already.\n",
      "77 Trying climb: /v/greenos-oil-can/107550138\n",
      "Have climb already.\n",
      "78 Trying climb: /v/peopleburg/107549603\n",
      "Have climb already.\n",
      "79 Trying climb: /v/let-the-healing-begin/107549615\n",
      "Have climb already.\n",
      "80 Trying climb: /v/dikes-edge/106421769\n",
      "Have climb already.\n",
      "81 Trying climb: /v/the-corner/107110153\n",
      "Have climb already.\n",
      "82 Trying climb: /v/iron-monger/107110131\n",
      "Have climb already.\n",
      "83 Trying climb: /v/11th-commandment-/107110349\n",
      "Have climb already.\n",
      "84 Trying climb: /v/razorback/107110306\n",
      "Have climb already.\n",
      "85 Trying climb: /v/the-tempest/107110111\n",
      "Have climb already.\n",
      "86 Trying climb: /v/town-pump/107110573\n",
      "Have climb already.\n",
      "87 Trying climb: /v/botulism/107110318\n",
      "Have climb already.\n",
      "88 Trying climb: /v/fire-drill/107110357\n",
      "Have climb already.\n",
      "89 Trying climb: /v/pleasant-surprise/107110611\n",
      "Have climb already.\n",
      "90 Trying climb: /v/flying-time/107111230\n",
      "Have climb already.\n",
      "91 Trying climb: /v/venus-de-milo/106547464\n",
      "Have climb already.\n",
      "92 Trying climb: /v/classic-crack/106547437\n",
      "Have climb already.\n",
      "93 Trying climb: /v/arms-race/106547430\n",
      "Have climb already.\n",
      "94 Trying climb: /v/outermost-limits/107110067\n",
      "Have climb already.\n",
      "95 Trying climb: /v/sleeping-beauty-/106548683\n",
      "Have climb already.\n",
      "96 Trying climb: /v/elmo/107110074\n",
      "Have climb already.\n",
      "97 Trying climb: /v/lichen-to-fly/107110081\n",
      "Have climb already.\n",
      "98 Trying climb: /v/club-foot/107111115\n",
      "Have climb already.\n",
      "99 Trying climb: /v/standard-route/106554832\n",
      "Have climb already.\n",
      "100 Trying climb: /v/the-jack-attack/106597343\n",
      "Have climb already.\n",
      "101 Trying climb: /v/nagasaki/107666979\n",
      "Have climb already.\n",
      "102 Trying climb: /v/hiroshima/109040893\n",
      "Have climb already.\n",
      "103 Trying climb: /v/the-natural/107666989\n",
      "Have climb already.\n",
      "104 Trying climb: /v/fatman/107667002\n",
      "Have climb already.\n",
      "105 Trying climb: /v/duck-and-cover/107692898\n",
      "Have climb already.\n",
      "106 Trying climb: /v/when-the-time-comes-/107662079\n",
      "Have climb already.\n",
      "107 Trying climb: /v/fright-train/108131314\n",
      "Have climb already.\n",
      "108 Trying climb: /v/black-russian/108285033\n",
      "Have climb already.\n",
      "109 Trying climb: /v/china-crisis/107149472\n",
      "Have climb already.\n",
      "110 Trying climb: /v/train-wreck/107282684\n",
      "Have climb already.\n",
      "111 Trying climb: /v/the-little-drill-that-couldnt/107666939\n",
      "Have climb already.\n",
      "112 Trying climb: /v/unknown/107666971\n",
      "Have climb already.\n",
      "113 Trying climb: /v/public-enema/108892255\n",
      "Have climb already.\n",
      "114 Trying climb: /v/public-enemy/108892271\n",
      "Have climb already.\n",
      "115 Trying climb: /v/public-service/108236566\n",
      "Have climb already.\n",
      "116 Trying climb: /v/dodge-ball/107692883\n",
      "Have climb already.\n",
      "117 Trying climb: /v/peer-pressure/107692878\n",
      "Have climb already.\n",
      "118 Trying climb: /v/schools-out/107692888\n",
      "Have climb already.\n",
      "119 Trying climb: /v/physical-development/107692893\n",
      "Have climb already.\n",
      "120 Trying climb: /v/shoshone-south-face/106679643\n",
      "Have climb already.\n",
      "121 Trying climb: /v/timebinder/106954084\n",
      "Have climb already.\n",
      "122 Trying climb: /v/standard-route/108401251\n",
      "Have climb already.\n",
      "123 Trying climb: /v/skin-diver/107656940\n",
      "Have climb already.\n",
      "124 Trying climb: /v/south-sea/107656976\n",
      "Have climb already.\n",
      "125 Trying climb: /v/sea-bucket/107657049\n",
      "Have climb already.\n",
      "126 Trying climb: /v/under-the-sea/107657027\n",
      "Have climb already.\n",
      "127 Trying climb: /v/coral-crimper/108264814\n",
      "Have climb already.\n",
      "128 Trying climb: /v/batman/107643164\n",
      "Have climb already.\n",
      "129 Trying climb: /v/robin/107643205\n",
      "Have climb already.\n",
      "130 Trying climb: /v/left-prow/107756999\n",
      "Have climb already.\n",
      "131 Trying climb: /v/ignition/107077816\n",
      "Have climb already.\n",
      "132 Trying climb: /v/walkup/107540672\n",
      "Have climb already.\n",
      "133 Trying climb: /v/prime-rib/107483806\n",
      "Have climb already.\n",
      "134 Trying climb: /v/reuben/107540547\n",
      "Have climb already.\n",
      "135 Trying climb: /v/the-mutt-and-jeff/107321383\n",
      "Have climb already.\n",
      "136 Trying climb: /v/southwest-face/108184861\n",
      "Have climb already.\n",
      "137 Trying climb: /v/steppin-out/107111463\n",
      "Have climb already.\n",
      "138 Trying climb: /v/shredder/107111449\n",
      "Have climb already.\n",
      "139 Trying climb: /v/puppy-teeth/107111473\n",
      "Have climb already.\n",
      "140 Trying climb: /v/snake-eye/107111297\n",
      "Have climb already.\n",
      "141 Trying climb: /v/dont-put-your-hand-in-it/107111306\n",
      "Have climb already.\n",
      "142 Trying climb: /v/st-louis-direct/107111318\n",
      "Have climb already.\n",
      "143 Trying climb: /v/the-fellowship/107077795\n",
      "Have climb already.\n",
      "144 Trying climb: /v/cold-forged-steel/107078083\n",
      "Have climb already.\n",
      "145 Trying climb: /v/no-dick-tick-/107487718\n",
      "Have climb already.\n",
      "146 Trying climb: /v/no-sweat-arete/107213152\n",
      "Have climb already.\n",
      "147 Trying climb: /v/chocolate-muffin-warmup/108084715\n",
      "Have climb already.\n",
      "148 Trying climb: /v/skipping-stones-into-my-childhood/108072015\n",
      "Have climb already.\n",
      "149 Trying climb: /v/christianity-on-demand/108072027\n",
      "Have climb already.\n",
      "150 Trying climb: /v/snap-dragon/108117350\n",
      "Have climb already.\n",
      "151 Trying climb: /v/bird-of-paradise/108117365\n",
      "Have climb already.\n",
      "152 Trying climb: /v/labors-of-lust/108117401\n",
      "Have climb already.\n",
      "153 Trying climb: /v/black-parade/108072051\n",
      "Have climb already.\n",
      "154 Trying climb: /v/winds-of-deception/108117390\n",
      "Have climb already.\n",
      "155 Trying climb: /v/stranger-than-fiction/108117383\n",
      "Have climb already.\n",
      "156 Trying climb: /v/hillbilly-heaven/108117540\n",
      "Have climb already.\n",
      "157 Trying climb: /v/himalayas-calling/108117584\n",
      "Have climb already.\n",
      "158 Trying climb: /v/cat-nip/108117451\n",
      "Have climb already.\n",
      "159 Trying climb: /v/bioluminescence/108117741\n",
      "Have climb already.\n",
      "160 Trying climb: /v/quality-control/108117522\n",
      "Have climb already.\n",
      "161 Trying climb: /v/porcelain-wall/108117615\n",
      "Have climb already.\n",
      "162 Trying climb: /v/panthalassa/107631207\n",
      "Have climb already.\n",
      "163 Trying climb: /v/blood-and-bolts/106899362\n",
      "Have climb already.\n",
      "164 Trying climb: /v/sullys-route/106445447\n",
      "Have climb already.\n",
      "165 Trying climb: /v/dancing-bare-naked-ladies/108934313\n",
      "Have climb already.\n",
      "166 Trying climb: /v/josh-was-grounded/108934274\n",
      "Have climb already.\n",
      "167 Trying climb: /v/lead-between-the-lines/108934293\n",
      "Have climb already.\n",
      "168 Trying climb: /v/the-amazing-chuck-and-grace/109261687\n",
      "Have climb already.\n",
      "169 Trying climb: /v/blackorette/109074345\n",
      "Have climb already.\n",
      "170 Trying climb: /v/gobis-in-the-dark/108077172\n",
      "Have climb already.\n",
      "171 Trying climb: /v/jens/108077182\n",
      "Have climb already.\n",
      "172 Trying climb: /v/quick-tease/108078025\n",
      "Have climb already.\n",
      "173 Trying climb: /v/yellowstone-poseidon-adventures/108111074\n",
      "Have climb already.\n",
      "174 Trying climb: /v/dam-in-the-rain/109074357\n",
      "Have climb already.\n",
      "175 Trying climb: /v/french-connection/108077213\n",
      "Have climb already.\n",
      "176 Trying climb: /v/one-bullet-to-many/108077200\n",
      "Have climb already.\n",
      "177 Trying climb: /v/flake-fest/108077894\n",
      "Have climb already.\n",
      "178 Trying climb: /v/rancho-deluxe/107527732\n",
      "Have climb already.\n",
      "179 Trying climb: /v/montana-centennial-route/106881785\n",
      "Have climb already.\n",
      "180 Trying climb: /v/thunderbolt-and-lightfeet/107692743\n",
      "Have climb already.\n",
      "181 Trying climb: /v/righteous-are-the-brave/107758460\n",
      "Have climb already.\n",
      "182 Trying climb: /v/ladyfingers/107790537\n",
      "Have climb already.\n",
      "183 Trying climb: /v/cutthroats-dont-wear-plaid/108182312\n",
      "Have climb already.\n",
      "184 Trying climb: /v/manly-fingertips/108182263\n",
      "Have climb already.\n",
      "185 Trying climb: /v/pocket-hunter/108336648\n",
      "Have climb already.\n",
      "186 Trying climb: /v/dream-catcher/108336680\n",
      "Have climb already.\n",
      "187 Trying climb: /v/dirty-bird/108143488\n",
      "Have climb already.\n",
      "188 Trying climb: /v/takin-care-of-business/108143511\n",
      "Have climb already.\n",
      "189 Trying climb: /v/blue-collar/108143515\n",
      "Have climb already.\n",
      "190 Trying climb: /v/dream-weaver/108217267\n",
      "Have climb already.\n",
      "191 Trying climb: /v/beginners-lead/108397976\n",
      "Have climb already.\n",
      "192 Trying climb: /v/automatic-pilot-/108397987\n",
      "Have climb already.\n",
      "193 Trying climb: /v/cruise-control/108398015\n",
      "Have climb already.\n",
      "194 Trying climb: /v/white-line/109284796\n",
      "Have climb already.\n",
      "Done!\n"
     ]
    }
   ],
   "source": [
    "#climbs = get_climbs(base_url, walls)\n",
    "#Metamorphosis, /v/masterpiece/105878204\n",
    "cur.execute('SELECT climb_id FROM tb_climb')\n",
    "done_climbs = set([r[0] for r in cur])\n",
    "error_list = []\n",
    "\n",
    "climbs = mt_climb_list\n",
    "for j,climb in enumerate(climbs): \n",
    "    try: \n",
    "    #if True:\n",
    "        print j, 'Trying climb:', climb\n",
    "        climb_id_str = climb.split('/')[-1]\n",
    "        climb_id = int(climb_id_str)\n",
    "        if climb_id in done_climbs:\n",
    "            print \"Have climb already.\"\n",
    "            continue    \n",
    "        soup = BeautifulSoup(requests.get(base_url+climb).content)\n",
    "\n",
    "        #Collecting data\n",
    "        #Climb data\n",
    "        (climb_name, location, climb_type, yds,\n",
    "         yds_consensus, stars, star_votes) = get_climb_data(soup)\n",
    "        #Comment data\n",
    "        user_comments_tup = get_comments(soup)\n",
    "\n",
    "        #User data\n",
    "        user_url = base_url+'/scripts/ShowObjectStats.php?id='+climb_id_str\n",
    "        soup_user = BeautifulSoup(requests.get(user_url).content)\n",
    "        user_stars_tup = get_stars(soup_user)\n",
    "        user_ratings_tup = get_ratings(soup_user)\n",
    "        user_ticks_tup = get_ticks(soup_user)\n",
    "\n",
    "        #Adding to databases\n",
    "\n",
    "        #Writing climb data\n",
    "\n",
    "        cur.execute(\"INSERT INTO tb_climb VALUES(%s, %s, %s, %s, %s, %s, %s, %s)\",\n",
    "                    (climb_id,\n",
    "                     climb_name,\n",
    "                     location,\n",
    "                     climb_type,\n",
    "                     yds, \n",
    "                     yds_consensus,\n",
    "                     stars,\n",
    "                     star_votes\n",
    "                    ))\n",
    "\n",
    "        print 'Writing comments'\n",
    "        for i in range(len(user_comments_tup[0])):\n",
    "            cur.execute(\"INSERT INTO comments VALUES(%s, %s, %s, %s)\",\n",
    "                        (user_comments_tup[1][i],\n",
    "                         climb_name,\n",
    "                         climb_id,\n",
    "                         user_comments_tup[0][i]\n",
    "                        ))\n",
    "\n",
    "        print 'Writing user star data'\n",
    "        for i in range(len(user_stars_tup[0])):\n",
    "            cur.execute(\"INSERT INTO stars VALUES(%s, %s, %s, %s, %s)\",\n",
    "                    (user_stars_tup[1][i],\n",
    "                     climb_name,\n",
    "                     user_stars_tup[0][i],\n",
    "                     climb_id,\n",
    "                     user_stars_tup[2][i]\n",
    "                    ))    \n",
    "\n",
    "        print 'Writing user ratings data'\n",
    "        for i in range(len(user_ratings_tup[0])):\n",
    "            cur.execute(\"INSERT INTO ratings VALUES(%s, %s, %s, %s, %s, %s)\",\n",
    "                    (user_ratings_tup[1][i],\n",
    "                     climb_name,\n",
    "                     user_ratings_tup[0][i],\n",
    "                     climb_id,\n",
    "                     user_ratings_tup[2][i],\n",
    "                     user_ratings_tup[3][i]\n",
    "                    ))\n",
    "\n",
    "        print 'Writing user tick data'\n",
    "        for i in range(len(user_ticks_tup[0])):\n",
    "            cur.execute(\"INSERT INTO ticks VALUES(%s, %s, %s, %s, %s)\",\n",
    "                    (user_ticks_tup[1][i],\n",
    "                     climb_name,\n",
    "                     user_ticks_tup[0][i],\n",
    "                     climb_id,\n",
    "                     user_ticks_tup[2][i]\n",
    "                    ))\n",
    "        con.commit()\n",
    "\n",
    "        done_climbs.add(climb)\n",
    "        print 'Climb Added!'\n",
    "    except:\n",
    "        error_list += [climb]\n",
    "        print \"Climb NOT added.\"\n",
    "    time.sleep(1.5*(1+np.random.rand()))\n",
    "print \"Done!\""
   ]
  },
  {
   "cell_type": "code",
   "execution_count": 560,
   "metadata": {
    "collapsed": false,
    "scrolled": false
   },
   "outputs": [
    {
     "data": {
      "text/plain": [
       "1"
      ]
     },
     "execution_count": 560,
     "metadata": {},
     "output_type": "execute_result"
    }
   ],
   "source": [
    "len(error_list)"
   ]
  },
  {
   "cell_type": "markdown",
   "metadata": {
    "collapsed": true
   },
   "source": [
    "##Get climbs by mp search results"
   ]
  },
  {
   "cell_type": "code",
   "execution_count": 629,
   "metadata": {
    "collapsed": true
   },
   "outputs": [],
   "source": [
    "#Get all climbs with at least 5 votes in NH\n",
    "\n",
    "nh_url = 'http://www.mountainproject.com/scripts/Search.php?searchType=routeFinder&minVotes=10&selectedIds=%27105872225%27&type=rock&diffMinrock=1000&diffMinboulder=20000&diffMinaid=70000&diffMinice=30000&diffMinmixed=50000&diffMaxrock=12300&diffMaxboulder=21400&diffMaxaid=75260&diffMaxice=38500&diffMaxmixed=60000&is_trad_climb=1&is_sport_climb=1&is_top_rope=1&stars=0&pitches=0&sort1=area&sort2=rating'\n",
    "nh_url = 'http://www.mountainproject.com/scripts/Search.php?searchType=routeFinder&minVotes=10&selectedIds=%27105872225%27&type=rock&diffMinrock=1000&diffMinboulder=20000&diffMinaid=70000&diffMinice=30000&diffMinmixed=50000&diffMaxrock=12300&diffMaxboulder=21400&diffMaxaid=75260&diffMaxice=38500&diffMaxmixed=60000&is_trad_climb=1&is_sport_climb=1&is_top_rope=1&stars=0&pitches=0&sort1=area&sort2=rating&page=1'\n",
    "nh_url = 'http://www.mountainproject.com/scripts/Search.php?searchType=routeFinder&minVotes=5&selectedIds=%27105872225%27&type=rock&diffMinrock=1000&diffMinboulder=20000&diffMinaid=70000&diffMinice=30000&diffMinmixed=50000&diffMaxrock=12300&diffMaxboulder=21400&diffMaxaid=75260&diffMaxice=38500&diffMaxmixed=60000&is_trad_climb=1&is_sport_climb=1&is_top_rope=1&stars=0&pitches=0&sort1=area&sort2=rating&page='\n",
    "nh_climb_list = []\n",
    "for i in range(17):\n",
    "    nh_soup = BeautifulSoup(requests.get(nh_url+str(i+1)).content)\n",
    "    climb_table = nh_soup.findAll('table', {'class':'objectList'})[1]\n",
    "    nh_climb_list += [row.findNext('a')['href'] for row in climb_table.findAll('tr')[1:]]"
   ]
  },
  {
   "cell_type": "code",
   "execution_count": 640,
   "metadata": {
    "collapsed": true
   },
   "outputs": [],
   "source": [
    "ky_url = 'http://www.mountainproject.com/scripts/Search.php?searchType=routeFinder&minVotes=5&selectedIds=%27105868674%27&type=rock&diffMinrock=1000&diffMinboulder=20000&diffMinaid=70000&diffMinice=30000&diffMinmixed=50000&diffMaxrock=12300&diffMaxboulder=21400&diffMaxaid=75260&diffMaxice=38500&diffMaxmixed=60000&is_trad_climb=1&is_sport_climb=1&is_top_rope=1&stars=0&pitches=0&sort1=area&sort2=rating&page='\n",
    "ky_climb_list = []\n",
    "for i in range(14):\n",
    "    ky_soup = BeautifulSoup(requests.get(ky_url+str(i+1)).content)\n",
    "    climb_table = ky_soup.findAll('table', {'class':'objectList'})[1]\n",
    "    ky_climb_list += [row.findNext('a')['href'] for row in climb_table.findAll('tr')[1:]]"
   ]
  },
  {
   "cell_type": "code",
   "execution_count": 628,
   "metadata": {
    "collapsed": false
   },
   "outputs": [],
   "source": [
    "climb_table = nh_soup.findAll('table', {'class':'objectList'})[1]\n",
    "nh_climb_list += [row.findNext('a')['href'] for row in climb_table.findAll('tr')[1:]]"
   ]
  },
  {
   "cell_type": "code",
   "execution_count": 641,
   "metadata": {
    "collapsed": false
   },
   "outputs": [
    {
     "data": {
      "text/plain": [
       "674"
      ]
     },
     "execution_count": 641,
     "metadata": {},
     "output_type": "execute_result"
    }
   ],
   "source": [
    "len(ky_climb_list)"
   ]
  },
  {
   "cell_type": "code",
   "execution_count": 5,
   "metadata": {
    "collapsed": false
   },
   "outputs": [
    {
     "name": "stdout",
     "output_type": "stream",
     "text": [
      "Number of climbs:\n",
      "945\n"
     ]
    }
   ],
   "source": [
    "#Climb urls from search results\n",
    "nv_url = 'http://www.mountainproject.com/scripts/Search.php?searchType=routeFinder&minVotes=5&selectedIds=%27105708961%27&type=rock&diffMinrock=1000&diffMinboulder=20000&diffMinaid=70000&diffMinice=30000&diffMinmixed=50000&diffMaxrock=12300&diffMaxboulder=21400&diffMaxaid=75260&diffMaxice=38500&diffMaxmixed=60000&is_trad_climb=1&is_sport_climb=1&is_top_rope=1&stars=0&pitches=0&sort1=area&sort2=rating'\n",
    "nv_climbs =get_climbs_mpsearch(nv_url, 19, True)\n"
   ]
  },
  {
   "cell_type": "code",
   "execution_count": 31,
   "metadata": {
    "collapsed": false
   },
   "outputs": [
    {
     "name": "stdout",
     "output_type": "stream",
     "text": [
      "Number of climbs:\n",
      "282\n"
     ]
    }
   ],
   "source": [
    "maple_can_url = 'http://www.mountainproject.com/scripts/Search.php?searchType=routeFinder&minVotes=5&selectedIds=%27105739298%27&type=rock&diffMinrock=1000&diffMinboulder=20000&diffMinaid=70000&diffMinice=30000&diffMinmixed=50000&diffMaxrock=12300&diffMaxboulder=21400&diffMaxaid=75260&diffMaxice=38500&diffMaxmixed=60000&is_trad_climb=1&is_sport_climb=1&is_top_rope=1&stars=0&pitches=0&sort1=area&sort2=rating'\n",
    "maple_can_climb_list = get_climbs_mpsearch(maple_can_url, 6, True)"
   ]
  },
  {
   "cell_type": "code",
   "execution_count": 9,
   "metadata": {
    "collapsed": false
   },
   "outputs": [
    {
     "name": "stdout",
     "output_type": "stream",
     "text": [
      "Number of climbs:\n",
      "809\n"
     ]
    }
   ],
   "source": [
    "moab_url = 'http://www.mountainproject.com/scripts/Search.php?searchType=routeFinder&minVotes=5&selectedIds=%27105716711%27&type=rock&diffMinrock=1000&diffMinboulder=20000&diffMinaid=70000&diffMinice=30000&diffMinmixed=50000&diffMaxrock=12300&diffMaxboulder=21400&diffMaxaid=75260&diffMaxice=38500&diffMaxmixed=60000&is_trad_climb=1&is_sport_climb=1&is_top_rope=1&stars=0&pitches=0&sort1=area&sort2=rating'\n",
    "moab_climb_list = get_climbs_mpsearch(moab_url, 17, True)"
   ]
  },
  {
   "cell_type": "code",
   "execution_count": 9,
   "metadata": {
    "collapsed": false
   },
   "outputs": [
    {
     "name": "stdout",
     "output_type": "stream",
     "text": [
      "Number of climbs:\n",
      "430\n"
     ]
    }
   ],
   "source": [
    "little_cotten_url = 'http://www.mountainproject.com/scripts/Search.php?searchType=routeFinder&minVotes=5&selectedIds=%27105739277%27&type=rock&diffMinrock=1000&diffMinboulder=20000&diffMinaid=70000&diffMinice=30000&diffMinmixed=50000&diffMaxrock=12300&diffMaxboulder=21400&diffMaxaid=75260&diffMaxice=38500&diffMaxmixed=60000&is_trad_climb=1&is_sport_climb=1&is_top_rope=1&stars=0&pitches=0&sort1=area&sort2=rating'\n",
    "little_cotten_climb_list = get_climbs_mpsearch(little_cotten_url,9,'little_cotten')"
   ]
  },
  {
   "cell_type": "code",
   "execution_count": 12,
   "metadata": {
    "collapsed": true
   },
   "outputs": [],
   "source": [
    "base_url = 'http://mountainproject.com'"
   ]
  },
  {
   "cell_type": "code",
   "execution_count": 13,
   "metadata": {
    "collapsed": true
   },
   "outputs": [],
   "source": [
    "rumney = 'v/rumney/105867829'"
   ]
  },
  {
   "cell_type": "code",
   "execution_count": 298,
   "metadata": {
    "collapsed": false
   },
   "outputs": [],
   "source": [
    "rumney_soup = BeautifulSoup(requests.get(base_url+'/'+rumney).content)"
   ]
  },
  {
   "cell_type": "code",
   "execution_count": 299,
   "metadata": {
    "collapsed": false
   },
   "outputs": [],
   "source": [
    "#walls= [a['href'] for a in rumney_soup.select(\\\n",
    "#        '#mpbox1995446815 br ~ a[href^=\"/v/\"]')]"
   ]
  },
  {
   "cell_type": "code",
   "execution_count": 6,
   "metadata": {
    "collapsed": false
   },
   "outputs": [
    {
     "ename": "NameError",
     "evalue": "name 'base_url' is not defined",
     "output_type": "error",
     "traceback": [
      "\u001b[0;31m---------------------------------------------------------------------------\u001b[0m",
      "\u001b[0;31mNameError\u001b[0m                                 Traceback (most recent call last)",
      "\u001b[0;32m<ipython-input-6-dd15895ea40c>\u001b[0m in \u001b[0;36m<module>\u001b[0;34m()\u001b[0m\n\u001b[1;32m      1\u001b[0m \u001b[0mclimb\u001b[0m \u001b[0;34m=\u001b[0m \u001b[0;34m'/v/waimea/105867832'\u001b[0m\u001b[0;34m\u001b[0m\u001b[0m\n\u001b[1;32m      2\u001b[0m \u001b[0;34m\u001b[0m\u001b[0m\n\u001b[0;32m----> 3\u001b[0;31m \u001b[0marea_soup\u001b[0m \u001b[0;34m=\u001b[0m \u001b[0mBeautifulSoup\u001b[0m\u001b[0;34m(\u001b[0m\u001b[0mrequests\u001b[0m\u001b[0;34m.\u001b[0m\u001b[0mget\u001b[0m\u001b[0;34m(\u001b[0m\u001b[0mbase_url\u001b[0m\u001b[0;34m+\u001b[0m\u001b[0mclimb\u001b[0m\u001b[0;34m)\u001b[0m\u001b[0;34m.\u001b[0m\u001b[0mcontent\u001b[0m\u001b[0;34m)\u001b[0m\u001b[0;34m\u001b[0m\u001b[0m\n\u001b[0m\u001b[1;32m      4\u001b[0m \u001b[0;34m\u001b[0m\u001b[0m\n\u001b[1;32m      5\u001b[0m \u001b[0;32mdef\u001b[0m \u001b[0mget_areas\u001b[0m\u001b[0;34m(\u001b[0m\u001b[0marea_soup\u001b[0m\u001b[0;34m)\u001b[0m\u001b[0;34m:\u001b[0m\u001b[0;34m\u001b[0m\u001b[0m\n",
      "\u001b[0;31mNameError\u001b[0m: name 'base_url' is not defined"
     ]
    }
   ],
   "source": [
    "climb = '/v/waimea/105867832'\n",
    "\n",
    "area_soup = BeautifulSoup(requests.get(base_url+climb).content)\n",
    "\n",
    "def get_areas(area_soup):\n",
    "    \n",
    "    #check if climb\n",
    "    \n",
    "    walls= [a['href'] for a in area_soup.select(\\\n",
    "        '#viewerLeftNavColContent > div:nth-of-type(1)   a[href^=\"/v/\"]')]\n",
    "    return walls\n",
    "get_areas(area_soup)"
   ]
  },
  {
   "cell_type": "code",
   "execution_count": 7,
   "metadata": {
    "collapsed": false
   },
   "outputs": [
    {
     "ename": "NameError",
     "evalue": "name 'base_url' is not defined",
     "output_type": "error",
     "traceback": [
      "\u001b[0;31m---------------------------------------------------------------------------\u001b[0m",
      "\u001b[0;31mNameError\u001b[0m                                 Traceback (most recent call last)",
      "\u001b[0;32m<ipython-input-7-e08a1e90ef53>\u001b[0m in \u001b[0;36m<module>\u001b[0;34m()\u001b[0m\n\u001b[1;32m     13\u001b[0m         \u001b[0;31m#climbs = wall_soup[wall].select('#viewerLeftNavColContent > div:nth-of-type(1)   a[href^=\"/v/\"]')\u001b[0m\u001b[0;34m\u001b[0m\u001b[0;34m\u001b[0m\u001b[0m\n\u001b[1;32m     14\u001b[0m     \u001b[0;32mreturn\u001b[0m \u001b[0mclimbs\u001b[0m\u001b[0;34m\u001b[0m\u001b[0m\n\u001b[0;32m---> 15\u001b[0;31m \u001b[0mclimbs\u001b[0m \u001b[0;34m=\u001b[0m \u001b[0mget_climbs\u001b[0m\u001b[0;34m(\u001b[0m\u001b[0mbase_url\u001b[0m\u001b[0;34m,\u001b[0m \u001b[0mwalls\u001b[0m\u001b[0;34m[\u001b[0m\u001b[0;36m4\u001b[0m\u001b[0;34m:\u001b[0m\u001b[0;36m9\u001b[0m\u001b[0;34m]\u001b[0m\u001b[0;34m)\u001b[0m\u001b[0;34m\u001b[0m\u001b[0m\n\u001b[0m\u001b[1;32m     16\u001b[0m \u001b[0mclimbs\u001b[0m\u001b[0;34m\u001b[0m\u001b[0m\n",
      "\u001b[0;31mNameError\u001b[0m: name 'base_url' is not defined"
     ]
    }
   ],
   "source": [
    "def get_climbs(base_url, walls): \n",
    "    wall_soup = {}\n",
    "\n",
    "    #climbs = [a['href'] for a in wall_soup[wall].select(\\\n",
    "    #        '#viewerLeftNavColContent > div:nth-of-type(1)   a[href^=\"/v/\"]')]\n",
    "    climbs = []\n",
    "    for wall in walls:\n",
    "        time.sleep(2)\n",
    "        print 'wall:', wall\n",
    "        wall_soup[wall] = BeautifulSoup(requests.get(base_url+wall).content)\n",
    "        climbs += [a['href'] for a in wall_soup[wall].select(\\\n",
    "            '#viewerLeftNavColContent > div:nth-of-type(1)   a[href^=\"/v/\"]')][1:]\n",
    "\n",
    "        #climbs = wall_soup[wall].select('#viewerLeftNavColContent > div:nth-of-type(1)   a[href^=\"/v/\"]')\n",
    "    return climbs\n",
    "climbs = get_climbs(base_url, walls[4:9])\n",
    "climbs"
   ]
  },
  {
   "cell_type": "code",
   "execution_count": 583,
   "metadata": {
    "collapsed": false
   },
   "outputs": [],
   "source": [
    "a = climb1_soup.findAll('table',{'cellpadding':'0'})"
   ]
  },
  {
   "cell_type": "code",
   "execution_count": 595,
   "metadata": {
    "collapsed": false,
    "scrolled": false
   },
   "outputs": [],
   "source": [
    "#print user_content"
   ]
  },
  {
   "cell_type": "code",
   "execution_count": null,
   "metadata": {
    "collapsed": false,
    "scrolled": false
   },
   "outputs": [],
   "source": [
    "#print(soup_user.prettify())"
   ]
  },
  {
   "cell_type": "code",
   "execution_count": null,
   "metadata": {
    "collapsed": false,
    "scrolled": false
   },
   "outputs": [],
   "source": [
    "#print(soup_user.prettify())"
   ]
  },
  {
   "cell_type": "markdown",
   "metadata": {},
   "source": [
    "##Climb Data"
   ]
  },
  {
   "cell_type": "code",
   "execution_count": 126,
   "metadata": {
    "collapsed": false
   },
   "outputs": [],
   "source": [
    "soup = BeautifulSoup(requests.get('http://www.mountainproject.com/v/critical-view/105715007').content)"
   ]
  },
  {
   "cell_type": "code",
   "execution_count": 17,
   "metadata": {
    "collapsed": false
   },
   "outputs": [
    {
     "name": "stdout",
     "output_type": "stream",
     "text": [
      "Waimea\n",
      "105867858\n",
      "Waimea\n",
      "New Hampshire,Rumney,Waimea\n",
      "Sport, 1 pitch, 50'\n",
      "yds: 5.10d\n",
      "yds_consensus: 5.10d\n",
      "stars: 3.6\n",
      "stars_votes: 181\n"
     ]
    }
   ],
   "source": [
    "print climb_name\n",
    "print climb_id\n",
    "print climb_name\n",
    "print location\n",
    "print climb_type\n",
    "print 'yds:',yds\n",
    "print 'yds_consensus:', yds_consensus\n",
    "print \"stars:\", stars\n",
    "print \"stars_votes:\",star_votes\n"
   ]
  },
  {
   "cell_type": "code",
   "execution_count": null,
   "metadata": {
    "collapsed": false
   },
   "outputs": [],
   "source": []
  },
  {
   "cell_type": "markdown",
   "metadata": {
    "collapsed": true
   },
   "source": [
    "##PostgreSQL"
   ]
  },
  {
   "cell_type": "code",
   "execution_count": 11,
   "metadata": {
    "collapsed": true
   },
   "outputs": [],
   "source": [
    "import psycopg2"
   ]
  },
  {
   "cell_type": "code",
   "execution_count": 545,
   "metadata": {
    "collapsed": true
   },
   "outputs": [],
   "source": [
    "con = None\n",
    "con = psycopg2.connect(database='mountainproject', user='User')\n",
    "cur = con.cursor()\n",
    "con.autocommit = True"
   ]
  },
  {
   "cell_type": "code",
   "execution_count": 510,
   "metadata": {
    "collapsed": false
   },
   "outputs": [],
   "source": [
    "def reset_tb_climb(cur, con):\n",
    "    print \"You don't want to do this.\"\n",
    "    return\n",
    "    try:\n",
    "        cur.execute(\"DROP TABLE tb_climb\")\n",
    "    except:\n",
    "        pass\n",
    "    try:\n",
    "        cur.execute('CREATE TABLE tb_climb(climb_id INTEGER PRIMARY KEY, \\\n",
    "                                       climb_name TEXT, \\\n",
    "                                       location TEXT, \\\n",
    "                                       type_text TEXT,\\\n",
    "                                       yds VARCHAR(10), \\\n",
    "                                       yds_consensus VARCHAR(10), \\\n",
    "                                       stars FLOAT, \\\n",
    "                                       star_votes INT)')\n",
    "    except:\n",
    "        pass\n",
    "\n",
    "    \n",
    "    cur.execute(\"INSERT INTO tb_climb VALUES(%s, %s, %s, %s, %s, %s, %s, %s)\",\n",
    "                (111,\n",
    "                 'Some climb',\n",
    "                 'some place',\n",
    "                 'sport',\n",
    "                 '5.11a', \n",
    "                 '5.6',\n",
    "                 4.2,\n",
    "                 36\n",
    "                ))\n",
    "    con.commit()\n",
    "reset_tb_climb(cur, con)"
   ]
  },
  {
   "cell_type": "code",
   "execution_count": 511,
   "metadata": {
    "collapsed": false
   },
   "outputs": [],
   "source": [
    "def reset_stars(cur, con):\n",
    "    print \"You don't want to do this.\"\n",
    "    return\n",
    "    try:\n",
    "        cur.execute(\"DROP TABLE stars\")\n",
    "    except:\n",
    "        print 'didnt drop'\n",
    "    try:\n",
    "        cur.execute('CREATE TABLE stars(user_id INTEGER, \\\n",
    "                                       climb_name TEXT, \\\n",
    "                                       user_name TEXT, \\\n",
    "                                       climb_id INT,\\\n",
    "                                       user_stars INT)')\n",
    "        \n",
    "    except:\n",
    "        print 'didnt create'\n",
    "        \n",
    "    cur.execute(\"INSERT INTO stars VALUES(%s, %s, %s, %s, %s)\",\n",
    "                (111,\n",
    "                 'some climb',\n",
    "                 'some dude',\n",
    "                 222,\n",
    "                 4\n",
    "                ))\n",
    "    con.commit()\n",
    "reset_stars(cur, con)\n"
   ]
  },
  {
   "cell_type": "code",
   "execution_count": 512,
   "metadata": {
    "collapsed": false
   },
   "outputs": [],
   "source": [
    "def reset_ratings(cur, con):\n",
    "    print \"You don't want to do this.\"\n",
    "    return\n",
    "    try:\n",
    "        cur.execute(\"DROP TABLE ratings\")\n",
    "    except:\n",
    "        print 'didnt drop'\n",
    "    try:\n",
    "        cur.execute('CREATE TABLE ratings(user_id INTEGER, \\\n",
    "                                       climb_name TEXT, \\\n",
    "                                       user_name TEXT, \\\n",
    "                                       climb_id INT,\\\n",
    "                                       user_rating VARCHAR(10),\\\n",
    "                                       user_risk VARCHAR(10))')\n",
    "        \n",
    "    except:\n",
    "        print 'didnt create'\n",
    "        \n",
    "    cur.execute(\"INSERT INTO ratings VALUES(%s, %s, %s, %s, %s, %s)\",\n",
    "                (111,\n",
    "                 'some climb',\n",
    "                 'some dude',\n",
    "                 222,\n",
    "                 '5.11a',\n",
    "                 'PG13'\n",
    "                ))\n",
    "    con.commit()\n",
    "reset_ratings(cur, con)"
   ]
  },
  {
   "cell_type": "code",
   "execution_count": 513,
   "metadata": {
    "collapsed": false
   },
   "outputs": [],
   "source": [
    "def reset_ticks(cur, con):\n",
    "    print \"You don't want to do this.\"\n",
    "    return\n",
    "    try:\n",
    "        cur.execute(\"DROP TABLE ticks\")\n",
    "    except:\n",
    "        print 'didnt drop'\n",
    "    try:\n",
    "        cur.execute('CREATE TABLE ticks(user_id INTEGER, \\\n",
    "                                       climb_name TEXT, \\\n",
    "                                       user_name TEXT, \\\n",
    "                                       climb_id INT,\\\n",
    "                                       tick_date TEXT)')\n",
    "        \n",
    "    except:\n",
    "        print 'didnt create'\n",
    "        \n",
    "    cur.execute(\"INSERT INTO ticks VALUES(%s, %s, %s, %s, %s)\",\n",
    "                (111,\n",
    "                 'some climb',\n",
    "                 'some dude',\n",
    "                 222,\n",
    "                 '1998-03-23'\n",
    "                ))\n",
    "    con.commit()\n",
    "reset_ticks(cur, con)"
   ]
  },
  {
   "cell_type": "code",
   "execution_count": 514,
   "metadata": {
    "collapsed": false
   },
   "outputs": [],
   "source": [
    "def reset_comments(cur, con):\n",
    "    print \"You don't want to do this.\"\n",
    "    try:\n",
    "        cur.execute(\"DROP TABLE comments\")\n",
    "    except:\n",
    "        print 'didnt drop'\n",
    "    try:\n",
    "        cur.execute('CREATE TABLE comments(user_id INTEGER, \\\n",
    "                                       climb_name TEXT, \\\n",
    "                                       climb_id INT,\\\n",
    "                                       comment TEXT)')\n",
    "        \n",
    "    except:\n",
    "        print 'didnt create'\n",
    "        \n",
    "    cur.execute(\"INSERT INTO comments VALUES(%s, %s, %s, %s)\",\n",
    "                (111,\n",
    "                 'some climb',\n",
    "                 222,\n",
    "                 'This is the most scary climb EVAH!!'\n",
    "                ))\n",
    "    con.commit()\n",
    "reset_comments(cur, con)"
   ]
  },
  {
   "cell_type": "code",
   "execution_count": 515,
   "metadata": {
    "collapsed": false
   },
   "outputs": [],
   "source": [
    "df_climb = pd.DataFrame({\n",
    "        'climb': ['A Brief History of Clim'],\n",
    "        'wall': ['The Gallery'],\n",
    "        'sub_area': ['Pendergrass-Murray Recreational Preserve (PMRP)'],\n",
    "        'area': ['Red River Gorge'],\n",
    "        'state': ['Kentucky'],\n",
    "        'climb_id': [106125070],\n",
    "        'yds': ['5.10c'],\n",
    "        'yds_consensus': ['5.10b'],\n",
    "        'stars': [3.6],\n",
    "        'star_vots': [211]\n",
    "    })\n",
    "\n",
    "df_stars = pd.DataFrame({\n",
    "        'climb': ['A Brief History of Climb'],\n",
    "        'climb_id': [106125070],\n",
    "        'user': ['Xzavier Thompson'],\n",
    "        'user_id': [107495403],\n",
    "        'stars': [4]     \n",
    "    })\n",
    "\n",
    "df_rating = pd.DataFrame({\n",
    "        'climb': ['A Brief History of Climb'],\n",
    "        'climb_id': [106125070],  \n",
    "        'user': ['Brandon Marks'],\n",
    "        'user_id': [1070559853],\n",
    "        'rating': ['5.10c']\n",
    "    })\n",
    "\n",
    "df_ticks = pd.DataFrame({\n",
    "        'climb': ['A Brief History of Climb'],\n",
    "        'climb_id': [106125070],\n",
    "        'user': ['KevinLarson'],\n",
    "        'user_id': ['110765384'],\n",
    "        'tick':['Jul 18, 2015']\n",
    "    })"
   ]
  },
  {
   "cell_type": "code",
   "execution_count": null,
   "metadata": {
    "collapsed": false
   },
   "outputs": [],
   "source": []
  },
  {
   "cell_type": "code",
   "execution_count": null,
   "metadata": {
    "collapsed": true
   },
   "outputs": [],
   "source": []
  }
 ],
 "metadata": {
  "kernelspec": {
   "display_name": "Python 2",
   "language": "python",
   "name": "python2"
  },
  "language_info": {
   "codemirror_mode": {
    "name": "ipython",
    "version": 2
   },
   "file_extension": ".py",
   "mimetype": "text/x-python",
   "name": "python",
   "nbconvert_exporter": "python",
   "pygments_lexer": "ipython2",
   "version": "2.7.10"
  }
 },
 "nbformat": 4,
 "nbformat_minor": 0
}
