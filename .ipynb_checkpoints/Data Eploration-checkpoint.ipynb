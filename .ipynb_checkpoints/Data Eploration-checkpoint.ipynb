{
 "cells": [
  {
   "cell_type": "code",
   "execution_count": 1,
   "metadata": {
    "collapsed": true
   },
   "outputs": [],
   "source": [
    "import requests\n",
    "from bs4 import BeautifulSoup\n",
    "import pandas as pd\n",
    "import numpy as np\n",
    "import time\n",
    "import html5lib\n",
    "import psycopg2\n",
    "import pickle"
   ]
  },
  {
   "cell_type": "code",
   "execution_count": 2,
   "metadata": {
    "collapsed": true
   },
   "outputs": [],
   "source": [
    "con = None\n",
    "con = psycopg2.connect(database='mountainproject', user='User')\n",
    "cur = con.cursor()\n",
    "con.autocommit = True"
   ]
  },
  {
   "cell_type": "code",
   "execution_count": null,
   "metadata": {
    "collapsed": false
   },
   "outputs": [],
   "source": [
    "\n",
    "def get_user_id_gte(table='stars', n=5):\n",
    "    #user_ids from users greater than or equal to n reviews\n",
    "    user_id_gte= '''\n",
    "        SELECT user_id\n",
    "        FROM {}\n",
    "        GROUP BY user_id\n",
    "        HAVING COUNT(user_id) >= %s;\n",
    "        '''.format(table)\n",
    "    cur.execute(user_id_gte, (n,) )\n",
    "    tup_list = cur.fetchall()\n",
    "    #return tup_list\n",
    "    return [tup[0] for tup in tup_list]\n",
    "#user_id_list = get_user_id_gte('stars', 5), len(user_id_list)\n"
   ]
  },
  {
   "cell_type": "code",
   "execution_count": 5,
   "metadata": {
    "collapsed": false
   },
   "outputs": [
    {
     "data": {
      "text/plain": [
       "13694"
      ]
     },
     "execution_count": 5,
     "metadata": {},
     "output_type": "execute_result"
    }
   ],
   "source": [
    "def get_climb_id_from_user_id_gte(id_tuple, n, table='stars'):\n",
    "    climb_ids = '''\n",
    "        SELECT climb_id\n",
    "        FROM {}\n",
    "        WHERE user_id IN %s\n",
    "        GROUP BY climb_id\n",
    "        HAVING COUNT(climb_id) >= %s;\n",
    "    '''.format(table)\n",
    "    cur.execute(climb_ids, (id_tuple, n) )\n",
    "    return [tup[0] for tup in cur.fetchall()]\n",
    "#climb_id_list = get_climb_id_from_user_id_gte(tuple(user_id_list), 5), len(climb_id_list)\n"
   ]
  },
  {
   "cell_type": "code",
   "execution_count": 6,
   "metadata": {
    "collapsed": false
   },
   "outputs": [
    {
     "data": {
      "text/plain": [
       "7565"
      ]
     },
     "execution_count": 6,
     "metadata": {},
     "output_type": "execute_result"
    }
   ],
   "source": [
    "def get_user_id_from_climb_id_gte(id_tuple, n, table='stars'):\n",
    "    #Get user ids with at least n reviews in the climb id tuple\n",
    "    user_ids_sql = '''\n",
    "        SELECT user_id\n",
    "        FROM {}\n",
    "        WHERE climb_id IN %s\n",
    "        GROUP BY user_id\n",
    "        HAVING COUNT(user_id) >= %s;\n",
    "    '''.format(table)\n",
    "    cur.execute(user_ids_sql, (id_tuple, n) )\n",
    "    return [tup[0] for tup in cur.fetchall()]\n",
    "#user_id_list2 = get_user_id_from_climb_id_gte(tuple(climb_id_list), 5), len(user_id_list2)\n"
   ]
  },
  {
   "cell_type": "code",
   "execution_count": 30,
   "metadata": {
    "collapsed": false
   },
   "outputs": [
    {
     "name": "stdout",
     "output_type": "stream",
     "text": [
      " climb list: 1\n",
      "user list: 7592\n",
      "climb list: 13694\n",
      "user list: 7565\n",
      "climb list: 13678\n",
      "user list: 7562\n",
      "climb list: 13676\n",
      "user list: 7561\n"
     ]
    }
   ],
   "source": [
    "def find_climb_user_ids(table='stars', n=5):\n",
    "    climb_id_old = [0]\n",
    "    climb_id_new = [-2]\n",
    "    user_id_old = [0]\n",
    "    user_id_new = [-2] \n",
    "    user_id_new = get_user_id_gte(table=table, n=n)\n",
    "    while (set(user_id_old) != set(user_id_new)) and \\\n",
    "            (set(climb_id_old) != set(climb_id_new)):\n",
    "        print \"climb list:\", len(climb_id_new)\n",
    "        print \"user list:\", len(user_id_new)\n",
    "        climb_id_old = climb_id_new\n",
    "        climb_id_new = get_climb_id_from_user_id_gte(tuple(user_id_new), \n",
    "                                                     n,\n",
    "                                                     table=table)\n",
    "        user_id_old = user_id_new\n",
    "        user_id_new = get_user_id_from_climb_id_gte(tuple(climb_id_new),\n",
    "                                                    n,\n",
    "                                                    table=table)\n",
    "        \n",
    "    return user_id_new, climb_id_new\n",
    "\n",
    "#(user_id_list, climb_id_list) = find_climb_user_ids(table='stars', n=5)"
   ]
  },
  {
   "cell_type": "code",
   "execution_count": 18,
   "metadata": {
    "collapsed": true
   },
   "outputs": [],
   "source": [
    "def pickle_id_list(id_list, name):\n",
    "    # Save id list for future use\n",
    "    with open('id_list_'+name+'.p','w') as f:\n",
    "        pickle.dump(id_list, f)"
   ]
  },
  {
   "cell_type": "code",
   "execution_count": 36,
   "metadata": {
    "collapsed": true
   },
   "outputs": [],
   "source": [
    "pickle_id_list(climb_id_list, 'climb_star5')\n",
    "pickle_id_list(user_id_list, 'user_star5')"
   ]
  },
  {
   "cell_type": "code",
   "execution_count": 34,
   "metadata": {
    "collapsed": false
   },
   "outputs": [
    {
     "name": "stdout",
     "output_type": "stream",
     "text": [
      "climb list: 1\n",
      "user list: 7592\n",
      "climb list: 3196\n",
      "user list: 1736\n",
      "climb list: 2149\n",
      "user list: 1456\n",
      "climb list: 1972\n",
      "user list: 1386\n",
      "climb list: 1912\n",
      "user list: 1364\n",
      "climb list: 1897\n",
      "user list: 1352\n",
      "climb list: 1884\n",
      "user list: 1350\n",
      "climb list: 1879\n",
      "user list: 1344\n",
      "climb list: 1871\n",
      "user list: 1337\n",
      "climb list: 1864\n",
      "user list: 1331\n",
      "climb list: 1860\n",
      "user list: 1329\n",
      "climb list: 1857\n",
      "user list: 1327\n",
      "climb list: 1854\n",
      "user list: 1326\n"
     ]
    }
   ],
   "source": [
    "(user_id_list_sub, climb_id_list_sub) = find_climb_user_ids(n=30)"
   ]
  },
  {
   "cell_type": "code",
   "execution_count": 35,
   "metadata": {
    "collapsed": true
   },
   "outputs": [],
   "source": [
    "pickle_id_list(climb_id_list_sub, 'climb_star30')\n",
    "pickle_id_list(user_id_list_sub, 'user_star30')"
   ]
  },
  {
   "cell_type": "code",
   "execution_count": 39,
   "metadata": {
    "collapsed": false
   },
   "outputs": [
    {
     "name": "stdout",
     "output_type": "stream",
     "text": [
      "climb list: 1\n",
      "user list: 7592\n",
      "climb list: 2639\n",
      "user list: 1403\n",
      "climb list: 1560\n",
      "user list: 1019\n",
      "climb list: 1271\n",
      "user list: 872\n",
      "climb list: 1117\n",
      "user list: 793\n",
      "climb list: 1040\n",
      "user list: 754\n",
      "climb list: 996\n",
      "user list: 729\n",
      "climb list: 975\n",
      "user list: 719\n",
      "climb list: 966\n",
      "user list: 716\n",
      "climb list: 959\n",
      "user list: 712\n",
      "climb list: 951\n",
      "user list: 706\n",
      "climb list: 944\n",
      "user list: 702\n",
      "climb list: 942\n",
      "user list: 701\n",
      "climb list: 940\n",
      "user list: 700\n"
     ]
    }
   ],
   "source": [
    "(user_id_list_sub, climb_id_list_sub) = find_climb_user_ids(n=35)"
   ]
  },
  {
   "cell_type": "code",
   "execution_count": null,
   "metadata": {
    "collapsed": true
   },
   "outputs": [],
   "source": [
    "pickle_id_list(climb_id_list_sub, 'climb_star35')\n",
    "pickle_id_list(user_id_list_sub, 'user_star35')"
   ]
  }
 ],
 "metadata": {
  "kernelspec": {
   "display_name": "Python 2",
   "language": "python",
   "name": "python2"
  },
  "language_info": {
   "codemirror_mode": {
    "name": "ipython",
    "version": 2
   },
   "file_extension": ".py",
   "mimetype": "text/x-python",
   "name": "python",
   "nbconvert_exporter": "python",
   "pygments_lexer": "ipython2",
   "version": "2.7.10"
  }
 },
 "nbformat": 4,
 "nbformat_minor": 0
}
