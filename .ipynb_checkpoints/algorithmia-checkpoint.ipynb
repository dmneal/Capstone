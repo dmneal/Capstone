{
 "cells": [
  {
   "cell_type": "code",
   "execution_count": 6,
   "metadata": {
    "collapsed": false
   },
   "outputs": [
    {
     "name": "stdout",
     "output_type": "stream",
     "text": [
      "{\"result\":\"A purely peer-to-peer version of electronic cash would allow online payments to be sent directly from one party to another without going through a financial institution. We propose a solution to the double-spending problem using a peer-to-peer network. The network timestamps transactions by hashing them into an ongoing chain of hash-based proof-of-work, forming a record that cannot be changed without redoing the proof-of-work.\",\"metadata\":{\"content_type\":\"text\",\"duration\":0.000537536}}\n"
     ]
    }
   ],
   "source": [
    "import urllib2, json\n",
    "input = \"A purely peer-to-peer version of electronic cash would allow online payments to be sent directly from one party to another without going through a financial institution. Digital signatures provide part of the solution, but the main benefits are lost if a trusted third party is still required to prevent double-spending. We propose a solution to the double-spending problem using a peer-to-peer network. The network timestamps transactions by hashing them into an ongoing chain of hash-based proof-of-work, forming a record that cannot be changed without redoing the proof-of-work. The longest chain not only serves as proof of the sequence of events witnessed, but proof that it came from the largest pool of CPU power. As long as a majority of CPU power is controlled by nodes that are not cooperating to attack the network, they'll generate the longest chain and outpace attackers. The network itself requires minimal structure. Messages are broadcast on a best effort basis, and nodes can leave and rejoin the network at will, accepting the longest proof-of-work chain as proof of what happened while they were gone.\"\n",
    "request = urllib2.Request('https://api.algorithmia.com/v1/algo/nlp/Summarizer/0.1.2')\n",
    "request.add_header('Content-Type', 'application/json')\n",
    "request.add_header('Authorization', 'Simple simt24UPdCbHfwaD1Mq2+xe1ZyM1')\n",
    "response = urllib2.urlopen(request, json.dumps(input))\n",
    "print response.read()"
   ]
  },
  {
   "cell_type": "code",
   "execution_count": 10,
   "metadata": {
    "collapsed": false,
    "scrolled": true
   },
   "outputs": [],
   "source": [
    "import urllib2, json\n",
    "input = \"https://mountainproject.com\"\n",
    "request = urllib2.Request('https://api.algorithmia.com/v1/algo/web/GetLinks/0.1.3')\n",
    "request.add_header('Content-Type', 'application/json')\n",
    "request.add_header('Authorization', 'Simple simt24UPdCbHfwaD1Mq2+xe1ZyM1')\n",
    "response = urllib2.urlopen(request, json.dumps(input))\n",
    "resp = response.read()"
   ]
  },
  {
   "cell_type": "code",
   "execution_count": 11,
   "metadata": {
    "collapsed": false
   },
   "outputs": [
    {
     "data": {
      "text/plain": [
       "'{\"result\":[\"https://mountainproject.com/v/city-of-rocks/105739322\",\"https://mountainproject.com/r?key=partnerClickTosportiva&url=http%3A%2F%2Fwww.sportiva.com\",\"https://mountainproject.com/v/anchorage--south-central-ice-climbing-/105909315\",\"https://mountainproject.com/v/minnesota/105812481\",\"https://mountainproject.com/r?key=partnerClickTofiveTen&url=http%3A%2F%2Ffiveten.com%2Fcommunity%2Fblog-detail%2F15021-3q-s-for-young-gun-winner-grace-mckeehan\",\"https://mountainproject.com/v/mount-yonah/105941346\",\"https://mountainproject.com/v/red-rock/105731932\",\"https://mountainproject.com/v/lost-wall/105900335\",\"https://mountainproject.com/v/devils-lake-bouldering/106513891\",\"https://mountainproject.com/r?key=partnerClickTotrango&url=http%3A%2F%2Fblog.trango.com%2Falex-johnson-joins-team-trango%2F\",\"https://mountainproject.com/v/eldorado-canyon-sp/105744246\",\"https://mountainproject.com/v/106966288\",\"https://mountainproject.com/v/south-dakota/105708963\",\"https://mountainproject.com/v/barn-bluff-red-wing/105812663\",\"https://mountainproject.com/v/-in-progress/105798164\",\"https://mountainproject.com/v/connecticut/105806977\",\"https://mountainproject.com/r?key=partnerClickTosportiva&url=http%3A%2F%2Fwww.sportiva.com%2Fcommunity%2Fvideos%2Fclimbing-videos%2Fjoe-kinder-the-genius%3Futm_source%3DMP%26utm_medium%3Dfeed%26utm_term%3Djuly%26utm_campaign%3Djoe_genius\",\"https://mountainproject.com/r?key=partnerClickTosportiva&url=https%3A%2F%2Fyoutu.be%2FKor17qyI-tU\",\"https://mountainproject.com/v/international/105907743\",\"https://mountainproject.com/v/southeast-buttress/105835705\",\"https://mountainproject.com/v/incredible-hand-crack/105717367\",\"https://mountainproject.com/v/grand-teton-os-route-august-11-12-2015/110839962\",\"https://mountainproject.com/v/flag-climbing/110733026\",\"https://mountainproject.com/v/enchanted-rock-state-natural-area/105855196\",\"https://mountainproject.com/v/pennsylvania/105913279\",\"https://mountainproject.com/v/the-yellow-spur/105748657\",\"https://mountainproject.com/v/organ-mountains/105789445\",\"https://mountainproject.com/v/upper-exum-ridge/105933562\",\"https://mountainproject.com/v/105978183\",\"https://mountainproject.com/v/ct-bouldering/106359692\",\"https://mountainproject.com/v/rumbling-bald/105891895\",\"https://mountainproject.com/v/indian-creek/105716763\",\"https://mountainproject.com/v/grand-junction-area/105802036\",\"https://mountainproject.com/v/new-york/105800424\",\"https://mountainproject.com/v/rewritten/105750106\",\"https://mountainproject.com/r?key=partnerClickToblackDiamond&url=http%3A%2F%2Ffeedproxy.google.com%2F%7Er%2FBlackDiamondEquipmentExperience%2F%7E3%2FRhu42VcKmz4%2Fexperience-story\",\"https://mountainproject.com/v/michigan/106113246\",\"https://mountainproject.com/r?key=partnerClickTomtnHardware&url=http%3A%2F%2Fblog.mountainhardwear.com%2Fthe-final-night-on-the-john-muir-trail%2F\",\"https://mountainproject.com/v/idaho/105708958\",\"https://mountainproject.com/v/105891087\",\"https://mountainproject.com/r?key=partnerClickTosportiva&url=http%3A%2F%2Fwww.google.com%2Furl%3Fq%3Dhttp%253A%252F%252Fwww.climbersfestival.org%252Fschedule%252F%26sa%3DD%26sntz%3D1%26usg%3DAFQjCNEoWG8zBegGVuDc2jr57QtYCrqj4w\",\"https://mountainproject.com/v/high-sierra/105791817\",\"https://mountainproject.com/scripts/WhatsNew.php?what=COMMENT&mode=activefavorites&daysold=30&locationId=0&filter=\",\"https://mountainproject.com/r?key=partnerClickTotrango&url=http%3A%2F%2Fwww.trango.com%2F%3Futm_source%3DMountain%2520Project%26utm_medium%3DMP%2520Newsfeed%26utm_campaign%3DMP%2520Newsfeed%2520TRG%2520Logo\",\"https://mountainproject.com/v/kancamagus-crags/106520295\",\"https://mountainproject.com/r?key=partnerClickToclimbing&url=http%3A%2F%2Fwww.climbing.com%2Fnews%2Funbelayvable-new-gear-no-idea%2F\",\"https://mountainproject.com/v/grand-teton-national-park/105802912\",\"https://mountainproject.com/v/cayman-brac/106458273\",\"https://mountainproject.com/v/wyoming/105708960\",\"https://mountainproject.com/v/jamestown/105905660\",\"https://mountainproject.com/r?key=partnerClickTosufferfest&url=http%3A%2F%2Fbs.serving-sys.com%2FBurstingPipe%2FadServer.bs%3Fcn%3Dbrd%26FlightID%3D13422518%26Page%3D%26PluID%3D0%26Pos%3D473757506\",\"https://mountainproject.com/v/what-is-the-hardest-part-about-learning-to-climb-a-bigwall/110715371\",\"https://mountainproject.com/v/enchanted-tower/105789938\",\"https://mountainproject.com/v/delaware/106861605\",\"https://mountainproject.com/r?key=partnerClickToclimbing&url=http%3A%2F%2Fwww.climbing.com%2Fvideo%2Fvideo-chelsea-rude-vs-thanatopsis-5-14b%2F\",\"https://mountainproject.com/destinations/\",\"https://mountainproject.com/v/val-david/108144089\",\"https://mountainproject.com/scripts/Login?action=startFBLogin\",\"https://mountainproject.com/scripts/WhatsNew.php?what=ROUTE&mode=activefavorites&daysold=30&locationId=0&filter=\",\"https://mountainproject.com/v/the-tennessee-wall/105851828\",\"https://mountainproject.com/v/rock-springs-buttress/105833991\",\"https://mountainproject.com/v/sinks-canyon/105827053\",\"https://mountainproject.com/v/archangel/108240564\",\"https://mountainproject.com/v/what-have-we-done-or-why-the-peaks-werent-posted/110776485\",\"https://mountainproject.com/v/mt-hood/105789896\",\"https://mountainproject.com/scripts/Classics.php\",\"https://mountainproject.com/v/gunnison/105802040\",\"https://mountainproject.com/v/the-gunks/105798167\",\"http://www.powderproject.com\",\"https://mountainproject.com/v/quartz-mountain/105854470\",\"https://mountainproject.com/r?key=partnerClickToeveningSends&url=http%3A%2F%2Feveningsends.com%2Fclimbing%2Fthis-week-in-climbing-7-27-15%2F\",\"https://mountainproject.com/widget?action=configure\",\"https://mountainproject.com/v/gallatin-canyon/105941836\",\"https://mountainproject.com/v/is-the-owen-spalding-dry/110691999\",\"https://mountainproject.com/v/el-rito/105788273\",\"https://mountainproject.com/v/sedona-area/105787793\",\"http://adventureprojects.net/blog/terms\",\"https://mountainproject.com/v/110839899\",\"https://mountainproject.com/v/snake-dike/105836362\",\"https://mountainproject.com/v/flatirons/105797700\",\"https://mountainproject.com/v/utah/105708957\",\"https://mountainproject.com/v/110839896\",\"https://mountainproject.com/v/colorado/105708956\",\"https://mountainproject.com/?action=HideForSale\",\"https://mountainproject.com/v/110839894\",\"https://mountainproject.com/v/joshua-tree-national-park/105720495\",\"https://mountainproject.com/r?key=partnerClickTofiveTen&url=http%3A%2F%2Ffiveten.com%2Fcommunity%2Fblog-detail%2F15035-la-foret-magique-de-fontainebleau\",\"https://mountainproject.com/v/110839891\",\"https://mountainproject.com/v/the-trapps/105798818\",\"https://mountainproject.com/v/partner-for-wasatch-climbing-aug-4th/110839923\",\"https://mountainproject.com/v/mountain-home-leavenworth-area-/105790610\",\"https://mountainproject.com/scripts/WhatsNew.php?what=COMMENT&mode=activefavorites&daysold=30&locationId=0&filter=COND\",\"https://mountainproject.com/scripts/WhatsNew.php?what=IMAGE&mode=activefavorites&daysold=30&locationId=0&filter=\",\"https://mountainproject.com/v/australia/105907756\",\"https://mountainproject.com/v/governor-dodge-state-park/105730030\",\"https://mountainproject.com/v/horseshoe-canyon-ranch/105903004\",\"https://mountainproject.com/r?key=partnerClickToclimbing&url=http%3A%2F%2Fwww.climbing.com%2Fvideo%2Fvideo-mud-sweat-and-expletives-mike-libecki-and-angie-payne%2F\",\"https://mountainproject.com/v/nh-ice-and-alpine-climbing/106099658\",\"http://www.hikingproject.com\",\"https://mountainproject.com/v/-vermont-ice-climbing/107280521\",\"https://mountainproject.com/v/106916823\",\"https://mountainproject.com/v/tahoe-vicinity/105798291\",\"https://mountainproject.com/r?key=partnerClickTomtnHardware&url=http%3A%2F%2Fblog.mountainhardwear.com%2Fmt-huntington-50-hours%2F\",\"https://mountainproject.com/v/alaska/105909311\",\"https://mountainproject.com/v/grayson-highlands-state-park/106477419\",\"https://mountainproject.com/v/crimson-chrysalis/105732281\",\"https://mountainproject.com/r?key=partnerClickToeveningSends&url=http%3A%2F%2Feveningsends.com%2F\",\"https://mountainproject.com/v/scarpa-instict-slippers-425-80-shipped/110833810\",\"https://mountainproject.com/v/denali-national-park/105909817\",\"https://mountainproject.com/v/fisher-towers/105716787\",\"https://mountainproject.com/v/alabama/105905173\",\"https://mountainproject.com/v/boulder-canyon/105744222\",\"https://mountainproject.com/v/110839885\",\"https://mountainproject.com/v/oklahoma/105854466\",\"https://mountainproject.com/v/looking-glass-rock/105873294\",\"https://mountainproject.com/gyms\",\"https://mountainproject.com/v/new-jersey/106374428\",\"http://www.mountainproject.com\",\"https://mountainproject.com/v/paradise-forks/105787813\",\"https://mountainproject.com/v/rmnp---rock/105744460\",\"https://mountainproject.com/v/cochise-stronghold/105738034\",\"https://mountainproject.com/v/rumney/105867829\",\"http://www.yonder.it/\",\"https://mountainproject.com/v/south-platte/105797719\",\"https://mountainproject.com/v/lucid-dreaming/105755821\",\"https://mountainproject.com/v/red-river-gorge/105841134\",\"https://mountainproject.com/scripts/WhatsNew.php?what=ROUTE&mode=activefavorites&daysold=180&locationId=0&filter=NEWFAS\",\"https://mountainproject.com/community/\",\"https://mountainproject.com/scripts/stickers\",\"https://mountainproject.com/scripts/ContactMP?action=form\",\"https://mountainproject.com/v/summersville-and-gauley-river/105989762\",\"https://mountainproject.com/v/upper-dream-canyon/105744234\",\"https://mountainproject.com/v/shelf-road/105744267\",\"https://mountainproject.com/v/dark-shadows/105732380\",\"https://mountainproject.com/r?key=partnerClickTomtnHardware&url=http%3A%2F%2Fblog.mountainhardwear.com%2Fleave-no-trace-make-it-better%2F\",\"https://mountainproject.com/\",\"https://mountainproject.com/v/110627444\",\"https://mountainproject.com/v/laurel-knob/105888014\",\"https://mountainproject.com/v/wasatch-range/105739213\",\"https://mountainproject.com/r?key=partnerClickTotrango&url=http%3A%2F%2Fblog.trango.com%2Fnew-indy-pass-5-14%2F\",\"https://mountainproject.com/r?key=partnerClickTofiveTen&url=http%3A%2F%2Ffiveten.com%2Fcommunity%2Fblog-detail%2F15047-2015-world-cup-training\",\"https://mountainproject.com/v/sunset-park/105888070\",\"https://mountainproject.com/r?key=partnerClickToblackDiamond&url=http%3A%2F%2Fblackdiamondequipment.com%2Fen%2Fexperience-home\",\"https://mountainproject.com/r?key=partnerClickToblackDiamond&url=http%3A%2F%2Ffeedproxy.google.com%2F%7Er%2FBlackDiamondEquipmentExperience%2F%7E3%2FrTNZr8Wwu5g%2Fexperience-story\",\"https://mountainproject.com#\",\"https://mountainproject.com/v/lovers-leap/105733959\",\"https://mountainproject.com/v/lake-willoughby/105891650\",\"https://mountainproject.com/scripts/Photos\",\"https://mountainproject.com/r?key=partnerClickToeveningSends&url=http%3A%2F%2Feveningsends.com%2Fclimbing%2Fthe-day-i-sent-freerider-in-a-day%2F\",\"https://mountainproject.com/scripts/RSS.php?&action=showForm\",\"https://mountainproject.com/v/epinephrine/105732422\",\"http://www.cafepress.com/mountainproject\",\"https://mountainproject.com/v/rifle-mountain-park/105744310\",\"https://mountainproject.com/v/105968134\",\"https://mountainproject.com/v/cathedral-ledge/105908823\",\"https://mountainproject.com/v/mount-lemmon-santa-catalina-mountains/106822076\",\"https://mountainproject.com/r?key=partnerClickToeveningSends&url=http%3A%2F%2Feveningsends.com%2Fclimbing%2Fthis-week-in-climbing%2F\",\"https://mountainproject.com/v/mokuleia-wall/106457411\",\"https://mountainproject.com/v/oregon/105708965\",\"https://mountainproject.com/r?key=partnerClickToclimbing&url=http%3A%2F%2Fwww.climbing.com%2Fblog%2Fquiz-how-well-do-you-know-climbing-acronyms%2F\",\"https://mountainproject.com/v/tahquitz--suicide-rocks/105788020\",\"https://mountainproject.com/v/the-holy-boulders/108116766\",\"https://mountainproject.com/scripts/Search\",\"https://mountainproject.com/v/taos-area/105868955\",\"https://mountainproject.com/scripts/about\",\"https://mountainproject.com/r?key=partnerClickToclimbing&url=http%3A%2F%2Fwww.climbing.com\",\"https://mountainproject.com/v/whitneys-east-buttress-in-one-day/110838403\",\"https://mountainproject.com/scripts/WhatsNew.php?what=MESSAGE&mode=&daysold=30&locationId=0&filter=\",\"https://mountainproject.com/v/hidden-valley-campground/105720573\",\"https://mountainproject.com/v/massachusetts/105908062\",\"https://mountainproject.com/v/mount-charleston/105850026\",\"https://mountainproject.com/v/tuolumne-meadows/105833384\",\"https://mountainproject.com/v/castle-valley/105716784\",\"https://mountainproject.com/v/smith-rock/105788989\",\"https://mountainproject.com/r?key=partnerClickToeveningSends&url=http%3A%2F%2Feveningsends.com%2Fclimbing%2Fprofiles-in-courage-bearcam%2F\",\"https://mountainproject.com/v/montana/105907492\",\"https://mountainproject.com/v/new-hampshire/105872225\",\"https://mountainproject.com/v/whitehorse-ledge/105909079\",\"https://mountainproject.com/r?key=partnerClickToblackDiamond&url=http%3A%2F%2Ffeedproxy.google.com%2F%7Er%2FBlackDiamondEquipmentExperience%2F%7E3%2FXkay1M_cKzY%2Fexperience-story\",\"https://mountainproject.com/v/new-mexico/105708964\",\"https://mountainproject.com/v/the-sawtooth-range/105905571\",\"https://mountainproject.com/v/vermont/105891603\",\"https://mountainproject.com/v/castle-rocks/105739331\",\"https://mountainproject.com/v/regular-northwest-face-of-half-dome/105912416\",\"https://mountainproject.com/v/maple-canyon/105739298\",\"https://mountainproject.com/r?key=partnerClickToclimbing&url=http%3A%2F%2Fwww.climbing.com%2Fnews%2Fthe-regular-northwest-face-of-half-dome-has-been-restored%2F\",\"https://mountainproject.com/scripts/WhatsNew.php?what=AREA&mode=activefavorites&daysold=30&locationId=0&filter=\",\"https://mountainproject.com/v/stone-mountain/105873297\",\"https://mountainproject.com/v/spain/106111770\",\"https://mountainproject.com/scripts/WhatsNew.php?what=ALL&mode=activefavorites&daysold=30&locationId=0&filter=\",\"https://mountainproject.com/scripts/Classics.php?id=105801420\",\"https://mountainproject.com/v/winslow-wall/105989250\",\"https://mountainproject.com/v/grand-teton/105803123\",\"https://mountainproject.com/r?key=partnerClickTomtnHardware&url=http%3A%2F%2Fblog.mountainhardwear.com%2Fvertical-jungle-mayhem-i%2F\",\"https://mountainproject.com/v/adirondacks/105910378\",\"https://mountainproject.com/v/alpine-rock/105744466\",\"https://mountainproject.com/r?key=partnerClickTotrango&url=https%3A%2F%2Ftrango.com%2Fs-4-climbing-shoes.aspx%3Futm_source%3DMountain%2520Project%26utm_medium%3DMP%2520Newsfeed%2520-%2520TEN%2520Logo%26utm_campaign%3DMP%2520Newsfeed%2520-%2520TEN%2520Logo\",\"https://mountainproject.com/scripts/WhatsNew.php?what=NEWS&mode=&daysold=90&locationId=0&filter=\",\"https://mountainproject.com/v/california/105708959\",\"https://mountainproject.com/r?key=partnerClickToeveningSends&url=http%3A%2F%2Feveningsends.com%2Fclimbing%2Fdaily-stoke-achieving-goals-with-emily-harrington%2F\",\"https://mountainproject.com/v/ohio/105994953\",\"https://mountainproject.com/v/wichita-wildlife-refuge/105858670\",\"https://mountainproject.com/v/110839961\",\"https://mountainproject.com/v/france/106192575\",\"https://mountainproject.com/scripts/RatingChart.php\",\"https://mountainproject.com/r?key=partnerClickTomtnHardware&url=http%3A%2F%2Fblog.mountainhardwear.com%2Fkalymnos-ii-roar-of-relief%2F\",\"https://mountainproject.com/r?key=partnerClickTomtnHardware&url=http%3A%2F%2Fblog.mountainhardwear.com%2Ftradition-climbing-and-friendship%2F\",\"https://mountainproject.com/v/canada/105881369\",\"https://mountainproject.com/r?key=partnerClickTotrango&url=http%3A%2F%2Fblog.trango.com%2Fballnutz-how-to-make-r-and-x-rated-routes-safer%2F\",\"https://mountainproject.com/v/ice-climbing-basics-the-tripod/108821292\",\"https://mountainproject.com/v/hawaii/106316122\",\"https://mountainproject.com/v/yosemite-valley/105833388\",\"http://www.trailrunproject.com\",\"https://mountainproject.com/v/yosemite-national-park/105833381\",\"http://l.yonder.it/e337692\",\"https://mountainproject.com/v/devils-tower/105714267\",\"https://mountainproject.com/v/kansas/107235316\",\"https://mountainproject.com/v/arizona/105708962\",\"http://l.yonder.it/e394044\",\"https://mountainproject.com/scripts/Signup\",\"https://mountainproject.com/v/east-face-standard/105748047\",\"https://mountainproject.com/v/texas/105835804\",\"https://mountainproject.com/v/black-velvet-canyon/105731948\",\"https://mountainproject.com/v/high-exposure/105798994\",\"https://mountainproject.com/scripts/Partners\",\"https://mountainproject.com/v/vedauwoo/105744307\",\"https://mountainproject.com/misc.php?action=rspLayout&b=1\",\"https://mountainproject.com/v/japan/106103884\",\"https://mountainproject.com/v/the-bastille-crack/105748490\",\"https://mountainproject.com/v/106126632\",\"https://twitter.com/mtnproject\",\"https://mountainproject.com/v/giant-city-state-park/106612569\",\"https://mountainproject.com/v/warsaw/105899025\",\"https://mountainproject.com/v/sierra-eastside/105798288\",\"https://mountainproject.com/v/110839949\",\"https://mountainproject.com/v/all-locations/105708955\",\"https://mountainproject.com/v/zion-national-park/105716799\",\"https://mountainproject.com/v/olympic-national-park/106150395\",\"https://mountainproject.com/r?key=adClick-AccessFund&url=http%3A%2F%2Fwww.accessfund.org%2Fwhereisct\",\"https://mountainproject.com/v/acadia-national-park/105948980\",\"https://mountainproject.com/v/washington/105708966\",\"https://mountainproject.com/r?key=partnerClickToblackDiamond&url=http%3A%2F%2Ffeedproxy.google.com%2F%7Er%2FBlackDiamondEquipmentExperience%2F%7E3%2FIl73F8crwN8%2Fexperience-story\",\"https://mountainproject.com/r?key=partnerClickTosufferfest&url=http%3A%2F%2Fbs.serving-sys.com%2FBurstingPipe%2FadServer.bs%3Fcn%3Dbrd%26FlightID%3D13422478%26Page%3D%26PluID%3D0%26Pos%3D361360831\",\"https://mountainproject.com/v/lumpy-ridge/105744228\",\"https://mountainproject.com/v/pine-creek-canyon/105731962\",\"https://mountainproject.com/r?key=partnerClickTosportiva&url=\",\"https://mountainproject.com/r?key=partnerClickToclimbing&url=http%3A%2F%2Fwww.climbing.com%2Fnews%2Flink-sar-success-on-fourth-year-of-attempts%2F\",\"https://mountainproject.com/v/smugglers-notch-ice-climbing/106637939\",\"https://mountainproject.com/r?key=partnerClickTosportiva&url=http%3A%2F%2Fwww.sportiva.com%2Flive%2Flive-archive%2Fclimbing-archive%2Fclimbing-in-romsdal%3Futm_source%3DMP%26utm_medium%3Dfeed%26utm_term%3Djuly%26utm_campaign%3Drannveig_romsdal\",\"https://mountainproject.com/scripts/SchoolArticles?sort=Date\",\"https://mountainproject.com/v/south-carolina-/107638915\",\"https://mountainproject.com/v/joes-valley/105880382\",\"https://mountainproject.com/r?key=partnerClickToblackDiamond&url=http%3A%2F%2Ffeedproxy.google.com%2F%7Er%2FBlackDiamondEquipmentExperience%2F%7E3%2FZYDHWHE8P-c%2Fexperience-story\",\"http://l.yonder.it/e337699\",\"https://mountainproject.com/v/110627539\",\"https://mountainproject.com/v/custer-state-park/106058091\",\"https://mountainproject.com/v/thailand/105894648\",\"https://mountainproject.com/v/mexico/105910759\",\"https://mountainproject.com/v/illinois/105911816\",\"https://mountainproject.com/v/owens-river-gorge/105843226\",\"https://mountainproject.com/v/central-valley/106076672\",\"https://mountainproject.com/v/sand-rock/105905184\",\"https://mountainproject.com/v/the-needles--kern-river/105834180\",\"https://mountainproject.com/v/jackson-falls/106017458\",\"https://mountainproject.com/v/virginia/105852400\",\"https://mountainproject.com/v/north-carolina/105873282\",\"https://mountainproject.com/v/110725884\",\"https://mountainproject.com/r?key=partnerClickToeveningSends&url=http%3A%2F%2Feveningsends.com%2Fclimbing%2Fwill-gadd-vs-the-chunder-dragon%2F\",\"https://mountainproject.com/v/devils-lake/105729927\",\"https://mountainproject.com/v/bouldering-on-weekends-in-joshua/110776436\",\"https://mountainproject.com/v/rhode-island/106842810\",\"https://mountainproject.com/v/moores-wall/105932741\",\"https://mountainproject.com/v/west-virginia/105855459\",\"https://mountainproject.com/scripts/SchoolArticles?sort=Rating\",\"https://mountainproject.com/v/wild-iris/105840796\",\"https://mountainproject.com/v/boulder/105801420\",\"https://mountainproject.com/v/index-/105790635\",\"https://mountainproject.com/r?key=partnerClickTotrango&url=http%3A%2F%2Fblog.trango.com%2Ften-sleep-part-2-the-meat-and-potatoes%2F\",\"https://mountainproject.com/v/seneca-rocks/105861910\",\"https://mountainproject.com/r?key=partnerClickTotrango&url=http%3A%2F%2Fblog.trango.com%2Fdrew-ruana-sends-new-world-order-5-14c%2F\",\"https://mountainproject.com/mobileApps\",\"https://mountainproject.com/v/juniper-canyon/105731974\",\"https://mountainproject.com/v/palisades-park/105914427\",\"https://mountainproject.com/scripts/WhatsNew?daysold=7\",\"https://mountainproject.com/v/trappers-camp/105899028\",\"https://mountainproject.com/v/tennessee/105887760\",\"https://mountainproject.com/v/107029553\",\"https://mountainproject.com/scripts/Classics\",\"https://mountainproject.com/v/missouri/105899020\",\"https://mountainproject.com/scripts/AreaMap\",\"https://mountainproject.com/v/110839921\",\"https://mountainproject.com/v/seward-highway/105991968\",\"https://mountainproject.com/v/co-ice--mixed/105807296\",\"https://mountainproject.com/v/nevada/105708961\",\"https://mountainproject.com/r?key=partnerClickToblackDiamond&url=http%3A%2F%2Ffeedproxy.google.com%2F%7Er%2FBlackDiamondEquipmentExperience%2F%7E3%2FsbjskHGqf2s%2Fexperience-story\",\"https://mountainproject.com/v/the-nose/105924807\",\"https://mountainproject.com/v/106542594\",\"https://mountainproject.com/v/sandia-mountains/105788177\",\"https://mountainproject.com/v/san-rafael-swell/105787863\",\"https://mountainproject.com/v/wisconsin/105708968\",\"https://mountainproject.com/v/quebec/106142016\",\"https://mountainproject.com/forums/\",\"https://mountainproject.com/r?key=partnerClickTofiveTen&url=http%3A%2F%2Ffiveten.com%2Fcommunity%2Fblog-detail%2F15025-ice-climbing-in-the-french-alps\",\"https://mountainproject.com/r?key=partnerClickTotrango&url=http%3A%2F%2Fblog.trango.com%2Fthe-rise-and-fall-of-half-dome%2F\",\"https://mountainproject.com/v/lander-area-climbing/110839509\",\"https://mountainproject.com/v/linville-gorge/105873285\",\"https://mountainproject.com/r?key=partnerClickTofiveTen&url=http%3A%2F%2Ffiveten.com%2Fcommunity%2Fblog-detail%2F15015-slacklust-coast-to-crest-dan-krauss\",\"https://mountainproject.com/v/the-new-river-gorge/105855991\",\"https://mountainproject.com/v/cannon-cliff-/107340274\",\"https://mountainproject.com/v/moab-area/105716711\",\"https://mountainproject.com/v/georgia/105897947\",\"https://mountainproject.com/r?key=partnerClickTosportiva&url=http%3A%2F%2Fwww.sportiva.com%2Fambassadors%2Fathletes%2Fpro-climbing%2Fpamela-shanti-pack%3Futm_source%3DMP%26utm_medium%3Dfeed%26utm_term%3Djuly%26utm_campaign%3Dpamela_bio\",\"https://mountainproject.com/v/kentucky/105868674\",\"https://mountainproject.com/v/southern-sierra/107098288\",\"https://mountainproject.com/v/vantage-frenchman-coulee/105792231\",\"https://mountainproject.com/v/beginner-tr-for-youth/110838881\",\"https://mountainproject.com/v/exit-32--little-si/105789876\",\"https://mountainproject.com/v/tieton-river/105921237\",\"https://mountainproject.com/v/stolen-chimney/105717310\",\"https://mountainproject.com/v/iowa/106092653\",\"https://mountainproject.com/v/tallulah-gorge/105897996\",\"http://www.mtbproject.com\",\"https://mountainproject.com/v/united-kingdom/106007071\",\"https://mountainproject.com/v/casual-route/105748496\",\"https://mountainproject.com/v/maine/105948977\",\"https://mountainproject.com/v/supercrack-of-the-desert/105717364\",\"https://mountainproject.com/v/hueco-tanks/105810691\",\"https://mountainproject.com/v/maryland/106029417\",\"https://mountainproject.com/r?key=partnerClickTofiveTen&url=http%3A%2F%2Fwww.fiveten.com\",\"https://mountainproject.com/r?key=partnerClickTofiveTen&url=http%3A%2F%2Ffiveten.com%2Fcommunity%2Fblog-detail%2F15038-wild-bunch-dodo-s-delight-w-nico-favresse\",\"https://mountainproject.com/v/sams-throne--surroundings/105901033\",\"https://mountainproject.com/v/110839909\",\"https://mountainproject.com/r?key=partnerClickTomtnHardware&url=http%3A%2F%2Fbs.serving-sys.com%2FBurstingPipe%2FadServer.bs%3Fcn%3Dbrd%26FlightID%3D13287496%26Page%3D%26PluID%3D0%26Pos%3D1967347006\",\"https://mountainproject.com/v/110839905\",\"https://mountainproject.com/v/arkansas/105901027\",\"https://mountainproject.com/v/pawtuckaway/105929413\",\"https://mountainproject.com/v/cor-partner-82-86/110818505\",\"http://adventureprojects.net/blog/privacy-policy\",\"https://mountainproject.com/school-of-rock\",\"https://mountainproject.com/v/foster-falls/105883248\",\"https://mountainproject.com/v/double-cross/105721615\",\"https://mountainproject.com/v/spearfish-canyon/105714282\",\"https://mountainproject.com/v/direct-route/105748268\"],\"metadata\":{\"content_type\":\"json\",\"duration\":0.101790213}}'"
      ]
     },
     "execution_count": 11,
     "metadata": {},
     "output_type": "execute_result"
    }
   ],
   "source": [
    "resp"
   ]
  },
  {
   "cell_type": "code",
   "execution_count": 13,
   "metadata": {
    "collapsed": false
   },
   "outputs": [],
   "source": [
    "resp_dict = json.loads(resp)"
   ]
  },
  {
   "cell_type": "code",
   "execution_count": 15,
   "metadata": {
    "collapsed": false
   },
   "outputs": [
    {
     "data": {
      "text/plain": [
       "343"
      ]
     },
     "execution_count": 15,
     "metadata": {},
     "output_type": "execute_result"
    }
   ],
   "source": [
    "len(resp_dict['result'])"
   ]
  },
  {
   "cell_type": "code",
   "execution_count": 25,
   "metadata": {
    "collapsed": false
   },
   "outputs": [
    {
     "name": "stdout",
     "output_type": "stream",
     "text": [
      "{\"result\":1,\"metadata\":{\"content_type\":\"json\",\"duration\":0.018169191}}\n",
      "{\"result\":1,\"metadata\":{\"content_type\":\"json\",\"duration\":0.012050046}}\n",
      "{\"result\":3,\"metadata\":{\"content_type\":\"json\",\"duration\":0.015927464000000002}}\n"
     ]
    }
   ],
   "source": [
    "def sentiment(text=\"Algorithmia loves you!\"):\n",
    "    import urllib2, json\n",
    "    input = text\n",
    "    request = urllib2.Request('https://api.algorithmia.com/v1/algo/nlp/SentimentAnalysis/0.1.1')\n",
    "    request.add_header('Content-Type', 'application/json')\n",
    "    request.add_header('Authorization', 'Simple simt24UPdCbHfwaD1Mq2+xe1ZyM1')\n",
    "    response = urllib2.urlopen(request, json.dumps(input))\n",
    "    print response.read()\n",
    "sentiment(text = 'Fuck your cunt face!  You are the worst.  I hate your smell.')\n",
    "sentiment(text = 'I want to suck your fat cock.')\n",
    "sentiment(text = 'I love you morning sunshine happiness.')"
   ]
  },
  {
   "cell_type": "code",
   "execution_count": 26,
   "metadata": {
    "collapsed": false
   },
   "outputs": [
    {
     "name": "stdout",
     "output_type": "stream",
     "text": [
      "{\"result\":[{\"test\":2,\"string\":2}],\"metadata\":{\"content_type\":\"json\",\"duration\":2.424826819}}\n"
     ]
    }
   ],
   "source": [
    "import urllib2, json\n",
    "input = [\n",
    "  [\n",
    "    \"this is a test string\",\n",
    "    \"this might be another test string\"\n",
    "  ],\n",
    "  1\n",
    "]\n",
    "request = urllib2.Request('https://api.algorithmia.com/v1/algo/mallet/LDA/0.1.2')\n",
    "request.add_header('Content-Type', 'application/json')\n",
    "request.add_header('Authorization', 'Simple simt24UPdCbHfwaD1Mq2+xe1ZyM1')\n",
    "response = urllib2.urlopen(request, json.dumps(input))\n",
    "print response.read()"
   ]
  },
  {
   "cell_type": "code",
   "execution_count": null,
   "metadata": {
    "collapsed": true
   },
   "outputs": [],
   "source": []
  }
 ],
 "metadata": {
  "kernelspec": {
   "display_name": "Python 2",
   "language": "python",
   "name": "python2"
  },
  "language_info": {
   "codemirror_mode": {
    "name": "ipython",
    "version": 2
   },
   "file_extension": ".py",
   "mimetype": "text/x-python",
   "name": "python",
   "nbconvert_exporter": "python",
   "pygments_lexer": "ipython2",
   "version": "2.7.10"
  }
 },
 "nbformat": 4,
 "nbformat_minor": 0
}
