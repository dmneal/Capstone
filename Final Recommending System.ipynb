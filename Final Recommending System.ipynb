{
 "cells": [
  {
   "cell_type": "markdown",
   "metadata": {},
   "source": [
    "#Make Full Recomendation Based on User Input"
   ]
  },
  {
   "cell_type": "markdown",
   "metadata": {},
   "source": [
    "This notebook will make recomendations based on user input.\n",
    "\n",
    "Input: \n",
    "User ID or User name (str)\n",
    "\n",
    "Output: Destination Suggestions (str), 10 or so suggested climbs (int) in that area, and a what kind of climber the user is based on latent features of model."
   ]
  },
  {
   "cell_type": "markdown",
   "metadata": {},
   "source": [
    "##Import modules and load in data"
   ]
  },
  {
   "cell_type": "code",
   "execution_count": 4,
   "metadata": {
    "collapsed": false
   },
   "outputs": [],
   "source": [
    "import graphlab as gl\n",
    "import numpy as np\n",
    "import pandas as pd\n",
    "import pickle, json\n",
    "from collections import defaultdict\n",
    "\n",
    "#user name to user id dict\n",
    "with open('user_map.p','r') as f:\n",
    "    user_map = pickle.load(f)\n",
    "\n",
    "#star rating and climb data\n",
    "df_data = pd.read_csv('star5.csv')\n",
    "with open('df_raw_star5.p','r') as f:\n",
    "    df_raw = pickle.load(f)\n",
    "    \n",
    "#load in recommendation models\n",
    "sim_mod = gl.load_model('sim_mod')\n",
    "rfr_mod = gl.load_model('rfm_mod_15')\n",
    "rfr_mod_lf = gl.load_model('rfm_mod_features_extracted')"
   ]
  },
  {
   "cell_type": "markdown",
   "metadata": {},
   "source": [
    "First, we need to determine what the input was.  If it's a user id that we have, then we proceed with recommendation.  If it's a user name, we find the user id and proceed as above.  If it's a climb, or series of climbs, we make recomendations based on those climbs.  "
   ]
  },
  {
   "cell_type": "code",
   "execution_count": 16,
   "metadata": {
    "collapsed": false
   },
   "outputs": [],
   "source": [
    "def determine_input(input_str, df_data, user_map):\n",
    "    try:\n",
    "        id_val = int(input_str)\n",
    "        if id_val in df_data.User.values:\n",
    "            return id_val\n",
    "        else: \n",
    "            return None\n",
    "    except ValueError:\n",
    "        if input_str in user_map:\n",
    "            return user_map[input_str]\n",
    "        else:\n",
    "            return None"
   ]
  },
  {
   "cell_type": "code",
   "execution_count": 17,
   "metadata": {
    "collapsed": false
   },
   "outputs": [],
   "source": [
    "input_str = 'LauraColyer'\n",
    "user_id = determine_input(input_str, df_data, user_map)"
   ]
  },
  {
   "cell_type": "markdown",
   "metadata": {},
   "source": [
    "We will suggest the destination and climbs based on two models.  We will proceed through the top recomendations until ~3-5 areas the user has not rated a climb in have at least ~10 climbs suggested that are within their climbing ability.  We will suggest those areas and the recommended climbs in them.  "
   ]
  },
  {
   "cell_type": "code",
   "execution_count": 19,
   "metadata": {
    "collapsed": false
   },
   "outputs": [],
   "source": [
    "def user_rated_visited(user_id, df_data, df_raw):\n",
    "    #Find destinations climber has rated climbs from\n",
    "    climbs_rated = df_data[df_data.User==user_id].Climb\n",
    "    visited = set(df_raw.loc[climbs_rated].sub_location.values)\n",
    "  \n",
    "    #Finder user difficulty rating range from stared climbs\n",
    "    user_ratings = df_raw.loc[climbs_rated].rating\n",
    "    user_rating_std = user_ratings.std()\n",
    "    user_rating_mean = user_ratings.mean()\n",
    "    rating_max = user_rating_mean+user_rating_std\n",
    "    \n",
    "    return visited, rating_max"
   ]
  },
  {
   "cell_type": "code",
   "execution_count": 36,
   "metadata": {
    "collapsed": false
   },
   "outputs": [],
   "source": [
    "visited, rating_max = user_rated_visited(user_id, df_data, df_raw)\n"
   ]
  },
  {
   "cell_type": "code",
   "execution_count": 20,
   "metadata": {
    "collapsed": false
   },
   "outputs": [],
   "source": [
    "#Find climb locations to recommend\n",
    "def rec_loc_climb(user_id, visited, rating_max, df_raw,\n",
    "                  model, verbose=False, n_areas=3, n_climbs=10):\n",
    "    \n",
    "    climb_recs = model.recommend(users=[user_id], k=13000)\n",
    "    loc_climb_recs = defaultdict(list)\n",
    "    loc_recs = []\n",
    "    n_recs = 0\n",
    "    for rec in climb_recs:\n",
    "        climb = rec['Climb']\n",
    "        if df_raw.loc[climb].rating < rating_max:\n",
    "            loc = df_raw.loc[climb].sub_location\n",
    "            if loc not in (list(visited) + loc_recs):\n",
    "                loc_climb_recs[loc] += [climb]\n",
    "                if len(loc_climb_recs[loc]) == n_climbs:\n",
    "                    loc_recs += [loc]\n",
    "                    n_recs += 1\n",
    "                    if n_recs == n_areas:\n",
    "                        break\n",
    "    if verbose:\n",
    "        for loc in loc_recs:\n",
    "            print loc\n",
    "            print loc_climb_recs[loc]\n",
    "    return loc_recs, loc_climb_recs"
   ]
  },
  {
   "cell_type": "code",
   "execution_count": 22,
   "metadata": {
    "collapsed": false
   },
   "outputs": [
    {
     "name": "stdout",
     "output_type": "stream",
     "text": [
      "Yosemite National Park\n",
      "[105840361, 105862896, 105862915, 105924807, 106154042, 107429493, 105862873, 105912192, 107677399, 105872907]\n",
      "Custer State Park\n",
      "[107684661, 108052987, 106053351, 105715232, 105714734, 107775061, 108244256, 107517307, 107810730, 105714761]\n",
      "Adirondacks\n",
      "[106532800, 107708237, 106831219, 107564731, 107185274, 106092527, 106542971, 106197345, 106078832, 106594953]\n"
     ]
    }
   ],
   "source": [
    "#Get climb recomendations from item similarity model\n",
    "loc_recs_sim, loc_climb_recs_sim = rec_loc_climb(user_id,\n",
    "                                                  visited,\n",
    "                                                  rating_max,\n",
    "                                                  df_raw,\n",
    "                                                  sim_mod,\n",
    "                                                  verbose=True)"
   ]
  },
  {
   "cell_type": "code",
   "execution_count": 24,
   "metadata": {
    "collapsed": false
   },
   "outputs": [
    {
     "name": "stdout",
     "output_type": "stream",
     "text": [
      "Yosemite National Park\n",
      "[105862915, 105924807, 106154042, 105945535, 105862991, 105862873, 105862896, 106167844, 106187777, 105847471]\n",
      "Joshua Tree National Park\n",
      "[105721666, 105725788, 105722743, 105722305, 105723325, 105722050, 105725389, 105723478, 105722227, 105722431]\n",
      "Cathedral Ledge\n",
      "[105880759, 105919971, 105909672, 105880787, 105922177, 105938087, 105903672, 105920872, 105949212, 105924990]\n"
     ]
    }
   ],
   "source": [
    "#Get climb recomendations from item similarity model\n",
    "loc_recs_rfr, loc_climb_recs_rfr = rec_loc_climb(user_id,\n",
    "                                                  visited,\n",
    "                                                  rating_max,\n",
    "                                                  df_raw,\n",
    "                                                  rfr_mod,\n",
    "                                                  verbose=True)"
   ]
  },
  {
   "cell_type": "markdown",
   "metadata": {},
   "source": [
    "We also want to say something about the user based on the latent features of rfr model."
   ]
  },
  {
   "cell_type": "code",
   "execution_count": 26,
   "metadata": {
    "collapsed": false
   },
   "outputs": [],
   "source": [
    "def get_latent_user(user_id, model):\n",
    "    coefs = model.get('coefficients')\n",
    "    df_fac_user = pd.DataFrame(np.array(coefs['User']['factors']))\n",
    "    df_fac_user.set_index(np.array(coefs['User']['User']), inplace=True)\n",
    "    return df_fac_user.loc[user_id]"
   ]
  },
  {
   "cell_type": "code",
   "execution_count": 28,
   "metadata": {
    "collapsed": false
   },
   "outputs": [
    {
     "data": {
      "text/plain": [
       "0    0.057407\n",
       "1   -0.119440\n",
       "2   -0.098539\n",
       "3   -0.049110\n",
       "Name: 107953067, dtype: float64"
      ]
     },
     "execution_count": 28,
     "metadata": {},
     "output_type": "execute_result"
    }
   ],
   "source": [
    "get_latent_user(user_id, rfr_mod_lf)"
   ]
  },
  {
   "cell_type": "code",
   "execution_count": null,
   "metadata": {
    "collapsed": true
   },
   "outputs": [],
   "source": []
  },
  {
   "cell_type": "code",
   "execution_count": 44,
   "metadata": {
    "collapsed": false
   },
   "outputs": [
    {
     "name": "stdout",
     "output_type": "stream",
     "text": [
      "Overwriting rec_funcs.py\n"
     ]
    }
   ],
   "source": [
    "%%writefile rec_funcs.py\n",
    "import graphlab as gl\n",
    "import numpy as np\n",
    "import pandas as pd\n",
    "import pickle, json\n",
    "from collections import defaultdict\n",
    "\n",
    "\n",
    "\n",
    "def determine_input(input_str, df_data, user_map):\n",
    "    try:\n",
    "        id_val = int(input_str)\n",
    "        if id_val in df_data.User.values:\n",
    "            return id_val\n",
    "        else: \n",
    "            return None\n",
    "    except ValueError:\n",
    "        if input_str in user_map:\n",
    "            return user_map[input_str]\n",
    "        else:\n",
    "            return None\n",
    "\n",
    "def user_rated_visited(user_id, df_data, df_raw):\n",
    "    #Find destinations climber has rated climbs from\n",
    "    climbs_rated = df_data[df_data.User==user_id].Climb\n",
    "    visited = set(df_raw.loc[climbs_rated].sub_location.values)\n",
    "  \n",
    "    #Finder user difficulty rating range from stared climbs\n",
    "    user_ratings = df_raw.loc[climbs_rated].rating\n",
    "    user_rating_std = user_ratings.std()\n",
    "    user_rating_mean = user_ratings.mean()\n",
    "    rating_max = user_rating_mean+user_rating_std\n",
    "    \n",
    "    return visited, rating_max\n",
    "   \n",
    "#Find climb locations to recommend\n",
    "def rec_loc_climb(user_id, visited, rating_max, df_raw,\n",
    "                  model, verbose=False, n_areas=3, n_climbs=10):\n",
    "    \n",
    "    climb_recs = model.recommend(users=[user_id], k=13000)\n",
    "    loc_climb_recs = defaultdict(list)\n",
    "    loc_recs = []\n",
    "    n_recs = 0\n",
    "    for rec in climb_recs:\n",
    "        climb = rec['Climb']\n",
    "        if df_raw.loc[climb].rating < rating_max:\n",
    "            loc = df_raw.loc[climb].sub_location\n",
    "            if loc not in (list(visited) + loc_recs):\n",
    "                loc_climb_recs[loc] += [climb]\n",
    "                if len(loc_climb_recs[loc]) == n_climbs:\n",
    "                    loc_recs += [loc]\n",
    "                    n_recs += 1\n",
    "                    if n_recs == n_areas:\n",
    "                        break\n",
    "    if verbose:\n",
    "        for loc in loc_recs:\n",
    "            print loc\n",
    "            print loc_climb_recs[loc]\n",
    "    return loc_recs, loc_climb_recs\n",
    "    \n",
    "def get_latent_user(user_id, model):\n",
    "    coefs = model.get('coefficients')\n",
    "    df_fac_user = pd.DataFrame(np.array(coefs['User']['factors']))\n",
    "    df_fac_user.set_index(np.array(coefs['User']['User']), inplace=True)\n",
    "    return df_fac_user.loc[user_id]\n",
    "\n",
    "if __name__ == \"__main__\":\n",
    "    #user name to user id dict\n",
    "    with open('user_map.p','r') as f:\n",
    "        user_map = pickle.load(f)\n",
    "\n",
    "    #star rating and climb data\n",
    "    df_data = pd.read_csv('star5.csv')\n",
    "    with open('df_raw_star5.p','r') as f:\n",
    "        df_raw = pickle.load(f)\n",
    "\n",
    "    #load in recommendation models\n",
    "    sim_mod = gl.load_model('sim_mod')\n",
    "    rfr_mod = gl.load_model('rfm_mod_15')\n",
    "    rfr_mod_lf = gl.load_model('rfm_mod_features_extracted')\n",
    "    \n",
    "    #user input\n",
    "    input_str = 'LauraColyer'\n",
    "    user_id = determine_input(input_str, df_data, user_map)\n",
    "    \n",
    "    visited, rating_max = user_rated_visited(user_id, df_data, df_raw)\n",
    "\n",
    "    #Get climb recomendations from item similarity model\n",
    "    loc_recs_sim, loc_climb_recs_sim = rec_loc_climb(user_id,\n",
    "                                                  visited,\n",
    "                                                  rating_max,\n",
    "                                                  df_raw,\n",
    "                                                  sim_mod,\n",
    "                                                  verbose=True)\n",
    "    \n",
    "    #Get climb recomendations from item similarity model\n",
    "    loc_recs_rfr, loc_climb_recs_rfr = rec_loc_climb(user_id,\n",
    "                                                  visited,\n",
    "                                                  rating_max,\n",
    "                                                  df_raw,\n",
    "                                                  rfr_mod,\n",
    "                                                  verbose=True)\n",
    "    print get_latent_user(user_id, rfr_mod_lf)\n",
    "    "
   ]
  },
  {
   "cell_type": "code",
   "execution_count": 43,
   "metadata": {
    "collapsed": false
   },
   "outputs": [
    {
     "name": "stdout",
     "output_type": "stream",
     "text": [
      "[INFO] This non-commercial license of GraphLab Create is assigned to dmneal@gmail.comand will expire on August 05, 2016. For commercial licensing options, visit https://dato.com/buy/.\n",
      "\n",
      "[INFO] Start server at: ipc:///tmp/graphlab_server-4232 - Server binary: /Users/datascientist/anaconda/envs/dato-env/lib/python2.7/site-packages/graphlab/unity_server - Server log: /tmp/graphlab_server_1439398606.log\n",
      "[INFO] GraphLab Server Version: 1.5.2\n",
      "Yosemite National Park\n",
      "[105840361, 105862896, 105862915, 105924807, 106154042, 107429493, 105862873, 105912192, 107677399, 105872907]\n",
      "Custer State Park\n",
      "[107684661, 108052987, 106053351, 105715232, 105714734, 107775061, 108244256, 107517307, 107810730, 105714761]\n",
      "Adirondacks\n",
      "[106532800, 107708237, 106831219, 107564731, 107185274, 106092527, 106542971, 106197345, 106078832, 106594953]\n",
      "Yosemite National Park\n",
      "[105862915, 105924807, 106154042, 105945535, 105862991, 105862873, 105862896, 106167844, 106187777, 105847471]\n",
      "Joshua Tree National Park\n",
      "[105721666, 105725788, 105722743, 105722305, 105723325, 105722050, 105725389, 105723478, 105722227, 105722431]\n",
      "Cathedral Ledge\n",
      "[105880759, 105919971, 105909672, 105880787, 105922177, 105938087, 105903672, 105920872, 105949212, 105924990]\n",
      "0    0.057407\n",
      "1   -0.119440\n",
      "2   -0.098539\n",
      "3   -0.049110\n",
      "Name: 107953067, dtype: float64\n",
      "[INFO] Stopping the server connection.\n"
     ]
    }
   ],
   "source": [
    "!python rec_funcs.py"
   ]
  },
  {
   "cell_type": "code",
   "execution_count": null,
   "metadata": {
    "collapsed": true
   },
   "outputs": [],
   "source": []
  },
  {
   "cell_type": "code",
   "execution_count": null,
   "metadata": {
    "collapsed": true
   },
   "outputs": [],
   "source": []
  },
  {
   "cell_type": "markdown",
   "metadata": {},
   "source": [
    "##Scratch work below"
   ]
  },
  {
   "cell_type": "code",
   "execution_count": 15,
   "metadata": {
    "collapsed": false,
    "scrolled": true
   },
   "outputs": [
    {
     "ename": "NameError",
     "evalue": "name 'loc_recs' is not defined",
     "output_type": "error",
     "traceback": [
      "\u001b[0;31m---------------------------------------------------------------------------\u001b[0m",
      "\u001b[0;31mNameError\u001b[0m                                 Traceback (most recent call last)",
      "\u001b[0;32m<ipython-input-15-3deef6397c47>\u001b[0m in \u001b[0;36m<module>\u001b[0;34m()\u001b[0m\n\u001b[1;32m      3\u001b[0m \u001b[0mrfr_recs\u001b[0m \u001b[0;34m=\u001b[0m \u001b[0mm_rfr\u001b[0m\u001b[0;34m.\u001b[0m\u001b[0mrecommend\u001b[0m\u001b[0;34m(\u001b[0m\u001b[0musers\u001b[0m\u001b[0;34m=\u001b[0m\u001b[0;34m[\u001b[0m\u001b[0muser_id\u001b[0m\u001b[0;34m]\u001b[0m\u001b[0;34m,\u001b[0m \u001b[0mk\u001b[0m\u001b[0;34m=\u001b[0m\u001b[0;36m13000\u001b[0m\u001b[0;34m)\u001b[0m\u001b[0;34m\u001b[0m\u001b[0m\n\u001b[1;32m      4\u001b[0m \u001b[0;34m\u001b[0m\u001b[0m\n\u001b[0;32m----> 5\u001b[0;31m \u001b[0mloc_recs_copy\u001b[0m \u001b[0;34m=\u001b[0m \u001b[0mlist\u001b[0m\u001b[0;34m(\u001b[0m\u001b[0mloc_recs\u001b[0m\u001b[0;34m)\u001b[0m\u001b[0;34m\u001b[0m\u001b[0m\n\u001b[0m\u001b[1;32m      6\u001b[0m \u001b[0mrfr_climb_recs\u001b[0m \u001b[0;34m=\u001b[0m \u001b[0mdefaultdict\u001b[0m\u001b[0;34m(\u001b[0m\u001b[0mlist\u001b[0m\u001b[0;34m)\u001b[0m\u001b[0;34m\u001b[0m\u001b[0m\n\u001b[1;32m      7\u001b[0m \u001b[0;32mfor\u001b[0m \u001b[0mi\u001b[0m\u001b[0;34m,\u001b[0m\u001b[0mrec\u001b[0m \u001b[0;32min\u001b[0m \u001b[0menumerate\u001b[0m\u001b[0;34m(\u001b[0m\u001b[0mrfr_recs\u001b[0m\u001b[0;34m)\u001b[0m\u001b[0;34m:\u001b[0m\u001b[0;34m\u001b[0m\u001b[0m\n",
      "\u001b[0;31mNameError\u001b[0m: name 'loc_recs' is not defined"
     ]
    }
   ],
   "source": [
    "#Find recommended climbs in rating range and in area\n",
    "m_rfr = gl.load_model('rfm_mod_15')\n",
    "rfr_recs = m_rfr.recommend(users=[user_id], k=13000)\n",
    "\n",
    "loc_recs_copy = list(loc_recs)\n",
    "rfr_climb_recs = defaultdict(list)\n",
    "for i,rec in enumerate(rfr_recs):\n",
    "    climb = df_raw.loc[rec['Climb']]\n",
    "    if (climb.rating > user_rating_range[0]) and \\\n",
    "            (climb.rating < user_rating_range[1]):\n",
    "        if climb.sub_location in loc_recs_copy:\n",
    "            rfr_climb_recs[climb.sub_location] += [rec['Climb']]\n",
    "            #print i,climb.sub_location\n",
    "            if len(rfr_climb_recs[climb.sub_location]) == 10:\n",
    "                loc_recs_copy.remove(climb.sub_location)\n",
    "                if not loc_recs_copy:\n",
    "                    break\n",
    "print json.dumps(rfr_climb_recs, indent=2)      "
   ]
  },
  {
   "cell_type": "code",
   "execution_count": null,
   "metadata": {
    "collapsed": true
   },
   "outputs": [],
   "source": []
  }
 ],
 "metadata": {
  "kernelspec": {
   "display_name": "Python 2",
   "language": "python",
   "name": "python2"
  },
  "language_info": {
   "codemirror_mode": {
    "name": "ipython",
    "version": 2
   },
   "file_extension": ".py",
   "mimetype": "text/x-python",
   "name": "python",
   "nbconvert_exporter": "python",
   "pygments_lexer": "ipython2",
   "version": "2.7.10"
  }
 },
 "nbformat": 4,
 "nbformat_minor": 0
}
