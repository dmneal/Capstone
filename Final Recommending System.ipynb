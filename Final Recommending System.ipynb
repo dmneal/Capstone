{
 "cells": [
  {
   "cell_type": "markdown",
   "metadata": {},
   "source": [
    "#Make Full Recomendation Based on User Input"
   ]
  },
  {
   "cell_type": "markdown",
   "metadata": {},
   "source": [
    "This notebook will make recomendations based on user input.\n",
    "\n",
    "Input: \n",
    "User ID or User name (str)\n",
    "\n",
    "Output: Destination Suggestions (str), 10 or so suggested climbs (int) in that area, and a what kind of climber the user is based on latent features of model."
   ]
  },
  {
   "cell_type": "markdown",
   "metadata": {},
   "source": [
    "##Import modules and load in data"
   ]
  },
  {
   "cell_type": "code",
   "execution_count": 4,
   "metadata": {
    "collapsed": false
   },
   "outputs": [
    {
     "name": "stderr",
     "output_type": "stream",
     "text": [
      "[INFO] This non-commercial license of GraphLab Create is assigned to dmneal@gmail.comand will expire on August 05, 2016. For commercial licensing options, visit https://dato.com/buy/.\n",
      "\n",
      "[INFO] Start server at: ipc:///tmp/graphlab_server-45254 - Server binary: /Users/datascientist/anaconda/envs/dato-env/lib/python2.7/site-packages/graphlab/unity_server - Server log: /tmp/graphlab_server_1439499282.log\n",
      "[INFO] GraphLab Server Version: 1.5.2\n"
     ]
    }
   ],
   "source": [
    "import graphlab as gl\n",
    "import numpy as np\n",
    "import pandas as pd\n",
    "import pickle, json\n",
    "from collections import defaultdict\n",
    "\n",
    "#user name to user id dict\n",
    "with open('user_map.p','r') as f:\n",
    "    user_map = pickle.load(f)\n",
    "\n",
    "#star rating and climb data\n",
    "df_data = pd.read_csv('star5.csv')\n",
    "with open('df_raw_star5.p','r') as f:\n",
    "    df_raw = pickle.load(f)\n",
    "    \n",
    "#load in recommendation models\n",
    "sim_mod = gl.load_model('sim_mod')\n",
    "rfr_mod = gl.load_model('rfm_mod_15')\n",
    "rfr_mod_lf = gl.load_model('rfm_mod_features_extracted')"
   ]
  },
  {
   "cell_type": "markdown",
   "metadata": {},
   "source": [
    "First, we need to determine what the input was.  If it's a user id that we have, then we proceed with recommendation.  If it's a user name, we find the user id and proceed as above.  If it's a climb, or series of climbs, we make recomendations based on those climbs.  "
   ]
  },
  {
   "cell_type": "code",
   "execution_count": 5,
   "metadata": {
    "collapsed": false
   },
   "outputs": [],
   "source": [
    "def determine_input(input_str, df_data, user_map):\n",
    "    try:\n",
    "        id_val = int(input_str)\n",
    "        if id_val in df_data.User.values:\n",
    "            return id_val\n",
    "        else: \n",
    "            return None\n",
    "    except ValueError:\n",
    "        if input_str in user_map:\n",
    "            return user_map[input_str]\n",
    "        else:\n",
    "            return None"
   ]
  },
  {
   "cell_type": "code",
   "execution_count": 6,
   "metadata": {
    "collapsed": false
   },
   "outputs": [],
   "source": [
    "input_str = 'LauraColyer'\n",
    "user_id = determine_input(input_str, df_data, user_map)"
   ]
  },
  {
   "cell_type": "markdown",
   "metadata": {},
   "source": [
    "We will suggest the destination and climbs based on two models.  We will proceed through the top recomendations until ~3-5 areas the user has not rated a climb in have at least ~10 climbs suggested that are within their climbing ability.  We will suggest those areas and the recommended climbs in them.  "
   ]
  },
  {
   "cell_type": "code",
   "execution_count": 7,
   "metadata": {
    "collapsed": false
   },
   "outputs": [],
   "source": [
    "def user_rated_visited(user_id, df_data, df_raw):\n",
    "    #Find destinations climber has rated climbs from\n",
    "    climbs_rated = df_data[df_data.User==user_id].Climb\n",
    "    visited = set(df_raw.loc[climbs_rated].sub_location.values)\n",
    "  \n",
    "    #Finder user difficulty rating range from stared climbs\n",
    "    user_ratings = df_raw.loc[climbs_rated].rating\n",
    "    user_rating_std = user_ratings.std()\n",
    "    user_rating_mean = user_ratings.mean()\n",
    "    rating_max = user_rating_mean+user_rating_std\n",
    "    \n",
    "    return visited, rating_max"
   ]
  },
  {
   "cell_type": "code",
   "execution_count": 8,
   "metadata": {
    "collapsed": false
   },
   "outputs": [],
   "source": [
    "visited, rating_max = user_rated_visited(user_id, df_data, df_raw)\n"
   ]
  },
  {
   "cell_type": "code",
   "execution_count": 9,
   "metadata": {
    "collapsed": false
   },
   "outputs": [],
   "source": [
    "#Find climb locations to recommend\n",
    "def rec_loc_climb(user_id, visited, rating_max, df_raw,\n",
    "                  model, verbose=False, n_areas=3, n_climbs=10):\n",
    "    \n",
    "    climb_recs = model.recommend(users=[user_id], k=13000)\n",
    "    loc_climb_recs = defaultdict(list)\n",
    "    loc_recs = []\n",
    "    n_recs = 0\n",
    "    for rec in climb_recs:\n",
    "        climb = rec['Climb']\n",
    "        if df_raw.loc[climb].rating < rating_max:\n",
    "            loc = df_raw.loc[climb].sub_location\n",
    "            if loc not in (list(visited) + loc_recs):\n",
    "                loc_climb_recs[loc] += [climb]\n",
    "                if len(loc_climb_recs[loc]) == n_climbs:\n",
    "                    loc_recs += [loc]\n",
    "                    n_recs += 1\n",
    "                    if n_recs == n_areas:\n",
    "                        break\n",
    "    if verbose:\n",
    "        for loc in loc_recs:\n",
    "            print loc\n",
    "            print loc_climb_recs[loc]\n",
    "    return loc_recs, loc_climb_recs"
   ]
  },
  {
   "cell_type": "code",
   "execution_count": 10,
   "metadata": {
    "collapsed": false
   },
   "outputs": [
    {
     "name": "stdout",
     "output_type": "stream",
     "text": [
      "Yosemite National Park\n",
      "[105840361, 105862896, 105862915, 105924807, 106154042, 107429493, 105862873, 105912192, 107677399, 105872907]\n",
      "Custer State Park\n",
      "[107684661, 108052987, 106053351, 105715232, 105714734, 107775061, 108244256, 107517307, 107810730, 105714761]\n",
      "Adirondacks\n",
      "[106532800, 107708237, 106831219, 107564731, 107185274, 106092527, 106542971, 106197345, 106078832, 106594953]\n"
     ]
    }
   ],
   "source": [
    "#Get climb recomendations from item similarity model\n",
    "loc_recs, loc_climb_recs = rec_loc_climb(user_id,\n",
    "                                                  visited,\n",
    "                                                  rating_max,\n",
    "                                                  df_raw,\n",
    "                                                  sim_mod,\n",
    "                                                  verbose=True)"
   ]
  },
  {
   "cell_type": "code",
   "execution_count": 11,
   "metadata": {
    "collapsed": false
   },
   "outputs": [
    {
     "name": "stdout",
     "output_type": "stream",
     "text": [
      "Yosemite National Park\n",
      "[105862915, 105924807, 106154042, 105945535, 105862991, 105862873, 105862896, 106167844, 106187777, 105847471]\n",
      "Joshua Tree National Park\n",
      "[105721666, 105725788, 105722743, 105722305, 105723325, 105722050, 105725389, 105723478, 105722227, 105722431]\n",
      "Cathedral Ledge\n",
      "[105880759, 105919971, 105909672, 105880787, 105922177, 105938087, 105903672, 105920872, 105949212, 105924990]\n"
     ]
    }
   ],
   "source": [
    "#Get climb recomendations from item similarity model\n",
    "loc_recs_rfr, loc_climb_recs_rfr = rec_loc_climb(user_id,\n",
    "                                                  visited,\n",
    "                                                  rating_max,\n",
    "                                                  df_raw,\n",
    "                                                  rfr_mod,\n",
    "                                                  verbose=True)"
   ]
  },
  {
   "cell_type": "markdown",
   "metadata": {},
   "source": [
    "We also want to say something about the user based on the latent features of rfr model."
   ]
  },
  {
   "cell_type": "code",
   "execution_count": 12,
   "metadata": {
    "collapsed": false
   },
   "outputs": [],
   "source": [
    "def get_latent_user(user_id, model):\n",
    "    coefs = model.get('coefficients')\n",
    "    df_fac_user = pd.DataFrame(np.array(coefs['User']['factors']))\n",
    "    df_fac_user.set_index(np.array(coefs['User']['User']), inplace=True)\n",
    "    return df_fac_user.loc[user_id]"
   ]
  },
  {
   "cell_type": "code",
   "execution_count": 13,
   "metadata": {
    "collapsed": false
   },
   "outputs": [
    {
     "data": {
      "text/plain": [
       "0    0.057407\n",
       "1   -0.119440\n",
       "2   -0.098539\n",
       "3   -0.049110\n",
       "Name: 107953067, dtype: float64"
      ]
     },
     "execution_count": 13,
     "metadata": {},
     "output_type": "execute_result"
    }
   ],
   "source": [
    "get_latent_user(user_id, rfr_mod_lf)"
   ]
  },
  {
   "cell_type": "code",
   "execution_count": null,
   "metadata": {
    "collapsed": true
   },
   "outputs": [],
   "source": []
  },
  {
   "cell_type": "code",
   "execution_count": null,
   "metadata": {
    "collapsed": true
   },
   "outputs": [],
   "source": []
  },
  {
   "cell_type": "code",
   "execution_count": null,
   "metadata": {
    "collapsed": true
   },
   "outputs": [],
   "source": []
  },
  {
   "cell_type": "markdown",
   "metadata": {},
   "source": [
    "###Recommend based on one or more climbs "
   ]
  },
  {
   "cell_type": "code",
   "execution_count": 14,
   "metadata": {
    "collapsed": false
   },
   "outputs": [],
   "source": [
    "def rec_loc_climb_sim(model, df_raw, climb_ids=[106129861, 106460891], \n",
    "                      rating_max = None,\n",
    "                      verbose=False, \n",
    "                      n_areas=3, n_climbs=10):\n",
    "    #Recommend locations and climbs based on similarities to input climbs\n",
    "    rec_SF = model.get_similar_items(climb_ids, k=1000)\n",
    "    top_recs = rec_SF.to_dataframe().sort(['distance'],\n",
    "                                          ascending=False).similar\n",
    "    visited = set(df_raw.loc[climb_ids].sub_location.values)\n",
    "    \n",
    "    if not rating_max:\n",
    "    #Finder user difficulty rating range from climbs\n",
    "        user_ratings = df_raw.loc[climb_ids].rating\n",
    "        print 'user_rating', user_ratings\n",
    "        if len(user_ratings)>1:\n",
    "            rating_max = user_ratings.std()+user_ratings.mean()\n",
    "        else:\n",
    "            rating_max = user_ratings.mean()\n",
    "    \n",
    "    print \"Rating Max:\", rating_max\n",
    "    \n",
    "    loc_climb_recs = defaultdict(list)\n",
    "    loc_recs = []\n",
    "    n_recs = 0\n",
    "    for climb in top_recs:\n",
    "        if df_raw.loc[climb].rating < rating_max:\n",
    "            loc = df_raw.loc[climb].sub_location\n",
    "            if loc not in (list(visited) + loc_recs):\n",
    "                loc_climb_recs[loc] += [climb]\n",
    "                if len(loc_climb_recs[loc]) == n_climbs:\n",
    "                    loc_recs += [loc]\n",
    "                    n_recs += 1\n",
    "                    if n_recs == n_areas:\n",
    "                        break\n",
    "    \n",
    "    if verbose:\n",
    "        for loc in loc_recs:\n",
    "            print loc\n",
    "            print loc_climb_recs[loc]\n",
    "    return loc_recs, loc_climb_recs"
   ]
  },
  {
   "cell_type": "code",
   "execution_count": 16,
   "metadata": {
    "collapsed": false
   },
   "outputs": [
    {
     "name": "stdout",
     "output_type": "stream",
     "text": [
      "PROGRESS: Getting similar items completed in 0.16747\n",
      "user_rating Climb\n",
      "106125070    21\n",
      "Name: rating, dtype: float64\n",
      "Rating Max: 21.0\n",
      "Spearfish Canyon\n",
      "[106478790, 107282754, 108135568, 106371703, 107422535, 106476834, 107474601, 106514378, 106131704, 106709530]\n",
      "Mount Rushmore National Memorial\n",
      "[105715109, 105715403, 105715715, 108126846, 105715724, 106467636, 106245532, 108036270, 108126873, 105715052]\n",
      "Yosemite National Park\n",
      "[105877935, 106042450, 105862936, 105862957, 105865415, 105996954, 106026157, 106007588, 105874615, 105872907]\n"
     ]
    }
   ],
   "source": [
    "loc_recs, loc_climb_recs = rec_loc_climb_sim(rfr_mod, \n",
    "                        df_raw, \n",
    "                        climb_ids=[106125070],\n",
    "                        verbose=True) \n"
   ]
  },
  {
   "cell_type": "code",
   "execution_count": 17,
   "metadata": {
    "collapsed": false
   },
   "outputs": [],
   "source": [
    "def get_latent_climbs(climb_ids, model):\n",
    "    coefs = model.get('coefficients')\n",
    "    df_fac_climb = pd.DataFrame(np.array(coefs['Climb']['factors']))\n",
    "    df_fac_climb.set_index(np.array(coefs['Climb']['Climb']), inplace=True)\n",
    "    climb_av = np.zeros(4)\n",
    "    for climb_id in climb_ids:\n",
    "        climb_av += df_fac_climb.loc[climb_id]\n",
    "    return climb_av"
   ]
  },
  {
   "cell_type": "code",
   "execution_count": 77,
   "metadata": {
    "collapsed": false
   },
   "outputs": [
    {
     "name": "stdout",
     "output_type": "stream",
     "text": [
      "106460891\n",
      "106460901\n",
      "105875465\n"
     ]
    },
    {
     "data": {
      "text/plain": [
       "array([-0.08909002,  0.09612912,  0.10399982,  0.13489014])"
      ]
     },
     "execution_count": 77,
     "metadata": {},
     "output_type": "execute_result"
    }
   ],
   "source": [
    "get_latent_climbs([106460891, 106460901, 105875465], rfr_mod_lf)"
   ]
  },
  {
   "cell_type": "markdown",
   "metadata": {},
   "source": [
    "###Make recommendations using latent features as observed features"
   ]
  },
  {
   "cell_type": "code",
   "execution_count": 52,
   "metadata": {
    "collapsed": false
   },
   "outputs": [
    {
     "data": {
      "text/html": [
       "<div>\n",
       "<table border=\"1\" class=\"dataframe\">\n",
       "  <thead>\n",
       "    <tr style=\"text-align: right;\">\n",
       "      <th></th>\n",
       "      <th>location</th>\n",
       "      <th>rating</th>\n",
       "      <th>rating_dif</th>\n",
       "      <th>star_votes</th>\n",
       "      <th>stars</th>\n",
       "      <th>sub_location</th>\n",
       "      <th>type</th>\n",
       "      <th>comment</th>\n",
       "    </tr>\n",
       "    <tr>\n",
       "      <th>Climb</th>\n",
       "      <th></th>\n",
       "      <th></th>\n",
       "      <th></th>\n",
       "      <th></th>\n",
       "      <th></th>\n",
       "      <th></th>\n",
       "      <th></th>\n",
       "      <th></th>\n",
       "    </tr>\n",
       "  </thead>\n",
       "  <tbody>\n",
       "    <tr>\n",
       "      <th>105834134</th>\n",
       "      <td>Utah</td>\n",
       "      <td>22.75</td>\n",
       "      <td>0.0</td>\n",
       "      <td>6</td>\n",
       "      <td>3.5</td>\n",
       "      <td>Wasatch Range</td>\n",
       "      <td>Trad</td>\n",
       "      <td>15</td>\n",
       "    </tr>\n",
       "    <tr>\n",
       "      <th>106181256</th>\n",
       "      <td>Colorado</td>\n",
       "      <td>19.50</td>\n",
       "      <td>1.5</td>\n",
       "      <td>12</td>\n",
       "      <td>3.1</td>\n",
       "      <td>Boulder</td>\n",
       "      <td>Trad</td>\n",
       "      <td>2</td>\n",
       "    </tr>\n",
       "    <tr>\n",
       "      <th>105920111</th>\n",
       "      <td>International</td>\n",
       "      <td>17.50</td>\n",
       "      <td>0.0</td>\n",
       "      <td>13</td>\n",
       "      <td>2.9</td>\n",
       "      <td>North America</td>\n",
       "      <td>Sport</td>\n",
       "      <td>NaN</td>\n",
       "    </tr>\n",
       "    <tr>\n",
       "      <th>106208618</th>\n",
       "      <td>California</td>\n",
       "      <td>13.00</td>\n",
       "      <td>0.0</td>\n",
       "      <td>24</td>\n",
       "      <td>3.1</td>\n",
       "      <td>Yosemite National Park</td>\n",
       "      <td>Trad</td>\n",
       "      <td>3</td>\n",
       "    </tr>\n",
       "    <tr>\n",
       "      <th>105718117</th>\n",
       "      <td>Utah</td>\n",
       "      <td>28.00</td>\n",
       "      <td>0.5</td>\n",
       "      <td>45</td>\n",
       "      <td>4.9</td>\n",
       "      <td>Zion National Park</td>\n",
       "      <td>Sport</td>\n",
       "      <td>23</td>\n",
       "    </tr>\n",
       "  </tbody>\n",
       "</table>\n",
       "</div>"
      ],
      "text/plain": [
       "                location  rating  rating_dif  star_votes  stars  \\\n",
       "Climb                                                             \n",
       "105834134           Utah   22.75         0.0           6    3.5   \n",
       "106181256       Colorado   19.50         1.5          12    3.1   \n",
       "105920111  International   17.50         0.0          13    2.9   \n",
       "106208618     California   13.00         0.0          24    3.1   \n",
       "105718117           Utah   28.00         0.5          45    4.9   \n",
       "\n",
       "                     sub_location   type  comment  \n",
       "Climb                                              \n",
       "105834134           Wasatch Range   Trad       15  \n",
       "106181256                 Boulder   Trad        2  \n",
       "105920111           North America  Sport      NaN  \n",
       "106208618  Yosemite National Park   Trad        3  \n",
       "105718117      Zion National Park  Sport       23  "
      ]
     },
     "execution_count": 52,
     "metadata": {},
     "output_type": "execute_result"
    }
   ],
   "source": [
    "df_raw.head()"
   ]
  },
  {
   "cell_type": "code",
   "execution_count": 83,
   "metadata": {
    "collapsed": false
   },
   "outputs": [],
   "source": [
    "def rec_loc_climb_lf(input_lf, climb_type, model, df_raw, df_data,\n",
    "                    rating_max=18, star_min=4, n_climbs=10, \n",
    "                     n_areas=3, verbose=False):\n",
    "\n",
    "\n",
    "    scale_ls = 0.05 * input_lf\n",
    "    coefs = model.get('coefficients')\n",
    "    df_fac_climb = pd.DataFrame(np.array(coefs['Climb']['factors']))\n",
    "    df_rec = pd.DataFrame(scale_ls.dot(df_fac_climb.values.T))\n",
    "    df_rec.set_index(np.array(coefs['Climb']['Climb']), inplace=True)\n",
    "\n",
    "    df_rec.sort(0, ascending=False, inplace=True)\n",
    "\n",
    "    df_rec = df_rec[df_raw['stars']>star_min]\n",
    "    df_rec = df_rec[df_raw['type']==climb_type]\n",
    "\n",
    "    loc_climb_recs = defaultdict(list)\n",
    "    loc_recs = []\n",
    "    n_recs = 0\n",
    "    for climb in df_rec.index:\n",
    "        if df_raw.loc[climb].rating < rating_max:\n",
    "            loc = df_raw.loc[climb].sub_location\n",
    "            if loc not in (loc_recs):\n",
    "                loc_climb_recs[loc] += [climb]\n",
    "                if len(loc_climb_recs[loc]) == n_climbs:\n",
    "                    loc_recs += [loc]\n",
    "                    n_recs += 1\n",
    "                    if n_recs == n_areas:\n",
    "                        break\n",
    "    if verbose:\n",
    "        for loc in loc_recs:\n",
    "            print loc\n",
    "            print loc_climb_recs[loc]\n",
    "    return loc_recs, loc_climb_recs\n"
   ]
  },
  {
   "cell_type": "code",
   "execution_count": 84,
   "metadata": {
    "collapsed": false
   },
   "outputs": [
    {
     "name": "stdout",
     "output_type": "stream",
     "text": [
      "Red River Gorge\n",
      "[106064911, 106789874, 105865483, 105880914, 105919554, 105870326, 105860741, 106915658, 106128420, 105970537]\n",
      "North America\n",
      "[107198282, 108344970, 109007909, 108145859, 106798174, 106640630, 106798163, 105857749, 107407350, 105963366]\n",
      "Acadia National Park\n",
      "[105975325, 105998178, 106489240, 106034988, 106616203, 106035181, 106813156, 106867373, 105998473, 105975313]\n"
     ]
    }
   ],
   "source": [
    "input_lf = np.array([-1,-1,1,-1])\n",
    "climb_type = 'Trad'\n",
    "star_min = 3\n",
    "rating_max = 20\n",
    "model = rfr_mod_lf\n",
    "df_raw\n",
    "df_data\n",
    "loc_recs, loc_climb_recs=rec_loc_climb_lf(input_lf, climb_type, model, df_raw, df_data,\n",
    "                    rating_max=rating_max, star_min=star_min,\n",
    "                verbose=True)"
   ]
  },
  {
   "cell_type": "markdown",
   "metadata": {},
   "source": [
    "###Inspect latent features to determine what they mean"
   ]
  },
  {
   "cell_type": "code",
   "execution_count": 45,
   "metadata": {
    "collapsed": false
   },
   "outputs": [
    {
     "data": {
      "text/html": [
       "<div>\n",
       "<table border=\"1\" class=\"dataframe\">\n",
       "  <thead>\n",
       "    <tr style=\"text-align: right;\">\n",
       "      <th></th>\n",
       "      <th>0</th>\n",
       "      <th>1</th>\n",
       "      <th>2</th>\n",
       "      <th>3</th>\n",
       "    </tr>\n",
       "  </thead>\n",
       "  <tbody>\n",
       "    <tr>\n",
       "      <th>0</th>\n",
       "      <td>0.027357</td>\n",
       "      <td>0.036358</td>\n",
       "      <td>0.003158</td>\n",
       "      <td>0.031058</td>\n",
       "    </tr>\n",
       "    <tr>\n",
       "      <th>Utah</th>\n",
       "      <td>0.080573</td>\n",
       "      <td>1.932980</td>\n",
       "      <td>-1.132659</td>\n",
       "      <td>1.685715</td>\n",
       "    </tr>\n",
       "    <tr>\n",
       "      <th>International</th>\n",
       "      <td>0.017579</td>\n",
       "      <td>-1.321137</td>\n",
       "      <td>-0.054643</td>\n",
       "      <td>1.309529</td>\n",
       "    </tr>\n",
       "    <tr>\n",
       "      <th>Colorado</th>\n",
       "      <td>-0.038420</td>\n",
       "      <td>2.176859</td>\n",
       "      <td>-1.344112</td>\n",
       "      <td>-1.967785</td>\n",
       "    </tr>\n",
       "    <tr>\n",
       "      <th>Nevada</th>\n",
       "      <td>0.025285</td>\n",
       "      <td>-0.913047</td>\n",
       "      <td>-1.709671</td>\n",
       "      <td>0.327458</td>\n",
       "    </tr>\n",
       "    <tr>\n",
       "      <th>New Hampshire</th>\n",
       "      <td>-0.128422</td>\n",
       "      <td>-1.867894</td>\n",
       "      <td>2.034448</td>\n",
       "      <td>-2.327331</td>\n",
       "    </tr>\n",
       "    <tr>\n",
       "      <th>California</th>\n",
       "      <td>0.198598</td>\n",
       "      <td>-1.702715</td>\n",
       "      <td>-2.126580</td>\n",
       "      <td>0.778821</td>\n",
       "    </tr>\n",
       "    <tr>\n",
       "      <th>New York</th>\n",
       "      <td>0.181439</td>\n",
       "      <td>-1.864892</td>\n",
       "      <td>1.406713</td>\n",
       "      <td>-2.157098</td>\n",
       "    </tr>\n",
       "    <tr>\n",
       "      <th>South Dakota</th>\n",
       "      <td>-0.091835</td>\n",
       "      <td>2.191470</td>\n",
       "      <td>3.084531</td>\n",
       "      <td>-1.390929</td>\n",
       "    </tr>\n",
       "    <tr>\n",
       "      <th>Washington</th>\n",
       "      <td>0.027421</td>\n",
       "      <td>-1.318861</td>\n",
       "      <td>2.304941</td>\n",
       "      <td>2.267952</td>\n",
       "    </tr>\n",
       "    <tr>\n",
       "      <th>Idaho</th>\n",
       "      <td>0.029401</td>\n",
       "      <td>1.488993</td>\n",
       "      <td>0.858588</td>\n",
       "      <td>2.123728</td>\n",
       "    </tr>\n",
       "    <tr>\n",
       "      <th>Oregon</th>\n",
       "      <td>-0.039640</td>\n",
       "      <td>-1.244558</td>\n",
       "      <td>1.724066</td>\n",
       "      <td>1.988827</td>\n",
       "    </tr>\n",
       "    <tr>\n",
       "      <th>Wyoming</th>\n",
       "      <td>0.003152</td>\n",
       "      <td>2.361479</td>\n",
       "      <td>1.100766</td>\n",
       "      <td>-0.261913</td>\n",
       "    </tr>\n",
       "    <tr>\n",
       "      <th>Kentucky</th>\n",
       "      <td>-0.228583</td>\n",
       "      <td>-1.073530</td>\n",
       "      <td>-1.029738</td>\n",
       "      <td>-2.546639</td>\n",
       "    </tr>\n",
       "    <tr>\n",
       "      <th>Montana</th>\n",
       "      <td>0.017763</td>\n",
       "      <td>1.029967</td>\n",
       "      <td>2.138483</td>\n",
       "      <td>1.019228</td>\n",
       "    </tr>\n",
       "    <tr>\n",
       "      <th>Maine</th>\n",
       "      <td>-0.096615</td>\n",
       "      <td>-1.522972</td>\n",
       "      <td>1.643253</td>\n",
       "      <td>-1.596293</td>\n",
       "    </tr>\n",
       "    <tr>\n",
       "      <th>Trad</th>\n",
       "      <td>1.492548</td>\n",
       "      <td>0.035152</td>\n",
       "      <td>0.025764</td>\n",
       "      <td>-0.011604</td>\n",
       "    </tr>\n",
       "    <tr>\n",
       "      <th>Sport</th>\n",
       "      <td>-1.557920</td>\n",
       "      <td>0.024221</td>\n",
       "      <td>-0.037197</td>\n",
       "      <td>0.055611</td>\n",
       "    </tr>\n",
       "    <tr>\n",
       "      <th>TR</th>\n",
       "      <td>-0.146247</td>\n",
       "      <td>-0.009582</td>\n",
       "      <td>0.025673</td>\n",
       "      <td>0.006201</td>\n",
       "    </tr>\n",
       "  </tbody>\n",
       "</table>\n",
       "</div>"
      ],
      "text/plain": [
       "                      0         1         2         3\n",
       "0              0.027357  0.036358  0.003158  0.031058\n",
       "Utah           0.080573  1.932980 -1.132659  1.685715\n",
       "International  0.017579 -1.321137 -0.054643  1.309529\n",
       "Colorado      -0.038420  2.176859 -1.344112 -1.967785\n",
       "Nevada         0.025285 -0.913047 -1.709671  0.327458\n",
       "New Hampshire -0.128422 -1.867894  2.034448 -2.327331\n",
       "California     0.198598 -1.702715 -2.126580  0.778821\n",
       "New York       0.181439 -1.864892  1.406713 -2.157098\n",
       "South Dakota  -0.091835  2.191470  3.084531 -1.390929\n",
       "Washington     0.027421 -1.318861  2.304941  2.267952\n",
       "Idaho          0.029401  1.488993  0.858588  2.123728\n",
       "Oregon        -0.039640 -1.244558  1.724066  1.988827\n",
       "Wyoming        0.003152  2.361479  1.100766 -0.261913\n",
       "Kentucky      -0.228583 -1.073530 -1.029738 -2.546639\n",
       "Montana        0.017763  1.029967  2.138483  1.019228\n",
       "Maine         -0.096615 -1.522972  1.643253 -1.596293\n",
       "Trad           1.492548  0.035152  0.025764 -0.011604\n",
       "Sport         -1.557920  0.024221 -0.037197  0.055611\n",
       "TR            -0.146247 -0.009582  0.025673  0.006201"
      ]
     },
     "execution_count": 45,
     "metadata": {},
     "output_type": "execute_result"
    }
   ],
   "source": [
    "table=User\n",
    "side_data = pd.DataFrame(np.array(coefs['side_data']['factors']))\n",
    "side_data.set_index(np.array(coefs['side_data']['index']), inplace=True)\n",
    "side_data"
   ]
  },
  {
   "cell_type": "code",
   "execution_count": 41,
   "metadata": {
    "collapsed": false
   },
   "outputs": [
    {
     "data": {
      "text/plain": [
       "{'Climb': Columns:\n",
       " \tClimb\tint\n",
       " \tlinear_terms\tfloat\n",
       " \tfactors\tarray\n",
       " \n",
       " Rows: 13675\n",
       " \n",
       " Data:\n",
       " +-----------+------------------+-------------------------------+\n",
       " |   Climb   |   linear_terms   |            factors            |\n",
       " +-----------+------------------+-------------------------------+\n",
       " | 105834134 | -0.328962981701  | [-0.0495708845556, -0.0473... |\n",
       " | 106181256 | -0.105537422001  | [-0.0724642798305, -0.0232... |\n",
       " | 105920111 | -0.148473024368  | [0.0290321689099, 0.063994... |\n",
       " | 106208618 | -0.0228561554104 | [-0.0333808325231, 0.02560... |\n",
       " | 105718117 |  0.246717840433  | [-0.118238158524, 0.054365... |\n",
       " | 105868666 | -0.179359763861  | [-0.044172488153, -0.04059... |\n",
       " | 106449034 | 0.0553373508155  | [-0.0781496763229, -0.0576... |\n",
       " | 105947723 |  0.114070989192  | [-0.0237222407013, 0.00327... |\n",
       " | 105732860 | -0.315011382103  | [-0.0341163463891, 0.03355... |\n",
       " | 108873104 | -0.153943553567  | [-0.000562944391277, 0.011... |\n",
       " +-----------+------------------+-------------------------------+\n",
       " [13675 rows x 3 columns]\n",
       " Note: Only the head of the SFrame is printed.\n",
       " You can use print_rows(num_rows=m, num_columns=n) to print more rows and columns.,\n",
       " 'User': Columns:\n",
       " \tUser\tint\n",
       " \tlinear_terms\tfloat\n",
       " \tfactors\tarray\n",
       " \n",
       " Rows: 7560\n",
       " \n",
       " Data:\n",
       " +-----------+-----------------+-------------------------------+\n",
       " |    User   |   linear_terms  |            factors            |\n",
       " +-----------+-----------------+-------------------------------+\n",
       " | 107224644 | -0.100183419883 | [-0.0110076675192, 0.13539... |\n",
       " | 106542095 | -0.344194889069 | [-0.0547654666007, -0.1669... |\n",
       " | 109258734 | 0.0542154312134 | [0.0198755636811, -0.27340... |\n",
       " | 107245266 |  0.189531698823 | [0.138383492827, -0.125694... |\n",
       " | 106371342 | 0.0607955865562 | [-0.174370914698, -0.18491... |\n",
       " | 109463002 | -0.319083869457 | [-0.142942935228, -0.15108... |\n",
       " | 106686648 |  0.192492872477 | [0.0369926951826, -0.13537... |\n",
       " | 106129812 |  0.137802273035 | [0.0702049806714, -0.10822... |\n",
       " | 109191059 | 0.0347943641245 | [0.145330131054, -0.149202... |\n",
       " | 106592409 |  -0.3017154634  | [-0.00216102623381, -0.178... |\n",
       " +-----------+-----------------+-------------------------------+\n",
       " [7560 rows x 3 columns]\n",
       " Note: Only the head of the SFrame is printed.\n",
       " You can use print_rows(num_rows=m, num_columns=n) to print more rows and columns.,\n",
       " 'intercept': 3.7022780662038883,\n",
       " 'side_data': Columns:\n",
       " \tfeature\tstr\n",
       " \tindex\tstr\n",
       " \tlinear_terms\tfloat\n",
       " \tfactors\tarray\n",
       " \n",
       " Rows: 19\n",
       " \n",
       " Data:\n",
       " +----------+---------------+------------------+-------------------------------+\n",
       " | feature  |     index     |   linear_terms   |            factors            |\n",
       " +----------+---------------+------------------+-------------------------------+\n",
       " |  rating  |       0       |  0.100020878017  | [0.0273569244891, 0.036358... |\n",
       " | location |      Utah     | -0.462046146393  | [0.0805729404092, 1.932979... |\n",
       " | location | International | -0.0832724198699 | [0.0175792966038, -1.32113... |\n",
       " | location |    Colorado   | -0.500904858112  | [-0.0384203605354, 2.17685... |\n",
       " | location |     Nevada    | -0.073861502111  | [0.0252852030098, -0.91304... |\n",
       " | location | New Hampshire | -0.487257570028  | [-0.12842155993, -1.867894... |\n",
       " | location |   California  | -0.330289542675  | [0.198597759008, -1.702715... |\n",
       " | location |    New York   | -0.698866784573  | [0.181439295411, -1.864892... |\n",
       " | location |  South Dakota | -0.602477610111  | [-0.091835424304, 2.191469... |\n",
       " | location |   Washington  | -0.547037780285  | [0.0274212807417, -1.31886... |\n",
       " +----------+---------------+------------------+-------------------------------+\n",
       " [19 rows x 4 columns]\n",
       " Note: Only the head of the SFrame is printed.\n",
       " You can use print_rows(num_rows=m, num_columns=n) to print more rows and columns.}"
      ]
     },
     "execution_count": 41,
     "metadata": {},
     "output_type": "execute_result"
    }
   ],
   "source": [
    "coefs"
   ]
  },
  {
   "cell_type": "code",
   "execution_count": null,
   "metadata": {
    "collapsed": true
   },
   "outputs": [],
   "source": []
  },
  {
   "cell_type": "code",
   "execution_count": null,
   "metadata": {
    "collapsed": true
   },
   "outputs": [],
   "source": []
  },
  {
   "cell_type": "code",
   "execution_count": 86,
   "metadata": {
    "collapsed": false
   },
   "outputs": [
    {
     "name": "stdout",
     "output_type": "stream",
     "text": [
      "Overwriting rec_funcs.py\n"
     ]
    }
   ],
   "source": [
    "%%writefile rec_funcs.py\n",
    "import graphlab as gl\n",
    "import numpy as np\n",
    "import pandas as pd\n",
    "import pickle, json\n",
    "from collections import defaultdict\n",
    "\n",
    "\n",
    "def determine_input(input_str, df_data, user_map):\n",
    "    try:\n",
    "        id_val = int(input_str)\n",
    "        if id_val in df_data.User.values:\n",
    "            return id_val\n",
    "        else: \n",
    "            return None\n",
    "    except ValueError:\n",
    "        if input_str in user_map:\n",
    "            return user_map[input_str]\n",
    "        else:\n",
    "            return None\n",
    "\n",
    "def user_rated_visited(user_id, df_data, df_raw):\n",
    "    #Find destinations climber has rated climbs from\n",
    "    climbs_rated = df_data[df_data.User==user_id].Climb\n",
    "    visited = set(df_raw.loc[climbs_rated].sub_location.values)\n",
    "  \n",
    "    #Finder user difficulty rating range from stared climbs\n",
    "    user_ratings = df_raw.loc[climbs_rated].rating\n",
    "    user_rating_std = user_ratings.std()\n",
    "    user_rating_mean = user_ratings.mean()\n",
    "    rating_max = user_rating_mean+user_rating_std\n",
    "    \n",
    "    return visited, rating_max\n",
    "   \n",
    "#Find climb locations to recommend\n",
    "def rec_loc_climb(user_id, visited, rating_max, df_raw,\n",
    "                  model, verbose=False, n_areas=3, n_climbs=10):\n",
    "    \n",
    "    climb_recs = model.recommend(users=[user_id], k=13000)\n",
    "    loc_climb_recs = defaultdict(list)\n",
    "    loc_recs = []\n",
    "    n_recs = 0\n",
    "    for rec in climb_recs:\n",
    "        climb = rec['Climb']\n",
    "        if df_raw.loc[climb].rating < rating_max:\n",
    "            loc = df_raw.loc[climb].sub_location\n",
    "            if loc not in (list(visited) + loc_recs):\n",
    "                loc_climb_recs[loc] += [climb]\n",
    "                if len(loc_climb_recs[loc]) == n_climbs:\n",
    "                    loc_recs += [loc]\n",
    "                    n_recs += 1\n",
    "                    if n_recs == n_areas:\n",
    "                        break\n",
    "    if verbose:\n",
    "        for loc in loc_recs:\n",
    "            print loc\n",
    "            print loc_climb_recs[loc]\n",
    "    return loc_recs, loc_climb_recs\n",
    "\n",
    "\n",
    "def get_latent_user(user_id, model):\n",
    "    coefs = model.get('coefficients')\n",
    "    df_fac_user = pd.DataFrame(np.array(coefs['User']['factors']))\n",
    "    df_fac_user.set_index(np.array(coefs['User']['User']), inplace=True)\n",
    "    return df_fac_user.loc[user_id]\n",
    "\n",
    "\n",
    "def rec_loc_climb_sim(model, df_raw, climb_ids=[106129861, 106460891], \n",
    "                      rating_max = None,\n",
    "                      verbose=False, \n",
    "                      n_areas=3, n_climbs=10):\n",
    "    #Recommend locations and climbs based on similarities to input climbs\n",
    "    rec_SF = model.get_similar_items(climb_ids, k=1000)\n",
    "    top_recs = rec_SF.to_dataframe().sort(['distance'],\n",
    "                                          ascending=False).similar\n",
    "    visited = set(df_raw.loc[climb_ids].sub_location.values)\n",
    "    \n",
    "    if not rating_max:\n",
    "    #Finder user difficulty rating range from climbs\n",
    "        user_ratings = df_raw.loc[climb_ids].rating\n",
    "        print 'user_rating', user_ratings\n",
    "        if len(user_ratings)>1:\n",
    "            rating_max = user_ratings.std()+user_ratings.mean()\n",
    "        else:\n",
    "            rating_max = user_ratings.mean()\n",
    "    \n",
    "    print \"Rating Max:\", rating_max\n",
    "    \n",
    "    loc_climb_recs = defaultdict(list)\n",
    "    loc_recs = []\n",
    "    n_recs = 0\n",
    "    for climb in top_recs:\n",
    "        if df_raw.loc[climb].rating < rating_max:\n",
    "            loc = df_raw.loc[climb].sub_location\n",
    "            if loc not in (list(visited) + loc_recs):\n",
    "                loc_climb_recs[loc] += [climb]\n",
    "                if len(loc_climb_recs[loc]) == n_climbs:\n",
    "                    loc_recs += [loc]\n",
    "                    n_recs += 1\n",
    "                    if n_recs == n_areas:\n",
    "                        break\n",
    "    \n",
    "    if verbose:\n",
    "        for loc in loc_recs:\n",
    "            print loc\n",
    "            print loc_climb_recs[loc]\n",
    "    return loc_recs, loc_climb_recs\n",
    "\n",
    "def get_latent_climbs(climb_ids, model):\n",
    "    coefs = model.get('coefficients')\n",
    "    df_fac_climb = pd.DataFrame(np.array(coefs['Climb']['factors']))\n",
    "    df_fac_climb.set_index(np.array(coefs['Climb']['Climb']), inplace=True)\n",
    "    climb_av = np.zeros(4)\n",
    "    for climb_id in climb_ids:\n",
    "        climb_av += df_fac_climb.loc[climb_id]\n",
    "    return climb_av\n",
    "\n",
    "def rec_loc_climb_lf(input_lf, climb_type, model, df_raw, df_data,\n",
    "                    rating_max=18, star_min=4, n_climbs=10, \n",
    "                     n_areas=3, verbose=False):\n",
    "\n",
    "\n",
    "    scale_ls = 0.05 * input_lf\n",
    "    coefs = model.get('coefficients')\n",
    "    df_fac_climb = pd.DataFrame(np.array(coefs['Climb']['factors']))\n",
    "    df_rec = pd.DataFrame(scale_ls.dot(df_fac_climb.values.T))\n",
    "    df_rec.set_index(np.array(coefs['Climb']['Climb']), inplace=True)\n",
    "\n",
    "    df_rec.sort(0, ascending=False, inplace=True)\n",
    "\n",
    "    df_rec = df_rec[df_raw['stars']>star_min]\n",
    "    df_rec = df_rec[df_raw['type']==climb_type]\n",
    "\n",
    "    loc_climb_recs = defaultdict(list)\n",
    "    loc_recs = []\n",
    "    n_recs = 0\n",
    "    for climb in df_rec.index:\n",
    "        if df_raw.loc[climb].rating < rating_max:\n",
    "            loc = df_raw.loc[climb].sub_location\n",
    "            if loc not in (loc_recs):\n",
    "                loc_climb_recs[loc] += [climb]\n",
    "                if len(loc_climb_recs[loc]) == n_climbs:\n",
    "                    loc_recs += [loc]\n",
    "                    n_recs += 1\n",
    "                    if n_recs == n_areas:\n",
    "                        break\n",
    "    if verbose:\n",
    "        for loc in loc_recs:\n",
    "            print loc\n",
    "            print loc_climb_recs[loc]\n",
    "    return loc_recs, loc_climb_recs\n",
    "\n",
    "\n",
    "if __name__ == \"__main__\":\n",
    "    #user name to user id dict\n",
    "    with open('user_map.p','r') as f:\n",
    "        user_map = pickle.load(f)\n",
    "\n",
    "    #star rating and climb data\n",
    "    df_data = pd.read_csv('star5.csv')\n",
    "    with open('df_raw_star5.p','r') as f:\n",
    "        df_raw = pickle.load(f)\n",
    "\n",
    "    #load in recommendation models\n",
    "    sim_mod = gl.load_model('sim_mod')\n",
    "    rfr_mod = gl.load_model('rfm_mod_15')\n",
    "    rfr_mod_lf = gl.load_model('rfm_mod_features_extracted')\n",
    "    \n",
    "    #user input\n",
    "    input_str = 'LauraColyer'\n",
    "    user_id = determine_input(input_str, df_data, user_map)\n",
    "    \n",
    "    visited, rating_max = user_rated_visited(user_id, df_data, df_raw)\n",
    "\n",
    "    #Get climb recomendations from item similarity model\n",
    "    loc_recs_sim, loc_climb_recs_sim = rec_loc_climb(user_id,\n",
    "                                                  visited,\n",
    "                                                  rating_max,\n",
    "                                                  df_raw,\n",
    "                                                  sim_mod,\n",
    "                                                  verbose=True)\n",
    "    \n",
    "    #Get climb recomendations from item similarity model\n",
    "    loc_recs_rfr, loc_climb_recs_rfr = rec_loc_climb(user_id,\n",
    "                                                  visited,\n",
    "                                                  rating_max,\n",
    "                                                  df_raw,\n",
    "                                                  rfr_mod,\n",
    "                                                  verbose=True)\n",
    "    print get_latent_user(user_id, rfr_mod_lf)\n",
    "    \n",
    "    loc_recs, loc_climb_recs = rec_loc_climb_sim(rfr_mod, \n",
    "                        df_raw, \n",
    "                        climb_ids=[106460891, 106460901, 105875465],\n",
    "                        rating_max = 18,\n",
    "                        verbose=True) \n",
    "    \n",
    "    print get_latent_climbs([106460891, 106460901, 105875465], rfr_mod_lf)\n",
    "    \n",
    "    input_lf = np.array([-1,-1,1,-1])\n",
    "    climb_type = 'Trad'\n",
    "    star_min = 3\n",
    "    rating_max = 20\n",
    "    model = rfr_mod_lf\n",
    "    df_raw\n",
    "    df_data\n",
    "    loc_recs, loc_climb_recs=rec_loc_climb_lf(input_lf, climb_type, model, df_raw, df_data,\n",
    "                        rating_max=rating_max, star_min=star_min,\n",
    "                    verbose=True)"
   ]
  },
  {
   "cell_type": "code",
   "execution_count": 133,
   "metadata": {
    "collapsed": false
   },
   "outputs": [
    {
     "name": "stdout",
     "output_type": "stream",
     "text": [
      "[INFO] This non-commercial license of GraphLab Create is assigned to dmneal@gmail.comand will expire on August 05, 2016. For commercial licensing options, visit https://dato.com/buy/.\n",
      "\n",
      "[INFO] Start server at: ipc:///tmp/graphlab_server-44475 - Server binary: /Users/datascientist/anaconda/envs/dato-env/lib/python2.7/site-packages/graphlab/unity_server - Server log: /tmp/graphlab_server_1439495276.log\n",
      "[INFO] GraphLab Server Version: 1.5.2\n",
      "Yosemite National Park\n",
      "[105840361, 105862896, 105862915, 105924807, 106154042, 107429493, 105862873, 105912192, 107677399, 105872907]\n",
      "Custer State Park\n",
      "[107684661, 108052987, 106053351, 105715232, 105714734, 107775061, 108244256, 107517307, 107810730, 105714761]\n",
      "Adirondacks\n",
      "[106532800, 107708237, 106831219, 107564731, 107185274, 106092527, 106542971, 106197345, 106078832, 106594953]\n",
      "Yosemite National Park\n",
      "[105862915, 105924807, 106154042, 105945535, 105862991, 105862873, 105862896, 106167844, 106187777, 105847471]\n",
      "Joshua Tree National Park\n",
      "[105721666, 105725788, 105722743, 105722305, 105723325, 105722050, 105725389, 105723478, 105722227, 105722431]\n",
      "Cathedral Ledge\n",
      "[105880759, 105919971, 105909672, 105880787, 105922177, 105938087, 105903672, 105920872, 105949212, 105924990]\n",
      "0    0.057407\n",
      "1   -0.119440\n",
      "2   -0.098539\n",
      "3   -0.049110\n",
      "Name: 107953067, dtype: float64\n",
      "PROGRESS: Getting similar items completed in 0.015876\n",
      "Black Cliffs\n",
      "[107609134, 108670882, 108178019, 106758983, 108177993, 108172666, 108033987, 108172666, 108742776, 108433972]\n",
      "City of Rocks\n",
      "[107272232, 105741608, 105741659, 105740999, 105741575, 107272232, 105741515, 106754166, 105795478, 108194885]\n",
      "Wasatch Range\n",
      "[106273521, 106273521, 105740057, 106009676, 105740618, 106206272, 105741296, 105740762, 106492417, 105742163]\n",
      "[-0.08909002  0.09612912  0.10399982  0.13489014]\n",
      "[INFO] Stopping the server connection.\n"
     ]
    }
   ],
   "source": [
    "!python rec_funcs.py"
   ]
  },
  {
   "cell_type": "code",
   "execution_count": null,
   "metadata": {
    "collapsed": true
   },
   "outputs": [],
   "source": []
  },
  {
   "cell_type": "code",
   "execution_count": null,
   "metadata": {
    "collapsed": true
   },
   "outputs": [],
   "source": []
  },
  {
   "cell_type": "markdown",
   "metadata": {},
   "source": [
    "##Scratch work below"
   ]
  },
  {
   "cell_type": "code",
   "execution_count": 15,
   "metadata": {
    "collapsed": false,
    "scrolled": true
   },
   "outputs": [
    {
     "ename": "NameError",
     "evalue": "name 'loc_recs' is not defined",
     "output_type": "error",
     "traceback": [
      "\u001b[0;31m---------------------------------------------------------------------------\u001b[0m",
      "\u001b[0;31mNameError\u001b[0m                                 Traceback (most recent call last)",
      "\u001b[0;32m<ipython-input-15-3deef6397c47>\u001b[0m in \u001b[0;36m<module>\u001b[0;34m()\u001b[0m\n\u001b[1;32m      3\u001b[0m \u001b[0mrfr_recs\u001b[0m \u001b[0;34m=\u001b[0m \u001b[0mm_rfr\u001b[0m\u001b[0;34m.\u001b[0m\u001b[0mrecommend\u001b[0m\u001b[0;34m(\u001b[0m\u001b[0musers\u001b[0m\u001b[0;34m=\u001b[0m\u001b[0;34m[\u001b[0m\u001b[0muser_id\u001b[0m\u001b[0;34m]\u001b[0m\u001b[0;34m,\u001b[0m \u001b[0mk\u001b[0m\u001b[0;34m=\u001b[0m\u001b[0;36m13000\u001b[0m\u001b[0;34m)\u001b[0m\u001b[0;34m\u001b[0m\u001b[0m\n\u001b[1;32m      4\u001b[0m \u001b[0;34m\u001b[0m\u001b[0m\n\u001b[0;32m----> 5\u001b[0;31m \u001b[0mloc_recs_copy\u001b[0m \u001b[0;34m=\u001b[0m \u001b[0mlist\u001b[0m\u001b[0;34m(\u001b[0m\u001b[0mloc_recs\u001b[0m\u001b[0;34m)\u001b[0m\u001b[0;34m\u001b[0m\u001b[0m\n\u001b[0m\u001b[1;32m      6\u001b[0m \u001b[0mrfr_climb_recs\u001b[0m \u001b[0;34m=\u001b[0m \u001b[0mdefaultdict\u001b[0m\u001b[0;34m(\u001b[0m\u001b[0mlist\u001b[0m\u001b[0;34m)\u001b[0m\u001b[0;34m\u001b[0m\u001b[0m\n\u001b[1;32m      7\u001b[0m \u001b[0;32mfor\u001b[0m \u001b[0mi\u001b[0m\u001b[0;34m,\u001b[0m\u001b[0mrec\u001b[0m \u001b[0;32min\u001b[0m \u001b[0menumerate\u001b[0m\u001b[0;34m(\u001b[0m\u001b[0mrfr_recs\u001b[0m\u001b[0;34m)\u001b[0m\u001b[0;34m:\u001b[0m\u001b[0;34m\u001b[0m\u001b[0m\n",
      "\u001b[0;31mNameError\u001b[0m: name 'loc_recs' is not defined"
     ]
    }
   ],
   "source": [
    "#Find recommended climbs in rating range and in area\n",
    "m_rfr = gl.load_model('rfm_mod_15')\n",
    "rfr_recs = m_rfr.recommend(users=[user_id], k=13000)\n",
    "\n",
    "loc_recs_copy = list(loc_recs)\n",
    "rfr_climb_recs = defaultdict(list)\n",
    "for i,rec in enumerate(rfr_recs):\n",
    "    climb = df_raw.loc[rec['Climb']]\n",
    "    if (climb.rating > user_rating_range[0]) and \\\n",
    "            (climb.rating < user_rating_range[1]):\n",
    "        if climb.sub_location in loc_recs_copy:\n",
    "            rfr_climb_recs[climb.sub_location] += [rec['Climb']]\n",
    "            #print i,climb.sub_location\n",
    "            if len(rfr_climb_recs[climb.sub_location]) == 10:\n",
    "                loc_recs_copy.remove(climb.sub_location)\n",
    "                if not loc_recs_copy:\n",
    "                    break\n",
    "print json.dumps(rfr_climb_recs, indent=2)      "
   ]
  },
  {
   "cell_type": "code",
   "execution_count": null,
   "metadata": {
    "collapsed": true
   },
   "outputs": [],
   "source": []
  }
 ],
 "metadata": {
  "kernelspec": {
   "display_name": "Python 2",
   "language": "python",
   "name": "python2"
  },
  "language_info": {
   "codemirror_mode": {
    "name": "ipython",
    "version": 2
   },
   "file_extension": ".py",
   "mimetype": "text/x-python",
   "name": "python",
   "nbconvert_exporter": "python",
   "pygments_lexer": "ipython2",
   "version": "2.7.10"
  }
 },
 "nbformat": 4,
 "nbformat_minor": 0
}
