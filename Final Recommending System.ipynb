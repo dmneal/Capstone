{
 "cells": [
  {
   "cell_type": "markdown",
   "metadata": {},
   "source": [
    "#Make Full Recomendation Based on User Input"
   ]
  },
  {
   "cell_type": "markdown",
   "metadata": {},
   "source": [
    "This notebook will make recomendations based on user input.\n",
    "\n",
    "Input: \n",
    "User ID or User name (str)\n",
    "\n",
    "Output: Destination Suggestions (str), 10 or so suggested climbs (int) in that area, and a what kind of climber the user is based on latent features of model."
   ]
  },
  {
   "cell_type": "markdown",
   "metadata": {},
   "source": [
    "##Import modules and load in data"
   ]
  },
  {
   "cell_type": "code",
   "execution_count": 14,
   "metadata": {
    "collapsed": false
   },
   "outputs": [],
   "source": [
    "import graphlab as gl\n",
    "import numpy as np\n",
    "import pandas as pd\n",
    "import psycopg2, pickle, json\n",
    "from collections import defaultdict\n",
    "\n",
    "#user name to user id dict\n",
    "with open('user_map.p','r') as f:\n",
    "    user_map = pickle.load(f)\n",
    "\n",
    "#star rating and climb data\n",
    "df_data = pd.read_csv('star5.csv')\n",
    "with open('df_raw_star5.p','r') as f:\n",
    "    df_raw = pickle.load(f)\n",
    "    \n",
    "#load in recommendation models\n",
    "sim_mod = gl.load_model('sim_mod')\n",
    "rfr_mod = gl.load_model('rfm_mod_15')\n",
    "rfr_mod_lf = gl.load_model('rfm_mod_features_extracted')"
   ]
  },
  {
   "cell_type": "markdown",
   "metadata": {},
   "source": [
    "First, we need to determine what the input was.  If it's a user id that we have, then we proceed with recommendation.  If it's a user name, we find the user id and proceed as above.  If it's a climb, or series of climbs, we make recomendations based on those climbs.  "
   ]
  },
  {
   "cell_type": "code",
   "execution_count": 2,
   "metadata": {
    "collapsed": false
   },
   "outputs": [],
   "source": [
    "def determine_input(input_str):\n",
    "    try:\n",
    "        id_val = int(input_str)\n",
    "        if id_val in df_data.User.values:\n",
    "            return id_val\n",
    "        else: \n",
    "            return None\n",
    "    except ValueError:\n",
    "        if input_str in user_map:\n",
    "            return user_map[input_str]\n",
    "        else:\n",
    "            return None"
   ]
  },
  {
   "cell_type": "code",
   "execution_count": 3,
   "metadata": {
    "collapsed": false
   },
   "outputs": [],
   "source": [
    "input_str = 'LauraColyer'\n",
    "user_id = determine_input(input_str)"
   ]
  },
  {
   "cell_type": "markdown",
   "metadata": {},
   "source": [
    "We will suggest the destination and climbs based on two models.  We will proceed through the top recomendations until ~3-5 areas the user has not rated a climb in have at least ~10 climbs suggested that are within their climbing ability.  We will suggest those areas and the recommended climbs in them.  "
   ]
  },
  {
   "cell_type": "code",
   "execution_count": 4,
   "metadata": {
    "collapsed": false
   },
   "outputs": [],
   "source": [
    "def user_rated_visited(user_id):\n",
    "    #Find destinations climber has rated climbs from\n",
    "    climbs_rated = df_data[df_data.User==user_id].Climb\n",
    "    visited = set(df_raw.loc[climbs_rated].sub_location.values)\n",
    "  \n",
    "    #Finder user difficulty rating range from stared climbs\n",
    "    user_ratings = df_raw.loc[climbs_rated].rating\n",
    "    user_rating_std = user_ratings.std()\n",
    "    user_rating_mean = user_ratings.mean()\n",
    "    rating_max = user_rating_mean+user_rating_std\n",
    "    \n",
    "    return visited, rating_max"
   ]
  },
  {
   "cell_type": "code",
   "execution_count": 5,
   "metadata": {
    "collapsed": false
   },
   "outputs": [],
   "source": [
    "visited, rating_max = user_rated_visited(user_id)\n"
   ]
  },
  {
   "cell_type": "code",
   "execution_count": 6,
   "metadata": {
    "collapsed": false
   },
   "outputs": [],
   "source": [
    "#Find climb locations to recommend\n",
    "def rec_loc_climb(user_id, visited, rating_max, \n",
    "                  model, verbose=False, n_areas=3, n_climbs=10):\n",
    "    \n",
    "    climb_recs = model.recommend(users=[user_id], k=13000)\n",
    "    loc_climb_recs = defaultdict(list)\n",
    "    loc_recs = []\n",
    "    n_recs = 0\n",
    "    for rec in climb_recs:\n",
    "        climb = rec['Climb']\n",
    "        if df_raw.loc[climb].rating < rating_max:\n",
    "            loc = df_raw.loc[climb].sub_location\n",
    "            if loc not in (list(visited) + loc_recs):\n",
    "                loc_climb_recs[loc] += [climb]\n",
    "                if len(loc_climb_recs[loc]) == n_climbs:\n",
    "                    loc_recs += [loc]\n",
    "                    n_recs += 1\n",
    "                    if n_recs == n_areas:\n",
    "                        break\n",
    "    if verbose:\n",
    "        for loc in loc_recs:\n",
    "            print loc\n",
    "            print loc_climb_recs[loc]\n",
    "    return loc_recs, loc_climb_recs"
   ]
  },
  {
   "cell_type": "code",
   "execution_count": 7,
   "metadata": {
    "collapsed": false
   },
   "outputs": [],
   "source": [
    "def climb_recs_sim(user_id, visited, rating_max, verbose=False):\n",
    "    #Get climb recomendations from item similarity model\n",
    "    sim_recs = sim_mod.recommend(users=[user_id], k=1000)\n",
    "    loc_recs_sim, loc_climb_recs_sim = rec_loc_climb(sim_recs,\n",
    "                                                       visited,\n",
    "                                                       rating_max)\n",
    "    if verbose:\n",
    "        for loc in loc_recs_sim:\n",
    "            print loc\n",
    "            print loc_climb_recs_sim[loc]\n",
    "    return loc_recs_sim, loc_climb_recs_sim"
   ]
  },
  {
   "cell_type": "code",
   "execution_count": 8,
   "metadata": {
    "collapsed": false
   },
   "outputs": [
    {
     "name": "stdout",
     "output_type": "stream",
     "text": [
      "Yosemite National Park\n",
      "[105862915, 105840361, 105862896, 105924807, 106154042, 107429493, 105862873, 105912192, 107677399, 105872907]\n",
      "Custer State Park\n",
      "[107684661, 108052987, 106053351, 105715232, 105714734, 107775061, 107810730, 108244256, 107517307, 105714761]\n",
      "Adirondacks\n",
      "[106532800, 107708237, 106831219, 107564731, 107185274, 106542971, 106092527, 106197345, 106078832, 106594953]\n"
     ]
    }
   ],
   "source": [
    "#Get climb recomendations from item similarity model\n",
    "loc_recs_sim, loc_climb_recs_sim = rec_loc_climb(user_id,\n",
    "                                                  visited,\n",
    "                                                  rating_max,\n",
    "                                                  sim_mod,\n",
    "                                                  verbose=True)"
   ]
  },
  {
   "cell_type": "code",
   "execution_count": 9,
   "metadata": {
    "collapsed": false
   },
   "outputs": [
    {
     "name": "stdout",
     "output_type": "stream",
     "text": [
      "Yosemite National Park\n",
      "[105862915, 105924807, 106154042, 105945535, 105862991, 105862873, 105862896, 106167844, 106187777, 105847471]\n",
      "Joshua Tree National Park\n",
      "[105721666, 105725788, 105722743, 105722305, 105723325, 105722050, 105725389, 105723478, 105722227, 105722431]\n",
      "Cathedral Ledge\n",
      "[105880759, 105919971, 105909672, 105880787, 105922177, 105938087, 105903672, 105920872, 105949212, 105924990]\n"
     ]
    }
   ],
   "source": [
    "#Get climb recomendations from item similarity model\n",
    "loc_recs_rfr, loc_climb_recs_rfr = rec_loc_climb(user_id,\n",
    "                                                  visited,\n",
    "                                                  rating_max,\n",
    "                                                  rfr_mod,\n",
    "                                                  verbose=True)"
   ]
  },
  {
   "cell_type": "markdown",
   "metadata": {},
   "source": [
    "We also want to say something about the user based on the latent features of rfr model."
   ]
  },
  {
   "cell_type": "code",
   "execution_count": 17,
   "metadata": {
    "collapsed": true
   },
   "outputs": [],
   "source": [
    "coefs = rfr_mod_lf.get('coefficients')\n",
    "df_fac_user = pd.DataFrame(np.array(coefs['User']['factors']))\n",
    "df_fac_user.set_index(np.array(coefs['User']['User']), inplace=True)"
   ]
  },
  {
   "cell_type": "code",
   "execution_count": 19,
   "metadata": {
    "collapsed": false
   },
   "outputs": [
    {
     "data": {
      "text/plain": [
       "0    0.057407\n",
       "1   -0.119440\n",
       "2   -0.098539\n",
       "3   -0.049110\n",
       "Name: 107953067, dtype: float64"
      ]
     },
     "execution_count": 19,
     "metadata": {},
     "output_type": "execute_result"
    }
   ],
   "source": [
    "df_fac_user.loc[user_id]"
   ]
  },
  {
   "cell_type": "code",
   "execution_count": null,
   "metadata": {
    "collapsed": true
   },
   "outputs": [],
   "source": []
  },
  {
   "cell_type": "markdown",
   "metadata": {},
   "source": [
    "##Scratch work below"
   ]
  },
  {
   "cell_type": "code",
   "execution_count": 144,
   "metadata": {
    "collapsed": false,
    "scrolled": true
   },
   "outputs": [
    {
     "name": "stdout",
     "output_type": "stream",
     "text": [
      "{\n",
      "  \"North America\": [\n",
      "    105889511, \n",
      "    105947052, \n",
      "    105842825, \n",
      "    105872943, \n",
      "    105941644, \n",
      "    105910904, \n",
      "    105845816, \n",
      "    105910806, \n",
      "    106065449, \n",
      "    105959460\n",
      "  ], \n",
      "  \"Joshua Tree National Park\": [\n",
      "    105721666, \n",
      "    105725788, \n",
      "    105722743, \n",
      "    105722305, \n",
      "    105723325, \n",
      "    105722050, \n",
      "    105725389, \n",
      "    105723478, \n",
      "    105722227, \n",
      "    105722431\n",
      "  ], \n",
      "  \"Boulder\": [\n",
      "    108095626, \n",
      "    105764211, \n",
      "    105748999, \n",
      "    105748412, \n",
      "    105748265, \n",
      "    105751315, \n",
      "    105750454, \n",
      "    105748093, \n",
      "    105749080, \n",
      "    105748948\n",
      "  ], \n",
      "  \"Moab Area\": [\n",
      "    105930583, \n",
      "    105717487, \n",
      "    105717562, \n",
      "    105718567, \n",
      "    105718072, \n",
      "    107920861, \n",
      "    106789524, \n",
      "    105717451, \n",
      "    105717649, \n",
      "    105926324\n",
      "  ], \n",
      "  \"Wasatch Range\": [\n",
      "    105739898, \n",
      "    105739895, \n",
      "    105740096, \n",
      "    105740654, \n",
      "    105859843, \n",
      "    105740039, \n",
      "    105740519, \n",
      "    105740879, \n",
      "    105741404, \n",
      "    105740639\n",
      "  ]\n",
      "}\n"
     ]
    }
   ],
   "source": [
    "#Find recommended climbs in rating range and in area\n",
    "m_rfr = gl.load_model('rfm_mod_15')\n",
    "rfr_recs = m_rfr.recommend(users=[user_id], k=13000)\n",
    "\n",
    "loc_recs_copy = list(loc_recs)\n",
    "rfr_climb_recs = defaultdict(list)\n",
    "for i,rec in enumerate(rfr_recs):\n",
    "    climb = df_raw.loc[rec['Climb']]\n",
    "    if (climb.rating > user_rating_range[0]) and \\\n",
    "            (climb.rating < user_rating_range[1]):\n",
    "        if climb.sub_location in loc_recs_copy:\n",
    "            rfr_climb_recs[climb.sub_location] += [rec['Climb']]\n",
    "            #print i,climb.sub_location\n",
    "            if len(rfr_climb_recs[climb.sub_location]) == 10:\n",
    "                loc_recs_copy.remove(climb.sub_location)\n",
    "                if not loc_recs_copy:\n",
    "                    break\n",
    "print json.dumps(rfr_climb_recs, indent=2)      "
   ]
  },
  {
   "cell_type": "code",
   "execution_count": null,
   "metadata": {
    "collapsed": true
   },
   "outputs": [],
   "source": []
  }
 ],
 "metadata": {
  "kernelspec": {
   "display_name": "Python 2",
   "language": "python",
   "name": "python2"
  },
  "language_info": {
   "codemirror_mode": {
    "name": "ipython",
    "version": 2
   },
   "file_extension": ".py",
   "mimetype": "text/x-python",
   "name": "python",
   "nbconvert_exporter": "python",
   "pygments_lexer": "ipython2",
   "version": "2.7.10"
  }
 },
 "nbformat": 4,
 "nbformat_minor": 0
}
